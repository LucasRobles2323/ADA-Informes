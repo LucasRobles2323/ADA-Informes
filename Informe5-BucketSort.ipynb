{
  "cells": [
    {
      "cell_type": "markdown",
      "metadata": {
        "id": "view-in-github",
        "colab_type": "text"
      },
      "source": [
        "<a href=\"https://colab.research.google.com/github/LucasRobles2323/ADA-Informes/blob/main/Informe5-BucketSort.ipynb\" target=\"_parent\"><img src=\"https://colab.research.google.com/assets/colab-badge.svg\" alt=\"Open In Colab\"/></a>"
      ]
    },
    {
      "cell_type": "markdown",
      "metadata": {
        "id": "ZC6tMltT1L0x"
      },
      "source": [
        "# **1. Problema de ordenamiento de datos**"
      ]
    },
    {
      "cell_type": "markdown",
      "metadata": {
        "id": "i0L0XXIP7-cU"
      },
      "source": [
        "**Entrada:** El programa recibe una secuencia de $n$ números arreglo en un orden aleatoria de la manera $[a_1, a_2, ..., a_n,]$.\n",
        "\n",
        "**Salida:** El programa retorna la secuencia de $n$ números en un orden establecido de la manera $[a_1' \\leq a_2'\\leq ...,\\leq a_n']$."
      ]
    },
    {
      "cell_type": "markdown",
      "metadata": {
        "id": "_j788dvK-Cp5"
      },
      "source": [
        "### Ejemplo\n",
        "\n",
        "![menor a mayor.png](data:image/png;base64,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)"
      ]
    },
    {
      "cell_type": "markdown",
      "metadata": {
        "id": "Xwimb_pZ-81a"
      },
      "source": [
        "El problema del ordenamiento ha atraído gran cantidad de investigación desde los comienzos de la computación, atracción que perdura hasta hoy, tal vez debido a que, pese a su simple y familiar planteamiento, la complejidad que presenta de resolverlo eficientemente. Por ejemplo, el método de ordenamiento conocido como $Bucket Sort$, un algoritmo de ordenamiento  que se ejecuta de forma lineal."
      ]
    },
    {
      "cell_type": "markdown",
      "metadata": {
        "id": "J6F2Yp_IA6UB"
      },
      "source": [
        "# **2. BucketSort**"
      ]
    },
    {
      "cell_type": "markdown",
      "metadata": {
        "id": "OFtxHy6oCCVm"
      },
      "source": [
        "## **2.1. Descripción del algoritmo**"
      ]
    },
    {
      "cell_type": "markdown",
      "metadata": {
        "id": "dAyIYsOkBtGs"
      },
      "source": [
        "`Bucket Sort` es uno de los algoritmos que solucionan el problema de ordenamiento.\n",
        "\n",
        "El algoritmo recibe de entrada una lista(o arreglo) $arr$ con una secuencia de $n$ números decimales entre 0.0 y 1.0 en cualquier orden. \n",
        "\n",
        "Luego los números dentro de la lista(o arreglo) se ordenan de mayor a menor o de menor a mayor dependiendo del programador. En este caso describiremos el algoritmo al ordenar de menor a mayor\n",
        "\n",
        "1.   En cada interacción i del Bucket Sort, se crearán 10 bucket para ir guardando los elementos del arreglo.\n",
        "2.   Cada buckets guardara elementos de cierto rango, el buckets[0] guardara elementos con 0 decenas, el buckets[1] guardara elementos con 1 decenas, ..., el buckets[9] guardara elementos con 9 decenas\n",
        "3.   Una vez que los números están organizados en sus buckets correspondientes, cada buckets se ordenara con un algoritmo de ordenamiento (en este caso insertion sort).\n",
        "4.   Ahora que cada buckets esta ordenado, se integran sus elementos en el arreglo, primero se integra el primer elemento de buckets[0], luego su segundo, hasta que se ingresen todos en el arreglo, luego el buckets[1], el buckets[2] hasta que se hayan transferido todos los buckets."
      ]
    },
    {
      "cell_type": "markdown",
      "metadata": {
        "id": "iicgroujCNjI"
      },
      "source": [
        "## **2.2. Código**"
      ]
    },
    {
      "cell_type": "markdown",
      "source": [
        "###*InsertionSort*"
      ],
      "metadata": {
        "id": "n43-Jgqk7T4H"
      }
    },
    {
      "cell_type": "code",
      "source": [
        "def insertionSort(arr, verbose=False): \n",
        "    n = len(arr)\n",
        "    cont = 0 #contador de comparaciones\n",
        "\n",
        "    if verbose == True: print(f\"Arreglo Inicial = {arr}\\n\")\n",
        "\n",
        "    # Se recorre el arreglo\n",
        "    for i in range(1,n):\n",
        "        \n",
        "        if verbose == True: print(\"Pasada \",i)\n",
        "\n",
        "        aux = arr[i] # Se guarda el i-esimo elemento que podria cambiar de posicion\n",
        "        j = i - 1\n",
        "\n",
        "        cont += 1\n",
        "        \n",
        "        if verbose == True: \n",
        "          print(f\"{arr}\")\n",
        "          print(f\"Comparación: arr[{j+1}] < arr[{j}] ===> {aux} < {arr[j]}\")\n",
        "          if aux >= arr[j]: print(\"No hubo cambios\")\n",
        "          \n",
        "        # Se compara dentro del arreglo\n",
        "        while j > -1 and aux < arr[j] :# Si el elemento es menor al anterior elemento, se intercambian\n",
        "            arr[j+1] = arr[j]\n",
        "            j -= 1\n",
        "            if j==-1: cont -=1\n",
        "            if verbose == True: print(f\"Arreglo después del cambio {arr}\")\n",
        "            if verbose == True and j!=-1: print(f\"Comparación: aux < arr[{j}] ===> {aux} < {arr[j]}\")\n",
        "            cont+= 1\n",
        "        \n",
        "        arr[j+1] = aux\n",
        "        if verbose == True: print(f\"Al finalizar pasada: {arr}\\n\")\n",
        "    \n",
        "    if verbose == True:\n",
        "      for i in range(0,n-1):\n",
        "          if arr[i] > arr[i+1]: \n",
        "              print(\"\\nEl arreglo no se ordenó correctamente\")\n",
        "              break\n",
        "          if i == n-2: print(\"\\nEl arreglo se ordenó correctamente\")\n",
        "      print(f\"Arreglo Final = {arr}\")\n",
        "      \n",
        "\n",
        "    return cont\n",
        "\n",
        "# Ejemplo\n",
        "array = [1,8,3,7,9]\n",
        "print(\"Datos de entrada: \",array)\n",
        "counter = insertionSort(array)\n",
        "print(\"Datos de salida: \",array)\n",
        "print(\"# comparaciones: \", counter)"
      ],
      "metadata": {
        "colab": {
          "base_uri": "https://localhost:8080/"
        },
        "id": "PgOV5UMW7ZJx",
        "outputId": "58004bee-5dcb-49da-be63-2d0da116253b"
      },
      "execution_count": 5,
      "outputs": [
        {
          "output_type": "stream",
          "name": "stdout",
          "text": [
            "Datos de entrada:  [1, 8, 3, 7, 9]\n",
            "Datos de salida:  [1, 3, 7, 8, 9]\n",
            "# comparaciones:  6\n"
          ]
        }
      ]
    },
    {
      "cell_type": "markdown",
      "source": [
        "###*BucketSort*"
      ],
      "metadata": {
        "id": "-dIhKdDy7P51"
      }
    },
    {
      "cell_type": "code",
      "source": [
        "def bucketSort(array, verbose=False):\n",
        "    bucket = []\n",
        "\n",
        "    if verbose:\n",
        "        print(\"\\n***************************************************BucketSort*******************************************************************\")\n",
        "        print(\"Lo primero que realiza este algoritmo es crear 10 bucket vacios, ya que trabajaremos con datos [0.0, 1.0[\")\n",
        "        print(\"El indice de cada valde indica los numeros que guarda (guardan aquellos cuya decima es igual al indice)\")\n",
        "\n",
        "    # Crear un arreglo vacio para buckets\n",
        "    for i in range(10):\n",
        "        bucket.append([])\n",
        "    \n",
        "    if verbose:\n",
        "        print(\"-----------------------------------------------------------------------------------------------\")\n",
        "        print(\"A continuacion iremos guardando los elementos en los baldes que corresponden (cada balde guarda mas de un elemento)\")\n",
        "\n",
        "    # Insertar elementos en sus respectivos buckets\n",
        "    for j in array:\n",
        "        if verbose: print(\"       --------------------------------------------------\")\n",
        "        index_b = int(10 * j)\n",
        "        if verbose: print(f\"        En el bucket[{index_b}] se guardara {j}\")\n",
        "        bucket[index_b].append(j)\n",
        "        if verbose: print(f\"        El balde {index_b} ahora contiene los siguientes elementos: {bucket[index_b]}\")\n",
        "\n",
        "    if verbose:\n",
        "        print(\"-----------------------------------------------------------------------------------------------\")\n",
        "        print(\"Ahora que los baldes poseen los elementos que les corresponden, debemos ordenarlos\")\n",
        "\n",
        "    # Ordenar elementos por cada bucket\n",
        "    for i in range(10):\n",
        "        if verbose: print(\"       --------------------------------------------------\")\n",
        "        if verbose: print(f\"          bucket[{i}] antes de ordenar: {bucket[i]}\")\n",
        "        insertionSort(bucket[i])\n",
        "        if verbose: print(f\"        bucket[{i}] despues de ordenar: {bucket[i]}\")\n",
        "\n",
        "    if verbose:\n",
        "        print(\"-----------------------------------------------------------------------------------------------\")\n",
        "        print(f\"Para finalizar, insertaremos lo elementos de los baldes en el arreglo {array} de forma ordenada\")\n",
        "\n",
        "    # Obtener los elementos ordenados\n",
        "    k = 0\n",
        "    for i in range(10):\n",
        "        for j in range(len(bucket[i])):\n",
        "            if verbose: print(\"       --------------------------------------------------\")\n",
        "            if verbose: print(f\"        En array[{k}] se guardara el elemento bucket[{i}][{j}]={bucket[i][j]}\")\n",
        "            if verbose: print(f\"        array[{k}] = {bucket[i][j]}\")\n",
        "            array[k] = bucket[i][j]\n",
        "            k += 1\n",
        "            if verbose: print(f\"        El arreglo ordenado es {array[:k]}\")\n",
        "    \n",
        "    if verbose:\n",
        "        print(\"-----------------------------------------------------------------------------------------------\")\n",
        "        print(\"Ahora el arreglo original se encuentra ordenado\")\n",
        "        print(\"***************************************************FIN*******************************************************************\\n\")\n",
        "\n",
        "\n",
        "array = [0.42, 0.32, 0.33, 0.52, 0.37, 0.47, 0.51]\n",
        "print(f\"El arreglo es: {array}\")\n",
        "bucketSort(array)\n",
        "print(f\"Al aplicarle BucketSort queda ordenado: {array}\")"
      ],
      "metadata": {
        "colab": {
          "base_uri": "https://localhost:8080/"
        },
        "id": "nqETOWVEJqhC",
        "outputId": "4c4c7a71-1f77-44e9-a83b-75bad9ead364"
      },
      "execution_count": 4,
      "outputs": [
        {
          "output_type": "stream",
          "name": "stdout",
          "text": [
            "El arreglo es: [0.42, 0.32, 0.33, 0.52, 0.37, 0.47, 0.51]\n",
            "Al aplicarle BucketSort queda ordenado: [0.32, 0.33, 0.37, 0.42, 0.47, 0.51, 0.52]\n"
          ]
        }
      ]
    },
    {
      "cell_type": "markdown",
      "metadata": {
        "id": "EGz6I60SVdP5"
      },
      "source": [
        "## **2.3. Ejemplo**"
      ]
    },
    {
      "cell_type": "markdown",
      "metadata": {
        "id": "Ckef1qIIVlMU"
      },
      "source": [
        "Por ejemplo, consideremos el siguiente arreglo\n",
        "\n",
        "*Entrada:* **a** = $[0.9,0.2,0.6]$\n",
        "\n",
        "* Crea 10 buckets vacíos\n",
        "\n",
        "* Agrega los elementos correspondiente a los bukets: \n",
        "      El $0.9$ se ingresa al bucket[9].\n",
        "      El $0.2$ se ingresa al bucket[2].\n",
        "      El $0.6$ se ingresa al bucket[6].\n",
        "\n",
        "* Ordena cada buckets con elementos de menor a mayor con insertionSort.\n",
        "\n",
        "* Ahora ingresa los elementos de los buckets (menor a mayor de acuerdo a su índice, primero el bucket[0], luego bucket[1],..., termina con bucket[9]).\n",
        "\n",
        "* Al ingresar los elementos de los bucket(0,...,9) que ya están ordenados, el arreglo estará ordenado al finalizar.\n",
        "\n",
        "*Salida:* **a** = $[0.2,0.6,0.9]$\n"
      ]
    },
    {
      "cell_type": "markdown",
      "metadata": {
        "id": "OKGol3wpd18O"
      },
      "source": [
        "## **2.4. Ejecución del algoritmo paso a paso**"
      ]
    },
    {
      "cell_type": "markdown",
      "metadata": {
        "id": "nx45FsD1eDXP"
      },
      "source": [
        "Aplicando **`verbose=True`**, podemos ver lo que ocurre en cada iteración del algoritmo de Insertion Sort."
      ]
    },
    {
      "cell_type": "code",
      "execution_count": null,
      "metadata": {
        "colab": {
          "base_uri": "https://localhost:8080/"
        },
        "id": "p91sfXt8eRiO",
        "outputId": "391bd2a4-caf3-4c16-df18-e2287dfe0cb5"
      },
      "outputs": [
        {
          "output_type": "stream",
          "name": "stdout",
          "text": [
            "El arreglo es: [0.23048482 0.59955024 0.82260801 0.83527045 0.56679169]\n",
            "\n",
            "***************************************************BucketSort*******************************************************************\n",
            "Lo primero que realiza este algoritmo es crear 10 bucket vacios, ya que trabajaremos con datos [0.0, 1.0[\n",
            "El indice de cada valde indica los numeros que guarda (guardan aquellos cuya decima es igual al indice)\n",
            "-----------------------------------------------------------------------------------------------\n",
            "A continuacion iremos guardando los elementos en los baldes que corresponden (cada balde guarda mas de un elemento)\n",
            "       --------------------------------------------------\n",
            "        En el bucket[2] se guardara 0.2304848197903817\n",
            "        El balde 2 ahora contiene los siguientes elementos: [0.2304848197903817]\n",
            "       --------------------------------------------------\n",
            "        En el bucket[5] se guardara 0.5995502384253312\n",
            "        El balde 5 ahora contiene los siguientes elementos: [0.5995502384253312]\n",
            "       --------------------------------------------------\n",
            "        En el bucket[8] se guardara 0.822608008191028\n",
            "        El balde 8 ahora contiene los siguientes elementos: [0.822608008191028]\n",
            "       --------------------------------------------------\n",
            "        En el bucket[8] se guardara 0.8352704542424881\n",
            "        El balde 8 ahora contiene los siguientes elementos: [0.822608008191028, 0.8352704542424881]\n",
            "       --------------------------------------------------\n",
            "        En el bucket[5] se guardara 0.5667916865981588\n",
            "        El balde 5 ahora contiene los siguientes elementos: [0.5995502384253312, 0.5667916865981588]\n",
            "-----------------------------------------------------------------------------------------------\n",
            "Ahora que los baldes poseen los elementos que les corresponden, debemos ordenarlos\n",
            "       --------------------------------------------------\n",
            "          bucket[0] antes de ordenar: []\n",
            "        bucket[0] despues de ordenar: []\n",
            "       --------------------------------------------------\n",
            "          bucket[1] antes de ordenar: []\n",
            "        bucket[1] despues de ordenar: []\n",
            "       --------------------------------------------------\n",
            "          bucket[2] antes de ordenar: [0.2304848197903817]\n",
            "        bucket[2] despues de ordenar: [0.2304848197903817]\n",
            "       --------------------------------------------------\n",
            "          bucket[3] antes de ordenar: []\n",
            "        bucket[3] despues de ordenar: []\n",
            "       --------------------------------------------------\n",
            "          bucket[4] antes de ordenar: []\n",
            "        bucket[4] despues de ordenar: []\n",
            "       --------------------------------------------------\n",
            "          bucket[5] antes de ordenar: [0.5995502384253312, 0.5667916865981588]\n",
            "        bucket[5] despues de ordenar: [0.5667916865981588, 0.5995502384253312]\n",
            "       --------------------------------------------------\n",
            "          bucket[6] antes de ordenar: []\n",
            "        bucket[6] despues de ordenar: []\n",
            "       --------------------------------------------------\n",
            "          bucket[7] antes de ordenar: []\n",
            "        bucket[7] despues de ordenar: []\n",
            "       --------------------------------------------------\n",
            "          bucket[8] antes de ordenar: [0.822608008191028, 0.8352704542424881]\n",
            "        bucket[8] despues de ordenar: [0.822608008191028, 0.8352704542424881]\n",
            "       --------------------------------------------------\n",
            "          bucket[9] antes de ordenar: []\n",
            "        bucket[9] despues de ordenar: []\n",
            "-----------------------------------------------------------------------------------------------\n",
            "Para finalizar, insertaremos lo elementos de los baldes en el arreglo [0.23048482 0.59955024 0.82260801 0.83527045 0.56679169] de forma ordenada\n",
            "       --------------------------------------------------\n",
            "        En array[0] se guardara el elemento bucket[2][0]=0.2304848197903817\n",
            "        array[0] = 0.2304848197903817\n",
            "        El arreglo ordenado es [0.23048482]\n",
            "       --------------------------------------------------\n",
            "        En array[1] se guardara el elemento bucket[5][0]=0.5667916865981588\n",
            "        array[1] = 0.5667916865981588\n",
            "        El arreglo ordenado es [0.23048482 0.56679169]\n",
            "       --------------------------------------------------\n",
            "        En array[2] se guardara el elemento bucket[5][1]=0.5995502384253312\n",
            "        array[2] = 0.5995502384253312\n",
            "        El arreglo ordenado es [0.23048482 0.56679169 0.59955024]\n",
            "       --------------------------------------------------\n",
            "        En array[3] se guardara el elemento bucket[8][0]=0.822608008191028\n",
            "        array[3] = 0.822608008191028\n",
            "        El arreglo ordenado es [0.23048482 0.56679169 0.59955024 0.82260801]\n",
            "       --------------------------------------------------\n",
            "        En array[4] se guardara el elemento bucket[8][1]=0.8352704542424881\n",
            "        array[4] = 0.8352704542424881\n",
            "        El arreglo ordenado es [0.23048482 0.56679169 0.59955024 0.82260801 0.83527045]\n",
            "-----------------------------------------------------------------------------------------------\n",
            "Ahora el arreglo original se encuentra ordenado\n",
            "***************************************************FIN*******************************************************************\n",
            "\n",
            "Al aplicarle BucketSort queda ordenado: [0.23048482 0.56679169 0.59955024 0.82260801 0.83527045]\n"
          ]
        }
      ],
      "source": [
        "import random\n",
        "import numpy as np\n",
        "array = np.zeros(5)\n",
        "for i in range(len(array)):\n",
        "    array[i] = random.random()\n",
        "\n",
        "print(f\"El arreglo es: {array}\")\n",
        "bucketSort(array,True)\n",
        "print(f\"Al aplicarle BucketSort queda ordenado: {array}\")"
      ]
    },
    {
      "cell_type": "markdown",
      "metadata": {
        "id": "n1xTfIDSfCDf"
      },
      "source": [
        "Al final cada bucket termina guardando números dentro de un rango, los ordena e inserta en el arreglo ordenado"
      ]
    },
    {
      "cell_type": "markdown",
      "metadata": {
        "id": "KKp56zrst8L2"
      },
      "source": [
        "# **3. Correctitud**"
      ]
    },
    {
      "cell_type": "markdown",
      "source": [
        "##Bucket Sort"
      ],
      "metadata": {
        "id": "QetS6HdEsNrH"
      }
    },
    {
      "cell_type": "markdown",
      "source": [
        "### **Teorema (Correctitud).**"
      ],
      "metadata": {
        "id": "Dz_1sWcaoShu"
      }
    },
    {
      "cell_type": "markdown",
      "source": [
        "*El algoritmo **Bucket Sort** genera 10 buckets(subintervalos) con los elementos del arreglo de entrada donde corresponde, cada bucket se ordena de menor a mayor, es decir,* $a_1\\leq a_2 \\leq... \\leq a_n$, y luego los bucket se ingresan al arreglo desde el bucket[0] al bucket[9]."
      ],
      "metadata": {
        "id": "BNt-bS9cpE1X"
      }
    },
    {
      "cell_type": "markdown",
      "source": [
        "### **Prueba del Teorema**"
      ],
      "metadata": {
        "id": "YK7XcUU_paKV"
      }
    },
    {
      "cell_type": "markdown",
      "source": [
        "Para probar la correctitud de **Bucket Sort** usaremos **inducción matemática** debido a la recursividad del algoritmo.\n",
        "\n",
        "> En **inducción matemática,** para probar una declaración, o teorema en este caso, para todos los casos posibles, típicamente debemos comprobar si lo siguiente cumple el teorema:\n",
        "  1. Se prueba **caso base** que debe ser simple.\n",
        "  2. Se prueba un caso cualquiera que también sea válido para el último caso.\n",
        "\n",
        "Nuestro teorema dice que $Bucket Sort$ retorna un arreglo ordenado con la secuencia de **n** elementos de entrada, siendo elementos entre $[0.0, 1.0[$\n"
      ],
      "metadata": {
        "id": "mKgVCbB5pgGN"
      }
    },
    {
      "cell_type": "markdown",
      "source": [
        "#### **Caso Base**"
      ],
      "metadata": {
        "id": "WAI-c0NhrxMl"
      }
    },
    {
      "cell_type": "markdown",
      "source": [
        "Probemos como caso base cuando **Bucket Sort** recibe una secuencia de 1 elemento.\n",
        "\n",
        "Cuando **Bucket Sort** recibe una secuencia de 1 elementos, creara 10 buckets, el elemento ingresara al bucket donde corresponde.\n",
        "\n",
        "Una vez creados los buckets, se ordenarán aplicando insertionSort(en informe pasado confirmamos su correctitud).\n",
        "\n",
        "Con los buckets ordenados, se ingresará los elemento de los buckets no vacíos en el arreglo (solo hay un bucket no vacío y tiene un elemento). El arreglo final será igual que el recibido, y estará ordenado, con 1 elemento siempre será ordenado."
      ],
      "metadata": {
        "id": "1S8rNUmosGxN"
      }
    },
    {
      "cell_type": "markdown",
      "source": [
        "#### **Caso cualquiera**"
      ],
      "metadata": {
        "id": "l73Y2ayAtBRK"
      }
    },
    {
      "cell_type": "markdown",
      "source": [
        "Ahora veremos un caso cualquiera del *Bucket Sort* recibe una secuencia de $n$ elementos.\n",
        "\n",
        "Cuando **Bucket Sort** recibe una secuencia de $n$ elementos, creará 10 buckets y distribuirá los elementos del arreglo en los bucket que les corresponden.\n",
        "\n",
        "Bucket[k] contendrá elementos $0.k...$, es decir, $\\frac{k}{10} \\leq elementos < \\frac{k+1}{10}$ con $0.0 \\leq k < 10.0$ .\n",
        "\n",
        "Los elementos siempre encontraran en el bucket correspondiente ya que para decidir donde insertarlos, se multiplica el elemento por $10$, lo que será el número de su décima para usar de indice.\n",
        "\n",
        "$0.1 * 10 = 1$ el elemento $0.1$ ira al bucket 1.\n",
        "\n",
        "Una vez creados los buckets, se aplicará insertionSort, algoritmo de ordenamiento correcto, a cada uno, dejando los elementos dentro de los buckets ordenados.\n",
        "\n",
        "Con los buckets ordenados, se ingresará los elemento de los buckets no vacíos en el arreglo, $bucket[i] ← i=0...9$ . \n",
        "\n",
        "El arreglo final contendrá todos los elementos del arreglo recibido de manera ordenada."
      ],
      "metadata": {
        "id": "SEQpNCaKtPqz"
      }
    },
    {
      "cell_type": "markdown",
      "metadata": {
        "id": "uH_PKp0bf6pl"
      },
      "source": [
        "# **4. Tiempo de ejecución**"
      ]
    },
    {
      "cell_type": "markdown",
      "source": [
        "*El algoritmo **Bucket Sort** tiene un **tiempo de ejecución de** $O(n+k)$ en su mejor caso y su caso promedio, pero su peor caso tiene complejidad temporal $O(n^2)$.* "
      ],
      "metadata": {
        "id": "3wQw5CvwrgM9"
      }
    },
    {
      "cell_type": "markdown",
      "source": [
        "###Mejor Caso."
      ],
      "metadata": {
        "id": "HLVV1i7Ev3Pt"
      }
    },
    {
      "cell_type": "markdown",
      "source": [
        "Crear los baldes tiene un tiempo complejidad $O(k)$ generalmente, con $k$ siendo el número de baldes creados.\n",
        "\n",
        "Luego se insertan los $n$ elementos del algoritmo en los baldes correspondientes, tiene complejidad $O(n)$.\n",
        "\n",
        "Si la distribución es uniforme, entonces cada balde tendrá $\\frac{n}{k}$ elementos. Para el mejor caso sería ideal que los baldes queden ordenados al distribuir los elementos del arreglo.\n",
        "\n",
        "Una vez los baldes tienen sus elementos correspondientes, se recorren los baldes ordenándolos, como son $k$ baldes, tiene complejidad $O(k)$ recorrerlos. Como los baldes están ordenados, el ordenar tiene complejidad $O(1)$. Y este paso tendrá en total complejidad $O(k)$ \n",
        "\n",
        "Para el final se ingresan los elementos de los bucket ordenados en el arreglo, se recorren todos los elementos de cada balde, siendo $k$ baldes con $n/k$ elementos, seria complejidad $k * \\frac{n}{k} = n$, entonces $O(n)$.\n",
        "\n",
        "$T(n) = k + k + (k + n) + n = 2n + 3k \\Rightarrow O(n+k)$."
      ],
      "metadata": {
        "id": "XW95Jp94v6lD"
      }
    },
    {
      "cell_type": "markdown",
      "source": [
        "###*Caso Promedio.*"
      ],
      "metadata": {
        "id": "Q9Ao5hgJpx-k"
      }
    },
    {
      "cell_type": "markdown",
      "source": [
        "Crear los baldes tiene un tiempo complejidad $O(k)$ generalmente, con $k$ siendo el número de baldes creados.\n",
        "\n",
        "Luego se insertan los $n$ elementos del algoritmo en los baldes correspondientes, tiene complejidad $O(n)$.\n",
        "\n",
        "Si la distribución es uniforme, entonces cada balde tendrá $\\frac{n}{k}$ elementos.\n",
        "\n",
        "Una vez los baldes tienen sus elementos correspondientes, se recorren los baldes ordenándolos, como son $k$ baldes, tiene complejidad $O(k)$ recorrerlos. Y se ordenan con un algoritmo rápido como **Quick Sort** que tiene un caso promedio de $O(n)$ y los baldes tienen $\\frac{n}{k}$ elementos, su ordenamiento con **Quick Sort** tendrá complejidad $O(\\frac{n}{k})$, todo el proceso tendría complejidad $k * n/k = n$, entonces $O(n)$. \n",
        "\n",
        "Para el final se ingresan los elementos de los bucket ordenados en el arreglo, se recorren todos los elementos de cada balde, siendo $k$ baldes con $n/k$ elementos, seria complejidad $k * n/k = n$, entonces $O(n)$.\n",
        "\n",
        "$T(n) = k + n + (k + n) + n = 3n + 2k \\Rightarrow O(n+k)$.\n",
        "\n",
        "**Se puede observar que tiene la misma complejidad que el Mejor Caso**\n"
      ],
      "metadata": {
        "id": "Spvykp7zlRfF"
      }
    },
    {
      "cell_type": "markdown",
      "source": [
        "###*Peor Caso.*"
      ],
      "metadata": {
        "id": "blpWBESQuUWi"
      }
    },
    {
      "cell_type": "markdown",
      "source": [
        "Crear los baldes tiene un tiempo complejidad $O(k)$ generalmente, con $k$ siendo el número de baldes creados.\n",
        "\n",
        "Luego se insertan los $n$ elementos del algoritmo en los baldes correspondientes, tiene complejidad $O(n)$.\n",
        "\n",
        "Los elementos no están distribuidos uniformemente en los baldes, asi que asumimos el pero caso, los baldes no tienen $\\frac{n}{k}$, contienen $n$ elementos.\n",
        "\n",
        "Una vez los baldes tienen sus elementos correspondientes, se recorren los baldes ordenándolos, como son $k$ baldes, tiene complejidad $O(k)$ recorrerlos. Y se ordenan con un algoritmo no muy rápido como **Insertion Sort**, que tiene un caso promedio de $O(n^2)$ y los baldes tienen $n$ elementos, su ordenamiento con **Insertion Sort** tendrá complejidad $O(n^2)$ y el balde con elementos será $k=1$, todo el proceso tendría complejidad $k * n^2 = 1 * n^2 =n^2$, entonces $O(n^2)$. \n",
        "\n",
        "Para el final se ingresan los elementos de los bucket ordenados en el arreglo, se recorren todos los elementos de cada balde, siendo $k$ baldes con $n/k$ elementos, seria complejidad $k * n/k = n$, entonces $O(n)$.\n",
        "\n",
        "$T(n) = k + n + (n^2) + n = n^2 + 2n + 2k \\Rightarrow O(n+k)$.\n",
        "\n",
        "**En el peor caso, la complejidad depende totalmente del algoritmo utilizado para ordenar los baldes.**"
      ],
      "metadata": {
        "id": "5ZVxTKUpwizD"
      }
    },
    {
      "cell_type": "markdown",
      "metadata": {
        "id": "UZE4jGMinXns"
      },
      "source": [
        "# **5. Experimentos**"
      ]
    },
    {
      "cell_type": "markdown",
      "metadata": {
        "id": "r-aaTzXhnmLM"
      },
      "source": [
        "## **5.1. Bucket Sort vs Radix Sort vs Counting Sort** (Tiempo de ejecucion)"
      ]
    },
    {
      "cell_type": "markdown",
      "source": [
        "###*Counting Sort*"
      ],
      "metadata": {
        "id": "04qVvMQT_zKd"
      }
    },
    {
      "cell_type": "code",
      "source": [
        "import numpy as np\n",
        "\n",
        "def maxElement(arregloEx):\n",
        "  max = -1\n",
        "  for i in range(len(arregloEx)):\n",
        "    if max < arregloEx[i]: max = arregloEx[i]\n",
        "\n",
        "  return max\n",
        "\n",
        "def CountingSort(array, Sorted, max, verbose=False):\n",
        "  ## Inicializar contador en zeros\n",
        "  count = np.zeros(max+1)\n",
        "  count = count.astype(\"int\")\n",
        "  if verbose: \n",
        "    print(\"Se inicializo el algoritmo en count en zeros.\")\n",
        "    indices = np.arange(0,max+1,1)\n",
        "    print(f\" Arreglo Principal = {array}\")\n",
        "    print(f\"  Arreglo Ordenado = {Sorted}\")\n",
        "    print(f\"           Indices = {indices}\")\n",
        "    print(f\"Arreglo Contadores = {count}\")\n",
        "    print(\"Cada posicion guarda la cantidad de veces que aparece el numero de su indice en el arreglo principal.\")\n",
        "    print(f\"Ejemplo: el 5 aparece 2 veces, entonces count[5] contendra el numero 2.\")\n",
        "    print(\"----------------------------------------------------------------------------------------------------------------------------------------------\")\n",
        "    print(f\"Se recorrera {array} de izquierda a derecha para contar las apariciones de cada numero.\")\n",
        "\n",
        "  ## Contar la cantidad de cada elemento en el arreglo principal\n",
        "  for i in range(0,len(array)):\n",
        "    if verbose:\n",
        "        print(\"---------------------------------------------------------------------------------------------------\") \n",
        "        print(f\"Tomamos el elemento array[{i}] = {array[i]}.\")\n",
        "        print(f\"Luego vamos a la posicion {array[i]} en el arreglo contador, y lo aumentamos en 1.\")\n",
        "        print(f\"Ya que la posicion guarda la cantidad de veces.\\nEl elemento en el indice {array[i]} aumentara.\")\n",
        "        print(\"      ----------------------------------------------------\") \n",
        "        print(f\"                                       {indices}\")\n",
        "        print(f\"        Contadores antes del aumento = {count} -- max={max} -- {array}\") \n",
        "    count[array[i]] += 1\n",
        "    if verbose:\n",
        "        print(f\"      Contadores despues del aumento = {count}\")\n",
        "        print(\"      ----------------------------------------------------\")\n",
        "  \n",
        "\n",
        "  if verbose:\n",
        "    print(\"----------------------------------------------------------------------------------------------------------------------------------------------\")\n",
        "    print(f\"Se recorrera {count} de izquierda a derecha y cada elemento se le sumara su elemento previo.\")\n",
        "    print(f\"De esta forma, cada posicion contendra la cantidad de elementos menores o iguales a su indice.\")\n",
        "  \n",
        "  ## Cada posicion de count debe tener la cantidad de elementos\n",
        "  ## menores o iguales al elemento que corresponda dicha posicion\n",
        "  for i in range(1, len(count)):\n",
        "    if verbose:\n",
        "        print(\"---------------------------------------------------------------------------------------------------\") \n",
        "        print(f\"Tomamos el elemento contadores[{i}] = {count[i]}\")\n",
        "        print(f\"Tambien tomemos su elemento previo contadores[{i-1}] = {count[i-1]}\")\n",
        "        print(f\"Ahora sumemoslos y posicionemos el resultado en la posicion {i} del arreglo contadores.\")\n",
        "        print(f\"{count[i]} + {count[i-1]} = {count[i] + count[i-1]}\")\n",
        "        print(\"      ----------------------------------------------------\") \n",
        "        print(f\"                                       {indices}\")\n",
        "        print(f\"        Contadores antes del aumento = {count}\") \n",
        "    count[i] += count[i-1]\n",
        "    if verbose:\n",
        "        print(f\"      Contadores despues del aumento = {count}\")\n",
        "        print(\"      ----------------------------------------------------\")\n",
        "    \n",
        "\n",
        "\n",
        "  if verbose:\n",
        "    print(\"----------------------------------------------------------------------------------------------------------------------------------------------\")\n",
        "    print(f\"Se recorrera {array} de derecha a izquierda.\")\n",
        "    print(f\"Se busca el contador del elemento en {count}\")\n",
        "    print(f\"Luego se le resta 1 al contador y el nuevo contador sera la posicion del elemento de {Sorted} en el array ordenado.\")\n",
        "\n",
        "  ## Incorpora los datos en el arreglo ordenado.\n",
        "  for i in range(len(array)-1,0, -1):\n",
        "    if verbose:\n",
        "        print(\"---------------------------------------------------------------------------------------------------\") \n",
        "        print(f\"Tomamos el elemento array[{i}] = {array[i]}.\")\n",
        "        print(f\"Conseguimos contador[{array[i]}] = {count[array[i]]}.\")\n",
        "        print(f\"Y le restamos 1 contador[{array[i]}] = {count[array[i]] - 1}.\")\n",
        "        print(f\"Ahora usamos ese elemento como indice para Ordenado[{count[array[i]] - 1}].\")\n",
        "        print(f\"Y posicionamos el elemento del arreglo en esa posicion\")\n",
        "        print(\"      ----------------------------------------------------\") \n",
        "        print(f\"        Contadores antes del aumento = {count}\") \n",
        "        print(f\"              Arreglo ordenado antes = {Sorted}\") \n",
        "    count[array[i]] -= 1\n",
        "    Sorted[count[array[i]]] = array[i]\n",
        "    if verbose:\n",
        "        print(f\"      Contadores despues del aumento = {count}\")\n",
        "        print(f\"            Arreglo ordenado despues = {Sorted}\")\n",
        "        print(\"      ----------------------------------------------------\")\n",
        "  \n",
        "\n",
        "  if verbose: print(\"----------------------------------------------------------------------------------------------------------------------------------------------\")  \n",
        "\n",
        "arr = [5,0,2,3,2,5,4,0,3,3]\n",
        "arrSort = [0,0,0,0,0,0,0,0,0,0]\n",
        "max = maxElement(arr)\n",
        "print(\"El arreglo de entrada es =\", arrSort, \"Y su elemento maximo es =\", max)\n",
        "CountingSort(arr, arrSort,max)\n",
        "print(\"El arreglo de salida y ordenado es =\", arrSort)"
      ],
      "metadata": {
        "colab": {
          "base_uri": "https://localhost:8080/"
        },
        "id": "D3-fMYj4_1iq",
        "outputId": "08866acf-dc61-468d-ece8-ac40498f1b2d"
      },
      "execution_count": 9,
      "outputs": [
        {
          "output_type": "stream",
          "name": "stdout",
          "text": [
            "El arreglo de entrada es = [0, 0, 0, 0, 0, 0, 0, 0, 0, 0] Y su elemento maximo es = 5\n",
            "El arreglo de salida y ordenado es = [0, 0, 2, 2, 3, 3, 3, 4, 0, 5]\n"
          ]
        }
      ]
    },
    {
      "cell_type": "markdown",
      "source": [
        "###*Radix Sort*"
      ],
      "metadata": {
        "id": "pdm0Ou1k-6bL"
      }
    },
    {
      "cell_type": "code",
      "source": [
        "def countingSortOfRadix(arr, exp1):\n",
        "    n = len(arr)\n",
        " \n",
        "    output = [0] * (n)\n",
        " \n",
        "    count = [0] * (10)\n",
        " \n",
        "    for i in range(0, n):\n",
        "        index = arr[i] // exp1\n",
        "        count[index % 10] += 1\n",
        " \n",
        "    for i in range(1, 10):\n",
        "        count[i] += count[i - 1]\n",
        " \n",
        "    i = n - 1\n",
        "    while i >= 0:\n",
        "        index = arr[i] // exp1\n",
        "        output[count[index % 10] - 1] = arr[i]\n",
        "        count[index % 10] -= 1\n",
        "        i -= 1\n",
        " \n",
        "    i = 0\n",
        "    for i in range(0, len(arr)):\n",
        "        arr[i] = output[i]\n",
        " \n",
        "\n",
        "def RadixSort(arr):\n",
        "    max1 = maxElement(arr)\n",
        "\n",
        "    exp = 1\n",
        "    while max1 / exp >= 1:\n",
        "        countingSortOfRadix(arr, exp)\n",
        "        exp *= 10\n",
        " \n",
        "\n",
        "arr = [170, 45, 75, 90, 802, 24, 2, 66]\n",
        "print(\"El arreglo de entrada es =\", arr)\n",
        "RadixSort(arr)\n",
        "print(\"El arreglo de salida y ordenado es =\", arr)"
      ],
      "metadata": {
        "colab": {
          "base_uri": "https://localhost:8080/"
        },
        "id": "Z7R43PH3_BQb",
        "outputId": "6ecd584a-720c-464f-9ffb-99a9619df3fa"
      },
      "execution_count": 10,
      "outputs": [
        {
          "output_type": "stream",
          "name": "stdout",
          "text": [
            "El arreglo de entrada es = [170, 45, 75, 90, 802, 24, 2, 66]\n",
            "El arreglo de salida y ordenado es = [2, 24, 45, 66, 75, 90, 170, 802]\n"
          ]
        }
      ]
    },
    {
      "cell_type": "markdown",
      "metadata": {
        "id": "pGUPAd3OpG6J"
      },
      "source": [
        "###**Comparación tiempo de ejecución** (Gráfica)."
      ]
    },
    {
      "cell_type": "code",
      "source": [
        "import matplotlib.pyplot as plt\n",
        "import datetime\n",
        "from timeit import repeat\n",
        "import random\n",
        "import numpy as np\n",
        "\n",
        "x=[]; y=[]; y1=[]; y2=[]; b=[]\n",
        "\n",
        "for i in range(4):\n",
        "    b.append(random.random())\n",
        "\n",
        "for n in range(5,600):\n",
        "    a = random.sample(range(1, 1000), n)\n",
        "    max = maxElement(a)\n",
        "    b.append(random.random())\n",
        "    \n",
        "    #la función repeat está ejecutando 10 veces los algoritmos de ordenamiento con el arreglo a y retorna el mejor tiepo obtenido.\n",
        "    t = repeat(setup=\"from __main__ import bucketSort\", stmt=f\"bucketSort({b})\", repeat=1, number=10)\n",
        "    t1 = repeat(setup=\"from __main__ import RadixSort\", stmt=f\"RadixSort({a})\", repeat=1, number=10)\n",
        "    t2 = repeat(setup=\"from __main__ import CountingSort\", stmt=f\"CountingSort({a[:]},{a},{max})\", repeat=1, number=10)\n",
        "\n",
        "    x.append(n)\n",
        "    y.append(t)\n",
        "    y1.append(t1)\n",
        "    y2.append(t2)\n",
        "\n",
        "\n",
        "plt.plot(x,y)\n",
        "plt.plot(x,y1)\n",
        "plt.plot(x,y2)\n",
        "plt.legend([\"Bucket Sort\", \"Radix Sort\", \"Counting Sort\"])\n",
        "\n",
        "plt.xlabel('n')\n",
        "plt.ylabel('Tiempo en ms')\n",
        "plt.show()"
      ],
      "metadata": {
        "colab": {
          "base_uri": "https://localhost:8080/",
          "height": 283
        },
        "id": "25vgJlMFo1Fb",
        "outputId": "e60fe8c5-998c-4f5a-c132-40d8ca4dac7f"
      },
      "execution_count": 14,
      "outputs": [
        {
          "output_type": "display_data",
          "data": {
            "text/plain": [
              "<Figure size 432x288 with 1 Axes>"
            ],
            "image/png": "[encoded data removed]"
          },
          "metadata": {
            "needs_background": "light"
          }
        }
      ]
    },
    {
      "cell_type": "markdown",
      "metadata": {
        "id": "iyLdPxjxqBPR"
      },
      "source": [
        "### **Análisis de resultados**"
      ]
    },
    {
      "cell_type": "markdown",
      "source": [
        "Se puede observar que el **Counitng Sort** es el más lento entre los 3 algoritmos cuando se ordena secuencias de $n$ elementos $n< 100$, mientras que el **Bucket Sort** es el más lento entre los 3 algoritmos cuando se trata de grandes conjuntos de datos. \n",
        "\n",
        "**Bucket Sort** siempre utiliza **Insertion Sort** para ordenar los baldes, algoritmo que tiene su caso promedio entre $O(n)$ y $O(n^2)$, además sus baldes no buscan tener la misma cantidad de elementos, haciendo probable que los elementos del arreglo se junten en un único balde, debido a estas razones, el algoritmo es más lento en comparación a los otros, es probable que no se enfrente a sus casos promedio.\n",
        "\n",
        "Como no se enfrenta a sus casos promedios, su tiempo de ejecución dependerá del algoritmo de ordenamiento que se aplica en los baldes, en este caso **Insertion Sort**.\n",
        "\n",
        "Aunque la diferencia es menor a 0.1 milisegundo."
      ],
      "metadata": {
        "id": "dK3eUn11IeWe"
      }
    },
    {
      "cell_type": "markdown",
      "source": [
        "## **5.2. Bucket Sort vs Insertion Sort** (Tiempo de ejecucion)"
      ],
      "metadata": {
        "id": "bpiJZlLslnD8"
      }
    },
    {
      "cell_type": "markdown",
      "source": [
        "###**Proposito del experimento.**"
      ],
      "metadata": {
        "id": "Y7MzO6i_mFBc"
      }
    },
    {
      "cell_type": "markdown",
      "source": [
        "En los peores casos del **Bucket Sort**, la complejidad que se asume es la del algoritmo que ordena los baldes. En el caso de este informe, **Bucket Sort** utiliza **Insertion Sort** para ordenar sus buckets, como la forma implementada del **Bucket Sort** en este informe produce resultados cercanos al peor caso, su tiempo de ejecución debería ser similar al algoritmo que ordena los baldes, es decir, **Bucket Sort**$≈$**Insertion Sort** en sus tiempos de ejecución."
      ],
      "metadata": {
        "id": "4BnSsSqzmJzE"
      }
    },
    {
      "cell_type": "markdown",
      "source": [
        "###**Comparación tiempo de ejecución** (Gráfica)."
      ],
      "metadata": {
        "id": "Mv_P1zk7nlSF"
      }
    },
    {
      "cell_type": "code",
      "source": [
        "import matplotlib.pyplot as plt\n",
        "import datetime\n",
        "from timeit import repeat\n",
        "import random\n",
        "import numpy as np\n",
        "\n",
        "x=[]; y=[]; y1=[]; a=[]\n",
        "\n",
        "for i in range(4):\n",
        "    a.append(random.random())\n",
        "\n",
        "for n in range(5,600):\n",
        "    a.append(random.random())\n",
        "\n",
        "    #la función repeat está ejecutando 10 veces los algoritmos de ordenamiento con el arreglo a y retorna el mejor tiepo obtenido.\n",
        "    t = repeat(setup=\"from __main__ import bucketSort\", stmt=f\"bucketSort({a})\", repeat=1, number=10)\n",
        "    t1 = repeat(setup=\"from __main__ import insertionSort\", stmt=f\"insertionSort({a})\", repeat=1, number=10)\n",
        "\n",
        "    x.append(n)\n",
        "    y.append(t)\n",
        "    y1.append(t1)\n",
        "\n",
        "\n",
        "plt.plot(x,y)\n",
        "plt.plot(x,y1)\n",
        "plt.legend([\"Bucket Sort\", \"Insertion Sort\"])\n",
        "\n",
        "plt.xlabel('n')\n",
        "plt.ylabel('Tiempo en ms')\n",
        "plt.show()"
      ],
      "metadata": {
        "colab": {
          "base_uri": "https://localhost:8080/",
          "height": 279
        },
        "id": "Ny8uHc_fnkyn",
        "outputId": "37c5a526-753a-4662-fa92-c7d0f229bf94"
      },
      "execution_count": 15,
      "outputs": [
        {
          "output_type": "display_data",
          "data": {
            "text/plain": [
              "<Figure size 432x288 with 1 Axes>"
            ],
            "image/png": "[encoded data removed]"
          },
          "metadata": {
            "needs_background": "light"
          }
        }
      ]
    },
    {
      "cell_type": "markdown",
      "source": [
        "### **Análisis de resultados**"
      ],
      "metadata": {
        "id": "UsGeWPrQqaYC"
      }
    },
    {
      "cell_type": "markdown",
      "source": [
        "Se puede observar que **Bucket Sort** es mucho más rápido que **Insertion Sort** cuando se trata de ordenar el mismo arreglo.\n",
        "\n",
        "Esto puede ser porque **Bucket Sort**, aunque use **Insertion Sort** para ordenar sus datos, y sea poco probable que se distribuyan los datos uniformemente en los baldes, todavía se distribuirán lo suficiente para que **Insertion Sort** tenga un tiempo de ejecución más rápido que aplicar el algoritmo al arreglo original.\n",
        "\n",
        "Aunque **Bucket Sort** este en su peor caso donde no distribuya uniformemente sus datos y su complejidad depende del algoritmo que ordena los baldes (*Insertion Sort*), las secuencias en los baldes en la forma que se distribuyeron los elementos son cercanas al mejor caso de **Insertion Sort**."
      ],
      "metadata": {
        "id": "5NImAflTrQ2N"
      }
    }
  ],
  "metadata": {
    "colab": {
      "collapsed_sections": [
        "ZC6tMltT1L0x",
        "J6F2Yp_IA6UB",
        "OFtxHy6oCCVm",
        "iicgroujCNjI",
        "n43-Jgqk7T4H",
        "-dIhKdDy7P51",
        "EGz6I60SVdP5",
        "OKGol3wpd18O",
        "KKp56zrst8L2",
        "QetS6HdEsNrH",
        "Dz_1sWcaoShu",
        "YK7XcUU_paKV",
        "uH_PKp0bf6pl",
        "HLVV1i7Ev3Pt",
        "Q9Ao5hgJpx-k",
        "blpWBESQuUWi",
        "UZE4jGMinXns",
        "r-aaTzXhnmLM",
        "04qVvMQT_zKd",
        "pdm0Ou1k-6bL",
        "pGUPAd3OpG6J",
        "iyLdPxjxqBPR",
        "bpiJZlLslnD8",
        "Y7MzO6i_mFBc",
        "Mv_P1zk7nlSF",
        "UsGeWPrQqaYC"
      ],
      "provenance": [],
      "authorship_tag": "ABX9TyPaFSyfvuzC/Y5/tqGesBrd",
      "include_colab_link": true
    },
    "kernelspec": {
      "display_name": "Python 3",
      "name": "python3"
    },
    "language_info": {
      "name": "python"
    }
  },
  "nbformat": 4,
  "nbformat_minor": 0
}