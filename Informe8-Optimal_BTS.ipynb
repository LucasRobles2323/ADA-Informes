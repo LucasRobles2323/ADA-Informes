{
  "cells": [
    {
      "cell_type": "markdown",
      "metadata": {
        "id": "view-in-github",
        "colab_type": "text"
      },
      "source": [
        "<a href=\"https://colab.research.google.com/github/LucasRobles2323/ADA-Informes/blob/main/Informe8-Optimal_BTS.ipynb\" target=\"_parent\"><img src=\"https://colab.research.google.com/assets/colab-badge.svg\" alt=\"Open In Colab\"/></a>"
      ]
    },
    {
      "cell_type": "markdown",
      "metadata": {
        "id": "ZC6tMltT1L0x"
      },
      "source": [
        "# **1. Programación Dinámica: Árbol binario de búsqueda óptimo**"
      ]
    },
    {
      "cell_type": "markdown",
      "metadata": {
        "id": "i0L0XXIP7-cU"
      },
      "source": [
        "**Entrada:** Secuencia ordenada de n claves: $K= \\left< k_1,k_2,...,k_n \\right>$. Cada clave $k_i$ tiene una probabilidad $p_i$ de ser buscada. Existen **claves ficticias** $d_i$ que representan **búsquedas fallidas** con $k_{i-1} \\leq d_i \\leq k_i$. Cada clave $d_i$ tiene una probabilidad $q_i$ de ser buscada. La suma de probabilidades debe ser uno, es decir: $\\sum\\limits_{i=1}^n p_i + \\sum\\limits_{j=0}^n q_i = 1$\n",
        "\n",
        "**Salida:**  Construir un **árbol de búsqueda óptimo**, es decir, un árbol que **minimice la cantidad esperada de nodos visitados (costo esperado)**."
      ]
    },
    {
      "cell_type": "markdown",
      "source": [
        "##*Descripción del problema*"
      ],
      "metadata": {
        "id": "XY07Fs2HSgTT"
      }
    },
    {
      "cell_type": "markdown",
      "source": [
        "Se busca construir un **árbol binario de búsqueda óptimo**, es un árbol de búsqueda donde el coste medio de buscar un artículo (el esperado coste de búsqueda) se reduce al mínimo.\n",
        "\n",
        "Incluso si sólo tenemos estimaciones de los costos de búsqueda, este sistema puede acelerar considerablemente las búsquedas en promedio.\n"
      ],
      "metadata": {
        "id": "NAU67LcQOla3"
      }
    },
    {
      "cell_type": "markdown",
      "metadata": {
        "id": "J6F2Yp_IA6UB"
      },
      "source": [
        "# **2. Árbol binario de búsqueda óptimo**"
      ]
    },
    {
      "cell_type": "markdown",
      "metadata": {
        "id": "OFtxHy6oCCVm"
      },
      "source": [
        "## **2.1. Descripción del algoritmo**"
      ]
    },
    {
      "cell_type": "markdown",
      "source": [
        "El costo óptimo para freq[i..j] se puede calcular recursivamente usando la siguiente fórmula. \n",
        "\n",
        "$optcost_{(i,j)} = \\sum_{k=i}^{j} freq[k] + min_{r=i}^{j}[optcost(i, r-1) + optcost(r+1, j)]$\n",
        "\n",
        "Necesitamos calcular optCost(0, n-1) para encontrar el resultado. \n",
        "La idea de la fórmula anterior es simple, uno por uno probamos todos los nodos como raíz (r varía de i a j en el segundo término). Cuando hacemos que el nodo r sea raíz, calculamos recursivamente el costo óptimo de i a r-1 y de r+1 a j. \n",
        "Agregamos la suma de las frecuencias de i a j (ver el primer término en la fórmula anterior)."
      ],
      "metadata": {
        "id": "iNAuA_4Kc4g_"
      }
    },
    {
      "cell_type": "markdown",
      "metadata": {
        "id": "iicgroujCNjI"
      },
      "source": [
        "## **2.2. Código**"
      ]
    },
    {
      "cell_type": "markdown",
      "source": [
        "###**Útil y necesario para los códigos, se deben ejecutar previamente**"
      ],
      "metadata": {
        "id": "cDvniNCLVbiw"
      }
    },
    {
      "cell_type": "code",
      "source": [
        "import random\n",
        "import numpy as np\n",
        "\n",
        "def OBIG(n): # optimal_bst_instance_generator\n",
        "    keys = sorted(random.sample(range(1, 100), n))\n",
        "    arr = np.random.random(n*2+1)\n",
        "    arr /= arr.sum()\n",
        "    \n",
        "    p = list(arr[:n]) # Probabilidad de las claves\n",
        "    q = arr[n:] # Probabilidad de las claves ficticias\n",
        "    return keys, p, q\n",
        "    \n",
        "keys, p, q = OBIG(10)\n",
        "\n",
        "print(f\"Keys: {keys} {len(keys)}\")\n",
        "print(f\"Real: {p} {len(p)}\")\n",
        "print(f\"Fict: {q} {len(q)}\")"
      ],
      "metadata": {
        "id": "vGeFSopAU2Ch",
        "colab": {
          "base_uri": "https://localhost:8080/"
        },
        "outputId": "0b18e04e-6408-457b-b1bb-ffc967f7e42d"
      },
      "execution_count": 168,
      "outputs": [
        {
          "output_type": "stream",
          "name": "stdout",
          "text": [
            "Keys: [5, 10, 20, 21, 37, 41, 57, 66, 73, 96] 10\n",
            "Real: [0.022843046081724452, 0.0438525718789271, 0.041494203162130615, 0.06855967041924405, 0.08960942002597207, 0.08789760302529925, 0.03396028240492888, 0.07860895798353353, 0.0027742029675238717, 0.09259906317252764] 10\n",
            "Fict: [0.0278282  0.02310838 0.00532469 0.04644492 0.07202239 0.03775114\n",
            " 0.10567602 0.00453918 0.04429256 0.00239305 0.06842045] 11\n"
          ]
        }
      ]
    },
    {
      "cell_type": "code",
      "source": [
        "def mostrarMatriz(M, title = \"\", decimal=True):\n",
        "  if(len(title) > 1): print(f\"{title}:\") \n",
        "  for i in range(len(M)):\n",
        "    for j in range(len(M)):\n",
        "      if (decimal): print(\"{:.20f}\".format(M[i][j]), end=(\"\"))\n",
        "      else: print(\"{:.1f}\".format(M[i][j]), end=(\"\"))\n",
        "      if(j < len(M)-1): print(\",\", end=(\" \"))\n",
        "      else: print(\" \")"
      ],
      "metadata": {
        "id": "lzeV3nBnL9s4"
      },
      "execution_count": 169,
      "outputs": []
    },
    {
      "cell_type": "markdown",
      "source": [
        "###Recursivo"
      ],
      "metadata": {
        "id": "_Sc7ObDrs7v9"
      }
    },
    {
      "cell_type": "code",
      "source": [
        "import random\n",
        "import numpy as np\n",
        "\n",
        "llamadasRecursivas = 0\n",
        "\n",
        "# Funcion recursiva para calcular el costo optimo\n",
        "def optCostRec(freq, i, j, verbose):\n",
        "    global llamadasRecursivas \n",
        "    if verbose: \n",
        "        if llamadasRecursivas > 0: print(f\"´´´´´´´´´´´´´´´´´´´´´´´´´´´´´´´´´´´´´´´´´´´´´´´´´´´´´´´´´´´´´´´´´´´´´´´´´´´´´´´´´´´´´´´´´´´´´´´´´´´´´´´´´´\"+\n",
        "                                         f\"\\nLlamada recursiva número {llamadasRecursivas}\")\n",
        "        print(\"**************************************************************************************************************\")\n",
        "        print(f\"El largo es de {j-i+1} datos\")\n",
        "\n",
        "    # Casos base\n",
        "    if j < i:     # No hay elementos en el sub-arreglo\n",
        "        return 0\n",
        "    if j == i:     # Hay un elemento en el sub-arreglo\n",
        "        return freq[i]\n",
        "     \n",
        "    # Obtener sumatoria de frecuencias\n",
        "    fsum = Sum(freq, i, j)\n",
        "    if verbose: \n",
        "                print(\"-------------------------------------------------------------------------------------\")\n",
        "                print(f\"i = {i}     and     j = {j}\")\n",
        "                print(f\"La suma de frecuencias {i}...{j} es {fsum}\")\n",
        "     \n",
        "    # Inicia el valor minimo\n",
        "    Min = 999999999999\n",
        "\n",
        "    # Comprueba todos los elementos como raíz\n",
        "    # Para encontrar el árbol de búsqueda óptimo\n",
        "    for r in range(i, j + 1):\n",
        "        #Recursividad\n",
        "        if verbose:\n",
        "                  print(\"------------------------------------------\")\n",
        "                  print(f\"Probemos con {r} de raíz\")\n",
        "        llamadasRecursivas+=1\n",
        "        optCostLeft = optCostRec(freq, i, r - 1, verbose)\n",
        "        llamadasRecursivas+=1\n",
        "        optCostRight = optCostRec(freq, r + 1, j, verbose)\n",
        "\n",
        "        \n",
        "        cost = optCostLeft + optCostRight\n",
        "        if verbose:\n",
        "                  print(f\"Tenemos como costo optimo para el arbol de {i}...{j} datos\")\n",
        "                  print(f\"{cost} seria el costo con {r} de raíz\")\n",
        "                  print(f\"El costo optimo para el arbol {i}...{j} hasta ahora es {Min}\")\n",
        "        if cost < Min:\n",
        "            Min = cost\n",
        "            if verbose:\n",
        "                print(\"----------\")\n",
        "                print(f\"Como conseguimos un costo mas optimo al guardad, lo reemplazamos\")\n",
        "                print(f\"Ahora el costo optimo para arbol {i}...{j} datos sera {cost}\")\n",
        "                print(\"----------\")\n",
        "    \n",
        "    # Retorna el minimo valor\n",
        "    if verbose: \n",
        "        if llamadasRecursivas > 0: print(f\"Llamada recursiva número {llamadasRecursivas} FIN\"+\n",
        "                                         f\"\\n´´´´´´´´´´´´´´´´´´´´´´´´´´´´´´´´´´´´´´´´´´´´´´´´´´´´´´´´´´´´´´´´´´´´´´´´´´´´´´´´´´´´´´´´´´´´´´´´´´´´´´´´´´\")\n",
        "        else: print(\"**************************************************************************************************************\")\n",
        "    return Min + fsum\n",
        " \n",
        "# La función principal que calcula el costo mínimo de un árbol de búsqueda binaria. \n",
        "# Utiliza principalmente optCost() para encontrar el costo óptimo.\n",
        "def optimalSearchTreeRecursivo(keys, freq, n, verbose = False, visualize = False):    \n",
        "    # Se asume que keys esta ordenado.\n",
        "    return optCostRec(freq, 0, n-1, verbose)\n",
        "    # Aqui planeaba mostrar el arbol\n",
        " \n",
        "\n",
        "def Sum(freq, i, j):\n",
        "    s = 0\n",
        "    for k in range(i, j + 1):\n",
        "        s += freq[k]\n",
        "    return s\n",
        "\n",
        "print(f\"Keys: {keys}\")\n",
        "print(f\"Real: {p}\")\n",
        "print(f\"Fict: {q}\")\n",
        "\n",
        "opt = optimalSearchTreeRecursivo(keys, p, len(keys))\n",
        "print(f\"\\nEl costo óptimo de realizar una búsqueda sería de {opt} nodos visitados.\"+\n",
        "      f\"\\nSe realizaron {llamadasRecursivas} llamadas recursivas\"+\n",
        "      f\"\\nEl árbol tendra {len(keys)} nodos\")"
      ],
      "metadata": {
        "id": "GeNY7xrFWWgN",
        "colab": {
          "base_uri": "https://localhost:8080/"
        },
        "outputId": "50fdc504-fd6c-4e54-8798-2af9b6184210"
      },
      "execution_count": 181,
      "outputs": [
        {
          "output_type": "stream",
          "name": "stdout",
          "text": [
            "Keys: [5, 10, 20, 21, 37, 41, 57, 66, 73, 96]\n",
            "Real: [0.022843046081724452, 0.0438525718789271, 0.041494203162130615, 0.06855967041924405, 0.08960942002597207, 0.08789760302529925, 0.03396028240492888, 0.07860895798353353, 0.0027742029675238717, 0.09259906317252764]\n",
            "Fict: [0.0278282  0.02310838 0.00532469 0.04644492 0.07202239 0.03775114\n",
            " 0.10567602 0.00453918 0.04429256 0.00239305 0.06842045]\n",
            "\n",
            "El costo óptimo de realizar una búsqueda sería de 1.4307446811234374 nodos visitados.\n",
            "Se realizaron 32804 llamadas recursivas\n",
            "El árbol tendra 10 nodos\n"
          ]
        }
      ]
    },
    {
      "cell_type": "markdown",
      "source": [
        "###Botton-up"
      ],
      "metadata": {
        "id": "tIqxhR3As_Sk"
      }
    },
    {
      "cell_type": "code",
      "source": [
        "import networkx as nx\n",
        "import matplotlib.pyplot as plt\n",
        "\n",
        "cantSubProblem = 0\n",
        "\n",
        "def optCostBottomUp(keys, freq, n, verbose = False):\n",
        "    max = 9999999999\n",
        "\n",
        "    # Cree una matriz auxiliar para almacenar\n",
        "    # los resultados de los sub-problemas\n",
        "    cost = [[0 for x in range(n)]\n",
        "               for y in range(n)]\n",
        "    # cost[i][j] = Costo óptimo del árbol de búsqueda binaria que se puede formar desde keys[i] hasta keys[j]. \n",
        "    # cost[0][n-1] = Almacenará el costo resultante.\n",
        "\n",
        "    # Cree una matriz auxiliar para almacenar\n",
        "    # los resultados de los sub-problemas\n",
        "    root = [[0 for x in range(n)]\n",
        "               for y in range(n)]\n",
        "\n",
        "    global cantSubProblem\n",
        "    cantSubProblem += (n*n)\n",
        "    cantSubProblem -= 1\n",
        " \n",
        "    # Para una sola clave, el costo es igual a la frecuencia de la clave.\n",
        "    for i in range(n):\n",
        "        cost[i][i] = freq[i]\n",
        " \n",
        "    # Ahora necesitamos considerar cadenas de longitud 1, 2, ... . \n",
        "    # L es la longitud de la cadena.\n",
        "    for L in range(1, n + 1):\n",
        "        # i es el número de fila en el costo\n",
        "        if verbose: \n",
        "            print(\"**************************************************************************************************************\")\n",
        "            print(f\"El largo es de {L} datos\")\n",
        "        for i in range(n - L + 1):\n",
        "            # Obtenga el número de columna j del número de fila i \n",
        "            # y la longitud de la cadena L\n",
        "            j = i + L - 1\n",
        "            if i >= n or j >= n:\n",
        "                break\n",
        "            \n",
        "            sumaDeFreq = sum(freq, i, j)\n",
        "            cost[i][j] = max\n",
        "            if verbose: \n",
        "                print(\"-------------------------------------------------------------------------------------\")\n",
        "                print(f\"i = {i}     and     j = {j}\")\n",
        "                print(f\"La suma de frecuencias {i}...{j} es {sumaDeFreq}\")\n",
        "\n",
        "            # Intente hacer todas las claves en claves \n",
        "            # de intervalo [i..j] como root\n",
        "            for r in range(i, j + 1):\n",
        "                if verbose:\n",
        "                  print(\"------------------------------------------\")\n",
        "                  print(f\"Probemos con {r} de raíz\")\n",
        "                # c = costo cuando las claves [r] se \n",
        "                # convierten en raíz de este subárbol\n",
        "                c = 0\n",
        "                if (r > i):\n",
        "                    c += cost[i][r - 1]\n",
        "                if (r < j):\n",
        "                    c += cost[r + 1][j]\n",
        "                c += sumaDeFreq\n",
        "                if verbose:\n",
        "                  print(f\"Tenemos como costo optimo para el arbol de {i}...{j} datos\")\n",
        "                  print(f\"{c} seria el costo con {r} de raíz\")\n",
        "                  print(f\"El costo optimo para el arbol {i}...{j} hasta ahora es {cost[i][j]}\")\n",
        "                if (c < cost[i][j]):\n",
        "                    if verbose:\n",
        "                        print(\"----------\")\n",
        "                        print(f\"Como conseguimos un costo mas optimo al guardad, lo reemplazamos\")\n",
        "                        print(f\"Ahora el costo optimo para arbol {i}...{j} datos sera {c}\")\n",
        "                        print(\"----------\")\n",
        "                    cost[i][j] = c\n",
        "                    root[i][j] = r+1\n",
        "    if verbose: \n",
        "      print(\"**************************************************************************************************************\")\n",
        "    return cost[0][n - 1], root\n",
        "\n",
        "def addSons(r, k, A,pos, node):\n",
        "    Ka = k[:pos]\n",
        "    i = 0\n",
        "    j = len(Ka)-1\n",
        "    nPos = r[i][j]\n",
        "    n = k[nPos-1]\n",
        "    A.add_nodes_from([(node, {\"label\": n})])\n",
        "    node += 1\n",
        "    Kb = k[pos:]\n",
        "    i = pos\n",
        "    j = i + len(Kb)-1\n",
        "    nPos = r[i][j]\n",
        "    n = k[nPos-1]\n",
        "    A.add_nodes_from([(node, {\"label\": n})])\n",
        "    node += 1\n",
        "    return node\n",
        "\n",
        "def crearArbol(r, k, A):\n",
        "    nPos = r[0][len(k)-1]\n",
        "    n = k[nPos-1]\n",
        "    A.add_nodes_from([(1, {\"label\": n})])\n",
        "    node = addSons(r, k, A,nPos-1, 2)\n",
        "\n",
        "def mostrarArbol(T):\n",
        "    print(\"El árbol es\")\n",
        "    \n",
        "    # La lista color_map alamacena los colores de cada nodo\n",
        "    color_map = []\n",
        "    for node in T:\n",
        "      color_map.append(\"gray\")\n",
        "\n",
        "    # Los label\n",
        "    labels={}\n",
        "    for n in T:\n",
        "        if \"label\" in T.nodes[n]: labels[n]=T.nodes[n][\"label\"]\n",
        "\n",
        "    # spring_layout: define posiciones para los nodos del grafo\n",
        "    pos=nx.spring_layout(T)\n",
        "    \n",
        "    # para mostrar los nodos en sus posiciones y colores, tamaños, etc.\n",
        "    nx.draw(T,pos, node_color=color_map, with_labels=False, node_size=800, font_size=14, width  =2.0, edge_color =\"black\")\n",
        "    nodes=nx.draw_networkx_labels(T,pos, labels=labels,font_color=\"white\", font_size=12)\n",
        " \n",
        "def optimalSearchTreeBottomUp(keys, freq, n, verbose = False, visualize = False):\n",
        "    optimal, root = optCostBottomUp(keys, freq, n, verbose)\n",
        "    # Aqui planeaba mostrar el arbol\n",
        "    # Pero no supe como\n",
        "    if visualize: \n",
        "        mostrarMatriz(root,\"Raíz\",False)\n",
        "        tree = nx.DiGraph()\n",
        "        crearArbol(root, keys, tree)\n",
        "        mostrarArbol(tree)\n",
        "    return optimal\n",
        "\n",
        "# Obtiene la sumatoria de los valores de i<=freq<=j.\n",
        "def sum(freq, i, j):\n",
        "  s = 0\n",
        "  for k in range(i, j + 1):\n",
        "    s += freq[k]\n",
        "  return s\n",
        "\n",
        "print(f\"Keys: {keys}\")\n",
        "print(f\"Real: {p}\")\n",
        "print(f\"Fict: {q}\")\n",
        "\n",
        "opt = optimalSearchTreeBottomUp(keys, p, len(keys))\n",
        "print(f\"\\nEl costo óptimo esperado de realizar una búsqueda sería de {opt} nodos visitados.\"+\n",
        "      f\"\\nSe resolveran {cantSubProblem} sub-problemas.\"+\n",
        "      f\"\\nEl árbol tendra {len(keys)} nodos\")"
      ],
      "metadata": {
        "colab": {
          "base_uri": "https://localhost:8080/"
        },
        "id": "zv0THWZls6ic",
        "outputId": "7e05b0b2-9949-4499-82ce-f725d86ea4ff"
      },
      "execution_count": 201,
      "outputs": [
        {
          "output_type": "stream",
          "name": "stdout",
          "text": [
            "Keys: [5, 10, 20, 21, 37, 41, 57, 66, 73, 96]\n",
            "Real: [0.022843046081724452, 0.0438525718789271, 0.041494203162130615, 0.06855967041924405, 0.08960942002597207, 0.08789760302529925, 0.03396028240492888, 0.07860895798353353, 0.0027742029675238717, 0.09259906317252764]\n",
            "Fict: [0.0278282  0.02310838 0.00532469 0.04644492 0.07202239 0.03775114\n",
            " 0.10567602 0.00453918 0.04429256 0.00239305 0.06842045]\n",
            "\n",
            "El costo óptimo esperado de realizar una búsqueda sería de 1.4307446811234374 nodos visitados.\n",
            "Se resolveran 99 sub-problemas.\n",
            "El árbol tendra 10 nodos\n"
          ]
        }
      ]
    },
    {
      "cell_type": "markdown",
      "source": [
        "## **2.3. Ejecución del algoritmo paso a paso**"
      ],
      "metadata": {
        "id": "C5er_1JrvSow"
      }
    },
    {
      "cell_type": "code",
      "source": [
        "import random\n",
        "# Crea las instancias, y use la misma en ambos, podra observar la diferencia en sus procesos\n",
        "n = random.randint(2,5)\n",
        "print(f\"El arbol tendra {n} nodos\")\n",
        "k, pi, qi = OBIG(n)\n",
        "print(f\"Keys: {k}\")\n",
        "print(f\"Real: {pi}\")\n",
        "print(f\"Fict: {qi}\")"
      ],
      "metadata": {
        "colab": {
          "base_uri": "https://localhost:8080/"
        },
        "id": "c5pLQc70Qdg1",
        "outputId": "61df5f95-7d3e-463c-9c2a-d56543872a8f"
      },
      "execution_count": 178,
      "outputs": [
        {
          "output_type": "stream",
          "name": "stdout",
          "text": [
            "El arbol tendra 4 nodos\n",
            "Keys: [1, 25, 81, 96]\n",
            "Real: [0.15471145922221968, 0.11219523405798364, 0.13018645021059638, 0.01848516662240927]\n",
            "Fict: [0.15156281 0.1014203  0.20358201 0.10123795 0.02661861]\n"
          ]
        }
      ]
    },
    {
      "cell_type": "markdown",
      "source": [
        "###**`verbose=True`**"
      ],
      "metadata": {
        "id": "4Maet4mAvZ54"
      }
    },
    {
      "cell_type": "markdown",
      "source": [
        "####Recursivo"
      ],
      "metadata": {
        "id": "LHI4ndHh7pm7"
      }
    },
    {
      "cell_type": "code",
      "source": [
        "llamadasRecursivas = 0\n",
        "opt = optimalSearchTreeRecursivo(k, pi, len(k), True)\n",
        "print(f\"\\nEl costo óptimo de realizar una búsqueda sería de {opt} nodos visitados.\"+\n",
        "      f\"\\nSe realizaron {llamadasRecursivas} llamadas recursivas\"+\n",
        "      f\"\\nEl árbol tendra {len(k)} nodos\")"
      ],
      "metadata": {
        "id": "0OPz131lYSF6",
        "colab": {
          "base_uri": "https://localhost:8080/"
        },
        "outputId": "78f61f51-10d0-4ecb-b1cc-0a9d41d14273"
      },
      "execution_count": 183,
      "outputs": [
        {
          "output_type": "stream",
          "name": "stdout",
          "text": [
            "**************************************************************************************************************\n",
            "El largo es de 4 datos\n",
            "-------------------------------------------------------------------------------------\n",
            "i = 0     and     j = 3\n",
            "La suma de frecuencias 0...3 es 0.415578310113209\n",
            "------------------------------------------\n",
            "Probemos con 0 de raíz\n",
            "´´´´´´´´´´´´´´´´´´´´´´´´´´´´´´´´´´´´´´´´´´´´´´´´´´´´´´´´´´´´´´´´´´´´´´´´´´´´´´´´´´´´´´´´´´´´´´´´´´´´´´´´´´\n",
            "Llamada recursiva número 1\n",
            "**************************************************************************************************************\n",
            "El largo es de 0 datos\n",
            "´´´´´´´´´´´´´´´´´´´´´´´´´´´´´´´´´´´´´´´´´´´´´´´´´´´´´´´´´´´´´´´´´´´´´´´´´´´´´´´´´´´´´´´´´´´´´´´´´´´´´´´´´´\n",
            "Llamada recursiva número 2\n",
            "**************************************************************************************************************\n",
            "El largo es de 3 datos\n",
            "-------------------------------------------------------------------------------------\n",
            "i = 1     and     j = 3\n",
            "La suma de frecuencias 1...3 es 0.2608668508909893\n",
            "------------------------------------------\n",
            "Probemos con 1 de raíz\n",
            "´´´´´´´´´´´´´´´´´´´´´´´´´´´´´´´´´´´´´´´´´´´´´´´´´´´´´´´´´´´´´´´´´´´´´´´´´´´´´´´´´´´´´´´´´´´´´´´´´´´´´´´´´´\n",
            "Llamada recursiva número 3\n",
            "**************************************************************************************************************\n",
            "El largo es de 0 datos\n",
            "´´´´´´´´´´´´´´´´´´´´´´´´´´´´´´´´´´´´´´´´´´´´´´´´´´´´´´´´´´´´´´´´´´´´´´´´´´´´´´´´´´´´´´´´´´´´´´´´´´´´´´´´´´\n",
            "Llamada recursiva número 4\n",
            "**************************************************************************************************************\n",
            "El largo es de 2 datos\n",
            "-------------------------------------------------------------------------------------\n",
            "i = 2     and     j = 3\n",
            "La suma de frecuencias 2...3 es 0.14867161683300564\n",
            "------------------------------------------\n",
            "Probemos con 2 de raíz\n",
            "´´´´´´´´´´´´´´´´´´´´´´´´´´´´´´´´´´´´´´´´´´´´´´´´´´´´´´´´´´´´´´´´´´´´´´´´´´´´´´´´´´´´´´´´´´´´´´´´´´´´´´´´´´\n",
            "Llamada recursiva número 5\n",
            "**************************************************************************************************************\n",
            "El largo es de 0 datos\n",
            "´´´´´´´´´´´´´´´´´´´´´´´´´´´´´´´´´´´´´´´´´´´´´´´´´´´´´´´´´´´´´´´´´´´´´´´´´´´´´´´´´´´´´´´´´´´´´´´´´´´´´´´´´´\n",
            "Llamada recursiva número 6\n",
            "**************************************************************************************************************\n",
            "El largo es de 1 datos\n",
            "Tenemos como costo optimo para el arbol de 2...3 datos\n",
            "0.01848516662240927 seria el costo con 2 de raíz\n",
            "El costo optimo para el arbol 2...3 hasta ahora es 999999999999\n",
            "----------\n",
            "Como conseguimos un costo mas optimo al guardad, lo reemplazamos\n",
            "Ahora el costo optimo para arbol 2...3 datos sera 0.01848516662240927\n",
            "----------\n",
            "------------------------------------------\n",
            "Probemos con 3 de raíz\n",
            "´´´´´´´´´´´´´´´´´´´´´´´´´´´´´´´´´´´´´´´´´´´´´´´´´´´´´´´´´´´´´´´´´´´´´´´´´´´´´´´´´´´´´´´´´´´´´´´´´´´´´´´´´´\n",
            "Llamada recursiva número 7\n",
            "**************************************************************************************************************\n",
            "El largo es de 1 datos\n",
            "´´´´´´´´´´´´´´´´´´´´´´´´´´´´´´´´´´´´´´´´´´´´´´´´´´´´´´´´´´´´´´´´´´´´´´´´´´´´´´´´´´´´´´´´´´´´´´´´´´´´´´´´´´\n",
            "Llamada recursiva número 8\n",
            "**************************************************************************************************************\n",
            "El largo es de 0 datos\n",
            "Tenemos como costo optimo para el arbol de 2...3 datos\n",
            "0.13018645021059638 seria el costo con 3 de raíz\n",
            "El costo optimo para el arbol 2...3 hasta ahora es 0.01848516662240927\n",
            "Llamada recursiva número 8 FIN\n",
            "´´´´´´´´´´´´´´´´´´´´´´´´´´´´´´´´´´´´´´´´´´´´´´´´´´´´´´´´´´´´´´´´´´´´´´´´´´´´´´´´´´´´´´´´´´´´´´´´´´´´´´´´´´\n",
            "Tenemos como costo optimo para el arbol de 1...3 datos\n",
            "0.1671567834554149 seria el costo con 1 de raíz\n",
            "El costo optimo para el arbol 1...3 hasta ahora es 999999999999\n",
            "----------\n",
            "Como conseguimos un costo mas optimo al guardad, lo reemplazamos\n",
            "Ahora el costo optimo para arbol 1...3 datos sera 0.1671567834554149\n",
            "----------\n",
            "------------------------------------------\n",
            "Probemos con 2 de raíz\n",
            "´´´´´´´´´´´´´´´´´´´´´´´´´´´´´´´´´´´´´´´´´´´´´´´´´´´´´´´´´´´´´´´´´´´´´´´´´´´´´´´´´´´´´´´´´´´´´´´´´´´´´´´´´´\n",
            "Llamada recursiva número 9\n",
            "**************************************************************************************************************\n",
            "El largo es de 1 datos\n",
            "´´´´´´´´´´´´´´´´´´´´´´´´´´´´´´´´´´´´´´´´´´´´´´´´´´´´´´´´´´´´´´´´´´´´´´´´´´´´´´´´´´´´´´´´´´´´´´´´´´´´´´´´´´\n",
            "Llamada recursiva número 10\n",
            "**************************************************************************************************************\n",
            "El largo es de 1 datos\n",
            "Tenemos como costo optimo para el arbol de 1...3 datos\n",
            "0.1306804006803929 seria el costo con 2 de raíz\n",
            "El costo optimo para el arbol 1...3 hasta ahora es 0.1671567834554149\n",
            "----------\n",
            "Como conseguimos un costo mas optimo al guardad, lo reemplazamos\n",
            "Ahora el costo optimo para arbol 1...3 datos sera 0.1306804006803929\n",
            "----------\n",
            "------------------------------------------\n",
            "Probemos con 3 de raíz\n",
            "´´´´´´´´´´´´´´´´´´´´´´´´´´´´´´´´´´´´´´´´´´´´´´´´´´´´´´´´´´´´´´´´´´´´´´´´´´´´´´´´´´´´´´´´´´´´´´´´´´´´´´´´´´\n",
            "Llamada recursiva número 11\n",
            "**************************************************************************************************************\n",
            "El largo es de 2 datos\n",
            "-------------------------------------------------------------------------------------\n",
            "i = 1     and     j = 2\n",
            "La suma de frecuencias 1...2 es 0.24238168426858003\n",
            "------------------------------------------\n",
            "Probemos con 1 de raíz\n",
            "´´´´´´´´´´´´´´´´´´´´´´´´´´´´´´´´´´´´´´´´´´´´´´´´´´´´´´´´´´´´´´´´´´´´´´´´´´´´´´´´´´´´´´´´´´´´´´´´´´´´´´´´´´\n",
            "Llamada recursiva número 12\n",
            "**************************************************************************************************************\n",
            "El largo es de 0 datos\n",
            "´´´´´´´´´´´´´´´´´´´´´´´´´´´´´´´´´´´´´´´´´´´´´´´´´´´´´´´´´´´´´´´´´´´´´´´´´´´´´´´´´´´´´´´´´´´´´´´´´´´´´´´´´´\n",
            "Llamada recursiva número 13\n",
            "**************************************************************************************************************\n",
            "El largo es de 1 datos\n",
            "Tenemos como costo optimo para el arbol de 1...2 datos\n",
            "0.13018645021059638 seria el costo con 1 de raíz\n",
            "El costo optimo para el arbol 1...2 hasta ahora es 999999999999\n",
            "----------\n",
            "Como conseguimos un costo mas optimo al guardad, lo reemplazamos\n",
            "Ahora el costo optimo para arbol 1...2 datos sera 0.13018645021059638\n",
            "----------\n",
            "------------------------------------------\n",
            "Probemos con 2 de raíz\n",
            "´´´´´´´´´´´´´´´´´´´´´´´´´´´´´´´´´´´´´´´´´´´´´´´´´´´´´´´´´´´´´´´´´´´´´´´´´´´´´´´´´´´´´´´´´´´´´´´´´´´´´´´´´´\n",
            "Llamada recursiva número 14\n",
            "**************************************************************************************************************\n",
            "El largo es de 1 datos\n",
            "´´´´´´´´´´´´´´´´´´´´´´´´´´´´´´´´´´´´´´´´´´´´´´´´´´´´´´´´´´´´´´´´´´´´´´´´´´´´´´´´´´´´´´´´´´´´´´´´´´´´´´´´´´\n",
            "Llamada recursiva número 15\n",
            "**************************************************************************************************************\n",
            "El largo es de 0 datos\n",
            "Tenemos como costo optimo para el arbol de 1...2 datos\n",
            "0.11219523405798364 seria el costo con 2 de raíz\n",
            "El costo optimo para el arbol 1...2 hasta ahora es 0.13018645021059638\n",
            "----------\n",
            "Como conseguimos un costo mas optimo al guardad, lo reemplazamos\n",
            "Ahora el costo optimo para arbol 1...2 datos sera 0.11219523405798364\n",
            "----------\n",
            "Llamada recursiva número 15 FIN\n",
            "´´´´´´´´´´´´´´´´´´´´´´´´´´´´´´´´´´´´´´´´´´´´´´´´´´´´´´´´´´´´´´´´´´´´´´´´´´´´´´´´´´´´´´´´´´´´´´´´´´´´´´´´´´\n",
            "´´´´´´´´´´´´´´´´´´´´´´´´´´´´´´´´´´´´´´´´´´´´´´´´´´´´´´´´´´´´´´´´´´´´´´´´´´´´´´´´´´´´´´´´´´´´´´´´´´´´´´´´´´\n",
            "Llamada recursiva número 16\n",
            "**************************************************************************************************************\n",
            "El largo es de 0 datos\n",
            "Tenemos como costo optimo para el arbol de 1...3 datos\n",
            "0.3545769183265637 seria el costo con 3 de raíz\n",
            "El costo optimo para el arbol 1...3 hasta ahora es 0.1306804006803929\n",
            "Llamada recursiva número 16 FIN\n",
            "´´´´´´´´´´´´´´´´´´´´´´´´´´´´´´´´´´´´´´´´´´´´´´´´´´´´´´´´´´´´´´´´´´´´´´´´´´´´´´´´´´´´´´´´´´´´´´´´´´´´´´´´´´\n",
            "Tenemos como costo optimo para el arbol de 0...3 datos\n",
            "0.39154725157138226 seria el costo con 0 de raíz\n",
            "El costo optimo para el arbol 0...3 hasta ahora es 999999999999\n",
            "----------\n",
            "Como conseguimos un costo mas optimo al guardad, lo reemplazamos\n",
            "Ahora el costo optimo para arbol 0...3 datos sera 0.39154725157138226\n",
            "----------\n",
            "------------------------------------------\n",
            "Probemos con 1 de raíz\n",
            "´´´´´´´´´´´´´´´´´´´´´´´´´´´´´´´´´´´´´´´´´´´´´´´´´´´´´´´´´´´´´´´´´´´´´´´´´´´´´´´´´´´´´´´´´´´´´´´´´´´´´´´´´´\n",
            "Llamada recursiva número 17\n",
            "**************************************************************************************************************\n",
            "El largo es de 1 datos\n",
            "´´´´´´´´´´´´´´´´´´´´´´´´´´´´´´´´´´´´´´´´´´´´´´´´´´´´´´´´´´´´´´´´´´´´´´´´´´´´´´´´´´´´´´´´´´´´´´´´´´´´´´´´´´\n",
            "Llamada recursiva número 18\n",
            "**************************************************************************************************************\n",
            "El largo es de 2 datos\n",
            "-------------------------------------------------------------------------------------\n",
            "i = 2     and     j = 3\n",
            "La suma de frecuencias 2...3 es 0.14867161683300564\n",
            "------------------------------------------\n",
            "Probemos con 2 de raíz\n",
            "´´´´´´´´´´´´´´´´´´´´´´´´´´´´´´´´´´´´´´´´´´´´´´´´´´´´´´´´´´´´´´´´´´´´´´´´´´´´´´´´´´´´´´´´´´´´´´´´´´´´´´´´´´\n",
            "Llamada recursiva número 19\n",
            "**************************************************************************************************************\n",
            "El largo es de 0 datos\n",
            "´´´´´´´´´´´´´´´´´´´´´´´´´´´´´´´´´´´´´´´´´´´´´´´´´´´´´´´´´´´´´´´´´´´´´´´´´´´´´´´´´´´´´´´´´´´´´´´´´´´´´´´´´´\n",
            "Llamada recursiva número 20\n",
            "**************************************************************************************************************\n",
            "El largo es de 1 datos\n",
            "Tenemos como costo optimo para el arbol de 2...3 datos\n",
            "0.01848516662240927 seria el costo con 2 de raíz\n",
            "El costo optimo para el arbol 2...3 hasta ahora es 999999999999\n",
            "----------\n",
            "Como conseguimos un costo mas optimo al guardad, lo reemplazamos\n",
            "Ahora el costo optimo para arbol 2...3 datos sera 0.01848516662240927\n",
            "----------\n",
            "------------------------------------------\n",
            "Probemos con 3 de raíz\n",
            "´´´´´´´´´´´´´´´´´´´´´´´´´´´´´´´´´´´´´´´´´´´´´´´´´´´´´´´´´´´´´´´´´´´´´´´´´´´´´´´´´´´´´´´´´´´´´´´´´´´´´´´´´´\n",
            "Llamada recursiva número 21\n",
            "**************************************************************************************************************\n",
            "El largo es de 1 datos\n",
            "´´´´´´´´´´´´´´´´´´´´´´´´´´´´´´´´´´´´´´´´´´´´´´´´´´´´´´´´´´´´´´´´´´´´´´´´´´´´´´´´´´´´´´´´´´´´´´´´´´´´´´´´´´\n",
            "Llamada recursiva número 22\n",
            "**************************************************************************************************************\n",
            "El largo es de 0 datos\n",
            "Tenemos como costo optimo para el arbol de 2...3 datos\n",
            "0.13018645021059638 seria el costo con 3 de raíz\n",
            "El costo optimo para el arbol 2...3 hasta ahora es 0.01848516662240927\n",
            "Llamada recursiva número 22 FIN\n",
            "´´´´´´´´´´´´´´´´´´´´´´´´´´´´´´´´´´´´´´´´´´´´´´´´´´´´´´´´´´´´´´´´´´´´´´´´´´´´´´´´´´´´´´´´´´´´´´´´´´´´´´´´´´\n",
            "Tenemos como costo optimo para el arbol de 0...3 datos\n",
            "0.3218682426776346 seria el costo con 1 de raíz\n",
            "El costo optimo para el arbol 0...3 hasta ahora es 0.39154725157138226\n",
            "----------\n",
            "Como conseguimos un costo mas optimo al guardad, lo reemplazamos\n",
            "Ahora el costo optimo para arbol 0...3 datos sera 0.3218682426776346\n",
            "----------\n",
            "------------------------------------------\n",
            "Probemos con 2 de raíz\n",
            "´´´´´´´´´´´´´´´´´´´´´´´´´´´´´´´´´´´´´´´´´´´´´´´´´´´´´´´´´´´´´´´´´´´´´´´´´´´´´´´´´´´´´´´´´´´´´´´´´´´´´´´´´´\n",
            "Llamada recursiva número 23\n",
            "**************************************************************************************************************\n",
            "El largo es de 2 datos\n",
            "-------------------------------------------------------------------------------------\n",
            "i = 0     and     j = 1\n",
            "La suma de frecuencias 0...1 es 0.26690669328020333\n",
            "------------------------------------------\n",
            "Probemos con 0 de raíz\n",
            "´´´´´´´´´´´´´´´´´´´´´´´´´´´´´´´´´´´´´´´´´´´´´´´´´´´´´´´´´´´´´´´´´´´´´´´´´´´´´´´´´´´´´´´´´´´´´´´´´´´´´´´´´´\n",
            "Llamada recursiva número 24\n",
            "**************************************************************************************************************\n",
            "El largo es de 0 datos\n",
            "´´´´´´´´´´´´´´´´´´´´´´´´´´´´´´´´´´´´´´´´´´´´´´´´´´´´´´´´´´´´´´´´´´´´´´´´´´´´´´´´´´´´´´´´´´´´´´´´´´´´´´´´´´\n",
            "Llamada recursiva número 25\n",
            "**************************************************************************************************************\n",
            "El largo es de 1 datos\n",
            "Tenemos como costo optimo para el arbol de 0...1 datos\n",
            "0.11219523405798364 seria el costo con 0 de raíz\n",
            "El costo optimo para el arbol 0...1 hasta ahora es 999999999999\n",
            "----------\n",
            "Como conseguimos un costo mas optimo al guardad, lo reemplazamos\n",
            "Ahora el costo optimo para arbol 0...1 datos sera 0.11219523405798364\n",
            "----------\n",
            "------------------------------------------\n",
            "Probemos con 1 de raíz\n",
            "´´´´´´´´´´´´´´´´´´´´´´´´´´´´´´´´´´´´´´´´´´´´´´´´´´´´´´´´´´´´´´´´´´´´´´´´´´´´´´´´´´´´´´´´´´´´´´´´´´´´´´´´´´\n",
            "Llamada recursiva número 26\n",
            "**************************************************************************************************************\n",
            "El largo es de 1 datos\n",
            "´´´´´´´´´´´´´´´´´´´´´´´´´´´´´´´´´´´´´´´´´´´´´´´´´´´´´´´´´´´´´´´´´´´´´´´´´´´´´´´´´´´´´´´´´´´´´´´´´´´´´´´´´´\n",
            "Llamada recursiva número 27\n",
            "**************************************************************************************************************\n",
            "El largo es de 0 datos\n",
            "Tenemos como costo optimo para el arbol de 0...1 datos\n",
            "0.15471145922221968 seria el costo con 1 de raíz\n",
            "El costo optimo para el arbol 0...1 hasta ahora es 0.11219523405798364\n",
            "Llamada recursiva número 27 FIN\n",
            "´´´´´´´´´´´´´´´´´´´´´´´´´´´´´´´´´´´´´´´´´´´´´´´´´´´´´´´´´´´´´´´´´´´´´´´´´´´´´´´´´´´´´´´´´´´´´´´´´´´´´´´´´´\n",
            "´´´´´´´´´´´´´´´´´´´´´´´´´´´´´´´´´´´´´´´´´´´´´´´´´´´´´´´´´´´´´´´´´´´´´´´´´´´´´´´´´´´´´´´´´´´´´´´´´´´´´´´´´´\n",
            "Llamada recursiva número 28\n",
            "**************************************************************************************************************\n",
            "El largo es de 1 datos\n",
            "Tenemos como costo optimo para el arbol de 0...3 datos\n",
            "0.39758709396059627 seria el costo con 2 de raíz\n",
            "El costo optimo para el arbol 0...3 hasta ahora es 0.3218682426776346\n",
            "------------------------------------------\n",
            "Probemos con 3 de raíz\n",
            "´´´´´´´´´´´´´´´´´´´´´´´´´´´´´´´´´´´´´´´´´´´´´´´´´´´´´´´´´´´´´´´´´´´´´´´´´´´´´´´´´´´´´´´´´´´´´´´´´´´´´´´´´´\n",
            "Llamada recursiva número 29\n",
            "**************************************************************************************************************\n",
            "El largo es de 3 datos\n",
            "-------------------------------------------------------------------------------------\n",
            "i = 0     and     j = 2\n",
            "La suma de frecuencias 0...2 es 0.3970931434907997\n",
            "------------------------------------------\n",
            "Probemos con 0 de raíz\n",
            "´´´´´´´´´´´´´´´´´´´´´´´´´´´´´´´´´´´´´´´´´´´´´´´´´´´´´´´´´´´´´´´´´´´´´´´´´´´´´´´´´´´´´´´´´´´´´´´´´´´´´´´´´´\n",
            "Llamada recursiva número 30\n",
            "**************************************************************************************************************\n",
            "El largo es de 0 datos\n",
            "´´´´´´´´´´´´´´´´´´´´´´´´´´´´´´´´´´´´´´´´´´´´´´´´´´´´´´´´´´´´´´´´´´´´´´´´´´´´´´´´´´´´´´´´´´´´´´´´´´´´´´´´´´\n",
            "Llamada recursiva número 31\n",
            "**************************************************************************************************************\n",
            "El largo es de 2 datos\n",
            "-------------------------------------------------------------------------------------\n",
            "i = 1     and     j = 2\n",
            "La suma de frecuencias 1...2 es 0.24238168426858003\n",
            "------------------------------------------\n",
            "Probemos con 1 de raíz\n",
            "´´´´´´´´´´´´´´´´´´´´´´´´´´´´´´´´´´´´´´´´´´´´´´´´´´´´´´´´´´´´´´´´´´´´´´´´´´´´´´´´´´´´´´´´´´´´´´´´´´´´´´´´´´\n",
            "Llamada recursiva número 32\n",
            "**************************************************************************************************************\n",
            "El largo es de 0 datos\n",
            "´´´´´´´´´´´´´´´´´´´´´´´´´´´´´´´´´´´´´´´´´´´´´´´´´´´´´´´´´´´´´´´´´´´´´´´´´´´´´´´´´´´´´´´´´´´´´´´´´´´´´´´´´´\n",
            "Llamada recursiva número 33\n",
            "**************************************************************************************************************\n",
            "El largo es de 1 datos\n",
            "Tenemos como costo optimo para el arbol de 1...2 datos\n",
            "0.13018645021059638 seria el costo con 1 de raíz\n",
            "El costo optimo para el arbol 1...2 hasta ahora es 999999999999\n",
            "----------\n",
            "Como conseguimos un costo mas optimo al guardad, lo reemplazamos\n",
            "Ahora el costo optimo para arbol 1...2 datos sera 0.13018645021059638\n",
            "----------\n",
            "------------------------------------------\n",
            "Probemos con 2 de raíz\n",
            "´´´´´´´´´´´´´´´´´´´´´´´´´´´´´´´´´´´´´´´´´´´´´´´´´´´´´´´´´´´´´´´´´´´´´´´´´´´´´´´´´´´´´´´´´´´´´´´´´´´´´´´´´´\n",
            "Llamada recursiva número 34\n",
            "**************************************************************************************************************\n",
            "El largo es de 1 datos\n",
            "´´´´´´´´´´´´´´´´´´´´´´´´´´´´´´´´´´´´´´´´´´´´´´´´´´´´´´´´´´´´´´´´´´´´´´´´´´´´´´´´´´´´´´´´´´´´´´´´´´´´´´´´´´\n",
            "Llamada recursiva número 35\n",
            "**************************************************************************************************************\n",
            "El largo es de 0 datos\n",
            "Tenemos como costo optimo para el arbol de 1...2 datos\n",
            "0.11219523405798364 seria el costo con 2 de raíz\n",
            "El costo optimo para el arbol 1...2 hasta ahora es 0.13018645021059638\n",
            "----------\n",
            "Como conseguimos un costo mas optimo al guardad, lo reemplazamos\n",
            "Ahora el costo optimo para arbol 1...2 datos sera 0.11219523405798364\n",
            "----------\n",
            "Llamada recursiva número 35 FIN\n",
            "´´´´´´´´´´´´´´´´´´´´´´´´´´´´´´´´´´´´´´´´´´´´´´´´´´´´´´´´´´´´´´´´´´´´´´´´´´´´´´´´´´´´´´´´´´´´´´´´´´´´´´´´´´\n",
            "Tenemos como costo optimo para el arbol de 0...2 datos\n",
            "0.3545769183265637 seria el costo con 0 de raíz\n",
            "El costo optimo para el arbol 0...2 hasta ahora es 999999999999\n",
            "----------\n",
            "Como conseguimos un costo mas optimo al guardad, lo reemplazamos\n",
            "Ahora el costo optimo para arbol 0...2 datos sera 0.3545769183265637\n",
            "----------\n",
            "------------------------------------------\n",
            "Probemos con 1 de raíz\n",
            "´´´´´´´´´´´´´´´´´´´´´´´´´´´´´´´´´´´´´´´´´´´´´´´´´´´´´´´´´´´´´´´´´´´´´´´´´´´´´´´´´´´´´´´´´´´´´´´´´´´´´´´´´´\n",
            "Llamada recursiva número 36\n",
            "**************************************************************************************************************\n",
            "El largo es de 1 datos\n",
            "´´´´´´´´´´´´´´´´´´´´´´´´´´´´´´´´´´´´´´´´´´´´´´´´´´´´´´´´´´´´´´´´´´´´´´´´´´´´´´´´´´´´´´´´´´´´´´´´´´´´´´´´´´\n",
            "Llamada recursiva número 37\n",
            "**************************************************************************************************************\n",
            "El largo es de 1 datos\n",
            "Tenemos como costo optimo para el arbol de 0...2 datos\n",
            "0.28489790943281607 seria el costo con 1 de raíz\n",
            "El costo optimo para el arbol 0...2 hasta ahora es 0.3545769183265637\n",
            "----------\n",
            "Como conseguimos un costo mas optimo al guardad, lo reemplazamos\n",
            "Ahora el costo optimo para arbol 0...2 datos sera 0.28489790943281607\n",
            "----------\n",
            "------------------------------------------\n",
            "Probemos con 2 de raíz\n",
            "´´´´´´´´´´´´´´´´´´´´´´´´´´´´´´´´´´´´´´´´´´´´´´´´´´´´´´´´´´´´´´´´´´´´´´´´´´´´´´´´´´´´´´´´´´´´´´´´´´´´´´´´´´\n",
            "Llamada recursiva número 38\n",
            "**************************************************************************************************************\n",
            "El largo es de 2 datos\n",
            "-------------------------------------------------------------------------------------\n",
            "i = 0     and     j = 1\n",
            "La suma de frecuencias 0...1 es 0.26690669328020333\n",
            "------------------------------------------\n",
            "Probemos con 0 de raíz\n",
            "´´´´´´´´´´´´´´´´´´´´´´´´´´´´´´´´´´´´´´´´´´´´´´´´´´´´´´´´´´´´´´´´´´´´´´´´´´´´´´´´´´´´´´´´´´´´´´´´´´´´´´´´´´\n",
            "Llamada recursiva número 39\n",
            "**************************************************************************************************************\n",
            "El largo es de 0 datos\n",
            "´´´´´´´´´´´´´´´´´´´´´´´´´´´´´´´´´´´´´´´´´´´´´´´´´´´´´´´´´´´´´´´´´´´´´´´´´´´´´´´´´´´´´´´´´´´´´´´´´´´´´´´´´´\n",
            "Llamada recursiva número 40\n",
            "**************************************************************************************************************\n",
            "El largo es de 1 datos\n",
            "Tenemos como costo optimo para el arbol de 0...1 datos\n",
            "0.11219523405798364 seria el costo con 0 de raíz\n",
            "El costo optimo para el arbol 0...1 hasta ahora es 999999999999\n",
            "----------\n",
            "Como conseguimos un costo mas optimo al guardad, lo reemplazamos\n",
            "Ahora el costo optimo para arbol 0...1 datos sera 0.11219523405798364\n",
            "----------\n",
            "------------------------------------------\n",
            "Probemos con 1 de raíz\n",
            "´´´´´´´´´´´´´´´´´´´´´´´´´´´´´´´´´´´´´´´´´´´´´´´´´´´´´´´´´´´´´´´´´´´´´´´´´´´´´´´´´´´´´´´´´´´´´´´´´´´´´´´´´´\n",
            "Llamada recursiva número 41\n",
            "**************************************************************************************************************\n",
            "El largo es de 1 datos\n",
            "´´´´´´´´´´´´´´´´´´´´´´´´´´´´´´´´´´´´´´´´´´´´´´´´´´´´´´´´´´´´´´´´´´´´´´´´´´´´´´´´´´´´´´´´´´´´´´´´´´´´´´´´´´\n",
            "Llamada recursiva número 42\n",
            "**************************************************************************************************************\n",
            "El largo es de 0 datos\n",
            "Tenemos como costo optimo para el arbol de 0...1 datos\n",
            "0.15471145922221968 seria el costo con 1 de raíz\n",
            "El costo optimo para el arbol 0...1 hasta ahora es 0.11219523405798364\n",
            "Llamada recursiva número 42 FIN\n",
            "´´´´´´´´´´´´´´´´´´´´´´´´´´´´´´´´´´´´´´´´´´´´´´´´´´´´´´´´´´´´´´´´´´´´´´´´´´´´´´´´´´´´´´´´´´´´´´´´´´´´´´´´´´\n",
            "´´´´´´´´´´´´´´´´´´´´´´´´´´´´´´´´´´´´´´´´´´´´´´´´´´´´´´´´´´´´´´´´´´´´´´´´´´´´´´´´´´´´´´´´´´´´´´´´´´´´´´´´´´\n",
            "Llamada recursiva número 43\n",
            "**************************************************************************************************************\n",
            "El largo es de 0 datos\n",
            "Tenemos como costo optimo para el arbol de 0...2 datos\n",
            "0.379101927338187 seria el costo con 2 de raíz\n",
            "El costo optimo para el arbol 0...2 hasta ahora es 0.28489790943281607\n",
            "Llamada recursiva número 43 FIN\n",
            "´´´´´´´´´´´´´´´´´´´´´´´´´´´´´´´´´´´´´´´´´´´´´´´´´´´´´´´´´´´´´´´´´´´´´´´´´´´´´´´´´´´´´´´´´´´´´´´´´´´´´´´´´´\n",
            "´´´´´´´´´´´´´´´´´´´´´´´´´´´´´´´´´´´´´´´´´´´´´´´´´´´´´´´´´´´´´´´´´´´´´´´´´´´´´´´´´´´´´´´´´´´´´´´´´´´´´´´´´´\n",
            "Llamada recursiva número 44\n",
            "**************************************************************************************************************\n",
            "El largo es de 0 datos\n",
            "Tenemos como costo optimo para el arbol de 0...3 datos\n",
            "0.6819910529236157 seria el costo con 3 de raíz\n",
            "El costo optimo para el arbol 0...3 hasta ahora es 0.3218682426776346\n",
            "Llamada recursiva número 44 FIN\n",
            "´´´´´´´´´´´´´´´´´´´´´´´´´´´´´´´´´´´´´´´´´´´´´´´´´´´´´´´´´´´´´´´´´´´´´´´´´´´´´´´´´´´´´´´´´´´´´´´´´´´´´´´´´´\n",
            "\n",
            "El costo óptimo de realizar una búsqueda sería de 0.7374465527908436 nodos visitados.\n",
            "Se realizaron 44 llamadas recursivas\n",
            "El árbol tendra 4 nodos\n"
          ]
        }
      ]
    },
    {
      "cell_type": "markdown",
      "source": [
        "####Botton-up"
      ],
      "metadata": {
        "id": "-3Ee2mH97qmj"
      }
    },
    {
      "cell_type": "code",
      "source": [
        "cantSubProblem = 0\n",
        "\n",
        "opt = optimalSearchTreeBottomUp(k, pi, len(k), True)\n",
        "print(f\"\\nEl costo óptimo esperado de realizar una búsqueda sería de {opt} nodos visitados.\"+\n",
        "      f\"\\nSe resolveran {cantSubProblem} sub-problemas.\"+\n",
        "      f\"\\nEl árbol tendra {len(k)} nodos\")"
      ],
      "metadata": {
        "id": "Xf8SEASKYTTi",
        "colab": {
          "base_uri": "https://localhost:8080/"
        },
        "outputId": "aa968858-22a9-4474-cb6f-0c59858d80b5"
      },
      "execution_count": 184,
      "outputs": [
        {
          "output_type": "stream",
          "name": "stdout",
          "text": [
            "**************************************************************************************************************\n",
            "El largo es de 1 datos\n",
            "-------------------------------------------------------------------------------------\n",
            "i = 0     and     j = 0\n",
            "La suma de frecuencias 0...0 es 0.15471145922221968\n",
            "------------------------------------------\n",
            "Probemos con 0 de raíz\n",
            "Tenemos como costo optimo para el arbol de 0...0 datos\n",
            "0.15471145922221968 seria el costo con 0 de raíz\n",
            "El costo optimo para el arbol 0...0 hasta ahora es 9999999999\n",
            "----------\n",
            "Como conseguimos un costo mas optimo al guardad, lo reemplazamos\n",
            "Ahora el costo optimo para arbol 0...0 datos sera 0.15471145922221968\n",
            "----------\n",
            "-------------------------------------------------------------------------------------\n",
            "i = 1     and     j = 1\n",
            "La suma de frecuencias 1...1 es 0.11219523405798364\n",
            "------------------------------------------\n",
            "Probemos con 1 de raíz\n",
            "Tenemos como costo optimo para el arbol de 1...1 datos\n",
            "0.11219523405798364 seria el costo con 1 de raíz\n",
            "El costo optimo para el arbol 1...1 hasta ahora es 9999999999\n",
            "----------\n",
            "Como conseguimos un costo mas optimo al guardad, lo reemplazamos\n",
            "Ahora el costo optimo para arbol 1...1 datos sera 0.11219523405798364\n",
            "----------\n",
            "-------------------------------------------------------------------------------------\n",
            "i = 2     and     j = 2\n",
            "La suma de frecuencias 2...2 es 0.13018645021059638\n",
            "------------------------------------------\n",
            "Probemos con 2 de raíz\n",
            "Tenemos como costo optimo para el arbol de 2...2 datos\n",
            "0.13018645021059638 seria el costo con 2 de raíz\n",
            "El costo optimo para el arbol 2...2 hasta ahora es 9999999999\n",
            "----------\n",
            "Como conseguimos un costo mas optimo al guardad, lo reemplazamos\n",
            "Ahora el costo optimo para arbol 2...2 datos sera 0.13018645021059638\n",
            "----------\n",
            "-------------------------------------------------------------------------------------\n",
            "i = 3     and     j = 3\n",
            "La suma de frecuencias 3...3 es 0.01848516662240927\n",
            "------------------------------------------\n",
            "Probemos con 3 de raíz\n",
            "Tenemos como costo optimo para el arbol de 3...3 datos\n",
            "0.01848516662240927 seria el costo con 3 de raíz\n",
            "El costo optimo para el arbol 3...3 hasta ahora es 9999999999\n",
            "----------\n",
            "Como conseguimos un costo mas optimo al guardad, lo reemplazamos\n",
            "Ahora el costo optimo para arbol 3...3 datos sera 0.01848516662240927\n",
            "----------\n",
            "**************************************************************************************************************\n",
            "El largo es de 2 datos\n",
            "-------------------------------------------------------------------------------------\n",
            "i = 0     and     j = 1\n",
            "La suma de frecuencias 0...1 es 0.26690669328020333\n",
            "------------------------------------------\n",
            "Probemos con 0 de raíz\n",
            "Tenemos como costo optimo para el arbol de 0...1 datos\n",
            "0.379101927338187 seria el costo con 0 de raíz\n",
            "El costo optimo para el arbol 0...1 hasta ahora es 9999999999\n",
            "----------\n",
            "Como conseguimos un costo mas optimo al guardad, lo reemplazamos\n",
            "Ahora el costo optimo para arbol 0...1 datos sera 0.379101927338187\n",
            "----------\n",
            "------------------------------------------\n",
            "Probemos con 1 de raíz\n",
            "Tenemos como costo optimo para el arbol de 0...1 datos\n",
            "0.421618152502423 seria el costo con 1 de raíz\n",
            "El costo optimo para el arbol 0...1 hasta ahora es 0.379101927338187\n",
            "-------------------------------------------------------------------------------------\n",
            "i = 1     and     j = 2\n",
            "La suma de frecuencias 1...2 es 0.24238168426858003\n",
            "------------------------------------------\n",
            "Probemos con 1 de raíz\n",
            "Tenemos como costo optimo para el arbol de 1...2 datos\n",
            "0.3725681344791764 seria el costo con 1 de raíz\n",
            "El costo optimo para el arbol 1...2 hasta ahora es 9999999999\n",
            "----------\n",
            "Como conseguimos un costo mas optimo al guardad, lo reemplazamos\n",
            "Ahora el costo optimo para arbol 1...2 datos sera 0.3725681344791764\n",
            "----------\n",
            "------------------------------------------\n",
            "Probemos con 2 de raíz\n",
            "Tenemos como costo optimo para el arbol de 1...2 datos\n",
            "0.3545769183265637 seria el costo con 2 de raíz\n",
            "El costo optimo para el arbol 1...2 hasta ahora es 0.3725681344791764\n",
            "----------\n",
            "Como conseguimos un costo mas optimo al guardad, lo reemplazamos\n",
            "Ahora el costo optimo para arbol 1...2 datos sera 0.3545769183265637\n",
            "----------\n",
            "-------------------------------------------------------------------------------------\n",
            "i = 2     and     j = 3\n",
            "La suma de frecuencias 2...3 es 0.14867161683300564\n",
            "------------------------------------------\n",
            "Probemos con 2 de raíz\n",
            "Tenemos como costo optimo para el arbol de 2...3 datos\n",
            "0.1671567834554149 seria el costo con 2 de raíz\n",
            "El costo optimo para el arbol 2...3 hasta ahora es 9999999999\n",
            "----------\n",
            "Como conseguimos un costo mas optimo al guardad, lo reemplazamos\n",
            "Ahora el costo optimo para arbol 2...3 datos sera 0.1671567834554149\n",
            "----------\n",
            "------------------------------------------\n",
            "Probemos con 3 de raíz\n",
            "Tenemos como costo optimo para el arbol de 2...3 datos\n",
            "0.27885806704360205 seria el costo con 3 de raíz\n",
            "El costo optimo para el arbol 2...3 hasta ahora es 0.1671567834554149\n",
            "**************************************************************************************************************\n",
            "El largo es de 3 datos\n",
            "-------------------------------------------------------------------------------------\n",
            "i = 0     and     j = 2\n",
            "La suma de frecuencias 0...2 es 0.3970931434907997\n",
            "------------------------------------------\n",
            "Probemos con 0 de raíz\n",
            "Tenemos como costo optimo para el arbol de 0...2 datos\n",
            "0.7516700618173634 seria el costo con 0 de raíz\n",
            "El costo optimo para el arbol 0...2 hasta ahora es 9999999999\n",
            "----------\n",
            "Como conseguimos un costo mas optimo al guardad, lo reemplazamos\n",
            "Ahora el costo optimo para arbol 0...2 datos sera 0.7516700618173634\n",
            "----------\n",
            "------------------------------------------\n",
            "Probemos con 1 de raíz\n",
            "Tenemos como costo optimo para el arbol de 0...2 datos\n",
            "0.6819910529236157 seria el costo con 1 de raíz\n",
            "El costo optimo para el arbol 0...2 hasta ahora es 0.7516700618173634\n",
            "----------\n",
            "Como conseguimos un costo mas optimo al guardad, lo reemplazamos\n",
            "Ahora el costo optimo para arbol 0...2 datos sera 0.6819910529236157\n",
            "----------\n",
            "------------------------------------------\n",
            "Probemos con 2 de raíz\n",
            "Tenemos como costo optimo para el arbol de 0...2 datos\n",
            "0.7761950708289866 seria el costo con 2 de raíz\n",
            "El costo optimo para el arbol 0...2 hasta ahora es 0.6819910529236157\n",
            "-------------------------------------------------------------------------------------\n",
            "i = 1     and     j = 3\n",
            "La suma de frecuencias 1...3 es 0.2608668508909893\n",
            "------------------------------------------\n",
            "Probemos con 1 de raíz\n",
            "Tenemos como costo optimo para el arbol de 1...3 datos\n",
            "0.4280236343464042 seria el costo con 1 de raíz\n",
            "El costo optimo para el arbol 1...3 hasta ahora es 9999999999\n",
            "----------\n",
            "Como conseguimos un costo mas optimo al guardad, lo reemplazamos\n",
            "Ahora el costo optimo para arbol 1...3 datos sera 0.4280236343464042\n",
            "----------\n",
            "------------------------------------------\n",
            "Probemos con 2 de raíz\n",
            "Tenemos como costo optimo para el arbol de 1...3 datos\n",
            "0.39154725157138226 seria el costo con 2 de raíz\n",
            "El costo optimo para el arbol 1...3 hasta ahora es 0.4280236343464042\n",
            "----------\n",
            "Como conseguimos un costo mas optimo al guardad, lo reemplazamos\n",
            "Ahora el costo optimo para arbol 1...3 datos sera 0.39154725157138226\n",
            "----------\n",
            "------------------------------------------\n",
            "Probemos con 3 de raíz\n",
            "Tenemos como costo optimo para el arbol de 1...3 datos\n",
            "0.615443769217553 seria el costo con 3 de raíz\n",
            "El costo optimo para el arbol 1...3 hasta ahora es 0.39154725157138226\n",
            "**************************************************************************************************************\n",
            "El largo es de 4 datos\n",
            "-------------------------------------------------------------------------------------\n",
            "i = 0     and     j = 3\n",
            "La suma de frecuencias 0...3 es 0.415578310113209\n",
            "------------------------------------------\n",
            "Probemos con 0 de raíz\n",
            "Tenemos como costo optimo para el arbol de 0...3 datos\n",
            "0.8071255616845913 seria el costo con 0 de raíz\n",
            "El costo optimo para el arbol 0...3 hasta ahora es 9999999999\n",
            "----------\n",
            "Como conseguimos un costo mas optimo al guardad, lo reemplazamos\n",
            "Ahora el costo optimo para arbol 0...3 datos sera 0.8071255616845913\n",
            "----------\n",
            "------------------------------------------\n",
            "Probemos con 1 de raíz\n",
            "Tenemos como costo optimo para el arbol de 0...3 datos\n",
            "0.7374465527908436 seria el costo con 1 de raíz\n",
            "El costo optimo para el arbol 0...3 hasta ahora es 0.8071255616845913\n",
            "----------\n",
            "Como conseguimos un costo mas optimo al guardad, lo reemplazamos\n",
            "Ahora el costo optimo para arbol 0...3 datos sera 0.7374465527908436\n",
            "----------\n",
            "------------------------------------------\n",
            "Probemos con 2 de raíz\n",
            "Tenemos como costo optimo para el arbol de 0...3 datos\n",
            "0.8131654040738052 seria el costo con 2 de raíz\n",
            "El costo optimo para el arbol 0...3 hasta ahora es 0.7374465527908436\n",
            "------------------------------------------\n",
            "Probemos con 3 de raíz\n",
            "Tenemos como costo optimo para el arbol de 0...3 datos\n",
            "1.0975693630368246 seria el costo con 3 de raíz\n",
            "El costo optimo para el arbol 0...3 hasta ahora es 0.7374465527908436\n",
            "**************************************************************************************************************\n",
            "\n",
            "El costo óptimo esperado de realizar una búsqueda sería de 0.7374465527908436 nodos visitados.\n",
            "Se resolveran 15 sub-problemas.\n",
            "El árbol tendra 4 nodos\n"
          ]
        }
      ]
    },
    {
      "cell_type": "markdown",
      "source": [
        "###**`visualize=True`**"
      ],
      "metadata": {
        "id": "s6LUWjLAeVjS"
      }
    },
    {
      "cell_type": "markdown",
      "source": [
        "####Botton-up"
      ],
      "metadata": {
        "id": "Rfep9n2deaGl"
      }
    },
    {
      "cell_type": "code",
      "source": [
        "cantSubProblem = 0\n",
        "opt = optimalSearchTreeBottomUp(k, pi, len(k), False, True)\n",
        "print(f\"\\nEl costo óptimo esperado de realizar una búsqueda sería de {opt} nodos visitados.\"+\n",
        "      f\"\\nSe resolveran {cantSubProblem} sub-problemas.\"+\n",
        "      f\"\\nEl árbol tendra {len(k)} nodos\")"
      ],
      "metadata": {
        "colab": {
          "base_uri": "https://localhost:8080/",
          "height": 493
        },
        "id": "X65BCmG5efLG",
        "outputId": "0c590627-798d-49ec-a373-65aaad6c3da3"
      },
      "execution_count": 202,
      "outputs": [
        {
          "output_type": "stream",
          "name": "stdout",
          "text": [
            "Raíz:\n",
            "1.0, 1.0, 2.0, 2.0 \n",
            "0.0, 2.0, 3.0, 3.0 \n",
            "0.0, 0.0, 3.0, 3.0 \n",
            "0.0, 0.0, 0.0, 4.0 \n",
            "El árbol es\n",
            "\n",
            "El costo óptimo esperado de realizar una búsqueda sería de 0.7374465527908436 nodos visitados.\n",
            "Se resolveran 15 sub-problemas.\n",
            "El árbol tendra 4 nodos\n"
          ]
        },
        {
          "output_type": "display_data",
          "data": {
            "text/plain": [
              "<Figure size 432x288 with 1 Axes>"
            ],
            "image/png": "[encoded data removed]"
          },
          "metadata": {}
        }
      ]
    },
    {
      "cell_type": "markdown",
      "metadata": {
        "id": "KKp56zrst8L2"
      },
      "source": [
        "# **3. Correctitud**"
      ]
    },
    {
      "cell_type": "markdown",
      "source": [
        "## **Bottom-up**"
      ],
      "metadata": {
        "id": "gvfliQVlHvXK"
      }
    },
    {
      "cell_type": "markdown",
      "source": [
        "### **Teorema (Correctitud).**"
      ],
      "metadata": {
        "id": "Dz_1sWcaoShu"
      }
    },
    {
      "cell_type": "markdown",
      "source": [
        "El algoritmo entrega el costo optimo, es decir, cantidad de nodos esperados a visitar al realizar una búsqueda en un árbol de búsqueda binario de $n$ nodos."
      ],
      "metadata": {
        "id": "2BObXTVYAKLX"
      }
    },
    {
      "cell_type": "markdown",
      "source": [
        "#### **Prueba del Teorema**"
      ],
      "metadata": {
        "id": "YK7XcUU_paKV"
      }
    },
    {
      "cell_type": "markdown",
      "source": [
        "Probaremos la siguiente **propiedad invariante de bucle** para el algoritmo `Optimal Binary Search Tree`:\n",
        "\n",
        "> Al comienzo de cada iteración $i$ del bucle más grande, tendremos el costo óptimo de nodos a visitar del *árbol* con $i=i-1...0$ *nodos* calculado y guardado.\n",
        "\n",
        "Esto es debido a que para obtener el costo optimo del *árbol de busqueda binara* prueba cada dato como nodo raiz evaluando el costo de dicho nodo como raiz mas el costo de cada posible sub-árbol que se puede formar. "
      ],
      "metadata": {
        "id": "mKgVCbB5pgGN"
      }
    },
    {
      "cell_type": "markdown",
      "source": [
        "##### **Inicialización**"
      ],
      "metadata": {
        "id": "WAI-c0NhrxMl"
      }
    },
    {
      "cell_type": "markdown",
      "source": [
        "Al comienzo de la primera iteración $i=1$, tendremos el costo óptimo del *árbol* con $i-1=0$ *nodos* lo cual es cierto, pues independientemente del término buscado, si el *árbol* tiene $0$ *nodos*. Entonces el costo optimo del *árbol* con $1$ *nodo* será el nodo que tenga menor frecuencia actuando como raíz en un *árbol* de $1$ *nodo*. Y se usara para $i>1$."
      ],
      "metadata": {
        "id": "OmwKWQvtYL-h"
      }
    },
    {
      "cell_type": "markdown",
      "source": [
        "##### **Mantención**"
      ],
      "metadata": {
        "id": "l73Y2ayAtBRK"
      }
    },
    {
      "cell_type": "markdown",
      "source": [
        "Aplicando inducción, asumimos que al comienzo de cada iteración  se cumple la propiedad. Es decir, en la iteración $i$ tenemos el *costo óptimo* para los problemas $i=i-1...0$ calculado.\n",
        "\n",
        "Consideremos que $i=x$ como el tamaño del problema con $x < n$.\n",
        "\n",
        "En el bucle de en medio se obtiene el costo del dato $x$ y todos los datos que son menores llamándolo *sumaDeFreq* y el valor de $j$-\n",
        "\n",
        "Dentro del bucle más pequeño, se calcula *costo óptimo* al usar de *raíz* $b$ de tal manera que $b=x...j$ usando los *costos óptimos* de datos previos a $x$ + la *sumaDeFreq*. Luego se comprueba si este resultado es un *costo óptimo* mayor al *costo optimo* más pequeño encontrado. Esto ocurre para cada valor de *raíz* posible de tomar.\n",
        "\n",
        "A medida que la cantidad de datos que tendrá el *árbol* aumenta, el *costo óptimo* cambia.\n",
        "\n",
        "Al finalizar la iteración $i=x$ (y al comienzo de la siguiente $i=x+1$), se seguirá cumpliendo la **propiedad invariante**.\n"
      ],
      "metadata": {
        "id": "SMHjeEuVYLBS"
      }
    },
    {
      "cell_type": "markdown",
      "source": [
        "#####**Correctitud**"
      ],
      "metadata": {
        "id": "ONoW9W07hpU_"
      }
    },
    {
      "cell_type": "markdown",
      "source": [
        "Finalmente, como la **propiedad de bucle invariante** es verdadera al inicio del bucle y se mantiene en cada iteración, podemos decir que al finalizar la $n$-ésima iteración del algoritmo, se obtendrá el costo óptimo de una búsqueda en un *árbol binario* con $n$ *nodos*."
      ],
      "metadata": {
        "id": "afpQ1O2cYK3K"
      }
    },
    {
      "cell_type": "markdown",
      "metadata": {
        "id": "uH_PKp0bf6pl"
      },
      "source": [
        "# **4. Tiempo de ejecución**"
      ]
    },
    {
      "cell_type": "markdown",
      "source": [
        "##**Bottom-up**"
      ],
      "metadata": {
        "id": "eha_1zF_wBcR"
      }
    },
    {
      "cell_type": "markdown",
      "source": [
        "###*Teorema (Complejidad Temporal).*"
      ],
      "metadata": {
        "id": "Vq2t1R_Kv3uD"
      }
    },
    {
      "cell_type": "markdown",
      "source": [
        "*El algoritmo `Optimal Binary Search Tree` implementado a traves de **Bottom-up** tiene un **tiempo de ejecución** de $O(n^3)$.*"
      ],
      "metadata": {
        "id": "Tq6k6bODv03E"
      }
    },
    {
      "cell_type": "markdown",
      "source": [
        "####*Prueba del teorema.*"
      ],
      "metadata": {
        "id": "VDBPd9MSdwf-"
      }
    },
    {
      "cell_type": "markdown",
      "source": [
        "#####Lógica"
      ],
      "metadata": {
        "id": "WoZ2t5rOD6vs"
      }
    },
    {
      "cell_type": "markdown",
      "source": [
        "Para la resolución de este problema tenemos 3 bucles, el bucle grande es para recorrer el tamaño de la cadena que conformara los nodos del *árbol*. El bucle mediano maneja la obtención de algunos datos, además de comprobar que se puede seguir. Y finalmente el bucle más interno, se encarga de todos los sub-problemas a resolver antes de ser capaz de resolver el problema real (refiriéndose a probar combinaciones usando cada dato como *raíz* y evaluando el costo de las operaciones para los árboles de menor tamaño).\n",
        "\n",
        "Cada problema tiene en cuenta que tenemos el *costo óptimo* de sus sub-problemas (el problema para árboles más pequeños y del mismo tamaño con *raíz* distinta). Y con ese dato, dentro del bucle chico se resuelve el problema en un tiempo de ejecución $n-1 \\rightarrow O(n)$. \n",
        "\n",
        "Para el *costo óptimo* del *árbol* con $n$ *nodos* se deben resolver $\\frac{n^2}{2} -1$ subproblemas antes de resolver el problema real.\n",
        "\n",
        "El problema real también tiene un tiempo de ejecución $n-1 \\rightarrow O(n)$.\n",
        "\n",
        "Entonces se trata de resolver $n^2$ veces un problema con tiempo de ejecución $O(n)$. Por eso el algoritmo **bottom-up** para resolver `Optimal Binary Search Tree` es de $n * (\\frac{n^2}{2}-1) → O(n^3)$."
      ],
      "metadata": {
        "id": "qzO9g29P9p_f"
      }
    },
    {
      "cell_type": "markdown",
      "source": [
        "#####Problema matemático"
      ],
      "metadata": {
        "id": "sWa0UAsHECRq"
      }
    },
    {
      "cell_type": "markdown",
      "source": [
        "Podemos ver el tiempo de ejecución de todos los subproblemas como sumatoria, debemos resolver todos los subproblemas de tamaño $j=1...n$ por cada valor tomado de raíz siendo $n$ raíces posibles, el total de tiempo de ejecución de los subproblemas seria la suma de todos los subproblemas.\n",
        "\n",
        "Cada subproblema tiene tiempo de ejecución $T_{sub}(n) = n$."
      ],
      "metadata": {
        "id": "8uIChTzl_aac"
      }
    },
    {
      "cell_type": "markdown",
      "source": [
        "$\\frac{1}{2} * \\displaystyle \\sum_{j=0}^{n-1}T_{sub}(j)^2 = \\frac{(n-1)(n-2)(2(n-1)+1)}{12} = = \\frac{(n^2 - 3n + 2)(2n-1)}{12} = \\frac{2n^3 - 6n^2 + 4n - n^2 + 3n -2}{12} = \\frac{2n^3 - 7n^2 + 7n -2}{12} → O(n^3)$."
      ],
      "metadata": {
        "id": "SlFdH-jLdqmo"
      }
    },
    {
      "cell_type": "markdown",
      "source": [
        "Y el tiempo de ejecución del problema sería el de los subproblemas más $n$ (siendo $n$ el tiempo del problema con los subproblemas resueltos).\n",
        "\n",
        "Quedando lo siguiente como complejidad del algoritmo:\n",
        "\n",
        "$\\frac{2n^3 - 7n^2 + 7n -2}{12} + n = \\frac{2n^3 - 7n^2 + 7n + 12n -2}{12} = \\frac{2n^3 - 7n^2 + 19n -2}{12} → O(n^3)$"
      ],
      "metadata": {
        "id": "D4_YV56YBFDl"
      }
    },
    {
      "cell_type": "markdown",
      "source": [
        "###*Teorema (Complejidad Espacial)*."
      ],
      "metadata": {
        "id": "wRaKcdh1wCPU"
      }
    },
    {
      "cell_type": "markdown",
      "source": [
        "*El algoritmo `Optimal Binary Search Tree` implementado a través de **Bottom-up** tiene una complejidad espacial de $O(n^2)$.*"
      ],
      "metadata": {
        "id": "x8ggeuOwwHsI"
      }
    },
    {
      "cell_type": "markdown",
      "source": [
        "####*Prueba del teorema.*"
      ],
      "metadata": {
        "id": "N9RtBxTWGF2_"
      }
    },
    {
      "cell_type": "markdown",
      "source": [
        "Para la resolución de este problema, además de los datos necesario que deben ser proporcionados, se debe crear una matriz de *costos* $cost$ de $n$ x $n$ dimensiones, donde se irán guardando los *costos óptimos* de cada subproblema}.\n",
        "\n",
        "Por ejemplo, en el cuando tengamos el tamaño $x=4$, guardaremos su *costo óptimo* en $cost_4$ para su posterior uso cuando tengamos $x=x+1$.\n",
        "\n",
        "Por eso la memoria extra que requiere el problema es de $n^2 \\rightarrow O(n^2)$.\n",
        "\n",
        "Ahora si queremos crear el *árbol* que tiene *costo óptimo* necesitaremos además una matriz de *raíz* $root$ de $n$ x $n$ dimensiones.\n",
        "\n",
        "\n",
        "Por eso, para poder crear el *árbol* de *costo óptimo* la memoria extra que requiere el problema es de $n^2 + n^2 = 2n^2 \\rightarrow O(n^2)$.\n"
      ],
      "metadata": {
        "id": "ney0n5bYGLVI"
      }
    },
    {
      "cell_type": "markdown",
      "metadata": {
        "id": "UZE4jGMinXns"
      },
      "source": [
        "# **5. Experimentos**"
      ]
    },
    {
      "cell_type": "markdown",
      "source": [
        "## **5.1. Árbol binario de búsqueda óptimo: Recursivo vs Bottom-up** (Tiempo de ejecución)"
      ],
      "metadata": {
        "id": "lmfpJMNiL9df"
      }
    },
    {
      "cell_type": "markdown",
      "source": [
        "### **Comparación de Gráficas** (Tiempo de ejecución)"
      ],
      "metadata": {
        "id": "gaeOZWKQqYk6"
      }
    },
    {
      "cell_type": "code",
      "source": [
        "import matplotlib.pyplot as plt\n",
        "import datetime\n",
        "from timeit import repeat\n",
        "\n",
        "x=[]; y=[]; y1=[]\n",
        "\n",
        "for n in range(1,8):\n",
        "    keys, p, q = OBIG(n)\n",
        "    cantSubProblem = 0\n",
        "    llamadasRecursivas = 0\n",
        "\n",
        "    #la función repeat está ejecutando 5 veces optimalSearchTreeBottomUp y optimalSearchTreeRecursivo con el arreglo a y retorna el mejor tiepo obtenido.\n",
        "    t1 = repeat(setup=\"from __main__ import optimalSearchTreeBottomUp\", stmt=f\"optimalSearchTreeBottomUp({keys}, {p}, {len(keys)})\", repeat=1, number=10)\n",
        "    t = repeat(setup=\"from __main__ import optimalSearchTreeRecursivo\", stmt=f\"optimalSearchTreeRecursivo({keys}, {p}, {len(keys)})\", repeat=1, number=10)\n",
        "\n",
        "    x.append(n)\n",
        "    y.append(t)\n",
        "    y1.append(t1)\n",
        "\n",
        "\n",
        "plt.plot(x,y)\n",
        "plt.plot(x,y1)\n",
        "plt.legend([\"Recursivo\", \"Bottom Up\"])\n",
        "\n",
        "plt.xlabel('n')\n",
        "plt.ylabel('Tiempo en ms')\n",
        "plt.show()"
      ],
      "metadata": {
        "colab": {
          "base_uri": "https://localhost:8080/",
          "height": 279
        },
        "id": "hTqgMD_ySiOx",
        "outputId": "70607461-cd0f-4698-a306-bca0f22ec90a"
      },
      "execution_count": 120,
      "outputs": [
        {
          "output_type": "display_data",
          "data": {
            "text/plain": [
              "<Figure size 432x288 with 1 Axes>"
            ],
            "image/png": "[encoded data removed]"
          },
          "metadata": {
            "needs_background": "light"
          }
        }
      ]
    },
    {
      "cell_type": "code",
      "source": [
        "import matplotlib.pyplot as plt\n",
        "import datetime\n",
        "from timeit import repeat\n",
        "\n",
        "x=[]; y=[]; y1=[]\n",
        "\n",
        "for n in range(1,15):\n",
        "    keys, p, q = OBIG(n)\n",
        "    cantSubProblem = 0\n",
        "    llamadasRecursivas = 0\n",
        "\n",
        "    #la función repeat está ejecutando 5 veces optimalSearchTreeBottomUp y optimalSearchTreeRecursivo con el arreglo a y retorna el mejor tiepo obtenido.\n",
        "    t1 = repeat(setup=\"from __main__ import optimalSearchTreeBottomUp\", stmt=f\"optimalSearchTreeBottomUp({keys}, {p}, {len(keys)})\", repeat=1, number=10)\n",
        "    t = repeat(setup=\"from __main__ import optimalSearchTreeRecursivo\", stmt=f\"optimalSearchTreeRecursivo({keys}, {p}, {len(keys)})\", repeat=1, number=10)\n",
        "\n",
        "    x.append(n)\n",
        "    y.append(t)\n",
        "    y1.append(t1)\n",
        "\n",
        "\n",
        "plt.plot(x,y)\n",
        "plt.plot(x,y1)\n",
        "plt.legend([\"Recursivo\", \"Bottom Up\"])\n",
        "\n",
        "plt.xlabel('n')\n",
        "plt.ylabel('Tiempo en ms')\n",
        "plt.show()"
      ],
      "metadata": {
        "colab": {
          "base_uri": "https://localhost:8080/",
          "height": 279
        },
        "id": "77obrWwjPhRA",
        "outputId": "47581a83-cffb-427c-af21-997de63180e9"
      },
      "execution_count": 121,
      "outputs": [
        {
          "output_type": "display_data",
          "data": {
            "text/plain": [
              "<Figure size 432x288 with 1 Axes>"
            ],
            "image/png": "[encoded data removed]"
          },
          "metadata": {
            "needs_background": "light"
          }
        }
      ]
    },
    {
      "cell_type": "markdown",
      "metadata": {
        "id": "c-grJLd2uWeY"
      },
      "source": [
        "### **Análisis de resultados**"
      ]
    },
    {
      "cell_type": "markdown",
      "source": [
        "Previamente vimos que **bottom-up** es una solución óptima para este algoritmo, mientras que solucionarlo **recursivamente** no es una estrategia óptima ni eficiente.\n",
        "\n",
        "Como cabria de esperar, resolver el problema con **bottom-up** es más rápido que usando **recursividad**, y esta diferencia de velocidad se hace mucho mayor a medida que aumenta el tamaño del *árbol* cuyo costo optimo buscamos obtener teniendo la probabilidad de visitar cada *nodo del árbol*. Tanto es asi que basta con ver el tiempo de conseguir el costo óptimo para *árboles* con menos de $100$ de *nodos*, con ver el tiempo de conseguir el costo óptimo para *árboles* con menos de $20$ *nodos*.\n",
        "\n",
        "Esto puede deberse a la poca eficiencia que presenta la **recursividad** en este problema, pues para la solución de calcular el costo optimo que se puede obtener al usar un *árbol de búsqueda* con $n$ *nodos*, necesitamos el costo optimo que se puede obtener de todos los *árboles de búsqueda* cuya cantidad de nodos sea menor a $n$ y esa información la requerimos varias veces en diferentes tiempos.\n",
        "\n",
        "La **forma recursiva** de este algoritmo, realiza un mismo subproblema (calcular el costo óptimo de un *árbol de búsqueda* con menos *nodos* a los pedidos) repetidas veces, mientras que el **bottom-up** realiza cada subproblema una vez, partiendo desde el menor, y los guarda para usarlo en las *árboles* de mayor cantidad de *nodos*.\n"
      ],
      "metadata": {
        "id": "xGyxUOBUgwIS"
      }
    }
  ],
  "metadata": {
    "colab": {
      "collapsed_sections": [
        "ZC6tMltT1L0x",
        "XY07Fs2HSgTT",
        "OFtxHy6oCCVm",
        "cDvniNCLVbiw",
        "4Maet4mAvZ54",
        "LHI4ndHh7pm7",
        "-3Ee2mH97qmj",
        "KKp56zrst8L2",
        "gvfliQVlHvXK",
        "Dz_1sWcaoShu",
        "YK7XcUU_paKV",
        "WAI-c0NhrxMl",
        "l73Y2ayAtBRK",
        "ONoW9W07hpU_",
        "uH_PKp0bf6pl",
        "eha_1zF_wBcR",
        "Vq2t1R_Kv3uD",
        "VDBPd9MSdwf-",
        "WoZ2t5rOD6vs",
        "sWa0UAsHECRq",
        "wRaKcdh1wCPU",
        "N9RtBxTWGF2_",
        "UZE4jGMinXns",
        "lmfpJMNiL9df",
        "gaeOZWKQqYk6",
        "c-grJLd2uWeY"
      ],
      "provenance": [],
      "include_colab_link": true
    },
    "kernelspec": {
      "display_name": "Python 3",
      "name": "python3"
    },
    "language_info": {
      "name": "python"
    }
  },
  "nbformat": 4,
  "nbformat_minor": 0
}