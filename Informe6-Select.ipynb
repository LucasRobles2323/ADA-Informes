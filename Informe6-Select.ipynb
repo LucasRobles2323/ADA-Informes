{
  "cells": [
    {
      "cell_type": "markdown",
      "metadata": {
        "id": "view-in-github",
        "colab_type": "text"
      },
      "source": [
        "<a href=\"https://colab.research.google.com/github/LucasRobles2323/ADA-Informes/blob/main/Informe6-Select.ipynb\" target=\"_parent\"><img src=\"https://colab.research.google.com/assets/colab-badge.svg\" alt=\"Open In Colab\"/></a>"
      ]
    },
    {
      "cell_type": "markdown",
      "metadata": {
        "id": "ZC6tMltT1L0x"
      },
      "source": [
        "# **1. Problema de Estadísticos de orden: Select**"
      ]
    },
    {
      "cell_type": "markdown",
      "metadata": {
        "id": "i0L0XXIP7-cU"
      },
      "source": [
        "**Entrada:** El programa recibe una secuencia de $n$ números arreglo en un orden aleatoria de la manera $A=[a_1, a_2, ..., a_n,]$ y un $k$ para indicar que busquemos el k-ésimo elemento menor del arreglo.\n",
        "\n",
        "**Salida:** El programa retorna la secuencia de $n$ números en un orden diferente(pero no totalmente ordenado) con el elemento k-ésimo buscado en la posición con el índice $k-1$, es decir, $a[k-1]$ que sería $a_k$, donde le correspondería estar si $A$ se encontrara ordenado.\n",
        "\n"
      ]
    },
    {
      "cell_type": "markdown",
      "metadata": {
        "id": "J6F2Yp_IA6UB"
      },
      "source": [
        "# **2. Select**"
      ]
    },
    {
      "cell_type": "markdown",
      "metadata": {
        "id": "OFtxHy6oCCVm"
      },
      "source": [
        "## **2.1. Descripción del algoritmo**"
      ]
    },
    {
      "cell_type": "markdown",
      "metadata": {
        "id": "Xwimb_pZ-81a"
      },
      "source": [
        "**Select** es uno de los algoritmos que solucionan el problema de estadísticas de orden recursivamente.\n",
        "\n",
        "El algoritmo recibe de entrada una lista(o arreglo) $arr$ con una secuencia de $n$ números en cualquier orden. Luego buscara el k-ésimo elemento menor o mayor. \n",
        "\n",
        "Podemos encontrar fácilmente el k-ésimo elemento menor en un arreglo al ordenarlo, pero este algoritmo encuentra el elemento sin necesidad de ordenar el arreglo de forma eficiente.\n",
        "\n",
        "1.   En cada interacción i del **Select**, que busca encontrar el k-ésimo elemento mayor o menor del arreglo.\n",
        "\n",
        "2.   En **Select** se utilizará la función **PivoteSelect** para seleccionar un *pivote* la mayoría de las veces adecuado .\n",
        "\n",
        "3.   Después se utilizará la función **Partition** para separar en dos partes al arreglo utilizando el *pivote* obtenido con **PivoteSelect**, los elementos mayores a ese valor *pivote* se encuentran a su derecha y sus menores en su izquierda. **Partition** retorna la posición de ese *pivote* (ambas mitades no son iguales en tamaño).\n",
        "\n",
        "4.   Luego de que **Select** obtiene un una posición de *pivote*, comprueba si el elemento *pivote* es el k-ésimo elemento buscado, de ser asi, retorna, terminando su proceso. En caso contrario, guiándose por aquel *pivote* revisara si el k-ésimo elemento debería encontrarse en la mitad izquierda o derecha del arreglo.\n",
        "\n",
        "5.   Una vez identificada la mitad donde debe estar el k-ésimo elemento buscado, llama recursivamente a **Select** enviando el subarreglo identificad sin incluir el pivote buscar el k-ésimo elemento buscado.\n",
        "\n",
        "6.   Esto sucede en cada iteración del algoritmo, se puede evidenciar que es recursivo. El algoritmo **Select** encontrara el k-ésimo elemento buscado, la función **PivoteSelect** selecciona un pivote adecuado separar en dos el arreglo y la función **Partition** siempre separa en dos un arreglo por medio de un pivote que retornara."
      ]
    },
    {
      "cell_type": "markdown",
      "metadata": {
        "id": "iicgroujCNjI"
      },
      "source": [
        "## **2.2. Código**"
      ]
    },
    {
      "cell_type": "markdown",
      "source": [
        "####*InsertionSort*"
      ],
      "metadata": {
        "id": "alpHOArzMjxZ"
      }
    },
    {
      "cell_type": "code",
      "source": [
        "def InsertionSort(arr, verbose=False): \n",
        "    n = len(arr)\n",
        "    cont = 0 #contador de comparaciones\n",
        "\n",
        "    if verbose == True: print(f\"Arreglo Inicial = {arr}\\n\")\n",
        "\n",
        "    # Se recorre el arreglo\n",
        "    for i in range(1,n):\n",
        "        \n",
        "        if verbose == True: print(\"Pasada \",i)\n",
        "\n",
        "        aux = arr[i] # Se guarda el i-esimo elemento que podria cambiar de posicion\n",
        "        j = i - 1\n",
        "\n",
        "        cont += 1\n",
        "        \n",
        "        if verbose == True: \n",
        "          print(f\"{arr}\")\n",
        "          print(f\"Comparación: arr[{j+1}] < arr[{j}] ===> {aux} < {arr[j]}\")\n",
        "          if aux >= arr[j]: print(\"No hubo cambios\")\n",
        "          \n",
        "        # Se compara dentro del arreglo\n",
        "        while j > -1 and aux < arr[j] :# Si el elemento es menor al anterior elemento, se intercambian\n",
        "            arr[j+1] = arr[j]\n",
        "            j -= 1\n",
        "            if j==-1: cont -=1\n",
        "            if verbose == True: print(f\"Arreglo después del cambio {arr}\")\n",
        "            if verbose == True and j!=-1: print(f\"Comparación: aux < arr[{j}] ===> {aux} < {arr[j]}\")\n",
        "            cont+= 1\n",
        "        \n",
        "        arr[j+1] = aux\n",
        "        if verbose == True: print(f\"Al finalizar pasada: {arr}\\n\")\n",
        "    \n",
        "    if verbose == True:\n",
        "      for i in range(0,n-1):\n",
        "          if arr[i] > arr[i+1]: \n",
        "              print(\"\\nEl arreglo no se ordenó correctamente\")\n",
        "              break\n",
        "          if i == n-2: print(\"\\nEl arreglo se ordenó correctamente\")\n",
        "      print(f\"Arreglo Final = {arr}\")\n",
        "      \n",
        "\n",
        "    return cont"
      ],
      "metadata": {
        "id": "hOnXHGNDMohS"
      },
      "execution_count": 31,
      "outputs": []
    },
    {
      "cell_type": "markdown",
      "source": [
        "###*Partition*"
      ],
      "metadata": {
        "id": "HHalYKT_JCQr"
      }
    },
    {
      "cell_type": "code",
      "source": [
        "import random\n",
        "\n",
        "def Partition(arr, izq, der, pivote):\n",
        "    # Se localiza el indice del pivote\n",
        "    for k in range(izq,der+1):\n",
        "        if arr[k] == pivote:\n",
        "          indexPivote = k; \n",
        "          break \n",
        "    \n",
        "    # Se posiciona el pivote en la ultima posicion del subarreglo (para no tener que hacer comparaciones diferentes cada vez)\n",
        "    arr[indexPivote], arr[der] = arr[der], arr[indexPivote]\n",
        "    \n",
        "    # Se realiza el Partition con el pivote en la ultima posicion del subarreglo arr[izq:der+1]\n",
        "    i = izq\n",
        "    for j in range(izq,der):\n",
        "        if arr[j] <= arr[der]:\n",
        "            arr[j], arr[i] = arr[i], arr[j]\n",
        "            i+=1\n",
        "    arr[i], arr[der] = arr[der], arr[i]\n",
        "    return i"
      ],
      "metadata": {
        "id": "5o6LJa3tQiwv"
      },
      "execution_count": 32,
      "outputs": []
    },
    {
      "cell_type": "markdown",
      "source": [
        "###*PivoteSelect*"
      ],
      "metadata": {
        "id": "8zcrxfESJI8o"
      }
    },
    {
      "cell_type": "code",
      "source": [
        "import numpy as np\n",
        "\n",
        "def PivoteSelect(arreglo, izq, der, verbose=False):\n",
        "    arr = arreglo[izq:der+1]\n",
        "    \n",
        "    #Forma sub arreglos de 5 o menos elementos\n",
        "    if verbose:\n",
        "          print(\"_________________________________________\")\n",
        "          print(f\"Pivote Select recibe {arr}\")\n",
        "          print(\"Y forma subarreglos con 5 elementos o menos.\")\n",
        "    subArrays = [arr[i:i+5] for i in range(0, len(arr), 5)]\n",
        "    \n",
        "    # Ordena los subArreglos y guarda sus neduabas\n",
        "    global contador;\n",
        "    medianas = []\n",
        "    if verbose:\n",
        "          print(\"___________________________\")\n",
        "          print(f\"A continuacion ordenara cada subarreglo formado\")\n",
        "    for i in subArrays:\n",
        "        if verbose:\n",
        "            print(\"____________________\")\n",
        "            print(f\"  Antes = {i}\")\n",
        "        contador += InsertionSort(i)\n",
        "        medianas.append(i[len(i) // 2])\n",
        "        if verbose:\n",
        "            print(f\"Despues = {i}\")\n",
        "            print(f\"Y su mediana es {i[len(i) // 2]}\")\n",
        "            print(\"____________________\")\n",
        "        \n",
        "    \n",
        "\n",
        "    #medianas = [i[len(i) // 2]  for i in subArrays]\n",
        "\n",
        "    # Consigue la mediana de las medianas\n",
        "    if len(medianas) <= 5:\n",
        "        contador += InsertionSort(medianas)\n",
        "        pivote = medianas[len(medianas) // 2]\n",
        "    else:\n",
        "        if verbose:\n",
        "            print(\"___________________________\")\n",
        "            print(\"Para calcular la mediana de medianas\\n\"+\n",
        "                  f\"Se envia el arreglo de medianas{medianas} a Pivote Select\"+\n",
        "                  \"\\n___________________________\")\n",
        "        pivote = PivoteSelect(medianas,0,len(medianas)-1,verbose) \n",
        "    \n",
        "    if verbose: \n",
        "          print(\"___________________________\")\n",
        "          print(f\"En el arreglo {arr}.\\n\"+\n",
        "                f\"Las medianas son {medianas}.\\nLa mediana de medianas es {pivote}.\")\n",
        "          print(\"_________________________________________\")\n",
        "    return pivote"
      ],
      "metadata": {
        "id": "RlQsr9U42r7R"
      },
      "execution_count": 33,
      "outputs": []
    },
    {
      "cell_type": "markdown",
      "source": [
        "###*Select*"
      ],
      "metadata": {
        "id": "joe3y0IWJFmp"
      }
    },
    {
      "cell_type": "code",
      "source": [
        "def Select(arr, izq, der, search, verbose=False):\n",
        "    if izq < der :\n",
        "        if verbose:\n",
        "            print(\"\\n---------------------------------------------------------------------------------\")\n",
        "            print(f\"Select recibio {arr[izq:der+1]}\" +\n",
        "                  f\" y busca el {search+1}-esimo elemento menor\")\n",
        "        pivote = PivoteSelect(arr, izq, der, verbose)\n",
        "\n",
        "        if verbose: \n",
        "            print(\"----------------------------------\")\n",
        "            print(f\"Se selecciono el pivote {pivote}\"+\n",
        "                   \", ahora se partira el arreglo con el pivote en medio\")\n",
        "        med = Partition(arr, izq, der, pivote)\n",
        "        \n",
        "        if verbose: \n",
        "            print(\"----------------------------------\")\n",
        "            print(f\"Pivote = {pivote}.\")\n",
        "            print(f\"Mitad Izquierda = {arr[izq:med]}.\")\n",
        "            print(f\"Mitad Derecha = {arr[med+1:der+1]}.\")\n",
        "            print(\"----------------------------------\")\n",
        "        if(med == search): \n",
        "            if verbose: \n",
        "                print(f\"Se encontro el {search+1}-esimo elemento menor.\\n\"+\n",
        "                      f\"El {search+1}-esimo elemento es {arr[search]}.\")\n",
        "                print(\"---------------------------------------------------------------------------------\")\n",
        "            return\n",
        "        elif(med > search): \n",
        "            if verbose: \n",
        "                print(f\"El {search+1}-esimo elemento debe estar en la mitad izquierda.\")\n",
        "                print(\"---------------------------------------------------------------------------------\")\n",
        "            Select(arr, izq, med-1, search, verbose)\n",
        "        else: \n",
        "            if verbose: \n",
        "                print(f\"El {search+1}-esimo elemento debe estar en la mitad derecha.\")\n",
        "                print(\"---------------------------------------------------------------------------------\")\n",
        "            Select(arr, med + 1, der, search, verbose)"
      ],
      "metadata": {
        "id": "kqSgOLSFJkpo"
      },
      "execution_count": 34,
      "outputs": []
    },
    {
      "cell_type": "markdown",
      "source": [
        "###*Ejemplo* (Código)"
      ],
      "metadata": {
        "id": "CUUVXi0nvinC"
      }
    },
    {
      "cell_type": "code",
      "source": [
        "import random\n",
        "contador = 0\n",
        "n = int(input(\"Seleccione un largo para el arreglo: \"))\n",
        "arreglo = random.sample(range(-100, 100), n)\n",
        "print(f\"Arreglo Inicial: {arreglo} \\n\")\n",
        "Iesimo = int(input(\"¿Que i-esimo elemento menor esta buscando? \"))\n",
        "if(Iesimo-1 < n):\n",
        "    Select(arreglo, 0, len(arreglo)-1, Iesimo-1)\n",
        "    print(f\"El {Iesimo}-esimo elemento menor es {arreglo[Iesimo-1]}, el algoritmo realizo {contador} comparaciones\")\n",
        "    InsertionSort(arreglo)\n",
        "    print(f\"Esto se ve mas claro en el arreglo ordenado: {arreglo} el {Iesimo}-esimo elemento es {arreglo[Iesimo-1]}\")\n",
        "else:\n",
        "    print(f\"No existe el {Iesimo}-esimo, ya que solo hay {n} elementos en el arreglo\")"
      ],
      "metadata": {
        "colab": {
          "base_uri": "https://localhost:8080/"
        },
        "id": "GeNY7xrFWWgN",
        "outputId": "561d3eef-9c4f-4b7e-f62b-48ed31df09b4"
      },
      "execution_count": 35,
      "outputs": [
        {
          "output_type": "stream",
          "name": "stdout",
          "text": [
            "Seleccione un largo para el arreglo: 16\n",
            "Arreglo Inicial: [94, -90, -34, -43, 98, 73, -47, -62, -36, -24, 95, 10, -64, 40, -42, -91] \n",
            "\n",
            "¿Que i-esimo elemento menor esta buscando? 12\n",
            "El 12-esimo elemento menor es 40, el algoritmo realizo 49 comparaciones\n",
            "Esto se ve mas claro en el arreglo ordenado: [-91, -90, -64, -62, -47, -43, -42, -36, -34, -24, 10, 40, 73, 94, 95, 98] el 12-esimo elemento es 40\n"
          ]
        }
      ]
    },
    {
      "cell_type": "markdown",
      "source": [
        "## **2.3. Ejemplo**"
      ],
      "metadata": {
        "id": "DTm2xuaiPUJ2"
      }
    },
    {
      "cell_type": "markdown",
      "source": [
        "Por ejemplo, consideremos el siguiente arreglo\n",
        "\n",
        "*Entrada:*: \n",
        "* **A** = $[1,-2,-3]$ \n",
        "* **Iesimo** = $2$\n",
        "\n",
        "> **1.** Llamando al **Select**, recibe el arreglo **A**=$[1,-2,-3]$ y el i-ésimo elemento menor buscado **Iesimo** = $2$. Lo primero que hace es llamar a **Pivote Select** para obtener un buen pivote. \n",
        "  \n",
        "> **2.** **Pivote Select** recibe **A**=$[1,-2,-3]$, como tiene menos de 5 elementos, no es necesario subdividirlos en varios arreglos, ordena el arreglo con **Insertion Sort**$→$ **A**=$[-3,-2,1]$, ahora obtiene la mediana y la retorna, es decir, retorna $-2$.\n",
        "\n",
        ">**1.** Ahora que **Select** tiene un buen *pivote*, llama a **Partition** para dividir el arreglo en 2 partes.\n",
        "\n",
        "> **2.** **Partition** recibe el arreglo **A**=$[1,-2,-3]$ y el *pivote*$=-2$, busca el índice del pivote, luego de obtenerlo, cambia el pivote con el elemento al final de la derecha, dejando el arreglo de la siguiente manera **A**=$[1,-3,-2]$.\n",
        "\n",
        "> **2.** **Partition** ahora tiene el pivote ubicado en la última posición del arreglo **A**=$[1,-3,-2]$, compara con el pivote cada elemento y le da cierto orden al arreglo.\n",
        "\n",
        "> **2.** **Partition** compara el pivote con el primer elemento $1 \\leq -2$, vemos que es falso, asi que apenas encontremos un número que cumpla la condición, cambiara de lugar con $1$.\n",
        "\n",
        "> **2.** **Partition** compara el pivote con el segundo elemento $-3 \\leq -2$, vemos que es verdadero, de acuerdo al resultado del primer elemento, cambiamos de lugar $-3$ con $1$. Ahora el arreglo es **A**=$[-3,1,-2]$.\n",
        "\n",
        "> **2.**  Ahora que no hay elementos que comparar con el pivote, **Partition** debe ubicar el pivote a la derecha del último elemento que cumplió $elemento \\leq pivote$, por lo tanto, el elemento a la derecha de $-3$, es decir, $1$ cambia de lugar con el *pivote*$-2$. Dejando el arreglo de la siguiente manera **A**=$[-3,-2,1]$. \n",
        "\n",
        "> **2.** De esta forma **Partition** logra que el pivote se encuentre en la posición que le correspondería si el arreglo estuviese ordenado, además los elementos a su izquierda son menores o iguales al *pivote* mientras que los elementos a su derecha son mayores que el *pivote*.\n",
        "\n",
        ">**1.** Ahora que **Select** tiene un *pivote* en la posición que le correspondería si el arreglo se ordenara, compara si el *pivote* se encuentra en la posición i-ésima buscada, de no ser asi, aplica **Select** a la mitad donde debería estar el i-ésimo buscado.\n",
        "\n",
        ">**1.** **A**=$[-3,-2,1]$ podemos ver qué *pivote*=$-2$ se encuentra en la posición 2 del arreglo (en el arreglo, $posición=indice+1$), eso quiere decir que encontramos el I-ésimo elemento.\n",
        "\n",
        "*Salida:* *pivote*$=-2$ y **A**=$[-3,-2,1]$\n",
        "*  Esto ocurre ya que modifico la posición de memoria correspondiente al arreglo, cambiando el arreglo sin necesidad de retornarlo, ahora el i-ésimo se encuentra con $A[i-esimo-1]$\n",
        "\n",
        "Se ve que $-2$ es el $2$-ésimo elemento menor si esta ordenado.\n",
        "~~~\n",
        "Posición =    1     2    3  \n",
        "Índices  =    0     1    2 \n",
        "Arreglo  = [ -3  , -2 ,  1 ]\n",
        "~~~"
      ],
      "metadata": {
        "id": "3sKJ-skNxx_v"
      }
    },
    {
      "cell_type": "markdown",
      "source": [
        "## **2.4. Ejecución del algoritmo paso a paso**"
      ],
      "metadata": {
        "id": "C5er_1JrvSow"
      }
    },
    {
      "cell_type": "markdown",
      "source": [
        "Aplicando **`verbose=True`**, podemos ver lo que ocurre en cada iteración del algoritmo de **Select**."
      ],
      "metadata": {
        "id": "4Maet4mAvZ54"
      }
    },
    {
      "cell_type": "code",
      "source": [
        "import random\n",
        "contador = 0\n",
        "n = random.randint(1,20) # Es el rango que puede tener el arreglo 1<=largo<=20\n",
        "arreglo = random.sample(range(-100, 1000), n)\n",
        "print(f\"Arreglo Inicial: {arreglo} \\nTiene {n} elementos\")\n",
        "if(n>1): Iesimo = random.randint(1,n-1) # Se asegura que exista el i-esimo. Si desea lo contrario, cambie la linea por \"Iesimo = random.randint(1,3*n)\"\n",
        "else: Iesimo = 1\n",
        "print(f\"Busquemos el {Iesimo}-esimo elemento\")\n",
        "if(Iesimo-1 < n):\n",
        "    Select(arreglo, 0, len(arreglo)-1, Iesimo-1,True)\n",
        "    print(f\"\\nEl {Iesimo}-esimo elemento menor es {arreglo[Iesimo-1]}, el algoritmo realizo {contador} comparaciones\")\n",
        "    InsertionSort(arreglo)\n",
        "    print(f\"Esto se ve mas claro en el arreglo ordenado: {arreglo} el {Iesimo}-esimo elemento es {arreglo[Iesimo-1]}\")\n",
        "else:\n",
        "    print(f\"No existe el {Iesimo}-esimo, ya que solo hay {n} elementos en el arreglo\")"
      ],
      "metadata": {
        "id": "oPyi-Q2gve86"
      },
      "execution_count": null,
      "outputs": []
    },
    {
      "cell_type": "markdown",
      "metadata": {
        "id": "KKp56zrst8L2"
      },
      "source": [
        "# **3. Correctitud**"
      ]
    },
    {
      "cell_type": "markdown",
      "source": [
        "## **Select**"
      ],
      "metadata": {
        "id": "gvfliQVlHvXK"
      }
    },
    {
      "cell_type": "markdown",
      "source": [
        "### **Teorema (Correctitud).**"
      ],
      "metadata": {
        "id": "Dz_1sWcaoShu"
      }
    },
    {
      "cell_type": "markdown",
      "source": [
        "**Select** es un algoritmo que encuentra el $i$-ésimo elemento menor dentro de una secuencia de $n$ datos, siempre que $1 \\leq i \\leq n$."
      ],
      "metadata": {
        "id": "BNt-bS9cpE1X"
      }
    },
    {
      "cell_type": "markdown",
      "source": [
        "### **Prueba del Teorema**"
      ],
      "metadata": {
        "id": "YK7XcUU_paKV"
      }
    },
    {
      "cell_type": "markdown",
      "source": [
        "Para probar la correctitud de **Select** usaremos **inducción** debido a la recursividad del algoritmo.\n",
        "\n",
        "> En **inducción** para probar una declaración, para todos los números naturales $n$, típicamente debemos:\n",
        "  1. Probar su correctitud para un **caso base**, por ejemplo $n=1$\n",
        "  2. Probar que si un caso cualquiera $m$, donde $m < n$, es correcto, entonces el caso $n$ también lo es.\n",
        "\n",
        "También se asume la correctitud de las siguientes funciones:\n",
        "* **Pivote Select**\n",
        "* **Partition**"
      ],
      "metadata": {
        "id": "mKgVCbB5pgGN"
      }
    },
    {
      "cell_type": "markdown",
      "source": [
        "#### **Caso Base**"
      ],
      "metadata": {
        "id": "WAI-c0NhrxMl"
      }
    },
    {
      "cell_type": "markdown",
      "source": [
        "El caso base será cuando la mediana de medianas coincide con el estadístico de orden solicitado.\n",
        "\n",
        "Luego de obtener la mediana de medianas se aplica como *pivote* en **Partition** y luego acabara la función **Select** porque *pivote* es el estadístico de orden buscado, ya que dejo el estadístico de orden en la posición que le correspondería de ordenar el algoritmo. Esto siempre ocurre cuando $n=1$ y también puede ocurrir con $n < 1$."
      ],
      "metadata": {
        "id": "1S8rNUmosGxN"
      }
    },
    {
      "cell_type": "markdown",
      "source": [
        "#### **Caso cualquiera**"
      ],
      "metadata": {
        "id": "l73Y2ayAtBRK"
      }
    },
    {
      "cell_type": "markdown",
      "source": [
        "El caso base cualquiera será cuando la mediana de medianas encontrada no es el elemento estadístico de orden buscado.\n",
        "\n",
        "Luego de obtener la mediana de medianas se aplica como *pivote* en **Partition**, haciendo que el arreglo quede con 2 mitades, a la izquierda los menores al pivote y a la derecha los mayores. \n",
        "\n",
        "Ahora se comprueba si $pivote = estadísticoDeOrden$, como no es asi se comprobará si es mayor o menor, si es mayor debe estar a la derecha con los mayores al *pivote*, y de ser menor a de encontrarse a la mitad izquierda del *pivote*.\n",
        "\n",
        "Una vez identificado la mitad donde debe estar el estadístico de orden, sen envía aquella mitad a **Select**, con **Select** correcto ya que eventualmente llegara al caso base porque siempre recibe el conjunto donde debe estar el estadístico de orden buscado y eventualmente llegara al caso base."
      ],
      "metadata": {
        "id": "SEQpNCaKtPqz"
      }
    },
    {
      "cell_type": "markdown",
      "metadata": {
        "id": "uH_PKp0bf6pl"
      },
      "source": [
        "# **4. Tiempo de ejecución**"
      ]
    },
    {
      "cell_type": "markdown",
      "metadata": {
        "id": "6p68qHxlgKaE"
      },
      "source": [
        "### **Teorema (Tiempo de ejecución).**"
      ]
    },
    {
      "cell_type": "markdown",
      "source": [
        "Todos los casos de **Select** tienen complejidad $O(n)$"
      ],
      "metadata": {
        "id": "3KmTKAGmjaGm"
      }
    },
    {
      "cell_type": "markdown",
      "metadata": {
        "id": "g5bEqmFqunKb"
      },
      "source": [
        "### **Prueba del teorema.**"
      ]
    },
    {
      "cell_type": "markdown",
      "metadata": {
        "id": "H93P6FC5kme2"
      },
      "source": [
        "Primero veamos la complejidad individual de los algoritmos que utiliza **Select** como funciones auxiliares.\n"
      ]
    },
    {
      "cell_type": "markdown",
      "source": [
        "#####*PivoteSelect*"
      ],
      "metadata": {
        "id": "ypQVG3--8Aub"
      }
    },
    {
      "cell_type": "markdown",
      "source": [
        "Este algoritmo divide el arreglo en subarreglos de 5 elementos, los ordena con **Insertion Sort** y obtiene sus medianas formando un arreglo de medianas, luego aplica recursivamente a sí mismo en el arreglo de medianas para obtener la mediana del arreglo de medianas.\n",
        "Busca un dato que no sea nunca ni el mayor ni el menor elemento del arreglo, es decir, un buen pivote.\n",
        "\n",
        "**Insertion Sort** tiene $O(n)$ de complejidad en casos promedios.\n",
        "\n",
        "Buscar la *mediana* tiene complejidad O(1), por eso su complejidad es despreciable en la complejidad de **PivoteSelect**."
      ],
      "metadata": {
        "id": "vOo7jxxK-h_e"
      }
    },
    {
      "cell_type": "markdown",
      "source": [
        "$T(n) = T(\\frac{n}{5}) + O(n)$.\n",
        "\n",
        "Usemos el teorema maestro.\n",
        "\n",
        "$a=1$ $b=5$  $d=1$.\n",
        "\n",
        "Entonces nos encontramos en la situación $a < b^d \\rightarrow 1 < 5^1$.\n",
        "\n",
        "Eso quiere decir que el algoritmo tiene complejidad $O(n^d) ⇒ O(n^1)= O(n)$."
      ],
      "metadata": {
        "id": "t0J4KQZ__Wv7"
      }
    },
    {
      "cell_type": "markdown",
      "source": [
        "######*Insertion Sort*"
      ],
      "metadata": {
        "id": "CjkTH8gX8Rt7"
      }
    },
    {
      "cell_type": "markdown",
      "source": [
        "Es un algoritmo de ordenamiento con $O(n)$ en su mejor caso y su peor caso es complejidad $O(n)$. Tiene un caso promedio $O(n^2)$. Va buscando individualmente al dato de cada posición al compararlos con sus siguientes elementos."
      ],
      "metadata": {
        "id": "qyEd_Dol8k-L"
      }
    },
    {
      "cell_type": "markdown",
      "source": [
        "#####*Partition*"
      ],
      "metadata": {
        "id": "yi_Dmj2q8R_0"
      }
    },
    {
      "cell_type": "markdown",
      "source": [
        "Divide el arreglo en dos mitades con distintas cantidades de elementos guiándose por un pivote, este pivote se ubicará en la posición que le correspondería en el arreglo ordenado, a su izquierda estarán los menores a él y a su derecha los mayores a él. \n",
        "\n",
        "Para esto siempre compara el pivote con los elementos del arreglo una vez, por eso tiene complejidad $O(n)$ en todos sus casos, pues lo que hace no cambia por factores externos."
      ],
      "metadata": {
        "id": "tK600EBz9d4T"
      }
    },
    {
      "cell_type": "markdown",
      "source": [
        "####*Select*"
      ],
      "metadata": {
        "id": "OGsPOfrj8dU-"
      }
    },
    {
      "cell_type": "markdown",
      "source": [
        "Ahora tenemos que:\n",
        "* **Pivote Select** $⇒ O(n)$.\n",
        "* **Partition** $⇒ O(n)$.\n",
        "\n",
        "El algoritmo usa **Pivote Select** para escoger un buen pivote, luego usa ese pivote en **Partition**, y decide si el buscado es el pivote, es mayor o menor a pivote, si el pivote no es el buscado aplicara **Select** en la mitad donde debería estar el elemento buscado.\n",
        "\n",
        "En el peor de los caso tendrá una mitad con $\\frac{3n}{10}$ y otra con $\\frac{7n}{10}$. Es decir, nunca habrá mitad con $elementos > \\frac{7n}{10}$ ni mitad con $elementos > \\frac{3n}{10}$.\n",
        "\n",
        "Probemos con estos 2 casos:"
      ],
      "metadata": {
        "id": "V7CNySp9B8oe"
      }
    },
    {
      "cell_type": "markdown",
      "source": [
        "######$\\frac{7n}{10}$ \n",
        "\n"
      ],
      "metadata": {
        "id": "N3MeW0ZIEtG5"
      }
    },
    {
      "cell_type": "markdown",
      "source": [
        "$T(n) = T(\\frac{7n}{10}) + O(n) + O(n) = T(\\frac{7n}{10}) + 2O(n)$.\n",
        "\n",
        "Nosotros podemos aplicar la siguiente transformación $\\frac{7n}{10} = \\frac{\\frac{n}{1}}{\\frac{10}{7}} = \\frac{n}{\\frac{10}{7}}$.\n",
        "\n",
        "$\\Rightarrow T(n) = T(\\frac{n}{\\frac{10}{7}}) + 2O(n)$.\n",
        "\n",
        "Ahora podemos aplicar el teorema maestro.\n",
        "\n",
        "$a=1$ $b= \\frac{10}{7}$ $d = 1$.\n",
        "\n",
        "Entonces nos encontramos en la situación $a < b^d \\rightarrow 1 < (\\frac{10}{7})^{1}$.\n",
        "\n",
        "Eso quiere decir que el algoritmo tiene complejidad $O(n^d) ⇒ O(n^1)= O(n)$."
      ],
      "metadata": {
        "id": "X9fUGj-RE3SR"
      }
    },
    {
      "cell_type": "markdown",
      "source": [
        "######$\\frac{3n}{10}$"
      ],
      "metadata": {
        "id": "aXE098WJE1NZ"
      }
    },
    {
      "cell_type": "markdown",
      "source": [
        "$T(n) = T(\\frac{3n}{10}) + O(n) + O(n) = T(\\frac{3n}{10}) + 2O(n)$.\n",
        "\n",
        "Nosotros podemos aplicar la siguiente transformación $\\frac{3n}{10} = \\frac{\\frac{n}{1}}{\\frac{10}{3}} = \\frac{n}{\\frac{10}{3}}$.\n",
        "\n",
        "$\\Rightarrow T(n) = T(\\frac{n}{\\frac{10}{3}}) + 2O(n)$.\n",
        "\n",
        "Ahora podemos aplicar el teorema maestro.\n",
        "\n",
        "$a=1$ $b= \\frac{10}{3}$ $d = 1$.\n",
        "\n",
        "Entonces nos encontramos en la situación $a < b^d \\rightarrow 1 < (\\frac{10}{3})^{1}$.\n",
        "\n",
        "Eso quiere decir que el algoritmo tiene complejidad $O(n^d) ⇒ O(n^1)= O(n)$."
      ],
      "metadata": {
        "id": "aIaFRkIfFSDv"
      }
    },
    {
      "cell_type": "markdown",
      "source": [
        "##### Entonces podemos calcular la complejidad de **Select**"
      ],
      "metadata": {
        "id": "21nB6Un5GGcz"
      }
    },
    {
      "cell_type": "markdown",
      "source": [
        "Complejidades:\n",
        "* $\\frac{3n}{10} \\rightarrow O(n)$.\n",
        "* $\\frac{7n}{10} \\rightarrow O(n)$.\n",
        "\n",
        "La complejidad del algoritmo se encuentra entre las peores divisiones.\n",
        "\n",
        "$\\frac{3n}{10} \\leq$Complejidad Del Algoritmo$\\leq \\frac{7n}{10}$.\n",
        "\n",
        "$O(n) \\leq$Complejidad Del Algoritmo$\\leq O(n)$.\n",
        "\n",
        "Entonces la complejidad del algoritmo **Select** en su caso promedio es de $O(n)$."
      ],
      "metadata": {
        "id": "y6zxTDS7GSjB"
      }
    },
    {
      "cell_type": "markdown",
      "metadata": {
        "id": "UZE4jGMinXns"
      },
      "source": [
        "# **5. Experimentos**"
      ]
    },
    {
      "cell_type": "markdown",
      "source": [
        "## **5.1. Peor caso vs Mejor caso vs Select** (Número de comparaciones)"
      ],
      "metadata": {
        "id": "G7Hp_q-7lzjS"
      }
    },
    {
      "cell_type": "markdown",
      "source": [
        "### **Gráfica** *(Número de comparaciones)*"
      ],
      "metadata": {
        "id": "uq2jpghJpmMb"
      }
    },
    {
      "cell_type": "markdown",
      "source": [
        "Tiene complejidad O(n) siempre.\n",
        "\n",
        "Y como la complejidad será $O(n)$ siempre que las comparaciones resulten $k*n$ siempre con $k < n$. Digamos que un algoritmo hace $5n$ comparaciones, tendrá complejidad O(n)."
      ],
      "metadata": {
        "id": "w8mrS-AyUVF-"
      }
    },
    {
      "cell_type": "code",
      "source": [
        "import matplotlib.pyplot as plt\n",
        "import datetime\n",
        "from timeit import repeat\n",
        "\n",
        "x=[]\n",
        "y1=[5*n for n in range(10,601)] # peor caso\n",
        "y2=[n for n in range(10,601)] # mejor caso\n",
        "y=[]; \n",
        "\n",
        "for n in range(10,601):\n",
        "    a = random.sample(range(-100, 1000), n)\n",
        "    Iesimo = random.randint(0,n)\n",
        "    contador = 0\n",
        "    Select(a, 0, len(a)-1, Iesimo-1)\n",
        "    x.append(n)\n",
        "    y.append(contador)\n",
        "\n",
        "plt.plot(x,y)\n",
        "plt.plot(x,y1)\n",
        "plt.plot(x,y2)\n",
        "plt.legend([\"Select\", \"Peor Caso (5n)\", \"Mejor Caso (n)\"])\n",
        "\n",
        "plt.xlabel('n')\n",
        "plt.ylabel('Tiempo en ms')\n",
        "plt.show()"
      ],
      "metadata": {
        "colab": {
          "base_uri": "https://localhost:8080/",
          "height": 279
        },
        "id": "cfYWM5I8lzRC",
        "outputId": "09123341-e1dc-45cb-e8bf-3c4490decd17"
      },
      "execution_count": 47,
      "outputs": [
        {
          "output_type": "display_data",
          "data": {
            "text/plain": [
              "<Figure size 432x288 with 1 Axes>"
            ],
            "image/png": "[encoded data removed]"
          },
          "metadata": {
            "needs_background": "light"
          }
        }
      ]
    },
    {
      "cell_type": "markdown",
      "source": [
        "### **Análisis de resultados**"
      ],
      "metadata": {
        "id": "YxzIHmdKpibj"
      }
    },
    {
      "cell_type": "markdown",
      "source": [
        "Se puede ver que el algoritmo siempre tiene complejidad $O(n)$, nunca sale del marco que define esa complejidad.\n",
        "\n",
        "Para un peor caso a los casos de **Select**, el **Partition** debería de experimentar siempre su peor caso sin encontrar el i-ésimo elemento, digamos que buscamos el primero elemento menor ocasionando que , pero el pivote en cada llamada de **Pivote Selection** es el elemento mayor del arreglo, entonces el algoritmo seguirá llamándose recursivamente con $n-1$ elementos hasta que llegue a ser solo 1 elemento, el primero. Esto podría provocar que sea $O(n^2)$.\n",
        "\n",
        "Pero esa situación es imposible de ocurrir, ya que se implementa la función **Pivote Selection** para escoger un pivote para **Partition**, esta función se encarga de escoger un buen pivote, nunca escogerá ni al mayor ni al menor elemento del arreglo como pivote(a menos que el arreglo tenga menos de 3 elementos). Por eso es imposible que la complejidad de **Select** supere O(n).\n",
        "\n",
        "La mayoría de los casos del **Pivote Selection** tienen $\\frac{3n}{10} \\leq$ elementos de mitad $\\leq \\frac{7n}{10}$, por eso casi nunca se llega a que una mitad sea $n-1$. Y como cada posible mitad tiene $O(n)$, el algoritmo mantiene siempre una complejidad de $O(n)$."
      ],
      "metadata": {
        "id": "M0pI0M7dpuea"
      }
    },
    {
      "cell_type": "markdown",
      "source": [
        "## **5.2. Select vs Randomized Select** (Tiempo de ejecución)"
      ],
      "metadata": {
        "id": "lmfpJMNiL9df"
      }
    },
    {
      "cell_type": "markdown",
      "source": [
        "### **Randomized Select** (Código)"
      ],
      "metadata": {
        "id": "CqkyBDTlVWwX"
      }
    },
    {
      "cell_type": "code",
      "source": [
        "import random\n",
        "\n",
        "def RandomizedSelect(arr, izq, der, search):\n",
        "    if izq < der :\n",
        "        pivote = random.randint(izq,der)\n",
        "        med = Partition(arr, izq, der, arr[pivote])\n",
        "        if(med == search): return\n",
        "        elif(med > search): RandomizedSelect(arr, izq, med-1, search)\n",
        "        else: RandomizedSelect(arr, med + 1, der, search)"
      ],
      "metadata": {
        "id": "pvo4Fq7yVZzN"
      },
      "execution_count": null,
      "outputs": []
    },
    {
      "cell_type": "markdown",
      "source": [
        "### **Comparación de Gráficas** (Tiempo de ejecución)"
      ],
      "metadata": {
        "id": "gaeOZWKQqYk6"
      }
    },
    {
      "cell_type": "code",
      "execution_count": null,
      "metadata": {
        "colab": {
          "base_uri": "https://localhost:8080/",
          "height": 279
        },
        "id": "xX0WaiAJuWHS",
        "outputId": "64af9a04-0a50-4de5-a583-34f5549e47cb"
      },
      "outputs": [
        {
          "output_type": "display_data",
          "data": {
            "text/plain": [
              "<Figure size 432x288 with 1 Axes>"
            ],
            "image/png": "[encoded data removed]"
          },
          "metadata": {
            "needs_background": "light"
          }
        }
      ],
      "source": [
        "import matplotlib.pyplot as plt\n",
        "import datetime\n",
        "from timeit import repeat\n",
        "\n",
        "x=[]; y=[]; y1=[]\n",
        "\n",
        "for n in range(5,600):\n",
        "    a = random.sample(range(-100, 1000), n)\n",
        "    Iesimo = random.randint(0,n)\n",
        "\n",
        "    #la función repeat está ejecutando 10 veces RandomizedSelect e Select con el arreglo a y retorna el mejor tiepo obtenido.\n",
        "    t = repeat(setup=\"from __main__ import Select\", stmt=f\"Select({a}, {0}, {len(a)-1}, {Iesimo-1})\", repeat=1, number=10)\n",
        "    t1 = repeat(setup=\"from __main__ import RandomizedSelect\", stmt=f\"RandomizedSelect({a}, {0}, {len(a)-1}, {Iesimo-1})\", repeat=1, number=10)\n",
        "\n",
        "    x.append(n)\n",
        "    y.append(t)\n",
        "    y1.append(t1)\n",
        "\n",
        "\n",
        "plt.plot(x,y)\n",
        "plt.plot(x,y1)\n",
        "plt.legend([\"Select\", \"Randomized Select\"])\n",
        "\n",
        "plt.xlabel('n')\n",
        "plt.ylabel('Tiempo en ms')\n",
        "plt.show()"
      ]
    },
    {
      "cell_type": "markdown",
      "metadata": {
        "id": "c-grJLd2uWeY"
      },
      "source": [
        "### **Análisis de resultados**"
      ]
    },
    {
      "cell_type": "markdown",
      "source": [
        "Se puede ver qué **Randomized Select** es más rápido, esto puede deberse a que selecciona su pivote de manera random, mientras que **Select** utiliza una función auxiliar llamada **PivoteSelection** para escoger un *buen pivote*.\n",
        "\n",
        "**PivoteSelection** que divide el arreglo en $5$, calcula $5$ medianas y luego retorna la mediana de medianas, encontrada con **PivoteSelection**, para usar como pivote.\n",
        "\n",
        "Es la única diferencia entre los algoritmos, asi que debe ser la causa de que **Select** sea más lento que **Randomized Select**."
      ],
      "metadata": {
        "id": "xGyxUOBUgwIS"
      }
    }
  ],
  "metadata": {
    "colab": {
      "collapsed_sections": [
        "ZC6tMltT1L0x",
        "J6F2Yp_IA6UB",
        "OFtxHy6oCCVm",
        "iicgroujCNjI",
        "alpHOArzMjxZ",
        "HHalYKT_JCQr",
        "8zcrxfESJI8o",
        "joe3y0IWJFmp",
        "CUUVXi0nvinC",
        "DTm2xuaiPUJ2",
        "C5er_1JrvSow",
        "KKp56zrst8L2",
        "gvfliQVlHvXK",
        "Dz_1sWcaoShu",
        "YK7XcUU_paKV",
        "WAI-c0NhrxMl",
        "l73Y2ayAtBRK",
        "g5bEqmFqunKb",
        "ypQVG3--8Aub",
        "CjkTH8gX8Rt7",
        "yi_Dmj2q8R_0",
        "OGsPOfrj8dU-",
        "N3MeW0ZIEtG5",
        "aXE098WJE1NZ",
        "21nB6Un5GGcz",
        "UZE4jGMinXns",
        "G7Hp_q-7lzjS",
        "uq2jpghJpmMb",
        "YxzIHmdKpibj",
        "lmfpJMNiL9df",
        "CqkyBDTlVWwX",
        "gaeOZWKQqYk6",
        "c-grJLd2uWeY"
      ],
      "provenance": [],
      "include_colab_link": true
    },
    "kernelspec": {
      "display_name": "Python 3",
      "name": "python3"
    },
    "language_info": {
      "name": "python"
    }
  },
  "nbformat": 4,
  "nbformat_minor": 0
}