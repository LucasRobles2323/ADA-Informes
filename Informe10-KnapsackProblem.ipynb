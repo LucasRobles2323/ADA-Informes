{
  "cells": [
    {
      "cell_type": "markdown",
      "metadata": {
        "id": "view-in-github",
        "colab_type": "text"
      },
      "source": [
        "<a href=\"https://colab.research.google.com/github/LucasRobles2323/ADA-Informes/blob/main/Informe10-KnapsackProblem.ipynb\" target=\"_parent\"><img src=\"https://colab.research.google.com/assets/colab-badge.svg\" alt=\"Open In Colab\"/></a>"
      ]
    },
    {
      "cell_type": "markdown",
      "metadata": {
        "id": "ZC6tMltT1L0x"
      },
      "source": [
        "# **1. Programación Dinámica: Knapsack Problem**"
      ]
    },
    {
      "cell_type": "markdown",
      "metadata": {
        "id": "i0L0XXIP7-cU"
      },
      "source": [
        "**Entrada:** Peso y valor de varios elementos y el peso máximo que soporta la mochila.\n",
        "\n",
        "**Salida:**  Máximo valor que se puede guardar en la mochila sin superar el peso máximo soportable.\n"
      ]
    },
    {
      "cell_type": "markdown",
      "source": [
        "##*Descripción del problema*"
      ],
      "metadata": {
        "id": "XY07Fs2HSgTT"
      }
    },
    {
      "cell_type": "markdown",
      "source": [
        "El problema consiste en conseguir el valor máximo que se puede tener en una mochila al ingresar artículos varios, para eso necesitamos los siguientes datos: \n",
        "* Un peso máximo que soporta la mochila.\n",
        "* Precios y pesos individuales de diversos artículos.\n",
        "\n",
        "Hay que considerar que la *mochila* solo puede ir guardando artículos si la suma de los pesos de dichos artículos no supera el peso máximo que soporta la *mochila*. \n",
        "\n",
        "La mochila puede guardar uno, varios o ningún articulo dependiendo de los pesos de los artículos. No es necesario habrá que igualar el peso sumado con el peso máximo que soporta la mochila.\n",
        "\n",
        "Siempre que se tenga en consideración el peso, podemos realizar guardar cualquier cantidad de artículos sin necesidad de tener en cuenta sus tamaños, mientras buscamos la combinación con mayor precio, que podría ser guardar un único articulo caro o varios artículos más baratos, también es posible que la mochila no soporte ningún artículo."
      ],
      "metadata": {
        "id": "NAU67LcQOla3"
      }
    },
    {
      "cell_type": "markdown",
      "metadata": {
        "id": "J6F2Yp_IA6UB"
      },
      "source": [
        "# **2. Knapsack Problem: Problema de la mochila**"
      ]
    },
    {
      "cell_type": "markdown",
      "metadata": {
        "id": "OFtxHy6oCCVm"
      },
      "source": [
        "## **2.1. Descripción del algoritmo**"
      ]
    },
    {
      "cell_type": "markdown",
      "source": [
        "La tarea es encontrar el máximo precio que podemos obtener de lo que podemos guardar en una *mochila* con una **capacidad de peso máxima** dada, es decir, maximizar las ganancias al vender los elementos de la *mochila* teniendo el precio y peso de cada *articulo* guardado.\n",
        "\n",
        "Por ejemplo, para el conjunto:\n",
        "* valor = $[9, 21, 20, 100]$ \n",
        "* pesos = $[12, 13, 28, 50]$ \n",
        "* peso máximo = $53$.\n",
        "\n",
        "Podemos meter los artículo con los pesos $12,13,28$ que en total hacen un valor de $53$, obteniendo justo un valor de $9+21+20=50$, pero podemos máximizar nuestras ganancias si simplemente colocamos el articulo que pesa $50$ en la *mochila* obteniendo el valor de $100$. \n",
        "\n",
        "Poner la mayor cantidad de articulos posibles en la mochila no asegura máximizar su valor.\n",
        "\n",
        "Se busca maximizar el valor de la mochila, para eso se debe probar cada combinación de artículos posible."
      ],
      "metadata": {
        "id": "iNAuA_4Kc4g_"
      }
    },
    {
      "cell_type": "markdown",
      "source": [
        "###*Explicación de la **subestructura óptima** del problema.*"
      ],
      "metadata": {
        "id": "EPNRzmEUdAlW"
      }
    },
    {
      "cell_type": "markdown",
      "source": [
        "Para considerar todos los subconjuntos de elementos, puede haber dos casos para cada elemento y un caso base.\n",
        "\n",
        "* El *caso base* seria la iteración $0$ o el peso máximo será $0$.\n",
        "* El *artículo* considerado supera la capacidad ya sea por sí solo o agregándolo a la **mochila** máxima de la **mochila**, se considera la subestructura optima previa.\n",
        "* El *artículo* considerado no supera la capacidad máxima, en cuyo caso debemos escoger el mayor precio entre la **mochila** que puede contener hasta el artículo a agregar **y** una *mochila* cuyo peso es el de la **mochila** menos el peso del artículo a agregar.\n",
        "\n",
        "El algoritmo calcula el valor máximo para cada peso hasta llegar al peso de la mochila.\n"
      ],
      "metadata": {
        "id": "5S-HckFYj-So"
      }
    },
    {
      "cell_type": "markdown",
      "source": [
        "$m =$ matriz\n",
        "\n",
        "$i =$ clave actual\n",
        "\n",
        "$p =$ peso actual\n",
        "\n",
        "$p[i] =$ peso del i-ésimo artículo\n",
        "\n",
        "$m[i] =$ valor del i-ésimo artículo\n",
        "\n",
        "![image.png](data:image/png;base64,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)\n",
        "\n",
        "####**By:  https://drive.google.com/file/d/1SaJzo_GO4Az4nBoqlXS1hBqOYVdHJPWi/view?usp=sharing** "
      ],
      "metadata": {
        "id": "udbEOza2jnK4"
      }
    },
    {
      "cell_type": "markdown",
      "source": [
        "El valor máximo para la *mochila* que resiste hasta un peso $W$, puede ser: \n",
        "\n",
        "* El valor máximo que tendría si su peso de resistencia fuera $W-1$ (caso anterior) si al agregar un artículo más se superara el peso $W$, es decir, el valor de la suma de los valores de $n-1$ ítems que tiene la *mochila* $W-1$ (caso anterior).\n",
        "\n",
        "* Si al agregar un artículo no se supera el peso $W$ entonces su valor máximo sería el valor de la suma de los valores de $n$ ítems en la *mochila*."
      ],
      "metadata": {
        "id": "qAWo-bDXIaoE"
      }
    },
    {
      "cell_type": "markdown",
      "source": [
        "###*Explicación del método **greedy** para el **problema de la mochila**.*"
      ],
      "metadata": {
        "id": "BlOrHwNRRgUl"
      }
    },
    {
      "cell_type": "markdown",
      "source": [
        "Es una solución más rápida y ligera para el problema, tanto su complejidad temporal como su complejidad espacial es menor a las del algoritmo **bottom-up** como solución.\n",
        "\n",
        "Pero no es tan eficaz, en algunos casos falla, por ejemplo, con los siguientes datos. \n",
        "\n",
        "**Entrada:**\n",
        "* $W = 180$\n",
        "* $w = [40,60,80,180,360]$\n",
        "* $v = [10,20,30,300,700]$\n",
        "\n",
        "**Salida:**\n",
        "* El máximo valor que podemos llevarnos en la mochila es de: 60\n"
      ],
      "metadata": {
        "id": "OblsefobIbez"
      }
    },
    {
      "cell_type": "markdown",
      "source": [
        "Como se puede ver dio $60$, pero podríamos haber insertado a la mochila únicamente el artículo que pesa $180$ y el valor llevado será $300$, mucho mayor que $60$.\n",
        "\n",
        "$300 >> 60$. Esto ocurre porque el método **greedy** es ingenuo y optimista, en este caso asume que mientras más objetos llevemos, mayor será el valor llevado, y no siempre será asi."
      ],
      "metadata": {
        "id": "Szd7y9zk5s4d"
      }
    },
    {
      "cell_type": "markdown",
      "metadata": {
        "id": "iicgroujCNjI"
      },
      "source": [
        "## **2.2. Código**"
      ]
    },
    {
      "cell_type": "markdown",
      "source": [
        "###Util y necesario para los códigos"
      ],
      "metadata": {
        "id": "cDvniNCLVbiw"
      }
    },
    {
      "cell_type": "code",
      "source": [
        "# Caso donde ambos entregan la respuesta correcta.\n",
        "W = 180\n",
        "w = [12,25,43,100,160]\n",
        "v = [100,200,300,400,450]\n",
        "\n",
        "print(f\"Peso máximo que soporta la mochila: {W}\\n\"+\n",
        "      f\"     Peso cada artículo: {w}\\n\"+\n",
        "      f\"    Valor cada artículo: {v}\")"
      ],
      "metadata": {
        "id": "vGeFSopAU2Ch",
        "colab": {
          "base_uri": "https://localhost:8080/"
        },
        "outputId": "f4d35159-3843-4906-dbad-e5c7a69ce1ed"
      },
      "execution_count": 5,
      "outputs": [
        {
          "output_type": "stream",
          "name": "stdout",
          "text": [
            "Peso máximo que soporta la mochila: 180\n",
            "     Peso cada artículo: [12, 25, 43, 100, 160]\n",
            "    Valor cada artículo: [100, 200, 300, 400, 450]\n"
          ]
        }
      ]
    },
    {
      "cell_type": "markdown",
      "source": [
        "###**Bottom-up**"
      ],
      "metadata": {
        "id": "_Sc7ObDrs7v9"
      }
    },
    {
      "cell_type": "code",
      "source": [
        "import numpy as np\n",
        "\n",
        "subproblemas = 0\n",
        "\n",
        "def max(a,b):\n",
        "  if a > b: return a\n",
        "  return b\n",
        "\n",
        "## bottom-up\n",
        "def KnapsackBottomUp(W, wt, val, verbose=False):\n",
        "    if verbose:\n",
        "      print(f\"---------------------------------------------------------------------------------------------\")\n",
        "      print(f\"La mochila soporta hasta un peso de {W}[kg].\\n\")\n",
        "    \n",
        "    n = len(val) #Largo de ambos arreglos\n",
        "\n",
        "    K = np.zeros((n+1, W+1), dtype=int)\n",
        "    \n",
        "    for i in range(n + 1):\n",
        "         for w in range(W + 1):\n",
        "             if i == 0  or  w == 0:\n",
        "                  K[i][w] = 0\n",
        "             elif wt[i-1] <= w:\n",
        "                  prev = K[i-1][w]\n",
        "                  current =  val[i-1] + K[i-1][w-wt[i-1]]\n",
        "                  K[i][w] = max(current, prev)\n",
        "                  if verbose:\n",
        "                      print(f\"------------------------------------------\")\n",
        "                      print(f\"La mochila soporta {w}[kg], contiene hasta {i-1} y su valor máximo es ${K[i-1][w]}. \\n\"+\n",
        "                            f\"Es posible agregarle el artículo {i} cuyo peso es {wt[i-1]}[kg] y vale ${val[i-1]}.\")\n",
        "                      print(f\"   Se compara el valor de la mochila con el valor que tendria si se le agrega el artículo {i} al \"+\n",
        "                            f\"máximo valor de la mochila con peso {w-wt[i-1]}[kg]:\")\n",
        "                      print(f\"       ${val[i-1] + K[i-1][w-wt[i-1]]} = ${val[i-1]} + ${K[i-1][w-wt[i-1]]}.\")\n",
        "                      print(f\"El valor máximo para la mochila que soporta {i} artículos y {w}[kg] es de ${K[i][w]}.\")\n",
        "             else:\n",
        "                  K[i][w] = K[i-1][w]\n",
        "                  if verbose:\n",
        "                      print(f\"------------------------------------------\")\n",
        "                      print(f\"La mochila soporta {w}[kg], contiene hasta {i-1} y tiene ${K[i-1][w]}.\")\n",
        "                      print(f\"No se puede agregar el artículo de ${val[i-1]} y {wt[i-1]}[kg].\")\n",
        "                      print(f\"Entonces el valor para la mochila que contiene hasta {i} artículos y soporta {w} se mantendra igual a lo que valia antes:\\n\"+\n",
        "                            f\"        ${K[i-1][w]}\")\n",
        "    \n",
        "    if verbose:\n",
        "        print(f\"------------------------------------------\")\n",
        "        print(f\"Entonces el precio máximo que se puede obtener en la mochila sera ${K[n][W]}.\")\n",
        "        print(f\"---------------------------------------------------------------------------------------------\\n\")\n",
        "\n",
        "    global subproblemas\n",
        "    subproblemas = (n) ## Porque el ultimo donde i=n seria el problema real.\n",
        "    subproblemas *= (W+1)\n",
        "    return K[n][W]\n",
        "\n",
        "print(f\"Peso máximo que soporta la mochila: {W}[kg].\\n\"+\n",
        "      f\"     Peso cada artículo: {w}.\\n\"+\n",
        "      f\"    Valor cada artículo: {v}.\\n\")\n",
        "\n",
        "valorBottomUp = KnapsackBottomUp(W, w, v)\n",
        "print(f\"El máximo valor que podemos llevarnos en la mochila es de: ${valorBottomUp}.\")\n",
        "print(f\"        Resuelve {subproblemas} subproblemas.\")"
      ],
      "metadata": {
        "id": "GeNY7xrFWWgN",
        "colab": {
          "base_uri": "https://localhost:8080/"
        },
        "outputId": "f3f5dc7d-1403-4b4f-aaee-a7eb84347a6f"
      },
      "execution_count": 6,
      "outputs": [
        {
          "output_type": "stream",
          "name": "stdout",
          "text": [
            "Peso máximo que soporta la mochila: 180[kg].\n",
            "     Peso cada artículo: [12, 25, 43, 100, 160].\n",
            "    Valor cada artículo: [100, 200, 300, 400, 450].\n",
            "\n",
            "El máximo valor que podemos llevarnos en la mochila es de: $1000.\n",
            "        Resuelve 905 subproblemas.\n"
          ]
        }
      ]
    },
    {
      "cell_type": "markdown",
      "source": [
        "###**Greedy**"
      ],
      "metadata": {
        "id": "tIqxhR3As_Sk"
      }
    },
    {
      "cell_type": "code",
      "source": [
        "iteraciones = 0\n",
        "\n",
        "## Greddy\n",
        "def KnapsackGreedy(W, wt, val, verbose=False):\n",
        "    if verbose: print(f\"La mochila soporta hasta un peso de {W}[kg].\")\n",
        "    \n",
        "    n = len(val) #Largo de ambos arreglos\n",
        "\n",
        "    max = val[0]\n",
        "    w = wt[0] # weight\n",
        "    \n",
        "    if verbose:\n",
        "        print(f\"---------------------------------------------------------------------------------------------\")\n",
        "        print(f\"Se le agrega el articulo 1 de peso {w}[kg].\")\n",
        "        print(f\"La mochila ahora tiene un peso de {w}[kg] y un valor de ${max}.\")\n",
        "    \n",
        "    global iteraciones\n",
        "\n",
        "    for i in range(1,n):\n",
        "        iteraciones += 1\n",
        "        if verbose: \n",
        "            print(f\"------------------------------------------\")\n",
        "            print(f\"El artículo {i+1} tiene un peso {wt[i]}[kg].\\n\"+\n",
        "                  f\"La mochila contiene un peso de {w}[kg] y un valor de ${max}.\\n\"+\n",
        "                  f\"Si lo agregaramos a la mochila, tendriamos {w + wt[i]}[kg] de peso en articulos en total.\")\n",
        "        if w + wt[i] > W: \n",
        "            if verbose:\n",
        "                print(f\"No podemos agregar el artículo {i+1} con peso {wt[i]}[kg].\\n\"+\n",
        "                      f\"Porque se tendria un peso {w + wt[i]}[kg] que es mayor al peso {W}[kg] permitido por la mochila.\\n\"+\n",
        "                      f\"Como estan ordenado por pesos, tampoco se puede agregar a los siguientes articulos.\")\n",
        "            break\n",
        "        max += val[i]\n",
        "        w += wt[i]\n",
        "        if verbose:\n",
        "            print(f\"El artículo se puede agregar a la mochila sin sobrepasar el peso máximo {W}[kg]. \\n\"+\n",
        "                  f\"Entonces agregamos el artículo.\\n\"+\n",
        "                  f\"El nuevo peso en la mochila con todos sus artículo es de {w}[kg] y su valor es de ${max}.\")\n",
        "    if verbose:\n",
        "        print(f\"------------------------------------------\")\n",
        "        print(f\"Entonces el precio máximo que se puede obtener en la mochila sera ${max}.\")\n",
        "        print(f\"---------------------------------------------------------------------------------------------\\n\")\n",
        "    return max\n",
        "\n",
        "print(f\"Peso máximo que soporta la mochila: {W}[kg].\\n\"+\n",
        "      f\"     Peso cada artículo: {w}.\\n\"+\n",
        "      f\"    Valor cada artículo: {v}.\\n\")\n",
        "\n",
        "valorGreedy = KnapsackGreedy(W, w, v)\n",
        "print(f\"El máximo valor que podemos llevarnos en la mochila es de: ${valorGreedy}.\")\n",
        "print(f\"        Realiza {iteraciones} iteraciones.\")"
      ],
      "metadata": {
        "colab": {
          "base_uri": "https://localhost:8080/"
        },
        "id": "zv0THWZls6ic",
        "outputId": "df04fb71-c978-4233-81b4-baaf1798bf7b"
      },
      "execution_count": 7,
      "outputs": [
        {
          "output_type": "stream",
          "name": "stdout",
          "text": [
            "Peso máximo que soporta la mochila: 180[kg].\n",
            "     Peso cada artículo: [12, 25, 43, 100, 160].\n",
            "    Valor cada artículo: [100, 200, 300, 400, 450].\n",
            "\n",
            "El máximo valor que podemos llevarnos en la mochila es de: $1000.\n",
            "        Realiza 4 iteraciones.\n"
          ]
        }
      ]
    },
    {
      "cell_type": "markdown",
      "source": [
        "## **2.3. Ejecución del algoritmo paso a paso**"
      ],
      "metadata": {
        "id": "C5er_1JrvSow"
      }
    },
    {
      "cell_type": "markdown",
      "source": [
        "Aplicando **`verbose=True`**, podemos ver lo que ocurre en cada iteración del algoritmo que soluciona **KnapsackProblem**.\n",
        "\n",
        "En este paso a paso, seleccione datos donde los resultados de cada algoritmo difieren"
      ],
      "metadata": {
        "id": "4Maet4mAvZ54"
      }
    },
    {
      "cell_type": "code",
      "source": [
        "import random\n",
        "\n",
        "def knapsack_instance_generator(N):\n",
        "  val = []\n",
        "  wt = []\n",
        "  prev_v = 0\n",
        "  prev_w = 0\n",
        "  for i in range(N):\n",
        "    v = random.randint(1, 100)\n",
        "    val.append(prev_v + v)\n",
        "    prev_v += v\n",
        "    \n",
        "    w = random.randint(1, 10)\n",
        "    wt.append(prev_w + w)\n",
        "    if (v >= 50):\n",
        "        prev_w += w\n",
        "\n",
        "  W = int(sum(wt) / 2)\n",
        "  return W, val, wt\n",
        "\n",
        "n = random.randint(3,7)\n",
        "Weigth, val, wt = knapsack_instance_generator(n)\n",
        "\n",
        "print(f\"Peso máximo que soporta la mochila: {Weigth}\\n\"+\n",
        "      f\"     Peso cada artículo: {wt}\\n\"+\n",
        "      f\"    Valor cada artículo: {val}\\n\")"
      ],
      "metadata": {
        "colab": {
          "base_uri": "https://localhost:8080/"
        },
        "id": "jwBxByWjZaxN",
        "outputId": "7c3038a9-18b7-4c7a-ca8c-8963ddade166"
      },
      "execution_count": 8,
      "outputs": [
        {
          "output_type": "stream",
          "name": "stdout",
          "text": [
            "Peso máximo que soporta la mochila: 20\n",
            "     Peso cada artículo: [5, 13, 9, 13]\n",
            "    Valor cada artículo: [66, 70, 142, 167]\n",
            "\n"
          ]
        }
      ]
    },
    {
      "cell_type": "markdown",
      "source": [
        "###**Bottom-up**"
      ],
      "metadata": {
        "id": "LHI4ndHh7pm7"
      }
    },
    {
      "cell_type": "code",
      "source": [
        "print(f\"Peso máximo que soporta la mochila: {Weigth}\\n\"+\n",
        "      f\"     Peso cada artículo: {wt}\\n\"+\n",
        "      f\"    Valor cada artículo: {val}\\n\")\n",
        "\n",
        "subproblemas = 0\n",
        "valorBottomUp = KnapsackBottomUp(Weigth, wt, val,True)\n",
        "\n",
        "print(f\"El máximo valor que podemos llevarnos en la mochila es de: ${valorBottomUp}\")\n",
        "print(f\"        Resuelve {subproblemas} subproblemas.\")"
      ],
      "metadata": {
        "colab": {
          "base_uri": "https://localhost:8080/"
        },
        "id": "5yrz65NS75eS",
        "outputId": "4e203f87-d1d6-451f-f48f-24c70fc927b5"
      },
      "execution_count": 9,
      "outputs": [
        {
          "output_type": "stream",
          "name": "stdout",
          "text": [
            "Peso máximo que soporta la mochila: 20\n",
            "     Peso cada artículo: [5, 13, 9, 13]\n",
            "    Valor cada artículo: [66, 70, 142, 167]\n",
            "\n",
            "---------------------------------------------------------------------------------------------\n",
            "La mochila soporta hasta un peso de 20[kg].\n",
            "\n",
            "------------------------------------------\n",
            "La mochila soporta 1[kg], contiene hasta 0 y tiene $0.\n",
            "No se puede agregar el artículo de $66 y 5[kg].\n",
            "Entonces el valor para la mochila que contiene hasta 1 artículos y soporta 1 se mantendra igual a lo que valia antes:\n",
            "        $0\n",
            "------------------------------------------\n",
            "La mochila soporta 2[kg], contiene hasta 0 y tiene $0.\n",
            "No se puede agregar el artículo de $66 y 5[kg].\n",
            "Entonces el valor para la mochila que contiene hasta 1 artículos y soporta 2 se mantendra igual a lo que valia antes:\n",
            "        $0\n",
            "------------------------------------------\n",
            "La mochila soporta 3[kg], contiene hasta 0 y tiene $0.\n",
            "No se puede agregar el artículo de $66 y 5[kg].\n",
            "Entonces el valor para la mochila que contiene hasta 1 artículos y soporta 3 se mantendra igual a lo que valia antes:\n",
            "        $0\n",
            "------------------------------------------\n",
            "La mochila soporta 4[kg], contiene hasta 0 y tiene $0.\n",
            "No se puede agregar el artículo de $66 y 5[kg].\n",
            "Entonces el valor para la mochila que contiene hasta 1 artículos y soporta 4 se mantendra igual a lo que valia antes:\n",
            "        $0\n",
            "------------------------------------------\n",
            "La mochila soporta 5[kg], contiene hasta 0 y su valor máximo es $0. \n",
            "Es posible agregarle el artículo 1 cuyo peso es 5[kg] y vale $66.\n",
            "   Se compara el valor de la mochila con el valor que tendria si se le agrega el artículo 1 al máximo valor de la mochila con peso 0[kg]:\n",
            "       $66 = $66 + $0.\n",
            "El valor máximo para la mochila que soporta 1 artículos y 5[kg] es de $66.\n",
            "------------------------------------------\n",
            "La mochila soporta 6[kg], contiene hasta 0 y su valor máximo es $0. \n",
            "Es posible agregarle el artículo 1 cuyo peso es 5[kg] y vale $66.\n",
            "   Se compara el valor de la mochila con el valor que tendria si se le agrega el artículo 1 al máximo valor de la mochila con peso 1[kg]:\n",
            "       $66 = $66 + $0.\n",
            "El valor máximo para la mochila que soporta 1 artículos y 6[kg] es de $66.\n",
            "------------------------------------------\n",
            "La mochila soporta 7[kg], contiene hasta 0 y su valor máximo es $0. \n",
            "Es posible agregarle el artículo 1 cuyo peso es 5[kg] y vale $66.\n",
            "   Se compara el valor de la mochila con el valor que tendria si se le agrega el artículo 1 al máximo valor de la mochila con peso 2[kg]:\n",
            "       $66 = $66 + $0.\n",
            "El valor máximo para la mochila que soporta 1 artículos y 7[kg] es de $66.\n",
            "------------------------------------------\n",
            "La mochila soporta 8[kg], contiene hasta 0 y su valor máximo es $0. \n",
            "Es posible agregarle el artículo 1 cuyo peso es 5[kg] y vale $66.\n",
            "   Se compara el valor de la mochila con el valor que tendria si se le agrega el artículo 1 al máximo valor de la mochila con peso 3[kg]:\n",
            "       $66 = $66 + $0.\n",
            "El valor máximo para la mochila que soporta 1 artículos y 8[kg] es de $66.\n",
            "------------------------------------------\n",
            "La mochila soporta 9[kg], contiene hasta 0 y su valor máximo es $0. \n",
            "Es posible agregarle el artículo 1 cuyo peso es 5[kg] y vale $66.\n",
            "   Se compara el valor de la mochila con el valor que tendria si se le agrega el artículo 1 al máximo valor de la mochila con peso 4[kg]:\n",
            "       $66 = $66 + $0.\n",
            "El valor máximo para la mochila que soporta 1 artículos y 9[kg] es de $66.\n",
            "------------------------------------------\n",
            "La mochila soporta 10[kg], contiene hasta 0 y su valor máximo es $0. \n",
            "Es posible agregarle el artículo 1 cuyo peso es 5[kg] y vale $66.\n",
            "   Se compara el valor de la mochila con el valor que tendria si se le agrega el artículo 1 al máximo valor de la mochila con peso 5[kg]:\n",
            "       $66 = $66 + $0.\n",
            "El valor máximo para la mochila que soporta 1 artículos y 10[kg] es de $66.\n",
            "------------------------------------------\n",
            "La mochila soporta 11[kg], contiene hasta 0 y su valor máximo es $0. \n",
            "Es posible agregarle el artículo 1 cuyo peso es 5[kg] y vale $66.\n",
            "   Se compara el valor de la mochila con el valor que tendria si se le agrega el artículo 1 al máximo valor de la mochila con peso 6[kg]:\n",
            "       $66 = $66 + $0.\n",
            "El valor máximo para la mochila que soporta 1 artículos y 11[kg] es de $66.\n",
            "------------------------------------------\n",
            "La mochila soporta 12[kg], contiene hasta 0 y su valor máximo es $0. \n",
            "Es posible agregarle el artículo 1 cuyo peso es 5[kg] y vale $66.\n",
            "   Se compara el valor de la mochila con el valor que tendria si se le agrega el artículo 1 al máximo valor de la mochila con peso 7[kg]:\n",
            "       $66 = $66 + $0.\n",
            "El valor máximo para la mochila que soporta 1 artículos y 12[kg] es de $66.\n",
            "------------------------------------------\n",
            "La mochila soporta 13[kg], contiene hasta 0 y su valor máximo es $0. \n",
            "Es posible agregarle el artículo 1 cuyo peso es 5[kg] y vale $66.\n",
            "   Se compara el valor de la mochila con el valor que tendria si se le agrega el artículo 1 al máximo valor de la mochila con peso 8[kg]:\n",
            "       $66 = $66 + $0.\n",
            "El valor máximo para la mochila que soporta 1 artículos y 13[kg] es de $66.\n",
            "------------------------------------------\n",
            "La mochila soporta 14[kg], contiene hasta 0 y su valor máximo es $0. \n",
            "Es posible agregarle el artículo 1 cuyo peso es 5[kg] y vale $66.\n",
            "   Se compara el valor de la mochila con el valor que tendria si se le agrega el artículo 1 al máximo valor de la mochila con peso 9[kg]:\n",
            "       $66 = $66 + $0.\n",
            "El valor máximo para la mochila que soporta 1 artículos y 14[kg] es de $66.\n",
            "------------------------------------------\n",
            "La mochila soporta 15[kg], contiene hasta 0 y su valor máximo es $0. \n",
            "Es posible agregarle el artículo 1 cuyo peso es 5[kg] y vale $66.\n",
            "   Se compara el valor de la mochila con el valor que tendria si se le agrega el artículo 1 al máximo valor de la mochila con peso 10[kg]:\n",
            "       $66 = $66 + $0.\n",
            "El valor máximo para la mochila que soporta 1 artículos y 15[kg] es de $66.\n",
            "------------------------------------------\n",
            "La mochila soporta 16[kg], contiene hasta 0 y su valor máximo es $0. \n",
            "Es posible agregarle el artículo 1 cuyo peso es 5[kg] y vale $66.\n",
            "   Se compara el valor de la mochila con el valor que tendria si se le agrega el artículo 1 al máximo valor de la mochila con peso 11[kg]:\n",
            "       $66 = $66 + $0.\n",
            "El valor máximo para la mochila que soporta 1 artículos y 16[kg] es de $66.\n",
            "------------------------------------------\n",
            "La mochila soporta 17[kg], contiene hasta 0 y su valor máximo es $0. \n",
            "Es posible agregarle el artículo 1 cuyo peso es 5[kg] y vale $66.\n",
            "   Se compara el valor de la mochila con el valor que tendria si se le agrega el artículo 1 al máximo valor de la mochila con peso 12[kg]:\n",
            "       $66 = $66 + $0.\n",
            "El valor máximo para la mochila que soporta 1 artículos y 17[kg] es de $66.\n",
            "------------------------------------------\n",
            "La mochila soporta 18[kg], contiene hasta 0 y su valor máximo es $0. \n",
            "Es posible agregarle el artículo 1 cuyo peso es 5[kg] y vale $66.\n",
            "   Se compara el valor de la mochila con el valor que tendria si se le agrega el artículo 1 al máximo valor de la mochila con peso 13[kg]:\n",
            "       $66 = $66 + $0.\n",
            "El valor máximo para la mochila que soporta 1 artículos y 18[kg] es de $66.\n",
            "------------------------------------------\n",
            "La mochila soporta 19[kg], contiene hasta 0 y su valor máximo es $0. \n",
            "Es posible agregarle el artículo 1 cuyo peso es 5[kg] y vale $66.\n",
            "   Se compara el valor de la mochila con el valor que tendria si se le agrega el artículo 1 al máximo valor de la mochila con peso 14[kg]:\n",
            "       $66 = $66 + $0.\n",
            "El valor máximo para la mochila que soporta 1 artículos y 19[kg] es de $66.\n",
            "------------------------------------------\n",
            "La mochila soporta 20[kg], contiene hasta 0 y su valor máximo es $0. \n",
            "Es posible agregarle el artículo 1 cuyo peso es 5[kg] y vale $66.\n",
            "   Se compara el valor de la mochila con el valor que tendria si se le agrega el artículo 1 al máximo valor de la mochila con peso 15[kg]:\n",
            "       $66 = $66 + $0.\n",
            "El valor máximo para la mochila que soporta 1 artículos y 20[kg] es de $66.\n",
            "------------------------------------------\n",
            "La mochila soporta 1[kg], contiene hasta 1 y tiene $0.\n",
            "No se puede agregar el artículo de $70 y 13[kg].\n",
            "Entonces el valor para la mochila que contiene hasta 2 artículos y soporta 1 se mantendra igual a lo que valia antes:\n",
            "        $0\n",
            "------------------------------------------\n",
            "La mochila soporta 2[kg], contiene hasta 1 y tiene $0.\n",
            "No se puede agregar el artículo de $70 y 13[kg].\n",
            "Entonces el valor para la mochila que contiene hasta 2 artículos y soporta 2 se mantendra igual a lo que valia antes:\n",
            "        $0\n",
            "------------------------------------------\n",
            "La mochila soporta 3[kg], contiene hasta 1 y tiene $0.\n",
            "No se puede agregar el artículo de $70 y 13[kg].\n",
            "Entonces el valor para la mochila que contiene hasta 2 artículos y soporta 3 se mantendra igual a lo que valia antes:\n",
            "        $0\n",
            "------------------------------------------\n",
            "La mochila soporta 4[kg], contiene hasta 1 y tiene $0.\n",
            "No se puede agregar el artículo de $70 y 13[kg].\n",
            "Entonces el valor para la mochila que contiene hasta 2 artículos y soporta 4 se mantendra igual a lo que valia antes:\n",
            "        $0\n",
            "------------------------------------------\n",
            "La mochila soporta 5[kg], contiene hasta 1 y tiene $66.\n",
            "No se puede agregar el artículo de $70 y 13[kg].\n",
            "Entonces el valor para la mochila que contiene hasta 2 artículos y soporta 5 se mantendra igual a lo que valia antes:\n",
            "        $66\n",
            "------------------------------------------\n",
            "La mochila soporta 6[kg], contiene hasta 1 y tiene $66.\n",
            "No se puede agregar el artículo de $70 y 13[kg].\n",
            "Entonces el valor para la mochila que contiene hasta 2 artículos y soporta 6 se mantendra igual a lo que valia antes:\n",
            "        $66\n",
            "------------------------------------------\n",
            "La mochila soporta 7[kg], contiene hasta 1 y tiene $66.\n",
            "No se puede agregar el artículo de $70 y 13[kg].\n",
            "Entonces el valor para la mochila que contiene hasta 2 artículos y soporta 7 se mantendra igual a lo que valia antes:\n",
            "        $66\n",
            "------------------------------------------\n",
            "La mochila soporta 8[kg], contiene hasta 1 y tiene $66.\n",
            "No se puede agregar el artículo de $70 y 13[kg].\n",
            "Entonces el valor para la mochila que contiene hasta 2 artículos y soporta 8 se mantendra igual a lo que valia antes:\n",
            "        $66\n",
            "------------------------------------------\n",
            "La mochila soporta 9[kg], contiene hasta 1 y tiene $66.\n",
            "No se puede agregar el artículo de $70 y 13[kg].\n",
            "Entonces el valor para la mochila que contiene hasta 2 artículos y soporta 9 se mantendra igual a lo que valia antes:\n",
            "        $66\n",
            "------------------------------------------\n",
            "La mochila soporta 10[kg], contiene hasta 1 y tiene $66.\n",
            "No se puede agregar el artículo de $70 y 13[kg].\n",
            "Entonces el valor para la mochila que contiene hasta 2 artículos y soporta 10 se mantendra igual a lo que valia antes:\n",
            "        $66\n",
            "------------------------------------------\n",
            "La mochila soporta 11[kg], contiene hasta 1 y tiene $66.\n",
            "No se puede agregar el artículo de $70 y 13[kg].\n",
            "Entonces el valor para la mochila que contiene hasta 2 artículos y soporta 11 se mantendra igual a lo que valia antes:\n",
            "        $66\n",
            "------------------------------------------\n",
            "La mochila soporta 12[kg], contiene hasta 1 y tiene $66.\n",
            "No se puede agregar el artículo de $70 y 13[kg].\n",
            "Entonces el valor para la mochila que contiene hasta 2 artículos y soporta 12 se mantendra igual a lo que valia antes:\n",
            "        $66\n",
            "------------------------------------------\n",
            "La mochila soporta 13[kg], contiene hasta 1 y su valor máximo es $66. \n",
            "Es posible agregarle el artículo 2 cuyo peso es 13[kg] y vale $70.\n",
            "   Se compara el valor de la mochila con el valor que tendria si se le agrega el artículo 2 al máximo valor de la mochila con peso 0[kg]:\n",
            "       $70 = $70 + $0.\n",
            "El valor máximo para la mochila que soporta 2 artículos y 13[kg] es de $70.\n",
            "------------------------------------------\n",
            "La mochila soporta 14[kg], contiene hasta 1 y su valor máximo es $66. \n",
            "Es posible agregarle el artículo 2 cuyo peso es 13[kg] y vale $70.\n",
            "   Se compara el valor de la mochila con el valor que tendria si se le agrega el artículo 2 al máximo valor de la mochila con peso 1[kg]:\n",
            "       $70 = $70 + $0.\n",
            "El valor máximo para la mochila que soporta 2 artículos y 14[kg] es de $70.\n",
            "------------------------------------------\n",
            "La mochila soporta 15[kg], contiene hasta 1 y su valor máximo es $66. \n",
            "Es posible agregarle el artículo 2 cuyo peso es 13[kg] y vale $70.\n",
            "   Se compara el valor de la mochila con el valor que tendria si se le agrega el artículo 2 al máximo valor de la mochila con peso 2[kg]:\n",
            "       $70 = $70 + $0.\n",
            "El valor máximo para la mochila que soporta 2 artículos y 15[kg] es de $70.\n",
            "------------------------------------------\n",
            "La mochila soporta 16[kg], contiene hasta 1 y su valor máximo es $66. \n",
            "Es posible agregarle el artículo 2 cuyo peso es 13[kg] y vale $70.\n",
            "   Se compara el valor de la mochila con el valor que tendria si se le agrega el artículo 2 al máximo valor de la mochila con peso 3[kg]:\n",
            "       $70 = $70 + $0.\n",
            "El valor máximo para la mochila que soporta 2 artículos y 16[kg] es de $70.\n",
            "------------------------------------------\n",
            "La mochila soporta 17[kg], contiene hasta 1 y su valor máximo es $66. \n",
            "Es posible agregarle el artículo 2 cuyo peso es 13[kg] y vale $70.\n",
            "   Se compara el valor de la mochila con el valor que tendria si se le agrega el artículo 2 al máximo valor de la mochila con peso 4[kg]:\n",
            "       $70 = $70 + $0.\n",
            "El valor máximo para la mochila que soporta 2 artículos y 17[kg] es de $70.\n",
            "------------------------------------------\n",
            "La mochila soporta 18[kg], contiene hasta 1 y su valor máximo es $66. \n",
            "Es posible agregarle el artículo 2 cuyo peso es 13[kg] y vale $70.\n",
            "   Se compara el valor de la mochila con el valor que tendria si se le agrega el artículo 2 al máximo valor de la mochila con peso 5[kg]:\n",
            "       $136 = $70 + $66.\n",
            "El valor máximo para la mochila que soporta 2 artículos y 18[kg] es de $136.\n",
            "------------------------------------------\n",
            "La mochila soporta 19[kg], contiene hasta 1 y su valor máximo es $66. \n",
            "Es posible agregarle el artículo 2 cuyo peso es 13[kg] y vale $70.\n",
            "   Se compara el valor de la mochila con el valor que tendria si se le agrega el artículo 2 al máximo valor de la mochila con peso 6[kg]:\n",
            "       $136 = $70 + $66.\n",
            "El valor máximo para la mochila que soporta 2 artículos y 19[kg] es de $136.\n",
            "------------------------------------------\n",
            "La mochila soporta 20[kg], contiene hasta 1 y su valor máximo es $66. \n",
            "Es posible agregarle el artículo 2 cuyo peso es 13[kg] y vale $70.\n",
            "   Se compara el valor de la mochila con el valor que tendria si se le agrega el artículo 2 al máximo valor de la mochila con peso 7[kg]:\n",
            "       $136 = $70 + $66.\n",
            "El valor máximo para la mochila que soporta 2 artículos y 20[kg] es de $136.\n",
            "------------------------------------------\n",
            "La mochila soporta 1[kg], contiene hasta 2 y tiene $0.\n",
            "No se puede agregar el artículo de $142 y 9[kg].\n",
            "Entonces el valor para la mochila que contiene hasta 3 artículos y soporta 1 se mantendra igual a lo que valia antes:\n",
            "        $0\n",
            "------------------------------------------\n",
            "La mochila soporta 2[kg], contiene hasta 2 y tiene $0.\n",
            "No se puede agregar el artículo de $142 y 9[kg].\n",
            "Entonces el valor para la mochila que contiene hasta 3 artículos y soporta 2 se mantendra igual a lo que valia antes:\n",
            "        $0\n",
            "------------------------------------------\n",
            "La mochila soporta 3[kg], contiene hasta 2 y tiene $0.\n",
            "No se puede agregar el artículo de $142 y 9[kg].\n",
            "Entonces el valor para la mochila que contiene hasta 3 artículos y soporta 3 se mantendra igual a lo que valia antes:\n",
            "        $0\n",
            "------------------------------------------\n",
            "La mochila soporta 4[kg], contiene hasta 2 y tiene $0.\n",
            "No se puede agregar el artículo de $142 y 9[kg].\n",
            "Entonces el valor para la mochila que contiene hasta 3 artículos y soporta 4 se mantendra igual a lo que valia antes:\n",
            "        $0\n",
            "------------------------------------------\n",
            "La mochila soporta 5[kg], contiene hasta 2 y tiene $66.\n",
            "No se puede agregar el artículo de $142 y 9[kg].\n",
            "Entonces el valor para la mochila que contiene hasta 3 artículos y soporta 5 se mantendra igual a lo que valia antes:\n",
            "        $66\n",
            "------------------------------------------\n",
            "La mochila soporta 6[kg], contiene hasta 2 y tiene $66.\n",
            "No se puede agregar el artículo de $142 y 9[kg].\n",
            "Entonces el valor para la mochila que contiene hasta 3 artículos y soporta 6 se mantendra igual a lo que valia antes:\n",
            "        $66\n",
            "------------------------------------------\n",
            "La mochila soporta 7[kg], contiene hasta 2 y tiene $66.\n",
            "No se puede agregar el artículo de $142 y 9[kg].\n",
            "Entonces el valor para la mochila que contiene hasta 3 artículos y soporta 7 se mantendra igual a lo que valia antes:\n",
            "        $66\n",
            "------------------------------------------\n",
            "La mochila soporta 8[kg], contiene hasta 2 y tiene $66.\n",
            "No se puede agregar el artículo de $142 y 9[kg].\n",
            "Entonces el valor para la mochila que contiene hasta 3 artículos y soporta 8 se mantendra igual a lo que valia antes:\n",
            "        $66\n",
            "------------------------------------------\n",
            "La mochila soporta 9[kg], contiene hasta 2 y su valor máximo es $66. \n",
            "Es posible agregarle el artículo 3 cuyo peso es 9[kg] y vale $142.\n",
            "   Se compara el valor de la mochila con el valor que tendria si se le agrega el artículo 3 al máximo valor de la mochila con peso 0[kg]:\n",
            "       $142 = $142 + $0.\n",
            "El valor máximo para la mochila que soporta 3 artículos y 9[kg] es de $142.\n",
            "------------------------------------------\n",
            "La mochila soporta 10[kg], contiene hasta 2 y su valor máximo es $66. \n",
            "Es posible agregarle el artículo 3 cuyo peso es 9[kg] y vale $142.\n",
            "   Se compara el valor de la mochila con el valor que tendria si se le agrega el artículo 3 al máximo valor de la mochila con peso 1[kg]:\n",
            "       $142 = $142 + $0.\n",
            "El valor máximo para la mochila que soporta 3 artículos y 10[kg] es de $142.\n",
            "------------------------------------------\n",
            "La mochila soporta 11[kg], contiene hasta 2 y su valor máximo es $66. \n",
            "Es posible agregarle el artículo 3 cuyo peso es 9[kg] y vale $142.\n",
            "   Se compara el valor de la mochila con el valor que tendria si se le agrega el artículo 3 al máximo valor de la mochila con peso 2[kg]:\n",
            "       $142 = $142 + $0.\n",
            "El valor máximo para la mochila que soporta 3 artículos y 11[kg] es de $142.\n",
            "------------------------------------------\n",
            "La mochila soporta 12[kg], contiene hasta 2 y su valor máximo es $66. \n",
            "Es posible agregarle el artículo 3 cuyo peso es 9[kg] y vale $142.\n",
            "   Se compara el valor de la mochila con el valor que tendria si se le agrega el artículo 3 al máximo valor de la mochila con peso 3[kg]:\n",
            "       $142 = $142 + $0.\n",
            "El valor máximo para la mochila que soporta 3 artículos y 12[kg] es de $142.\n",
            "------------------------------------------\n",
            "La mochila soporta 13[kg], contiene hasta 2 y su valor máximo es $70. \n",
            "Es posible agregarle el artículo 3 cuyo peso es 9[kg] y vale $142.\n",
            "   Se compara el valor de la mochila con el valor que tendria si se le agrega el artículo 3 al máximo valor de la mochila con peso 4[kg]:\n",
            "       $142 = $142 + $0.\n",
            "El valor máximo para la mochila que soporta 3 artículos y 13[kg] es de $142.\n",
            "------------------------------------------\n",
            "La mochila soporta 14[kg], contiene hasta 2 y su valor máximo es $70. \n",
            "Es posible agregarle el artículo 3 cuyo peso es 9[kg] y vale $142.\n",
            "   Se compara el valor de la mochila con el valor que tendria si se le agrega el artículo 3 al máximo valor de la mochila con peso 5[kg]:\n",
            "       $208 = $142 + $66.\n",
            "El valor máximo para la mochila que soporta 3 artículos y 14[kg] es de $208.\n",
            "------------------------------------------\n",
            "La mochila soporta 15[kg], contiene hasta 2 y su valor máximo es $70. \n",
            "Es posible agregarle el artículo 3 cuyo peso es 9[kg] y vale $142.\n",
            "   Se compara el valor de la mochila con el valor que tendria si se le agrega el artículo 3 al máximo valor de la mochila con peso 6[kg]:\n",
            "       $208 = $142 + $66.\n",
            "El valor máximo para la mochila que soporta 3 artículos y 15[kg] es de $208.\n",
            "------------------------------------------\n",
            "La mochila soporta 16[kg], contiene hasta 2 y su valor máximo es $70. \n",
            "Es posible agregarle el artículo 3 cuyo peso es 9[kg] y vale $142.\n",
            "   Se compara el valor de la mochila con el valor que tendria si se le agrega el artículo 3 al máximo valor de la mochila con peso 7[kg]:\n",
            "       $208 = $142 + $66.\n",
            "El valor máximo para la mochila que soporta 3 artículos y 16[kg] es de $208.\n",
            "------------------------------------------\n",
            "La mochila soporta 17[kg], contiene hasta 2 y su valor máximo es $70. \n",
            "Es posible agregarle el artículo 3 cuyo peso es 9[kg] y vale $142.\n",
            "   Se compara el valor de la mochila con el valor que tendria si se le agrega el artículo 3 al máximo valor de la mochila con peso 8[kg]:\n",
            "       $208 = $142 + $66.\n",
            "El valor máximo para la mochila que soporta 3 artículos y 17[kg] es de $208.\n",
            "------------------------------------------\n",
            "La mochila soporta 18[kg], contiene hasta 2 y su valor máximo es $136. \n",
            "Es posible agregarle el artículo 3 cuyo peso es 9[kg] y vale $142.\n",
            "   Se compara el valor de la mochila con el valor que tendria si se le agrega el artículo 3 al máximo valor de la mochila con peso 9[kg]:\n",
            "       $208 = $142 + $66.\n",
            "El valor máximo para la mochila que soporta 3 artículos y 18[kg] es de $208.\n",
            "------------------------------------------\n",
            "La mochila soporta 19[kg], contiene hasta 2 y su valor máximo es $136. \n",
            "Es posible agregarle el artículo 3 cuyo peso es 9[kg] y vale $142.\n",
            "   Se compara el valor de la mochila con el valor que tendria si se le agrega el artículo 3 al máximo valor de la mochila con peso 10[kg]:\n",
            "       $208 = $142 + $66.\n",
            "El valor máximo para la mochila que soporta 3 artículos y 19[kg] es de $208.\n",
            "------------------------------------------\n",
            "La mochila soporta 20[kg], contiene hasta 2 y su valor máximo es $136. \n",
            "Es posible agregarle el artículo 3 cuyo peso es 9[kg] y vale $142.\n",
            "   Se compara el valor de la mochila con el valor que tendria si se le agrega el artículo 3 al máximo valor de la mochila con peso 11[kg]:\n",
            "       $208 = $142 + $66.\n",
            "El valor máximo para la mochila que soporta 3 artículos y 20[kg] es de $208.\n",
            "------------------------------------------\n",
            "La mochila soporta 1[kg], contiene hasta 3 y tiene $0.\n",
            "No se puede agregar el artículo de $167 y 13[kg].\n",
            "Entonces el valor para la mochila que contiene hasta 4 artículos y soporta 1 se mantendra igual a lo que valia antes:\n",
            "        $0\n",
            "------------------------------------------\n",
            "La mochila soporta 2[kg], contiene hasta 3 y tiene $0.\n",
            "No se puede agregar el artículo de $167 y 13[kg].\n",
            "Entonces el valor para la mochila que contiene hasta 4 artículos y soporta 2 se mantendra igual a lo que valia antes:\n",
            "        $0\n",
            "------------------------------------------\n",
            "La mochila soporta 3[kg], contiene hasta 3 y tiene $0.\n",
            "No se puede agregar el artículo de $167 y 13[kg].\n",
            "Entonces el valor para la mochila que contiene hasta 4 artículos y soporta 3 se mantendra igual a lo que valia antes:\n",
            "        $0\n",
            "------------------------------------------\n",
            "La mochila soporta 4[kg], contiene hasta 3 y tiene $0.\n",
            "No se puede agregar el artículo de $167 y 13[kg].\n",
            "Entonces el valor para la mochila que contiene hasta 4 artículos y soporta 4 se mantendra igual a lo que valia antes:\n",
            "        $0\n",
            "------------------------------------------\n",
            "La mochila soporta 5[kg], contiene hasta 3 y tiene $66.\n",
            "No se puede agregar el artículo de $167 y 13[kg].\n",
            "Entonces el valor para la mochila que contiene hasta 4 artículos y soporta 5 se mantendra igual a lo que valia antes:\n",
            "        $66\n",
            "------------------------------------------\n",
            "La mochila soporta 6[kg], contiene hasta 3 y tiene $66.\n",
            "No se puede agregar el artículo de $167 y 13[kg].\n",
            "Entonces el valor para la mochila que contiene hasta 4 artículos y soporta 6 se mantendra igual a lo que valia antes:\n",
            "        $66\n",
            "------------------------------------------\n",
            "La mochila soporta 7[kg], contiene hasta 3 y tiene $66.\n",
            "No se puede agregar el artículo de $167 y 13[kg].\n",
            "Entonces el valor para la mochila que contiene hasta 4 artículos y soporta 7 se mantendra igual a lo que valia antes:\n",
            "        $66\n",
            "------------------------------------------\n",
            "La mochila soporta 8[kg], contiene hasta 3 y tiene $66.\n",
            "No se puede agregar el artículo de $167 y 13[kg].\n",
            "Entonces el valor para la mochila que contiene hasta 4 artículos y soporta 8 se mantendra igual a lo que valia antes:\n",
            "        $66\n",
            "------------------------------------------\n",
            "La mochila soporta 9[kg], contiene hasta 3 y tiene $142.\n",
            "No se puede agregar el artículo de $167 y 13[kg].\n",
            "Entonces el valor para la mochila que contiene hasta 4 artículos y soporta 9 se mantendra igual a lo que valia antes:\n",
            "        $142\n",
            "------------------------------------------\n",
            "La mochila soporta 10[kg], contiene hasta 3 y tiene $142.\n",
            "No se puede agregar el artículo de $167 y 13[kg].\n",
            "Entonces el valor para la mochila que contiene hasta 4 artículos y soporta 10 se mantendra igual a lo que valia antes:\n",
            "        $142\n",
            "------------------------------------------\n",
            "La mochila soporta 11[kg], contiene hasta 3 y tiene $142.\n",
            "No se puede agregar el artículo de $167 y 13[kg].\n",
            "Entonces el valor para la mochila que contiene hasta 4 artículos y soporta 11 se mantendra igual a lo que valia antes:\n",
            "        $142\n",
            "------------------------------------------\n",
            "La mochila soporta 12[kg], contiene hasta 3 y tiene $142.\n",
            "No se puede agregar el artículo de $167 y 13[kg].\n",
            "Entonces el valor para la mochila que contiene hasta 4 artículos y soporta 12 se mantendra igual a lo que valia antes:\n",
            "        $142\n",
            "------------------------------------------\n",
            "La mochila soporta 13[kg], contiene hasta 3 y su valor máximo es $142. \n",
            "Es posible agregarle el artículo 4 cuyo peso es 13[kg] y vale $167.\n",
            "   Se compara el valor de la mochila con el valor que tendria si se le agrega el artículo 4 al máximo valor de la mochila con peso 0[kg]:\n",
            "       $167 = $167 + $0.\n",
            "El valor máximo para la mochila que soporta 4 artículos y 13[kg] es de $167.\n",
            "------------------------------------------\n",
            "La mochila soporta 14[kg], contiene hasta 3 y su valor máximo es $208. \n",
            "Es posible agregarle el artículo 4 cuyo peso es 13[kg] y vale $167.\n",
            "   Se compara el valor de la mochila con el valor que tendria si se le agrega el artículo 4 al máximo valor de la mochila con peso 1[kg]:\n",
            "       $167 = $167 + $0.\n",
            "El valor máximo para la mochila que soporta 4 artículos y 14[kg] es de $208.\n",
            "------------------------------------------\n",
            "La mochila soporta 15[kg], contiene hasta 3 y su valor máximo es $208. \n",
            "Es posible agregarle el artículo 4 cuyo peso es 13[kg] y vale $167.\n",
            "   Se compara el valor de la mochila con el valor que tendria si se le agrega el artículo 4 al máximo valor de la mochila con peso 2[kg]:\n",
            "       $167 = $167 + $0.\n",
            "El valor máximo para la mochila que soporta 4 artículos y 15[kg] es de $208.\n",
            "------------------------------------------\n",
            "La mochila soporta 16[kg], contiene hasta 3 y su valor máximo es $208. \n",
            "Es posible agregarle el artículo 4 cuyo peso es 13[kg] y vale $167.\n",
            "   Se compara el valor de la mochila con el valor que tendria si se le agrega el artículo 4 al máximo valor de la mochila con peso 3[kg]:\n",
            "       $167 = $167 + $0.\n",
            "El valor máximo para la mochila que soporta 4 artículos y 16[kg] es de $208.\n",
            "------------------------------------------\n",
            "La mochila soporta 17[kg], contiene hasta 3 y su valor máximo es $208. \n",
            "Es posible agregarle el artículo 4 cuyo peso es 13[kg] y vale $167.\n",
            "   Se compara el valor de la mochila con el valor que tendria si se le agrega el artículo 4 al máximo valor de la mochila con peso 4[kg]:\n",
            "       $167 = $167 + $0.\n",
            "El valor máximo para la mochila que soporta 4 artículos y 17[kg] es de $208.\n",
            "------------------------------------------\n",
            "La mochila soporta 18[kg], contiene hasta 3 y su valor máximo es $208. \n",
            "Es posible agregarle el artículo 4 cuyo peso es 13[kg] y vale $167.\n",
            "   Se compara el valor de la mochila con el valor que tendria si se le agrega el artículo 4 al máximo valor de la mochila con peso 5[kg]:\n",
            "       $233 = $167 + $66.\n",
            "El valor máximo para la mochila que soporta 4 artículos y 18[kg] es de $233.\n",
            "------------------------------------------\n",
            "La mochila soporta 19[kg], contiene hasta 3 y su valor máximo es $208. \n",
            "Es posible agregarle el artículo 4 cuyo peso es 13[kg] y vale $167.\n",
            "   Se compara el valor de la mochila con el valor que tendria si se le agrega el artículo 4 al máximo valor de la mochila con peso 6[kg]:\n",
            "       $233 = $167 + $66.\n",
            "El valor máximo para la mochila que soporta 4 artículos y 19[kg] es de $233.\n",
            "------------------------------------------\n",
            "La mochila soporta 20[kg], contiene hasta 3 y su valor máximo es $208. \n",
            "Es posible agregarle el artículo 4 cuyo peso es 13[kg] y vale $167.\n",
            "   Se compara el valor de la mochila con el valor que tendria si se le agrega el artículo 4 al máximo valor de la mochila con peso 7[kg]:\n",
            "       $233 = $167 + $66.\n",
            "El valor máximo para la mochila que soporta 4 artículos y 20[kg] es de $233.\n",
            "------------------------------------------\n",
            "Entonces el precio máximo que se puede obtener en la mochila sera $233.\n",
            "---------------------------------------------------------------------------------------------\n",
            "\n",
            "El máximo valor que podemos llevarnos en la mochila es de: $233\n",
            "        Resuelve 84 subproblemas.\n"
          ]
        }
      ]
    },
    {
      "cell_type": "markdown",
      "source": [
        "###**Greedy**"
      ],
      "metadata": {
        "id": "-3Ee2mH97qmj"
      }
    },
    {
      "cell_type": "code",
      "source": [
        "print(f\"Peso máximo que soporta la mochila: {Weigth}.\\n\"+\n",
        "      f\"     Peso cada artículo: {wt}.\\n\"+\n",
        "      f\"    Valor cada artículo: {val}.\\n\")\n",
        "\n",
        "iteraciones = 0\n",
        "valorGreedy = KnapsackGreedy(Weigth, wt, val,True)\n",
        "\n",
        "print(f\"El máximo valor que podemos llevarnos en la mochila es de: ${valorGreedy}.\")\n",
        "print(f\"        Realiza {iteraciones} iteraciones.\")"
      ],
      "metadata": {
        "id": "oPyi-Q2gve86",
        "colab": {
          "base_uri": "https://localhost:8080/"
        },
        "outputId": "1145af2b-bcf9-44a0-b70e-16563b2c757d"
      },
      "execution_count": 10,
      "outputs": [
        {
          "output_type": "stream",
          "name": "stdout",
          "text": [
            "Peso máximo que soporta la mochila: 20.\n",
            "     Peso cada artículo: [5, 13, 9, 13].\n",
            "    Valor cada artículo: [66, 70, 142, 167].\n",
            "\n",
            "La mochila soporta hasta un peso de 20[kg].\n",
            "---------------------------------------------------------------------------------------------\n",
            "Se le agrega el articulo 1 de peso 5[kg].\n",
            "La mochila ahora tiene un peso de 5[kg] y un valor de $66.\n",
            "------------------------------------------\n",
            "El artículo 2 tiene un peso 13[kg].\n",
            "La mochila contiene un peso de 5[kg] y un valor de $66.\n",
            "Si lo agregaramos a la mochila, tendriamos 18[kg] de peso en articulos en total.\n",
            "El artículo se puede agregar a la mochila sin sobrepasar el peso máximo 20[kg]. \n",
            "Entonces agregamos el artículo.\n",
            "El nuevo peso en la mochila con todos sus artículo es de 18[kg] y su valor es de $136.\n",
            "------------------------------------------\n",
            "El artículo 3 tiene un peso 9[kg].\n",
            "La mochila contiene un peso de 18[kg] y un valor de $136.\n",
            "Si lo agregaramos a la mochila, tendriamos 27[kg] de peso en articulos en total.\n",
            "No podemos agregar el artículo 3 con peso 9[kg].\n",
            "Porque se tendria un peso 27[kg] que es mayor al peso 20[kg] permitido por la mochila.\n",
            "Como estan ordenado por pesos, tampoco se puede agregar a los siguientes articulos.\n",
            "------------------------------------------\n",
            "Entonces el precio máximo que se puede obtener en la mochila sera $136.\n",
            "---------------------------------------------------------------------------------------------\n",
            "\n",
            "El máximo valor que podemos llevarnos en la mochila es de: $136.\n",
            "        Realiza 2 iteraciones.\n"
          ]
        }
      ]
    },
    {
      "cell_type": "markdown",
      "source": [
        "## **2.4. Ejemplo**"
      ],
      "metadata": {
        "id": "CNd9hfDO4UvO"
      }
    },
    {
      "cell_type": "markdown",
      "source": [
        "**Entrada:**\n",
        "* $W = 180$\n",
        "* $w = [40,60,80,180,360]$\n",
        "* $v = [10,20,30,300,700]$\n",
        "\n",
        "---\n",
        "---\n",
        "**Método Bottom-up:**\n",
        "1. Primero se crea una matriz de ceros con $W+1$ columnas y $len(v)+1$ filas. Se manejará con los pesos y artículos de índices desde el índice $1$ para que el índice sea exactamente el peso o artículo que le corresponde. Es decir, la fila $0$ tendrá puros $0$.\n",
        "2. Luego se verá el precio máximo que se puede conseguir con $k=1...n$ artículos con cada peso máximo posible $k$ para la mochila *mochila* con todos los pesos $1 \\leq k < W$ como subproblemas.\n",
        "3. Para cada valor máximo de la mochila por cada peso, se compara el valor si le agregamos un artículo que no está en la mochila al valor máximo para el peso anterior con 1 articulo menos posible o el precio alcanzado al agregarle un artículo que aún no está en la mochila.\n",
        "4. Luego para cada peso con cada cantidad de articulo se usan los previos y se llega al peso máximo para la cantidad de artículos que tenemos, siendo ese valor el retornado pues se guardara el valor máximo para la situación.\n",
        "---\n",
        "**Salida Bottom-up:**\n",
        "* El máximo valor que podemos llevarnos en la mochila es de: 300\n",
        "---\n",
        "---\n",
        "\n",
        "**Método Greedy:**\n",
        "1. En este proceso se asume que los artículos están ordenados por peso. Y que el articulo con menor peso tiene un peso individual que puede soportar la mochila.\n",
        "2. Se toma al objeto con menor peso y se agrega a la *mochila*, siendo su precio el precio máximo de la mochila, si su peso sobrepasa el máximo soportado, la salida será $0$.\n",
        "3. Luego se va tomando el artículo con menor peso que aún no está en la *mochila* y se verifica si al agregarlo se supera el peso soportable.\n",
        "4. Si no supera el peso soportable se agrega a la mochila y se suma su precio a la mochila, luego se avanza al siguiente artículo.\n",
        "5. Si supera el peso máximo, entonces no se agrega un nuevo artículo a la *mochila* y retorna el precio que se obtiene al sumar los valores de los objetos que ya están en la *mochila*.\n",
        "---\n",
        "**Salida Greedy:**\n",
        "* El máximo valor que podemos llevarnos en la mochila es de: 60\n",
        "---\n",
        "---"
      ],
      "metadata": {
        "id": "8CKE4dcr4cHs"
      }
    },
    {
      "cell_type": "markdown",
      "metadata": {
        "id": "KKp56zrst8L2"
      },
      "source": [
        "# **3. Correctitud**"
      ]
    },
    {
      "cell_type": "markdown",
      "source": [
        "## **bottom-up**"
      ],
      "metadata": {
        "id": "gvfliQVlHvXK"
      }
    },
    {
      "cell_type": "markdown",
      "source": [
        "### **Teorema (Correctitud).**"
      ],
      "metadata": {
        "id": "Dz_1sWcaoShu"
      }
    },
    {
      "cell_type": "markdown",
      "source": [
        "El algoritmo entrega el máximo retorno posible de una *mochila* con peso $W$ teniendo $n$ artículos con diversos pesos y valores."
      ],
      "metadata": {
        "id": "BNt-bS9cpE1X"
      }
    },
    {
      "cell_type": "markdown",
      "source": [
        "### **Prueba del Teorema**"
      ],
      "metadata": {
        "id": "YK7XcUU_paKV"
      }
    },
    {
      "cell_type": "markdown",
      "source": [
        "Probaremos la siguiente **propiedad invariante de bucle** para el algoritmo `Knap Sack Problem`:\n",
        "\n",
        "> Al comienzo de cada iteración $i$ del bucle más grande, tendremos el máximo retorno de la *mochila* al agregar el artículo $i=i-1...0$ a cada mochila posible con $w \\leq W$ calculado y guardado.\n",
        "\n",
        "$w$ es cada peso.\n",
        "$i$ seria al agregar el artículo y a cada $w$."
      ],
      "metadata": {
        "id": "mKgVCbB5pgGN"
      }
    },
    {
      "cell_type": "markdown",
      "source": [
        "#### **Inicialización**"
      ],
      "metadata": {
        "id": "WAI-c0NhrxMl"
      }
    },
    {
      "cell_type": "markdown",
      "source": [
        "Al comienzo de la primera iteración $i=1$, tendremos los valores para cada $w$ al intentar ingresar el artículo anterior $i-1=0$. Como el artículo 0 no existe, tiene peso y valor $0$ lo cual es correcto. pues independientemente de los precios aplicados, agregar un articulo que vale $\\$0$ a una mochila que contiene un valor de $\\$0$ no cambiara su valor, independientemente del peso que soporte la **mochila**.\n",
        "\n"
      ],
      "metadata": {
        "id": "1S8rNUmosGxN"
      }
    },
    {
      "cell_type": "markdown",
      "source": [
        "#### **Mantención**"
      ],
      "metadata": {
        "id": "l73Y2ayAtBRK"
      }
    },
    {
      "cell_type": "markdown",
      "source": [
        "Aplicando inducción, asumimos que, al comienzo de cada iteración, se cumple la propiedad. Es decir, en la iteración donde probamos agregar el artículo $i$ obteniendo un valor óptimo tenemos el valor óptimo para cada peso al agregar cada artículo $i=i-1...0$ calculado.\n",
        "\n",
        "Consideremos que $i=x$ como el tamaño del problema con $x < n$.\n",
        "\n",
        "Dentro del bucle más pequeño ($w=0$ to $W+1$), se ira obteniendo el valor máximo para una **mochila** que soporta un peso de $w$ al agregar el artículo $x$, si su peso individual no supera peso máximo que dicha **mochila** permite.\n",
        "\n",
        "Si el peso individual del elemento sobrepasa el peso soportado de la **mochila**, entonces dejamos como valor óptimo el valor al agregar el artículo $x-1$ a una **mochila** con el mismo peso $w$.\n",
        "\n",
        "Si el elemento $x$ no posee un peso superior a $w$ que soporta la **mochila**, entonces se comparará:\n",
        "* El valor máximo de la **mochila** con el mismo peso $w$ cuando se agregó el artículo $x-1$.\n",
        "* El precio del artículo $x$  $|$ $+$ $|$ El valor óptimo de una mochila que al agregar el peso del artículo $x$ contenga un peso de $w$.\n",
        "\n",
        "Y aquel que sea mayor se insertara como el valor óptimo para la *mochila* de la iteración $w$ del bucle más pequeño al intentar agregar el artículo $x$ por el bucle más grande.\n",
        "\n",
        "Con todos los resultados del bucle más pequeño, se calcula el valor para la *mochila* de peso $w=W$ soportable en la iteración $x$. Y ese sería el valor óptimo del problema si $x=n$.\n",
        "\n",
        "Al finalizar la iteración $i=x$ (y al comienzo de la siguiente $i=x+1$), se seguirá cumpliendo la **propiedad invariante**."
      ],
      "metadata": {
        "id": "SEQpNCaKtPqz"
      }
    },
    {
      "cell_type": "markdown",
      "source": [
        "####**Correctitud**"
      ],
      "metadata": {
        "id": "ONoW9W07hpU_"
      }
    },
    {
      "cell_type": "markdown",
      "source": [
        "Finalmente, como la **propiedad de bucle invariante** es verdadera al inicio del bucle y se mantiene en cada iteración, podemos decir que al finalizar la $n$-ésima iteración del bucle más grande del algoritmo, se obtendrá el retorno máximo de una *mochila* que soporta $W[kg]$ al intentar agregarle los $n$ artículos en cualquier combinación."
      ],
      "metadata": {
        "id": "J1pJBHqqhtMW"
      }
    },
    {
      "cell_type": "markdown",
      "source": [
        "## **greedy**"
      ],
      "metadata": {
        "id": "Lf5mpLtluCF4"
      }
    },
    {
      "cell_type": "markdown",
      "source": [
        "###¿Por qué no es correcto?"
      ],
      "metadata": {
        "id": "ucqDd5QFuHfJ"
      }
    },
    {
      "cell_type": "markdown",
      "source": [
        "El método **greedy** cumple su propósito, al usar un enfoque ingenuo y optimista nos permite encontrar una solución con una complejidad temporal y espacial mucho menor a otras soluciones.\n",
        "\n",
        "Pero, pese a que llega a un resultado, no siempre encuentra el correcto al problema, esto se puede ver si usamos distintos casos, a cada uno el mismo caso, provocando que den distintos resultados.\n",
        "\n",
        "Esto se debe a la naturaleza del problema y a la ingenuidad y optimismo del **greedy**. El problema requiere un valor optimo entre todas las posibles combinaciones de artículos (en solitario, un conjunto de pocos o muchos). mientras que **greedy** cree ingenuamente que mientras más artículos se acomodan mayor será el posible precio, optimistamente asume que ese valor total será la solución y dicha solución tendrá al elemento con menor peso.\n",
        "\n",
        "Podemos usar un ejemplo simple para demostrar esto:\n",
        "* $W = 185 \\Leftarrow$ Peso soportable.\n",
        "* $A = [01,02,03,04] \\Leftarrow$ Número correspondiente al artículo.\n",
        "* $w = [20,60,100,170] \\Leftarrow$ Pesos de cada artículo.\n",
        "* $v = [15,60,75, 200] \\Leftarrow$ valor de cada artículo.\n",
        "\n",
        "Para agregar la mayor cantidad de artículos a la mochila, hay que ir comprobando si podemos ir agregando el articulo desde el que tiene menor peso hasta el que tiene mayor peso.\n",
        "\n",
        "Entonces con **greedy** se irán agregando desde el articulo con menor peso, hasta que no se pueda agregar el siguiente, entonces a la mochila se le agregarán los artículos $01,02,03$ sumando un total de $180[kg]$ y $\\$159$.\n",
        "\n",
        "Pero para esta situación podemos obtener un valor mayor si simplemente ponemos únicamente el articulo $04$ en la mochila, dejando la mochila con $170[kg]$ y $\\$200$, que sería el valor máximo con el que se puede llenar la mochila.\n",
        "\n",
        "El **greedy** es ingenuo al asumir que ciertas situaciones nunca ocurrirán, pero para este problema es posible que cualquier combinación de artículos en cualquier cantidad sea la respuesta. Por eso no es correcto."
      ],
      "metadata": {
        "id": "GcrVnmNcCLOV"
      }
    },
    {
      "cell_type": "markdown",
      "metadata": {
        "id": "uH_PKp0bf6pl"
      },
      "source": [
        "# **4. Tiempo de ejecución**"
      ]
    },
    {
      "cell_type": "markdown",
      "source": [
        "Este tiempo de ejecución es en base a que el algoritmo retorna el retorno máximo, no tiene en cuenta la obtención de los artículos que se encuentra en la mochila del retorno máximo."
      ],
      "metadata": {
        "id": "nMRDMc_9Em7e"
      }
    },
    {
      "cell_type": "markdown",
      "source": [
        "##**Bottom-up**"
      ],
      "metadata": {
        "id": "eha_1zF_wBcR"
      }
    },
    {
      "cell_type": "markdown",
      "source": [
        "###*Teorema (Complejidad Temporal).*"
      ],
      "metadata": {
        "id": "Vq2t1R_Kv3uD"
      }
    },
    {
      "cell_type": "markdown",
      "source": [
        "*El algoritmo `Knapsack Problem` implementado a traves de **Bottom-up** tiene un **tiempo de ejecución** de $O(n*W)$.*"
      ],
      "metadata": {
        "id": "Tq6k6bODv03E"
      }
    },
    {
      "cell_type": "markdown",
      "source": [
        "####*Prueba del teorema.*"
      ],
      "metadata": {
        "id": "VDBPd9MSdwf-"
      }
    },
    {
      "cell_type": "markdown",
      "source": [
        "#####Lógica"
      ],
      "metadata": {
        "id": "WoZ2t5rOD6vs"
      }
    },
    {
      "cell_type": "markdown",
      "source": [
        "Para la resolución de este problema tenemos 2 bucles anidados, usados para recorrer los subproblemas a resolver antes de ser capaz de resolver el problema real (refiriéndose al aquellos problemas con menor tamaño al pedido).\n",
        "\n",
        "Cada problema tiene en cuenta que tenemos el valor óptimo de sus subproblemas (el problema para cualquier mochila que soporta menos peso o artículos). Y con ese dato, dentro del bucle chico se resuelve el problema a todos los pesos posibles sacando el valor otpimo de cada uno al agregar el artículo $i$, dentro de este bucle se tiene un tiempo de ejecución $W \\rightarrow O(W)$. \n",
        "\n",
        "Para el valor óptimo del tamaño pedido se deben resolver los subproblemas al agregar cada articulo $i=0$ **to** $n-1$. Provocando que se resuelvan los $W$ subproblemas al agregar cada artículo calculando su valor optimo con cada peso posible un total de $n$ veces, es decir, resolver $(n-1)*W$ subproblemas antes de resolver el problema real al agregar el ultimo articulo.\n",
        "\n",
        "El problema real también tiene un tiempo de ejecución $W \\rightarrow O(W)$.\n",
        "\n",
        "Entonces se trata de resolver $n$ veces un problema con tiempo de ejecución $O(W)$. Por eso el algoritmo **bottom-up** para resolver `KnapSack Problem` es de $n * W → O(n*W)$."
      ],
      "metadata": {
        "id": "qzO9g29P9p_f"
      }
    },
    {
      "cell_type": "markdown",
      "source": [
        "##**Greedy**"
      ],
      "metadata": {
        "id": "OL7Rky9nuxJr"
      }
    },
    {
      "cell_type": "markdown",
      "source": [
        "###*Teorema (Complejidad Temporal).*"
      ],
      "metadata": {
        "id": "VDVCIxpDCMqx"
      }
    },
    {
      "cell_type": "markdown",
      "source": [
        "*El algoritmo `Knapsack Problem` implementado a traves de **Greedy** tiene un **tiempo de ejecución** de $O(n)$.*"
      ],
      "metadata": {
        "id": "NB2qecQ_CQBZ"
      }
    },
    {
      "cell_type": "markdown",
      "source": [
        "####*Prueba del teorema.*"
      ],
      "metadata": {
        "id": "4xAYJeunCV66"
      }
    },
    {
      "cell_type": "markdown",
      "source": [
        "#####Lógica"
      ],
      "metadata": {
        "id": "a63sPEemCbBJ"
      }
    },
    {
      "cell_type": "markdown",
      "source": [
        "Para la resolución de este problema tenemos 1 bucle, usado para recorrer los articulos.\n",
        "\n",
        "En este método se aplica a una unica mochila, entonces se recorre cada artículo una vez antes de decidir agregarlo si no se sobrepasa el peso soportable por la mochila al realizar dicha accion. Como son $n$ articulos a recorrer, el bucle tiene una complejidad temporal $O(n)$.\n",
        "\n",
        "Dentro y fuera del bucle hay unicamente operaciones con complejidad $O(1)$.\n",
        "\n",
        "Por ende la complejidad del método es la complejidad del bucle, es decir, el método **Greedy** para este problema tiene complejidad $O(n)$"
      ],
      "metadata": {
        "id": "9ATf9EecCnqZ"
      }
    },
    {
      "cell_type": "markdown",
      "metadata": {
        "id": "UZE4jGMinXns"
      },
      "source": [
        "# **5. Experimentos** "
      ]
    },
    {
      "cell_type": "markdown",
      "source": [
        "## **5.1. Problema de la mochila: Greedy vs Bottom-up** (Tiempo de ejecución)"
      ],
      "metadata": {
        "id": "lmfpJMNiL9df"
      }
    },
    {
      "cell_type": "markdown",
      "source": [
        "### **Comparación de Gráficas** (Tiempo de ejecución)"
      ],
      "metadata": {
        "id": "gaeOZWKQqYk6"
      }
    },
    {
      "cell_type": "code",
      "source": [
        "import matplotlib.pyplot as plt\n",
        "import datetime\n",
        "from timeit import repeat\n",
        "\n",
        "x=[]; y=[]; y1=[]\n",
        "\n",
        "for n in range(5,100):\n",
        "    W, val, wt = knapsack_instance_generator(n)\n",
        "    iteraciones = 0\n",
        "    subproblemas = 0\n",
        "\n",
        "    #la función repeat está ejecutando 10 veces KnapsackBottomUp y KnapsackGreedy con el arreglo a y retorna el mejor tiepo obtenido.\n",
        "    t = repeat(setup=\"from __main__ import KnapsackBottomUp\", stmt=f\"KnapsackBottomUp({W}, {wt}, {val})\", repeat=1, number=10)\n",
        "    t1 = repeat(setup=\"from __main__ import KnapsackGreedy\", stmt=f\"KnapsackGreedy({W}, {wt}, {val})\", repeat=1, number=10)\n",
        "\n",
        "    x.append(n)\n",
        "    y.append(t)\n",
        "    y1.append(t1)\n",
        "\n",
        "\n",
        "plt.plot(x,y)\n",
        "plt.plot(x,y1)\n",
        "plt.legend([\"Bottom-up\", \"Greedy\"])\n",
        "\n",
        "plt.xlabel('Tamaño del problema (n)')\n",
        "plt.ylabel('Tiempo en ms')\n",
        "plt.show()"
      ],
      "metadata": {
        "colab": {
          "base_uri": "https://localhost:8080/",
          "height": 279
        },
        "id": "77obrWwjPhRA",
        "outputId": "2a294077-7fa0-4dcb-96fc-eebf07cda8bf"
      },
      "execution_count": 49,
      "outputs": [
        {
          "output_type": "display_data",
          "data": {
            "text/plain": [
              "<Figure size 432x288 with 1 Axes>"
            ],
            "image/png": "[encoded data removed]"
          },
          "metadata": {
            "needs_background": "light"
          }
        }
      ]
    },
    {
      "cell_type": "code",
      "source": [
        "## Menor n para notar mas la diferencia\n",
        "import matplotlib.pyplot as plt\n",
        "import datetime\n",
        "from timeit import repeat\n",
        "\n",
        "x=[]; y=[]; y1=[]\n",
        "\n",
        "for n in range(1,10):\n",
        "    W, val, wt = knapsack_instance_generator(n)\n",
        "    iteraciones = 0\n",
        "    subproblemas = 0\n",
        "\n",
        "    #la función repeat está ejecutando 10 veces KnapsackBottomUp y KnapsackGreedy con el arreglo a y retorna el mejor tiepo obtenido.\n",
        "    t = repeat(setup=\"from __main__ import KnapsackBottomUp\", stmt=f\"KnapsackBottomUp({W}, {wt}, {val})\", repeat=1, number=10)\n",
        "    t1 = repeat(setup=\"from __main__ import KnapsackGreedy\", stmt=f\"KnapsackGreedy({W}, {wt}, {val})\", repeat=1, number=10)\n",
        "\n",
        "    x.append(n)\n",
        "    y.append(t)\n",
        "    y1.append(t1)\n",
        "\n",
        "\n",
        "plt.plot(x,y)\n",
        "plt.plot(x,y1)\n",
        "plt.legend([\"Bottom-up\", \"Greedy\"])\n",
        "\n",
        "plt.xlabel('Tamaño del problema (n)')\n",
        "plt.ylabel('Tiempo en ms')\n",
        "plt.show()"
      ],
      "metadata": {
        "colab": {
          "base_uri": "https://localhost:8080/",
          "height": 279
        },
        "id": "bxFFYwsbgeXR",
        "outputId": "b7bd7542-5e8d-4e23-ef68-dae11b24154d"
      },
      "execution_count": null,
      "outputs": [
        {
          "output_type": "display_data",
          "data": {
            "text/plain": [
              "<Figure size 432x288 with 1 Axes>"
            ],
            "image/png": "[encoded data removed]"
          },
          "metadata": {
            "needs_background": "light"
          }
        }
      ]
    },
    {
      "cell_type": "markdown",
      "metadata": {
        "id": "c-grJLd2uWeY"
      },
      "source": [
        "### **Análisis de resultados**"
      ]
    },
    {
      "cell_type": "markdown",
      "source": [
        "El método **Greedy** es mucho más rápido que el **Bottom-up**, como cabría de esperar, ya que está diseñado de esa manera. \n",
        "\n",
        "Mientras que **Bottom-up** realiza y comprueba todos los posibles casos, combinaciones de artículos, valores para cuando se ponen más o menos artículos, toda posibilidad es encontrada y comparada para encontrar el valor máximo que se puede obtener al almacenar artículos dados en la mochila. Tiene muchísimos sub-problemas (muchos más que el tamaño del problema) y resuelve cada uno, esto hace que su tiempo de ejecución se extienda enormemente a medida que crece el tamaño del problema.\n",
        "\n",
        "Por otro lado, está el método **Greedy** con un enfoque optimista y una idea ingenua, en este problema, asume que el elemento con menor peso estará en el conjunto de elementos que nos da el mayor precio, también asume que los pesos están ordenados y que, si un artículo no puede agregarse por su peso, el resto tampoco. Debido a la forma en que se aplica el generador de instancias, siempre hará $\\frac{n}{2}$ comparaciones. Debido al poco proceso que realiza al asumir ingenuamente situaciones favorables, tiende a tener un tiempo de ejecución extremadamente bajo."
      ],
      "metadata": {
        "id": "xGyxUOBUgwIS"
      }
    },
    {
      "cell_type": "markdown",
      "source": [
        "## **5.2. Problema de la mochila: SubProblemas(Bottom-up) vs Iteraciones(Greedy)**"
      ],
      "metadata": {
        "id": "M4mSeCDmIPy_"
      }
    },
    {
      "cell_type": "markdown",
      "source": [
        "### **Comparación de Gráficas** (SubProblemas vs Iteraciones)"
      ],
      "metadata": {
        "id": "ZV9RpUZO344G"
      }
    },
    {
      "cell_type": "code",
      "source": [
        "import matplotlib.pyplot as plt\n",
        "\n",
        "x=[]; y=[]; y1=[]\n",
        "\n",
        "for n in range(5,100):\n",
        "    W, val, wt = knapsack_instance_generator(n)\n",
        "\n",
        "    iteraciones = 0\n",
        "    subproblemas = 0\n",
        "\n",
        "    valor = KnapsackBottomUp(W, wt, val)\n",
        "    valor = KnapsackGreedy(W, wt, val)\n",
        "\n",
        "    x.append(n)\n",
        "    y.append(subproblemas)\n",
        "    y1.append(iteraciones)\n",
        "\n",
        "\n",
        "plt.plot(x,y)\n",
        "plt.plot(x,y1)\n",
        "plt.legend([\"Sub-Problemas (Bottom-up)\", \"Iteraciones  (Greedy)\"])\n",
        "\n",
        "plt.xlabel('Tamaño del problema (n)')\n",
        "plt.ylabel('Tiempo en ms')\n",
        "plt.show()"
      ],
      "metadata": {
        "colab": {
          "base_uri": "https://localhost:8080/",
          "height": 279
        },
        "id": "ASO96W1HKPy4",
        "outputId": "df69f76d-cabb-4c48-8d00-06466e1f313a"
      },
      "execution_count": 47,
      "outputs": [
        {
          "output_type": "display_data",
          "data": {
            "text/plain": [
              "<Figure size 432x288 with 1 Axes>"
            ],
            "image/png": "[encoded data removed]"
          },
          "metadata": {
            "needs_background": "light"
          }
        }
      ]
    },
    {
      "cell_type": "code",
      "source": [
        "## Menor n para notar mas la diferencia\n",
        "import matplotlib.pyplot as plt\n",
        "\n",
        "x=[]; y=[]; y1=[]\n",
        "\n",
        "for n in range(1,10):\n",
        "    W, val, wt = knapsack_instance_generator(n)\n",
        "\n",
        "    iteraciones = 0\n",
        "    subproblemas = 0\n",
        "\n",
        "    valor = KnapsackBottomUp(W, wt, val)\n",
        "    valor = KnapsackGreedy(W, wt, val)\n",
        "\n",
        "    x.append(n)\n",
        "    y.append(subproblemas)\n",
        "    y1.append(iteraciones)\n",
        "\n",
        "\n",
        "plt.plot(x,y)\n",
        "plt.plot(x,y1)\n",
        "plt.legend([\"Sub-Problemas (Bottom-up)\", \"Iteraciones  (Greedy)\"])\n",
        "\n",
        "plt.xlabel('Tamaño del problema (n)')\n",
        "plt.ylabel('Tiempo en ms')\n",
        "plt.show()"
      ],
      "metadata": {
        "colab": {
          "base_uri": "https://localhost:8080/",
          "height": 279
        },
        "id": "-Ko7Vvw8g0DJ",
        "outputId": "bc30e517-cec3-4b12-b8fb-89dfe3223cdc"
      },
      "execution_count": 48,
      "outputs": [
        {
          "output_type": "display_data",
          "data": {
            "text/plain": [
              "<Figure size 432x288 with 1 Axes>"
            ],
            "image/png": "[encoded data removed]"
          },
          "metadata": {
            "needs_background": "light"
          }
        }
      ]
    },
    {
      "cell_type": "markdown",
      "source": [
        "### **Análisis de resultados**"
      ],
      "metadata": {
        "id": "TgG8pTSrNlk4"
      }
    },
    {
      "cell_type": "markdown",
      "source": [
        "La cantidad de sub-problemas del método **Bottom-up** es mucho mayor a la cantidad de iteraciones del método **Greedy** .\n",
        "\n",
        "En el análisis al comparar el tiempo de ejecución de ambos métodos para el problema, vimos que la cantidad de operaciones que realiza el **Greedy** es minima, mientras que la cantidad de sub-problemas que se deben resolver en el método **Bottom-up** es mayor incluso al tamaño del problema.\n",
        "\n",
        "Podemos agregar una explicación de como crece el tamaño de iteraciones y sub-problemas:\n",
        "\n",
        "* Iteraciones (**Greedy**):\n",
        "  > Debido a que el algoritmo tiene un tiempo de ejecución O(n), debido a que solo recorrerá una vez cada uno de los $n$ articulo, cada vez que el tamaño del problema aumenta en uno, este aumenta sus posibles iteraciones en uno, aunque de la forma en que se generan los datos, siempre iterara hasta la mitad de los $n$ datos.\n",
        "\n",
        "* Sub-problemas (**Bottom-up**):\n",
        "  > Debido a que el algoritmo tiene un tiempo de ejecución O(n*W), cada vez crea una matriz con dimensiones $(n+1)$ x $(W+1)$, eso quiere decir que con cada aumento de tamaño del problema, debe agregar $n$ sub-problemas, además de una cantidad extra de sus problemas dependiendo del nuevo valor de $W$, pudiendo aumentar en casi en más de $100$ cuando a medida que el tamaño crece, puede incluso llegar a ser mucho mayor que $100$, agregando una enorme cantidad de sub-problemas cuando esto ocurre, y tiende a ocurrir que el nuevo $W$ es mayor que el anterior."
      ],
      "metadata": {
        "id": "lHtgZwqYzafS"
      }
    },
    {
      "cell_type": "markdown",
      "source": [
        "## **5.3. Resultados al Problema de la mochila: Bottom-up vs IteracionesGreedy**"
      ],
      "metadata": {
        "id": "y7DJyczt30SV"
      }
    },
    {
      "cell_type": "markdown",
      "source": [
        "### **Comparación Gráficas** (Resultados)"
      ],
      "metadata": {
        "id": "hre2UBn24Lyk"
      }
    },
    {
      "cell_type": "code",
      "source": [
        "import pandas as pd\n",
        "import numpy as np\n",
        "from plotnine import *\n",
        "\n",
        "def createDataFrame(n):\n",
        "    x=[]; V=[]; tipo = []\n",
        "    for i in range(10):\n",
        "        W, val, wt = knapsack_instance_generator(5)\n",
        "\n",
        "        iteraciones = 0\n",
        "        subproblemas = 0\n",
        "\n",
        "        valorB = KnapsackBottomUp(W, wt, val)\n",
        "        valorG = KnapsackGreedy(W, wt, val)\n",
        "\n",
        "        x.append(str(W) + \"[kg]\")\n",
        "        V.append(valorB)\n",
        "        tipo.append(\"Bottom-up\")\n",
        "        x.append(str(W) + \"[kg]\")\n",
        "        V.append(valorG)\n",
        "        tipo.append(\"Greedy\")\n",
        "\n",
        "    datos = {'Peso que soporta la mochila': x,\n",
        "             'Tipo': tipo,\n",
        "             'Valor': V}\n",
        "    return pd.DataFrame(datos)"
      ],
      "metadata": {
        "id": "d7-cyl2j4GVG"
      },
      "execution_count": 78,
      "outputs": []
    },
    {
      "cell_type": "code",
      "source": [
        "# Comparacion tamaño 5\n",
        "(ggplot(createDataFrame(5))+\n",
        " aes(x='Tipo' , y='Valor', fill='Tipo')+\n",
        " geom_bar(stat=\"identity\")+\n",
        " facet_wrap(['Peso que soporta la mochila'])+\n",
        " theme_linedraw()+\n",
        " labs(\n",
        "     x=\"Método de resolucion\",\n",
        "     y=\"Valor máximo\",\n",
        "     title=\"Valor máximo por cada peso de mochila\\nPara problemas de tamaño 5\",\n",
        "    )\n",
        ")"
      ],
      "metadata": {
        "colab": {
          "base_uri": "https://localhost:8080/",
          "height": 527
        },
        "id": "t2vadOG17730",
        "outputId": "57e7de3a-a4ea-4573-c783-a3c4690e7454"
      },
      "execution_count": 80,
      "outputs": [
        {
          "output_type": "display_data",
          "data": {
            "text/plain": [
              "<Figure size 640x480 with 10 Axes>"
            ],
            "image/png": "[encoded data removed]"
          },
          "metadata": {}
        },
        {
          "output_type": "execute_result",
          "data": {
            "text/plain": [
              "<ggplot: (8735452309685)>"
            ]
          },
          "metadata": {},
          "execution_count": 80
        }
      ]
    },
    {
      "cell_type": "code",
      "source": [
        "# Comparacion tamaño 10\n",
        "(ggplot(createDataFrame(10))+\n",
        " aes(x='Tipo' , y='Valor', fill='Tipo')+\n",
        " geom_bar(stat=\"identity\")+\n",
        " facet_wrap(['Peso que soporta la mochila'])+\n",
        " theme_linedraw()+\n",
        " labs(\n",
        "     x=\"Método de resolucion\",\n",
        "     y=\"Valor máximo\",\n",
        "     title=\"Valor máximo por cada peso de mochila\\nPara problemas de tamaño 10\",\n",
        "    )\n",
        ")"
      ],
      "metadata": {
        "colab": {
          "base_uri": "https://localhost:8080/",
          "height": 527
        },
        "id": "bKYg4B11EJMG",
        "outputId": "89b782d2-72a6-4d13-f0ed-e50e45589668"
      },
      "execution_count": 88,
      "outputs": [
        {
          "output_type": "display_data",
          "data": {
            "text/plain": [
              "<Figure size 640x480 with 10 Axes>"
            ],
            "image/png": "[encoded data removed]"
          },
          "metadata": {}
        },
        {
          "output_type": "execute_result",
          "data": {
            "text/plain": [
              "<ggplot: (8735452386317)>"
            ]
          },
          "metadata": {},
          "execution_count": 88
        }
      ]
    },
    {
      "cell_type": "code",
      "source": [
        "# Comparacion tamaño 15\n",
        "(ggplot(createDataFrame(15))+\n",
        " aes(x='Tipo' , y='Valor', fill='Tipo')+\n",
        " geom_bar(stat=\"identity\")+\n",
        " facet_wrap(['Peso que soporta la mochila'])+\n",
        " theme_linedraw()+\n",
        " labs(\n",
        "     x=\"Método de resolucion\",\n",
        "     y=\"Valor máximo\",\n",
        "     title=\"Valor máximo por cada peso de mochila\\nPara problemas de tamaño 15\",\n",
        "    )\n",
        ")"
      ],
      "metadata": {
        "colab": {
          "base_uri": "https://localhost:8080/",
          "height": 527
        },
        "id": "nISuN1uOEuyk",
        "outputId": "27f5e338-4206-470f-f738-09de7972d2ad"
      },
      "execution_count": 84,
      "outputs": [
        {
          "output_type": "display_data",
          "data": {
            "text/plain": [
              "<Figure size 640x480 with 10 Axes>"
            ],
            "image/png": "[encoded data removed]"
          },
          "metadata": {}
        },
        {
          "output_type": "execute_result",
          "data": {
            "text/plain": [
              "<ggplot: (8735452684225)>"
            ]
          },
          "metadata": {},
          "execution_count": 84
        }
      ]
    },
    {
      "cell_type": "code",
      "source": [
        "# Comparacion tamaño 20\n",
        "(ggplot(createDataFrame(20))+\n",
        " aes(x='Tipo' , y='Valor', fill='Tipo')+\n",
        " geom_bar(stat=\"identity\")+\n",
        " facet_wrap(['Peso que soporta la mochila'])+\n",
        " theme_linedraw()+\n",
        " labs(\n",
        "     x=\"Método de resolucion\",\n",
        "     y=\"Valor máximo\",\n",
        "     title=\"Valor máximo por cada peso de mochila\\nPara problemas de tamaño 20\",\n",
        "    )\n",
        ")"
      ],
      "metadata": {
        "colab": {
          "base_uri": "https://localhost:8080/",
          "height": 527
        },
        "id": "Fa_-GtG5EzuM",
        "outputId": "76eb4417-087d-4d9e-af66-b17f0eda987f"
      },
      "execution_count": 87,
      "outputs": [
        {
          "output_type": "display_data",
          "data": {
            "text/plain": [
              "<Figure size 640x480 with 10 Axes>"
            ],
            "image/png": "[encoded data removed]"
          },
          "metadata": {}
        },
        {
          "output_type": "execute_result",
          "data": {
            "text/plain": [
              "<ggplot: (8735453266425)>"
            ]
          },
          "metadata": {},
          "execution_count": 87
        }
      ]
    },
    {
      "cell_type": "markdown",
      "source": [
        "### **Análisis de resultados**"
      ],
      "metadata": {
        "id": "OhZR_Al2E-yZ"
      }
    },
    {
      "cell_type": "markdown",
      "source": [
        "Se puede ver que para una mochila con un peso definido el valor máximo obtenido por el método **Greedy** nunca será mayor al obtenido por **Bottom-up**. Generalmente el **Bottom-up** es mayor, y como vimos previamente es correcto, es decir, da la respuesta que corresponde, como se conoce la correctitud del **Bottom-up**, podemos notar que el **Greedy** no da la respuesta correcta en la mayoría de los casos independientemente del tamaño del problema. A veces incluso da respuesta sumamente lejanas.\n",
        "\n",
        "En los análisis anteriores vimos las diferencias en sus procesos lo que afecta su tiempo de ejecución y su trabajo. Es debido a estas diferencias que los resultados son desiguales. \n",
        "\n",
        "* **Bottom-up** comprueba todas las posibles combinaciones de artículos que se puedes guardar en la mochila, y con esos datos construye el valor máximo que se le puede atribuir a la mochila.\n",
        "* **Greedy** asume un único caso que cree ingenuamente que siempre se cumplirá y sigue un proceso más simple y rápido para llegar al resultado, pero el problema no tiene ese único caso y ese caso casi nunca se cumple con el generador de instancia aplicado.\n",
        "\n",
        "Debido a estas diferencias el valor óptimo que entrega cada 1 es diferente.\n"
      ],
      "metadata": {
        "id": "WHDGOC61FBDS"
      }
    }
  ],
  "metadata": {
    "colab": {
      "collapsed_sections": [
        "ZC6tMltT1L0x",
        "XY07Fs2HSgTT",
        "J6F2Yp_IA6UB",
        "OFtxHy6oCCVm",
        "EPNRzmEUdAlW",
        "BlOrHwNRRgUl",
        "iicgroujCNjI",
        "cDvniNCLVbiw",
        "_Sc7ObDrs7v9",
        "tIqxhR3As_Sk",
        "C5er_1JrvSow",
        "LHI4ndHh7pm7",
        "-3Ee2mH97qmj",
        "CNd9hfDO4UvO",
        "KKp56zrst8L2",
        "gvfliQVlHvXK",
        "Dz_1sWcaoShu",
        "YK7XcUU_paKV",
        "WAI-c0NhrxMl",
        "l73Y2ayAtBRK",
        "ONoW9W07hpU_",
        "Lf5mpLtluCF4",
        "ucqDd5QFuHfJ",
        "uH_PKp0bf6pl",
        "eha_1zF_wBcR",
        "Vq2t1R_Kv3uD",
        "OL7Rky9nuxJr",
        "4xAYJeunCV66",
        "UZE4jGMinXns",
        "lmfpJMNiL9df",
        "gaeOZWKQqYk6",
        "c-grJLd2uWeY",
        "M4mSeCDmIPy_",
        "ZV9RpUZO344G",
        "TgG8pTSrNlk4",
        "y7DJyczt30SV",
        "hre2UBn24Lyk",
        "OhZR_Al2E-yZ"
      ],
      "provenance": [],
      "include_colab_link": true
    },
    "kernelspec": {
      "display_name": "Python 3",
      "name": "python3"
    },
    "language_info": {
      "name": "python"
    }
  },
  "nbformat": 4,
  "nbformat_minor": 0
}