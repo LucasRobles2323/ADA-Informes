{
  "cells": [
    {
      "cell_type": "markdown",
      "metadata": {
        "id": "view-in-github",
        "colab_type": "text"
      },
      "source": [
        "<a href=\"https://colab.research.google.com/github/LucasRobles2323/ADA-Informes/blob/main/Informe3-SubArregloM%C3%A1ximo.ipynb\" target=\"_parent\"><img src=\"https://colab.research.google.com/assets/colab-badge.svg\" alt=\"Open In Colab\"/></a>"
      ]
    },
    {
      "cell_type": "markdown",
      "metadata": {
        "id": "ZC6tMltT1L0x"
      },
      "source": [
        "# **1. Problema del Subarreglo Máximo**"
      ]
    },
    {
      "cell_type": "markdown",
      "metadata": {
        "id": "i0L0XXIP7-cU"
      },
      "source": [
        "**Entrada:** El programa recibe una secuencia de $n$ números arreglo en un orden aleatoria con elementos enteros de la manera **A**$=[a_1, a_2, ..., a_n]$.\n",
        "\n",
        "**Salida:** El programa retorna la secuencia de $n$ o menos números de la manera $[a_i, a_{i+1}, a_{i+2},...,a_j]$ tal que $1 \\leq i \\leq j \\leq n$. Y la suma ${\\displaystyle \\sum _{x=i}^{j}A[x]}$  sea la mayor entre elementos contiguos del arreglo **A**."
      ]
    },
    {
      "cell_type": "markdown",
      "source": [
        "El problema del **Subarreglo Máximo** se puede resolver utilizando varias técnicas algorítmicas diferentes, incluida la fuerza bruta, divide y vencerás, la programación dinámica, y la reducción a los caminos más cortos.\n",
        "\n",
        "Este problema fue propuesto como un modelo simplificado para la estimación de máxima verosimilitud de patrones en imágenes digitalizadas por **Ulf Grenander** en 1977.\n"
      ],
      "metadata": {
        "id": "2po-t0ODozx7"
      }
    },
    {
      "cell_type": "markdown",
      "metadata": {
        "id": "_j788dvK-Cp5"
      },
      "source": [
        "### Ejemplo"
      ]
    },
    {
      "cell_type": "markdown",
      "source": [
        "![SubArrMax](https://media.geeksforgeeks.org/wp-content/uploads/maximum-subarray-sum-is-7.jpg) \n",
        "By: https://es.acervolima.com/suma-maxima-de-subarreglos-en-o-n-usando-la-suma-de-prefijo/"
      ],
      "metadata": {
        "id": "sndEc4TOrMBz"
      }
    },
    {
      "cell_type": "markdown",
      "source": [
        "#### **Arreglo Inicial:**  $[-2, -3, 4, -1, -2, 1, 5, -3]$\n",
        "\n",
        "\n",
        "#### **Subarreglo maximo:**  $[4, -1, -2, 1, 5]$ **con suma:**  $7$"
      ],
      "metadata": {
        "id": "pXoDN3imbUMn"
      }
    },
    {
      "cell_type": "markdown",
      "source": [
        "### Aplicaciones"
      ],
      "metadata": {
        "id": "E_Y6GsvdoNVS"
      }
    },
    {
      "cell_type": "markdown",
      "source": [
        "Los problemas de subarreglo máximo surgen en muchos campos, como el análisis de secuencias genómicas y la visión por computadora .\n",
        "\n",
        "El análisis de secuencias genómicas emplea algoritmos de subarreglo máximo para identificar segmentos biológicos importantes de secuencias de proteínas. Estos problemas incluyen segmentos conservados, regiones ricas en GC, repeticiones en tándem, filtro de baja complejidad, dominios de unión al ADN y regiones de alta carga.\n",
        "\n",
        "En visión artificial , los algoritmos de subarreglo máximo se utilizan en imágenes de mapa de bits para detectar el área más brillante de una imagen."
      ],
      "metadata": {
        "id": "oUSfpl1noXit"
      }
    },
    {
      "cell_type": "markdown",
      "metadata": {
        "id": "J6F2Yp_IA6UB"
      },
      "source": [
        "# **2. Subarreglo Máximo** (Divide y Vencerás)"
      ]
    },
    {
      "cell_type": "markdown",
      "metadata": {
        "id": "OFtxHy6oCCVm"
      },
      "source": [
        "## **2.1. Descripción del algoritmo**"
      ]
    },
    {
      "cell_type": "markdown",
      "metadata": {
        "id": "Xwimb_pZ-81a"
      },
      "source": [
        "La tarea es encontrar el subarreglo máximo dentro de un arreglo, es decir, un subarreglos con elementos contiguos del arreglo que la suma de sus elementos sea mayor a la suma de los elementos del arreglo y de cualquier subarreglo posible con sus elementos.\n",
        "\n",
        "Por ejemplo, para el conjunto de valores [−2, 1, −3, 4, −1, 2, 1, −5, 4], el subarreglo contiguo con la suma más grande es [4, −1, 2, 1] , con suma 6.\n",
        "\n",
        "El algoritmo recibe de entrada una lista(o arreglo) $arr$ con una secuencia de $n$ números en cualquier orden. \n",
        "\n",
        "Luego los números dentro de la lista(o arreglo) se ordenan de mayor a menor o de menor a mayor dependiendo del programador. En este caso describiremos la técnica algorítmica de divide y vencerás con `MaxSubArray` para solucionar el algoritmo.\n",
        "\n",
        "1.   En cada interacción i del algoritmo, se calculará la mitad del arreglo para dividirlo en dos subarreglos, que, para obtener el máximo subarreglo posible de formar dentro del arreglo enviado, se enviaran a la función `MaxSubArray`.\n",
        "\n",
        "2.   Una vez obtenido con `MaxSubArray` el subarreglo máximo de la mitad izquierda y derecha del arreglo, se usara la función `MaxSubArrayMid` para conseguir el subarreglo máximo que contenga el elemento en la mitad del arreglo.\n",
        "\n",
        "3.   Una vez obtenido los 3 subarreglos máximo de las partes izquierda, derecha y mitad del arreglo, se evaluara cual suma es mayor. `MaxSubArray` retorba el subarreglo máximo entre los 3 subarreglos."
      ]
    },
    {
      "cell_type": "markdown",
      "metadata": {
        "id": "iicgroujCNjI"
      },
      "source": [
        "## **2.2. Código**"
      ]
    },
    {
      "cell_type": "code",
      "source": [
        "import random\n",
        "from termcolor import colored\n",
        "import copy\n",
        "\n",
        "comparaciones = 0; iteraciones = 1\n",
        "\n",
        "def MaxSubArrayMid(arr, izq, med, der, verbose=False):\n",
        "    global iteraciones\n",
        "    if verbose == True: \n",
        "        print(f\"**************** Iteracion {iteraciones} **********************\")\n",
        "        iteraciones += 1\n",
        "        print(f\"Recibido el arreglo {a[izq:der+1]}\")\n",
        "        print(f\"Se debe encontrar el subarreglo maximo que contenga array[{med}]= {arr[med]}\")\n",
        "    sum = 0\n",
        "    izq_sum = -10000\n",
        "    izq_index = -1\n",
        "    global comparaciones\n",
        "\n",
        "    if verbose == True: print(\"--------------------------------------\")\n",
        "    if verbose == True: print(f\"El subarreglo izquierdo es {a[izq: med+1]}\")\n",
        "    for i in range(med, izq-1, -1):\n",
        "        comparaciones+=1\n",
        "        sum = sum + arr[i]\n",
        "        if verbose == True: print(f\"     Para el subarreglo {a[i:med+1]} su suma es = {sum}\")\n",
        "        if (sum > izq_sum):\n",
        "            izq_sum = sum\n",
        "            izq_index = i\n",
        "    if verbose == True: print(f\"Y suu subarreglo maximo es {a[izq_index:med+1]} y su suma es = {izq_sum}\")\n",
        " \n",
        "    sum = 0\n",
        "    der_sum = -10000\n",
        "    der_index = -1\n",
        "    if verbose == True: print(\"--------------------------------------\")\n",
        "    if verbose == True: print(f\"El subarreglo derecho es {a[med: der+1]}\")\n",
        "    for i in range(med, der + 1):\n",
        "        comparaciones+=1\n",
        "        sum = sum + arr[i]\n",
        "        if verbose == True: print(f\"     Para el subarreglo {a[med:i+1]} su suma es = {sum}\")\n",
        "        if (sum > der_sum):\n",
        "            der_sum = sum\n",
        "            der_index = i\n",
        "    if verbose == True: print(f\"Y su subarreglo maximo es {a[med:der_index+1]} y su suma es = {der_sum}\")\n",
        "    \n",
        "    med_sum = izq_sum + der_sum - arr[med]\n",
        "    if verbose == True: print(\"--------------------------------------\")\n",
        "    if verbose == True: print(f\"El subarreglo maximo de en medio es {a[izq_index:der_index+1]} y su suma es = {med_sum}\")\n",
        "\n",
        "    comparaciones-=1 ## Com la mitad esta en los 2 for, hay una comparacion que se repite\n",
        "    \n",
        "    if verbose == True: print(\"--------------------------------------\")\n",
        "    if verbose == True: \n",
        "        print(f\"Entre los 3 subarreglos {a[izq_index:med+1]}={izq_sum} -- {a[med:der_index+1]}={der_sum} -- {a[izq_index:der_index+1]}={med_sum}\")\n",
        "    if(med_sum > der_sum and med_sum > izq_sum): \n",
        "          if verbose == True: print(f\"El subarreglo mayor es {a[izq_index:der_index+1]}={med_sum}\")\n",
        "          if verbose == True: print(\"--------------------------------------\")\n",
        "          if verbose == True: print(\"****************************************************\\n\")\n",
        "          return (izq_index, der_index, med_sum)\n",
        "    elif (der_sum > izq_sum):\n",
        "          if verbose == True: print(f\"El subarreglo mayor es {a[med:der_index+1]}={der_sum}\")\n",
        "          if verbose == True: print(\"--------------------------------------\")\n",
        "          if verbose == True: print(\"****************************************************\\n\")\n",
        "          return (med , der_index, der_sum)\n",
        "    else: \n",
        "          if verbose == True: print(f\"El subarreglo mayor es {a[izq_index:med+1]}={izq_sum}\")\n",
        "          if verbose == True: print(\"--------------------------------------\")\n",
        "          if verbose == True: print(\"****************************************************\\n\")\n",
        "          return (izq_index, med, (izq_sum))\n",
        "    \n",
        "    \n",
        "\n",
        "def MaxSubArray(arr, izq, der, verbose=False):\n",
        "      if izq == der: return (izq, der, arr[izq])\n",
        "      med = (izq + der) // 2 \n",
        "      \n",
        "      (izq_start, izq_finish, izq_sum) = MaxSubArray(arr, izq, med, verbose)\n",
        "      (der_start, der_finish, der_sum) = MaxSubArray(arr, med+1, der, verbose)\n",
        "      (med_start, med_finish, med_sum) = MaxSubArrayMid(arr, izq, med, der, verbose)\n",
        "\n",
        "      if der_sum > izq_sum and der_sum > med_sum: return (der_start, der_finish, der_sum)\n",
        "      elif izq_sum > med_sum and izq_sum > der_sum: return (izq_start, izq_finish, izq_sum)\n",
        "      else : return (med_start, med_finish, med_sum)\n",
        "\n",
        "a = random.sample(range(-100, 100), 7)\n",
        "print(f\"Arreglo Inicial: {a} \\n\")\n",
        "(inicio, final, suma) = MaxSubArray(a, 0, len(a)-1)\n",
        "print(\"Subarreglo maximo: \", a[inicio:final+1], \"Y la suma es: \", suma )"
      ],
      "metadata": {
        "id": "NgifPPhmWh0n",
        "colab": {
          "base_uri": "https://localhost:8080/"
        },
        "outputId": "236336ac-30fd-419a-ef3b-6533d8b7b6a0"
      },
      "execution_count": 3,
      "outputs": [
        {
          "output_type": "stream",
          "name": "stdout",
          "text": [
            "Arreglo Inicial: [96, 46, -35, 1, -48, 42, -3] \n",
            "\n",
            "Subarreglo maximo:  [96, 46] Y la suma es:  142\n"
          ]
        }
      ]
    },
    {
      "cell_type": "markdown",
      "metadata": {
        "id": "EGz6I60SVdP5"
      },
      "source": [
        "## **2.3. Ejemplo**"
      ]
    },
    {
      "cell_type": "markdown",
      "metadata": {
        "id": "Ckef1qIIVlMU"
      },
      "source": [
        "Por ejemplo, consideremos el siguiente arreglo\n",
        "\n",
        "*Entrada:* **a** = $[-1,2,-6]$\n",
        "\n",
        "* 1. Llamando al **MaxSubArray**, recibe el arreglo **A**=$[-1,2,-6]$. como tiene más de 1 elemento, se llama nuevamente a  **MaxSubArray** enviando la mitad izquierda del arreglo, es decir,**A** = $[-1,2]$ se envia a **MaxSubArray**.\n",
        "\n",
        "* 2. **MaxSubArray** recibe el arreglo **A**=$[-1,2]$. Como tiene más de 1 elemento, se llama nuevamente a **MaxSubArray** enviando la mitad izquierda del arreglo, es decir,**A** = $[-1]$ a **MaxSubArray**.\n",
        "\n",
        "* 3. **MaxSubArray** recibe el arreglo **A**=$[-1]$. Como **A** solo tiene 1 elemento, retorna el arreglo, ya que es su propio subarreglo máximo.\n",
        "\n",
        "* 2. Como al enviar la mitad izquierda del algoritmo (**A** = $[-1]$) retorno, ahora se enviará la mitad derecha, es decir, **A** = $[2]$ a **MaxSubArray**.\n",
        "\n",
        "* 3. **MaxSubArray** recibe el arreglo **A**=$[2]$. Como **A** solo tiene 1 elemento, retorna el arreglo, ya que es su propio subarreglo máximo.\n",
        "\n",
        "* 2. Ahora que **MaxSubArray** recibio los subarreglos maximos de la mitad izquierda y derecha ($subA_{izq} = [-1]$ y $subA_{der} = [2]$), debe conseguir el subarreglo máximo que contenga el elemento en la mitad del arreglo, por eso envia el arreglo (**A** = $[-1,2]$) a la función **MaxSubArrayMid**.\n",
        "\n",
        "* 3. **MaxSubArrayMid** recibe el arreglo **A**=$[-1,2]$, consigue 3 subarreglos maximos que contienen el elemento de la mitad del arreglo, $subA_{izq} = [-1]$;$subA_{der} = [-1,2]$; $subA_{med} = [-1,2]$. \n",
        "\n",
        "* 3. Consigue sus sumas $subA_{izq}Suma = -1$;$subA_{der}Suma = 1$; $subA_{med}Suma = 1$ y retorna los indices y la suma del subarreglo máximo de entre los 3 (como en este caso der y med son lo mismo, no importa cual de los 2 retorne)\n",
        "\n",
        "* 2. Como finalizo el **MaxSubArrayMid** dentro del **MaxSubArray**, quiere decir que el arreglo recibido $subA_{med} = [-1,2]$ es el de enmedio maximo, el $sub_A{izq} = [-1]$ es el izquierdo maximo y $subA_{der} = [2]$. Se selecciona cual tiene una suma mayor al sumar sus elementos. En este caso, el subarreglo mayor es $subA_{der} = [2]$, por eso **MaxSubArray** retornara sus indices y su suma.\n",
        "\n",
        "* 1. Como al enviar la mitad izquierda del algoritmo (**A** = $[-1,2]$) retorno su subarreglo máximo ($subA_{izq} = [2]$), ahora se enviará la mitad derecha, es decir, **A** = $[-6]$ a **MaxSubArray**.\n",
        "\n",
        "* 2. **MaxSubArray** recibe el arreglo **A**=$[-6]$. Como **A** solo tiene 1 elemento, retorna el arreglo, ya que es su propio subarreglo máximo.\n",
        "\n",
        "* 1. Ahora que **MaxSubArray** recibio los subarreglos maximos de la mitad izquierda y derecha ($subA_{izq} = [2]$ y $subA_{der} = [-6]$), debe conseguir el subarreglo máximo que contenga el elemento en la mitad del arreglo, por eso envia el arreglo (**A** = $[-1,2,-6]$) a la función **MaxSubArrayMid**.\n",
        "\n",
        "* 2. **MaxSubArrayMid** recibe el arreglo **A**=$[-1,2,-6]$, consigue 3 subarreglos maximos que contienen el elemento de la mitad del arreglo, $subA_{izq} = [-1,2]$;$subA_{der} = [2,-6]$; $subA_{med} = [-1,2,-6]$.\n",
        "\n",
        "* 2. Consigue sus sumas $subA_{izq}Suma = 1$;$subA_{der}Suma = -4$; $subA_{med}Suma = -5$ y retorna los indices y la suma del subarreglo máximo de entre los 3, en este caso retorna el $subA_{izq} = [-1,2]$.\n",
        "\n",
        "* 1. Como finalizo el **MaxSubArrayMid** dentro del **MaxSubArray**, quiere decir que el arreglo recibido $subA_{med} = [-1,2]$ es el de enmedio maximo, el $sub_A{izq} = [2]$ es el izquierdo maximo y $subA_{der} = [-6]$. Se selecciona cual tiene una suma mayor al sumar sus elementos. En este caso, el subarreglo mayor es $subA_{izq} = [2]$, por eso **MaxSubArray** retornara sus indices y su suma.\n",
        "\n",
        "*Salida:* **A** = $[2]$ y su suma es $2$\n"
      ]
    },
    {
      "cell_type": "markdown",
      "metadata": {
        "id": "OKGol3wpd18O"
      },
      "source": [
        "## **2.4. Ejecución del algoritmo paso a paso**"
      ]
    },
    {
      "cell_type": "markdown",
      "metadata": {
        "id": "nx45FsD1eDXP"
      },
      "source": [
        "Aplicando **`verbose=True`**, podemos ver lo que ocurre en cada iteración del algoritmo de Insertion Sort."
      ]
    },
    {
      "cell_type": "code",
      "execution_count": null,
      "metadata": {
        "colab": {
          "base_uri": "https://localhost:8080/"
        },
        "id": "p91sfXt8eRiO",
        "outputId": "d9a11437-5fa6-4553-e951-17cc27af23d6"
      },
      "outputs": [
        {
          "output_type": "stream",
          "name": "stdout",
          "text": [
            "Arreglo Inicial: [-70, -11, 68, -2, 29, 23, 40, 7, -1, -79, -91, 70] \n",
            "\n",
            "**************** Iteracion 1 **********************\n",
            "Recibido el arreglo [-70, -11]\n",
            "Se debe encontrar el subarreglo maximo que contenga array[0]= -70\n",
            "--------------------------------------\n",
            "El subarreglo izquierdo es [-70]\n",
            "     Para el subarreglo [-70] su suma es = -70\n",
            "Y suu subarreglo maximo es [-70] y su suma es = -70\n",
            "--------------------------------------\n",
            "El subarreglo derecho es [-70, -11]\n",
            "     Para el subarreglo [-70] su suma es = -70\n",
            "     Para el subarreglo [-70, -11] su suma es = -81\n",
            "Y su subarreglo maximo es [-70] y su suma es = -70\n",
            "--------------------------------------\n",
            "El subarreglo maximo de en medio es [-70] y su suma es = -70\n",
            "--------------------------------------\n",
            "Entre los 3 subarreglos [-70]=-70 -- [-70]=-70 -- [-70]=-70\n",
            "El subarreglo mayor es [-70]=-70\n",
            "--------------------------------------\n",
            "****************************************************\n",
            "\n",
            "**************** Iteracion 2 **********************\n",
            "Recibido el arreglo [-70, -11, 68]\n",
            "Se debe encontrar el subarreglo maximo que contenga array[1]= -11\n",
            "--------------------------------------\n",
            "El subarreglo izquierdo es [-70, -11]\n",
            "     Para el subarreglo [-11] su suma es = -11\n",
            "     Para el subarreglo [-70, -11] su suma es = -81\n",
            "Y suu subarreglo maximo es [-11] y su suma es = -11\n",
            "--------------------------------------\n",
            "El subarreglo derecho es [-11, 68]\n",
            "     Para el subarreglo [-11] su suma es = -11\n",
            "     Para el subarreglo [-11, 68] su suma es = 57\n",
            "Y su subarreglo maximo es [-11, 68] y su suma es = 57\n",
            "--------------------------------------\n",
            "El subarreglo maximo de en medio es [-11, 68] y su suma es = 57\n",
            "--------------------------------------\n",
            "Entre los 3 subarreglos [-11]=-11 -- [-11, 68]=57 -- [-11, 68]=57\n",
            "El subarreglo mayor es [-11, 68]=57\n",
            "--------------------------------------\n",
            "****************************************************\n",
            "\n",
            "**************** Iteracion 3 **********************\n",
            "Recibido el arreglo [-2, 29]\n",
            "Se debe encontrar el subarreglo maximo que contenga array[3]= -2\n",
            "--------------------------------------\n",
            "El subarreglo izquierdo es [-2]\n",
            "     Para el subarreglo [-2] su suma es = -2\n",
            "Y suu subarreglo maximo es [-2] y su suma es = -2\n",
            "--------------------------------------\n",
            "El subarreglo derecho es [-2, 29]\n",
            "     Para el subarreglo [-2] su suma es = -2\n",
            "     Para el subarreglo [-2, 29] su suma es = 27\n",
            "Y su subarreglo maximo es [-2, 29] y su suma es = 27\n",
            "--------------------------------------\n",
            "El subarreglo maximo de en medio es [-2, 29] y su suma es = 27\n",
            "--------------------------------------\n",
            "Entre los 3 subarreglos [-2]=-2 -- [-2, 29]=27 -- [-2, 29]=27\n",
            "El subarreglo mayor es [-2, 29]=27\n",
            "--------------------------------------\n",
            "****************************************************\n",
            "\n",
            "**************** Iteracion 4 **********************\n",
            "Recibido el arreglo [-2, 29, 23]\n",
            "Se debe encontrar el subarreglo maximo que contenga array[4]= 29\n",
            "--------------------------------------\n",
            "El subarreglo izquierdo es [-2, 29]\n",
            "     Para el subarreglo [29] su suma es = 29\n",
            "     Para el subarreglo [-2, 29] su suma es = 27\n",
            "Y suu subarreglo maximo es [29] y su suma es = 29\n",
            "--------------------------------------\n",
            "El subarreglo derecho es [29, 23]\n",
            "     Para el subarreglo [29] su suma es = 29\n",
            "     Para el subarreglo [29, 23] su suma es = 52\n",
            "Y su subarreglo maximo es [29, 23] y su suma es = 52\n",
            "--------------------------------------\n",
            "El subarreglo maximo de en medio es [29, 23] y su suma es = 52\n",
            "--------------------------------------\n",
            "Entre los 3 subarreglos [29]=29 -- [29, 23]=52 -- [29, 23]=52\n",
            "El subarreglo mayor es [29, 23]=52\n",
            "--------------------------------------\n",
            "****************************************************\n",
            "\n",
            "**************** Iteracion 5 **********************\n",
            "Recibido el arreglo [-70, -11, 68, -2, 29, 23]\n",
            "Se debe encontrar el subarreglo maximo que contenga array[2]= 68\n",
            "--------------------------------------\n",
            "El subarreglo izquierdo es [-70, -11, 68]\n",
            "     Para el subarreglo [68] su suma es = 68\n",
            "     Para el subarreglo [-11, 68] su suma es = 57\n",
            "     Para el subarreglo [-70, -11, 68] su suma es = -13\n",
            "Y suu subarreglo maximo es [68] y su suma es = 68\n",
            "--------------------------------------\n",
            "El subarreglo derecho es [68, -2, 29, 23]\n",
            "     Para el subarreglo [68] su suma es = 68\n",
            "     Para el subarreglo [68, -2] su suma es = 66\n",
            "     Para el subarreglo [68, -2, 29] su suma es = 95\n",
            "     Para el subarreglo [68, -2, 29, 23] su suma es = 118\n",
            "Y su subarreglo maximo es [68, -2, 29, 23] y su suma es = 118\n",
            "--------------------------------------\n",
            "El subarreglo maximo de en medio es [68, -2, 29, 23] y su suma es = 118\n",
            "--------------------------------------\n",
            "Entre los 3 subarreglos [68]=68 -- [68, -2, 29, 23]=118 -- [68, -2, 29, 23]=118\n",
            "El subarreglo mayor es [68, -2, 29, 23]=118\n",
            "--------------------------------------\n",
            "****************************************************\n",
            "\n",
            "**************** Iteracion 6 **********************\n",
            "Recibido el arreglo [40, 7]\n",
            "Se debe encontrar el subarreglo maximo que contenga array[6]= 40\n",
            "--------------------------------------\n",
            "El subarreglo izquierdo es [40]\n",
            "     Para el subarreglo [40] su suma es = 40\n",
            "Y suu subarreglo maximo es [40] y su suma es = 40\n",
            "--------------------------------------\n",
            "El subarreglo derecho es [40, 7]\n",
            "     Para el subarreglo [40] su suma es = 40\n",
            "     Para el subarreglo [40, 7] su suma es = 47\n",
            "Y su subarreglo maximo es [40, 7] y su suma es = 47\n",
            "--------------------------------------\n",
            "El subarreglo maximo de en medio es [40, 7] y su suma es = 47\n",
            "--------------------------------------\n",
            "Entre los 3 subarreglos [40]=40 -- [40, 7]=47 -- [40, 7]=47\n",
            "El subarreglo mayor es [40, 7]=47\n",
            "--------------------------------------\n",
            "****************************************************\n",
            "\n",
            "**************** Iteracion 7 **********************\n",
            "Recibido el arreglo [40, 7, -1]\n",
            "Se debe encontrar el subarreglo maximo que contenga array[7]= 7\n",
            "--------------------------------------\n",
            "El subarreglo izquierdo es [40, 7]\n",
            "     Para el subarreglo [7] su suma es = 7\n",
            "     Para el subarreglo [40, 7] su suma es = 47\n",
            "Y suu subarreglo maximo es [40, 7] y su suma es = 47\n",
            "--------------------------------------\n",
            "El subarreglo derecho es [7, -1]\n",
            "     Para el subarreglo [7] su suma es = 7\n",
            "     Para el subarreglo [7, -1] su suma es = 6\n",
            "Y su subarreglo maximo es [7] y su suma es = 7\n",
            "--------------------------------------\n",
            "El subarreglo maximo de en medio es [40, 7] y su suma es = 47\n",
            "--------------------------------------\n",
            "Entre los 3 subarreglos [40, 7]=47 -- [7]=7 -- [40, 7]=47\n",
            "El subarreglo mayor es [40, 7]=47\n",
            "--------------------------------------\n",
            "****************************************************\n",
            "\n",
            "**************** Iteracion 8 **********************\n",
            "Recibido el arreglo [-79, -91]\n",
            "Se debe encontrar el subarreglo maximo que contenga array[9]= -79\n",
            "--------------------------------------\n",
            "El subarreglo izquierdo es [-79]\n",
            "     Para el subarreglo [-79] su suma es = -79\n",
            "Y suu subarreglo maximo es [-79] y su suma es = -79\n",
            "--------------------------------------\n",
            "El subarreglo derecho es [-79, -91]\n",
            "     Para el subarreglo [-79] su suma es = -79\n",
            "     Para el subarreglo [-79, -91] su suma es = -170\n",
            "Y su subarreglo maximo es [-79] y su suma es = -79\n",
            "--------------------------------------\n",
            "El subarreglo maximo de en medio es [-79] y su suma es = -79\n",
            "--------------------------------------\n",
            "Entre los 3 subarreglos [-79]=-79 -- [-79]=-79 -- [-79]=-79\n",
            "El subarreglo mayor es [-79]=-79\n",
            "--------------------------------------\n",
            "****************************************************\n",
            "\n",
            "**************** Iteracion 9 **********************\n",
            "Recibido el arreglo [-79, -91, 70]\n",
            "Se debe encontrar el subarreglo maximo que contenga array[10]= -91\n",
            "--------------------------------------\n",
            "El subarreglo izquierdo es [-79, -91]\n",
            "     Para el subarreglo [-91] su suma es = -91\n",
            "     Para el subarreglo [-79, -91] su suma es = -170\n",
            "Y suu subarreglo maximo es [-91] y su suma es = -91\n",
            "--------------------------------------\n",
            "El subarreglo derecho es [-91, 70]\n",
            "     Para el subarreglo [-91] su suma es = -91\n",
            "     Para el subarreglo [-91, 70] su suma es = -21\n",
            "Y su subarreglo maximo es [-91, 70] y su suma es = -21\n",
            "--------------------------------------\n",
            "El subarreglo maximo de en medio es [-91, 70] y su suma es = -21\n",
            "--------------------------------------\n",
            "Entre los 3 subarreglos [-91]=-91 -- [-91, 70]=-21 -- [-91, 70]=-21\n",
            "El subarreglo mayor es [-91, 70]=-21\n",
            "--------------------------------------\n",
            "****************************************************\n",
            "\n",
            "**************** Iteracion 10 **********************\n",
            "Recibido el arreglo [40, 7, -1, -79, -91, 70]\n",
            "Se debe encontrar el subarreglo maximo que contenga array[8]= -1\n",
            "--------------------------------------\n",
            "El subarreglo izquierdo es [40, 7, -1]\n",
            "     Para el subarreglo [-1] su suma es = -1\n",
            "     Para el subarreglo [7, -1] su suma es = 6\n",
            "     Para el subarreglo [40, 7, -1] su suma es = 46\n",
            "Y suu subarreglo maximo es [40, 7, -1] y su suma es = 46\n",
            "--------------------------------------\n",
            "El subarreglo derecho es [-1, -79, -91, 70]\n",
            "     Para el subarreglo [-1] su suma es = -1\n",
            "     Para el subarreglo [-1, -79] su suma es = -80\n",
            "     Para el subarreglo [-1, -79, -91] su suma es = -171\n",
            "     Para el subarreglo [-1, -79, -91, 70] su suma es = -101\n",
            "Y su subarreglo maximo es [-1] y su suma es = -1\n",
            "--------------------------------------\n",
            "El subarreglo maximo de en medio es [40, 7, -1] y su suma es = 46\n",
            "--------------------------------------\n",
            "Entre los 3 subarreglos [40, 7, -1]=46 -- [-1]=-1 -- [40, 7, -1]=46\n",
            "El subarreglo mayor es [40, 7, -1]=46\n",
            "--------------------------------------\n",
            "****************************************************\n",
            "\n",
            "**************** Iteracion 11 **********************\n",
            "Recibido el arreglo [-70, -11, 68, -2, 29, 23, 40, 7, -1, -79, -91, 70]\n",
            "Se debe encontrar el subarreglo maximo que contenga array[5]= 23\n",
            "--------------------------------------\n",
            "El subarreglo izquierdo es [-70, -11, 68, -2, 29, 23]\n",
            "     Para el subarreglo [23] su suma es = 23\n",
            "     Para el subarreglo [29, 23] su suma es = 52\n",
            "     Para el subarreglo [-2, 29, 23] su suma es = 50\n",
            "     Para el subarreglo [68, -2, 29, 23] su suma es = 118\n",
            "     Para el subarreglo [-11, 68, -2, 29, 23] su suma es = 107\n",
            "     Para el subarreglo [-70, -11, 68, -2, 29, 23] su suma es = 37\n",
            "Y suu subarreglo maximo es [68, -2, 29, 23] y su suma es = 118\n",
            "--------------------------------------\n",
            "El subarreglo derecho es [23, 40, 7, -1, -79, -91, 70]\n",
            "     Para el subarreglo [23] su suma es = 23\n",
            "     Para el subarreglo [23, 40] su suma es = 63\n",
            "     Para el subarreglo [23, 40, 7] su suma es = 70\n",
            "     Para el subarreglo [23, 40, 7, -1] su suma es = 69\n",
            "     Para el subarreglo [23, 40, 7, -1, -79] su suma es = -10\n",
            "     Para el subarreglo [23, 40, 7, -1, -79, -91] su suma es = -101\n",
            "     Para el subarreglo [23, 40, 7, -1, -79, -91, 70] su suma es = -31\n",
            "Y su subarreglo maximo es [23, 40, 7] y su suma es = 70\n",
            "--------------------------------------\n",
            "El subarreglo maximo de en medio es [68, -2, 29, 23, 40, 7] y su suma es = 165\n",
            "--------------------------------------\n",
            "Entre los 3 subarreglos [68, -2, 29, 23]=118 -- [23, 40, 7]=70 -- [68, -2, 29, 23, 40, 7]=165\n",
            "El subarreglo mayor es [68, -2, 29, 23, 40, 7]=165\n",
            "--------------------------------------\n",
            "****************************************************\n",
            "\n",
            "Subarreglo maximo:  [68, -2, 29, 23, 40, 7] Y la suma es:  165\n"
          ]
        }
      ],
      "source": [
        "import random\n",
        "comparaciones = 0; iteraciones = 1\n",
        "a = random.sample(range(-100, 100), 12)\n",
        "print(f\"Arreglo Inicial: {a} \\n\")\n",
        "(inicio, final, suma) = MaxSubArray(a, 0, len(a)-1, True)\n",
        "print(\"Subarreglo maximo: \", a[inicio:final+1], \"Y la suma es: \", suma )"
      ]
    },
    {
      "cell_type": "markdown",
      "metadata": {
        "id": "n1xTfIDSfCDf"
      },
      "source": [
        "Al final de cada pasada iteracion, se identifico correctamente el subarreglo mayor que contiene el elemento de la mitad del arreglo."
      ]
    },
    {
      "cell_type": "markdown",
      "metadata": {
        "id": "KKp56zrst8L2"
      },
      "source": [
        "# **3. Correctitud**"
      ]
    },
    {
      "cell_type": "markdown",
      "source": [
        "## MaxSubArrayMid"
      ],
      "metadata": {
        "id": "DwsCPnS4UNd1"
      }
    },
    {
      "cell_type": "markdown",
      "metadata": {
        "id": "3GOv3Sa5uF6e"
      },
      "source": [
        "### **Teorema (Correctitud).**"
      ]
    },
    {
      "cell_type": "markdown",
      "source": [
        "*La función **MaxSubArrayMid** dentro del código **MaxSubArray** recibe el arreglo $A=[a_1,a_2,...,a_n]$ sin un orden especifico.*\n",
        "\n",
        "*Esta función se encarga de encontrar el subarreglo máximo $B=[a_i,a_{i+1}, a_{i+2},...,a_j]$ tal que $1 \\leq i \\leq j \\leq n$ con i,j constantes.*\n",
        "\n",
        "*Y teniendo $1 \\leq k \\leq l \\leq n$ siempre debe cumplirse ${\\displaystyle \\sum _{x=k}^{l}A[x]} \\leq {\\displaystyle \\sum _{x=i}^{j}A[x]}$.*"
      ],
      "metadata": {
        "id": "QA-dc1MdswGQ"
      }
    },
    {
      "cell_type": "markdown",
      "metadata": {
        "id": "788twfyBuT8W"
      },
      "source": [
        "### **Prueba del Teorema**"
      ]
    },
    {
      "cell_type": "markdown",
      "source": [
        "Probaremos la siguiente **propiedad invariante de bucle** para la función `MaxSubArrayMid`:\n",
        "\n",
        "> Al finalizar de cada iteración $i$ del bucle, el subarreglo máximo retornado contendrá entre sus elementos el elemento que se encuentra en la mitad del arreglo recibido."
      ],
      "metadata": {
        "id": "q4XL6P5LHrjx"
      }
    },
    {
      "cell_type": "markdown",
      "source": [
        "####**Inicialización**"
      ],
      "metadata": {
        "id": "Rh_KfX1Uk_rQ"
      }
    },
    {
      "cell_type": "markdown",
      "source": [
        "La función `MaxSubArrayMid` recibe el arreglo **A**$=[a_1, ..., a_n]$ donde $n=2$ en su primera iteración.\n",
        "\n",
        "El arreglo solo contiene $2$ elementos, la mitad del arreglo seria la posición $med=0$. \n",
        "\n",
        "En este caso la suma del subarreglo izquierdo (incluyendo el elemento de la mitad) seria $izq_{sum} = A[med]$, mientras que la suma del subarreglo derecho (incluyendo el elemento de la mitad) seria $der_{sum} = A[med] + A[med+1]$.\n",
        "\n",
        "La suma del el medio siempre será $izq_{sum} + der_{sum} - A[med]$ se le resta el elemento de la mitad porque ambas sumas lo contienen. En este caso el subarreglo derecho es el mismo que el subarreglo con la mitad, es decir, $B=[A[0], A[1]]$.\n",
        "\n",
        "> Si los elementos en  el arreglo recibido son positivos, `MaxSubArrayMid` retorna el arreglo original (su suma e índices), ya que su suma seria la mayor. Podría retornar el subarreglo derecho o el del medio ya que son lo mismo en este caso.\n",
        "\n",
        "> Si el elementos $A[0]$ es el único positivo del array, entonces retornara el subarreglo izquierdo (su suma e índices).\n",
        "\n",
        "> Si el arreglo contiene solo elementos negativos, entonces retornara el subarreglo izquierdo (su suma e índices), ya que su suma será menor a la suma de $A[0] + A[1]$ en el caso de que ambos sean negativos."
      ],
      "metadata": {
        "id": "M2A3heuIlGiU"
      }
    },
    {
      "cell_type": "markdown",
      "source": [
        "#### **Mantención**"
      ],
      "metadata": {
        "id": "_SVNOxGBlIge"
      }
    },
    {
      "cell_type": "markdown",
      "source": [
        "`MaxSubArrayMid` recibe el arreglo **A**$=[a_1, ..., a_n]$ donde $n=4$.\n",
        "\n",
        "El arreglo contiene $4$ elementos, la mitad del arreglo seria la posición $med=1$. En este caso tenemos lo siguiente:\n",
        "\n",
        "La suma del subarreglo izquierdo (incluyendo el elemento de la mitad) seria $(izq_{sum} = \\displaystyle \\sum _{k=i}^{med} A[k])$ **con** $(izq \\leq i \\leq med)$. El subarreglo izquierdo seria $B = [b_i, b_{i+1}, ..., b_med]$.\n",
        "\n",
        "La suma del subarreglo derecho (incluyendo el elemento de la mitad) seria $(der_{sum} = \\displaystyle \\sum _{k=med}^{j} A[k])$ **con** $(med \\leq j \\leq der)$. El subarreglo izquierdo seria $B = [c_med, ..., c_{j-1}, c_j]$.\n",
        "\n",
        "La suma del el subarreglo de en medio siempre será $izq_{sum} + der_{sum} - A[med]$ y el subarreglo del medio siempre sera $A[i:j+1]$.\n",
        "\n",
        "> Si $izq_{sum} > 0$ **y** $der_{sum} > 0$ , entonces `MaxSubArrayMid` retorna el subarreglo de en medio (su suma e índices), ya que su suma seria la mayor.\n",
        "\n",
        "> Si $izq_{sum} < 0$ **y** $der_{sum} > 0$, entonces `MaxSubArrayMid` retorna el subarreglo de la derecha (su suma e índices), ya que su suma seria la mayor.\n",
        "\n",
        "> Si $izq_{sum} > 0$ **y** $der_{sum} < 0$, entonces `MaxSubArrayMid` retorna el subarreglo de la izquierda (su suma e índices), ya que su suma seria la mayor.\n",
        "\n",
        "> Si $izq_{sum} < 0$ **y** $der_{sum} > 0$, entonces `MaxSubArrayMid`:\n",
        "  * Si $izq_{sum} > der_{sum}$, retorna el subarreglo de la izquierda (su suma e índices), ya que su suma seria la mayor.\n",
        "  * Si $der_{sum} > izq_{sum}$, retorna el subarreglo de la derecha (su suma e índices), ya que su suma seria la mayor."
      ],
      "metadata": {
        "id": "-mg8VzLIlLxJ"
      }
    },
    {
      "cell_type": "markdown",
      "source": [
        "#### **Correctitud**"
      ],
      "metadata": {
        "id": "lLUsBk-HlO-h"
      }
    },
    {
      "cell_type": "markdown",
      "metadata": {
        "id": "GTcd5E-nPTFM"
      },
      "source": [
        "La correctitud del `MaxSubArrayMid` es evidente, ya que a pesar de que enviara uno de 3 subarreglos que crea la función, el elemento de la mitad del arreglo siempre se encontrara en los 3 subarreglos, `MaxSubArrayMid` está diseñado para que asi sea, e independientemente del subarreglo retornado, siempre contendrá el elemento de la mitad del arreglo recibido."
      ]
    },
    {
      "cell_type": "markdown",
      "source": [
        "## MaxSubArray"
      ],
      "metadata": {
        "id": "QetS6HdEsNrH"
      }
    },
    {
      "cell_type": "markdown",
      "source": [
        "### **Teorema (Correctitud).**"
      ],
      "metadata": {
        "id": "Dz_1sWcaoShu"
      }
    },
    {
      "cell_type": "markdown",
      "source": [
        "* El algoritmo **MaxSubArray** genera un arreglo: $[a_{i},a_{i+1},...,a_j]$ siendo $1 \\leq i \\leq j \\leq n$, con los elementos contiguos que sumados dan el mayor numero posible con los elementos del arreglo $[a_{1},a_{2},...,a_n]$ recibido."
      ],
      "metadata": {
        "id": "BNt-bS9cpE1X"
      }
    },
    {
      "cell_type": "markdown",
      "source": [
        "### **Prueba del Teorema**"
      ],
      "metadata": {
        "id": "YK7XcUU_paKV"
      }
    },
    {
      "cell_type": "markdown",
      "source": [
        "Para probar la correctitud de **MaxSubArray** usaremos **inducción matemática** debido a la recursividad del algoritmo.\n",
        "\n",
        "> En **inducción matemática,** para probar una declaración $P(n)$, para todos los números naturales $n$, típicamente debemos:\n",
        "  1. Probar $P(n)$ para un **caso base**, por ejemplo $P(1)$\n",
        "  2. Probar que si $P(m)$ es cierto para $m < n$, entonces $P(n)$ también lo es.\n",
        "\n",
        "Nuestro teorema dice que $MaxSubArray$ retorna el máximo subarreglo posible de formar con elementos contiguos de la secuencia de **n** elementos de entrada.\n"
      ],
      "metadata": {
        "id": "mKgVCbB5pgGN"
      }
    },
    {
      "cell_type": "markdown",
      "source": [
        "#### **Caso Base**"
      ],
      "metadata": {
        "id": "WAI-c0NhrxMl"
      }
    },
    {
      "cell_type": "markdown",
      "source": [
        "Probemos como caso base $P(1)$.\n",
        "\n",
        "Cuando **MaxSubArray** recibe una secuencia de 1 elementos, la retorna inmediatamente. Podemos comprobar que el teorema efectivamente se cumple en este caso, ya que, si solo se tiene 1 elemento en la secuencia, el subarreglo máximo es el único elemento de la secuencia."
      ],
      "metadata": {
        "id": "1S8rNUmosGxN"
      }
    },
    {
      "cell_type": "markdown",
      "source": [
        "#### **Caso cualquiera**"
      ],
      "metadata": {
        "id": "l73Y2ayAtBRK"
      }
    },
    {
      "cell_type": "markdown",
      "source": [
        "Probemos como caso cualquiera $P(n)$.\n",
        "\n",
        "Para una secuencia de **n** elementos, **MaxSubArray** divide el arreglo en 2 subarreglos de secuencias $m$ y $p$, tal que $m=\\frac{n}{2}$ y $p=\\frac{n}{2}$, y consigue los subarreglos máximos de cada subarreglo formado usando **MaxSubArray** `(debido a esta recursividad, llegará el momento en que se aplique MaxSubArray en el caso base, donde retornará correctamente un subarreglo máximo de 1 elemento)`. Como $m < n$ y $p < n$ podemos asumir inductivamente que se encontrara los subarreglos máximos de ambas mitades inductivamente.\n",
        "\n",
        "Luego se consigue un subarreglo máximo que contenga el elemento ubicado en la mitad del arreglo utilizando la función **MaxSubArrayMid**, cuya correctitud fue probada previamente y devuelve efectivamente el subarreglo máximo que es posible formar conteniendo el elemento en la mitad del arreglo.\n",
        "\n",
        "Una vez obtenido 3 subarreglos máximos (los 2 de cada mitad y el que contiene el elemento en la mitad del arreglo) la función **MaxSubArray** decide y retorna el subarreglo cuya suma sea mayor.\n",
        "\n",
        "Por lo tanto, la función **MaxSubArray** es correcta.\n"
      ],
      "metadata": {
        "id": "SEQpNCaKtPqz"
      }
    },
    {
      "cell_type": "markdown",
      "source": [
        "#### **Conclusión**"
      ],
      "metadata": {
        "id": "M_8euwS7Fkmn"
      }
    },
    {
      "cell_type": "markdown",
      "source": [
        "El teorema fue efectivamente comprobado como correcto para un caso base y para un caso cualquiera, es decir, el algoritmo **MaxSubArray**, al comprobarlo con inducción matemática es correcto."
      ],
      "metadata": {
        "id": "knzrnVtmFt9e"
      }
    },
    {
      "cell_type": "markdown",
      "metadata": {
        "id": "uH_PKp0bf6pl"
      },
      "source": [
        "# **4. Tiempo de ejecución**"
      ]
    },
    {
      "cell_type": "markdown",
      "metadata": {
        "id": "6p68qHxlgKaE"
      },
      "source": [
        "### **Teorema (Tiempo de ejecución).**"
      ]
    },
    {
      "cell_type": "markdown",
      "source": [
        "*El algoritmo **MaxSubArray** presenta un caso peculiar. Tiene un **tiempo de ejecución de** $O(n*log_2(n))$ en todos sus casos, tanto en el peor como en su mejor caso.* "
      ],
      "metadata": {
        "id": "3KmTKAGmjaGm"
      }
    },
    {
      "cell_type": "markdown",
      "metadata": {
        "id": "g5bEqmFqunKb"
      },
      "source": [
        "### **Prueba del teorema.** (Árbol de recursión)"
      ]
    },
    {
      "cell_type": "markdown",
      "metadata": {
        "id": "H93P6FC5kme2"
      },
      "source": [
        "La complejidad temporal de la solución utilizada de divide y vencerás es $O(n*log(n))$ en cuanto al arreglo dado de tamaño $n$. Como este caso aplica \"divide y vencerás\" su complejidad debería ser la misma.\n",
        "\n",
        "Para el arreglo hacemos dos llamadas recursivos en el tamaño de entrada n/2 y encontrar el subarreglo máximo que contenga el elemento de la mitad del arreglo toma O(n) tiempo en el peor de los casos. Por lo tanto,\n",
        "\n",
        "$T(n) = 2T(n/2) + O(n)$.\n",
        "\n",
        "Con esta fórmula se forma el siguiente árbol de recurrencia."
      ]
    },
    {
      "cell_type": "markdown",
      "source": [
        "![Árbol de Recurrencia Max SubArray.png](data:image/png;base64,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)\n",
        "By: Lucas Robles with Canva: https://www.canva.com/design/DAFKiPBha60/pe82yWgxFk3JBu4NgKk3-w/view?utm_content=DAFKiPBha60&utm_campaign=designshare&utm_medium=link2&utm_source=sharebutton"
      ],
      "metadata": {
        "id": "vdXACGQoCQGt"
      }
    },
    {
      "cell_type": "markdown",
      "source": [
        "Se puede observar que la altura del árbol es $log_2(n)$ y cada nivel tiene una complejidad $n$, por eso la complejidad del problema entero seria multiplicar la complejidad de cada nivel por la altura del árbol(cantidad de niveles). Con esto queda demostrado que la complexidad del Máximo Subarreglo con la estrategia “divide y vencerás” es de $O(n*log(n))$."
      ],
      "metadata": {
        "id": "3WbRaDchCDR_"
      }
    },
    {
      "cell_type": "markdown",
      "metadata": {
        "id": "UZE4jGMinXns"
      },
      "source": [
        "# **5. Experimentos**"
      ]
    },
    {
      "cell_type": "markdown",
      "source": [
        "## **5.1. Subarreglo Máximo: Divide y Vencerás vs Kadane** (Tiempo de ejecución)"
      ],
      "metadata": {
        "id": "lmfpJMNiL9df"
      }
    },
    {
      "cell_type": "markdown",
      "source": [
        "### **Kadane** (Codigo)"
      ],
      "metadata": {
        "id": "_dCCdwjrMP6V"
      }
    },
    {
      "cell_type": "code",
      "source": [
        "def maxSubArraySum(arr,size):\n",
        "    sumaMax_actual = arr[0]\n",
        "    suma_positiva = 0\n",
        "    der = 0; izq = 0\n",
        "    aux_allNegatives = arr[0]; pos_allNegatives = 0\n",
        "    \n",
        "    for i in range(0, size):\n",
        "        if aux_allNegatives < arr[i] : aux_allNegatives= arr[i]; pos_allNegatives = i\n",
        "        suma_positiva = suma_positiva + arr[i]\n",
        "        if suma_positiva < 0:\n",
        "            suma_positiva = 0\n",
        "        elif (sumaMax_actual < suma_positiva):\n",
        "            if suma_positiva == arr[i] : izq = i\n",
        "            sumaMax_actual = suma_positiva\n",
        "            der = i\n",
        "    \n",
        "    if aux_allNegatives <=0:\n",
        "        return pos_allNegatives, pos_allNegatives, aux_allNegatives\n",
        "    else :\n",
        "        return izq, der, sumaMax_actual\n",
        "        print(arr[izq:der+1])\n",
        "\n",
        "a = [35, -87, -15, 73, 54, 60, 5]\n",
        "print(\"Arreglo Inicial: \", a)\n",
        "(inicio, final, suma) = maxSubArraySum(a, len(a))\n",
        "print(\"Subarreglo maximo: \", a[inicio:final+1], \"Y la suma es: \", suma )"
      ],
      "metadata": {
        "colab": {
          "base_uri": "https://localhost:8080/"
        },
        "id": "IsVvfBcCGSdY",
        "outputId": "a428ccd3-6c87-439e-aa01-2523e57877fc"
      },
      "execution_count": 4,
      "outputs": [
        {
          "output_type": "stream",
          "name": "stdout",
          "text": [
            "Arreglo Inicial:  [35, -87, -15, 73, 54, 60, 5]\n",
            "Subarreglo maximo:  [73, 54, 60, 5] Y la suma es:  192\n"
          ]
        }
      ]
    },
    {
      "cell_type": "markdown",
      "source": [
        "### **Comparación de Gráficas** (Tiempo de ejecución)"
      ],
      "metadata": {
        "id": "gaeOZWKQqYk6"
      }
    },
    {
      "cell_type": "code",
      "execution_count": 7,
      "metadata": {
        "colab": {
          "base_uri": "https://localhost:8080/",
          "height": 279
        },
        "id": "xX0WaiAJuWHS",
        "outputId": "98c2564b-ec24-4407-edbc-81b46b9f817a"
      },
      "outputs": [
        {
          "output_type": "display_data",
          "data": {
            "text/plain": [
              "<Figure size 432x288 with 1 Axes>"
            ],
            "image/png": "[encoded data removed]"
          },
          "metadata": {
            "needs_background": "light"
          }
        }
      ],
      "source": [
        "import matplotlib.pyplot as plt\n",
        "import datetime\n",
        "from timeit import repeat\n",
        "\n",
        "x=[]; y=[]; y1=[]\n",
        "\n",
        "for n in range(5,600):\n",
        "    a = random.sample(range(-100, 10000), n)\n",
        "\n",
        "    comparaciones = 0; iteraciones = 1\n",
        "    #la función repeat está ejecutando 10 veces MergeSort e insertionSort con el arreglo a y retorna el mejor tiepo obtenido.\n",
        "    t = repeat(setup=\"from __main__ import MaxSubArray\", stmt=f\"MaxSubArray({a},{0},{len(a)-1})\", repeat=1, number=10)\n",
        "    t1 = repeat(setup=\"from __main__ import maxSubArraySum\", stmt=f\"maxSubArraySum({a}, {len(a)})\", repeat=1, number=10)\n",
        "\n",
        "    x.append(n)\n",
        "    y.append(t)\n",
        "    y1.append(t1)\n",
        "\n",
        "\n",
        "plt.plot(x,y)\n",
        "plt.plot(x,y1)\n",
        "plt.legend([\"Divide y vencerás\", \"Kadane\"])\n",
        "\n",
        "plt.xlabel('n')\n",
        "plt.ylabel('Tiempo en ms')\n",
        "plt.show()"
      ]
    },
    {
      "cell_type": "markdown",
      "metadata": {
        "id": "c-grJLd2uWeY"
      },
      "source": [
        "### **Análisis de resultados**"
      ]
    },
    {
      "cell_type": "markdown",
      "metadata": {
        "id": "SkRwH9SCvu_q"
      },
      "source": [
        "Al comparar los tiempos de ejecución de **Divide y Vencerás** y **Kadane** para el algoritmo del **Subarreglo Máximo**, podemos apreciar que el algoritmo de $Kadane$ es más rápido que el algoritmo *Divide y Vencerás*.\n",
        "\n",
        "Ambos algoritmos presentan la situación donde el mejor y peor caso teórico son lo mismo. La complejidad de **Divide y Vencerás** es $O(n * log(n))$ mientras que la complejidad de **Kadane** es $O(n)$. \n",
        "\n",
        "El algoritmo **Kadane** es el más rápido, y no es sorprendente pues se creó para optimizar el algoritmo del **Subarreglo Máximo**, ya que debido a sus aplicaciones puede llegar a trabajar con datos lo suficientemente grandes para que $O(n * log(n))$ de **Divide y Vencerás** se encuentre lento. Así que nació **Kadane** para una mejor eficiencia.\n",
        "\n",
        "Puede que no sea mucho problema la diferencia en los conjunto de datos pequeños, pero mientras más grande es la secuencia de números r, más notable es esta diferencia de velocidad. Y el **Subarreglo Máximo** puede encontrarse conjunto de datos enormes en sus aplicaciones.\n",
        "\n",
        "Esto puede deberse a la forma en que operan estos algoritmos:\n",
        "* **Divide y Vencerás** generalmente tiene $O(n * log(n))$ de complejidad, ya que la división de la secuencia siempre dará $log(n)$ divisiones, y el proceso que se hace con cada división tiende a ser de complejidad $n$, por eso es de $O(n * log(n))$.\n",
        "* **Kadane** no necesita más procesos que recorrer los elementos, es una forma eficiente donde se puede encontrar los datos necesarios recorriendo los elementos solo una vez, por eso su complejidad será siempre $O(n)$.\n",
        "\n",
        "Note que hay unos peaks de tiempo. Estos se deben probablemente al comportamiento impredecible de los procesadores y quizás a otros procesos que también lo están ocupando. En el \"divide y vencerás\" estos peaks son mayores, en el tiempo de \"Merge Sort\" también existían peaks inusualmente grandes, tal vez python o el colab se comporten de manera extraña cuando se mide el tiempo de algoritmos \"divide y vencerás\".\n"
      ]
    },
    {
      "cell_type": "markdown",
      "source": [
        "## **5.2. Subarreglo Máximo(Divide y Vencerás) vs Merge Sort** (Comparaciones y Riempo de ejecución)"
      ],
      "metadata": {
        "id": "9ObzhzKRQ12h"
      }
    },
    {
      "cell_type": "markdown",
      "source": [
        "### **Merge Sort** (Codigo)"
      ],
      "metadata": {
        "id": "CqkyBDTlVWwX"
      }
    },
    {
      "cell_type": "code",
      "source": [
        "import random\n",
        "from termcolor import colored\n",
        "import copy\n",
        "\n",
        "llamadas = -1; contador = 0; pasada = 0; llamadasMerge = 0\n",
        "\n",
        "def subArreglo(a,i):\n",
        "    if len(a) == 1:\n",
        "        print(colored(f\"{str(a[i:i+1])[1:-1]}\", \"blue\"))\n",
        "    elif len(a) == 2:\n",
        "        if i == 0:\n",
        "           print(colored(f\"{str(a[:1])[1:-1]}\", \"blue\"), \",\", str(a[1:])[1:-1])\n",
        "        else :print(str(a[:1])[1:-1], \",\",colored(f\"{str(a[1:2])[1:-1]}\", \"blue\"))\n",
        "    elif len(a)>2:\n",
        "        if i == 0:\n",
        "           print(colored(f\"{str(a[:1])[1:-1]}\", \"blue\"), \",\", str(a[1:])[1:-1])\n",
        "        elif i+1==len(a) : print(str(a[:i])[1:-1], \",\",colored(f\"{str(a[i:i+1])[1:-1]}\", \"blue\"))\n",
        "        else: print(str(a[:i])[1:-1], \",\",colored(f\"{str(a[i:i+1])[1:-1]}\", \"blue\"), \",\",str(a[i+1:])[1:-1])\n",
        "\n",
        "def Arreglo(a):\n",
        "    if len(a) == 1:\n",
        "        print(colored(f\"{str(a[:1])[1:-1]}\", \"red\"))\n",
        "    elif len(a) == 2:\n",
        "        print(str(a[:1])[1:-1], \",\",colored(f\"{str(a[1:2])[1:-1]}\", \"red\"))\n",
        "    elif len(a)>2:\n",
        "        print(str(a[:len(a)-1])[1:-1], \",\",colored(f\"{str(a[len(a)-1:len(a)])[1:-1]}\", \"red\"),)\n",
        "\n",
        "def Merge(array, izquierda, medio, derecha, verbose=False):\n",
        "    global llamadasMerge; llamadasMerge += 1\n",
        "    # Sub arreglos ordenados que se deben juntar\n",
        "    subArray1 = array[izquierda:medio + 1]\n",
        "    subArray2 = array[medio+1:derecha+1]\n",
        "    if verbose == True:\n",
        "        print(\"---------------------------------------------------------------\")\n",
        "        print(f\"Se evidencia que Merge recibio los sub arreglos {subArray1} y {subArray2} con sus elementos ordenados\")\n",
        "        print(\"---------------------------------------------------------------\")\n",
        "\n",
        "    i = 0 # Indice para sub Arreglo 1\n",
        "    j = 0 # Indice para sub Arreglo 2\n",
        "    k = izquierda # Indice del arreglo ordenado donde se unieron los sub arreglos\n",
        "    global contador; global pasada\n",
        "\n",
        "    # Juntar hasta que uno de los sub arreglos se haya trasladado completamente al arreglo unido\n",
        "    while i < len(subArray1) and j < len(subArray2):\n",
        "        if verbose == True: \n",
        "              print(\"Se comparan los menores elementos de ambos subarreglos que aun no se combinan\")\n",
        "              subArreglo(subArray1,i); subArreglo(subArray2,j)\n",
        "              print(\"---------------------------------------------------------------\")\n",
        "        if subArray1[i] <= subArray2[j]:\n",
        "            array[k] = subArray1[i]\n",
        "            if verbose == True: \n",
        "              print(f\"Como {subArray1[i]} < {subArray2[j]}, se agrega {subArray1[i]} al arreglo principal: \")\n",
        "              print(\"---------------------------------------------------------------\")\n",
        "              print(\"El arreglo principal es: \")\n",
        "              Arreglo(array[izquierda:k+1])\n",
        "            i += 1\n",
        "        else:\n",
        "            array[k] = subArray2[j]\n",
        "            if verbose == True: \n",
        "              print(f\"Como {subArray2[j]} < {subArray1[i]}, se agrega {subArray2[j]} al arreglo principal: \")\n",
        "              print(\"---------------------------------------------------------------\")\n",
        "              print(f\"El arreglo principal es: \")\n",
        "              Arreglo(array[izquierda:k+1])\n",
        "            j += 1\n",
        "        if verbose==True:  print(\"---------------------------------------------------------------\")\n",
        "        contador +=1\n",
        "        k += 1\n",
        "\n",
        "\n",
        "    while i < len(subArray1):\n",
        "        if verbose == True: \n",
        "              print(\"Se comparan los menores elementos de ambos subarreglos que aun no se combinan\")\n",
        "              subArreglo(subArray1,i);\n",
        "              print(\"---------------------------------------------------------------\")\n",
        "        array[k] = subArray1[i]\n",
        "        if verbose == True: \n",
        "              print(f\"Como solo quedan elementos del {subArray1[i]}, se agrega el menor de sus elementos\")\n",
        "              print(\"---------------------------------------------------------------\")\n",
        "              Arreglo(array[izquierda:k+1])\n",
        "              print(\"---------------------------------------------------------------\")\n",
        "        i += 1\n",
        "        contador +=1\n",
        "        k += 1\n",
        "    \n",
        "    while j < len(subArray2):\n",
        "        if verbose == True:\n",
        "              print(\"Se comparan los menores elementos de ambos subarreglos que aun no se combinan\")\n",
        "              subArreglo(subArray2,j);\n",
        "              print(\"---------------------------------------------------------------\")\n",
        "        array[k] = subArray2[j]\n",
        "        if verbose == True: \n",
        "              print(f\"Como solo quedan elementos del {subArray2[j]}, se agrega el menor de sus elementos\")\n",
        "              print(\"---------------------------------------------------------------\")\n",
        "              Arreglo(array[izquierda:k+1])\n",
        "              print(\"---------------------------------------------------------------\")\n",
        "        j += 1\n",
        "        contador +=1\n",
        "        k += 1\n",
        "    if verbose==True: print(\"\\n\")\n",
        "\n",
        "def MergeSort(Arreglo, izq, der, verbose=False):\n",
        "   global llamadas\n",
        "   llamadas += 1\n",
        "   if izq==der: return #la secuencia tiene sólo un elemento\n",
        "   med = int((izq + der)/2) #elemento medio del arreglo\n",
        "   \n",
        "   MergeSort(Arreglo, izq, med, verbose) #ordena la parte izquierda del arreglo\n",
        "   MergeSort(Arreglo, med+1, der, verbose) #ordena la parte derecha del arreglo\n",
        "   \n",
        "   Merge(Arreglo, izq, med, der, verbose) #combina y ordena ambos subarreglos ordenados\n",
        "  \n",
        "# Ejemplo\n",
        "array = [75,34,77,122,21]\n",
        "print(f\"Datos de entrada: {array}\\n\")\n",
        "MergeSort(array, 0, len(array))\n",
        "print(\"Datos de salida: \",array)\n",
        "print(\"Numero de llamadas recursivas en la funcion Merge Sort: \", llamadas)\n",
        "print(\"Numero de comparaciones de la funcion Merge: \", contador)\n",
        "print(\"Numero de llamadas de la funcion Merge: \", llamadasMerge)"
      ],
      "metadata": {
        "colab": {
          "base_uri": "https://localhost:8080/"
        },
        "id": "pvo4Fq7yVZzN",
        "outputId": "55760a78-e808-47a7-ec17-b799494078b5"
      },
      "execution_count": null,
      "outputs": [
        {
          "output_type": "stream",
          "name": "stdout",
          "text": [
            "Datos de entrada: [75, 34, 77, 122, 21]\n",
            "\n",
            "Datos de salida:  [21, 34, 75, 77, 122]\n",
            "Numero de llamadas recursivas en la funcion Merge Sort:  10\n",
            "Numero de comparaciones de la funcion Merge:  14\n",
            "Numero de llamadas de la funcion Merge:  5\n"
          ]
        }
      ]
    },
    {
      "cell_type": "markdown",
      "source": [
        "### **Comparación de Gráficas** (Comparaciones)"
      ],
      "metadata": {
        "id": "b7d9IX2KU-kG"
      }
    },
    {
      "cell_type": "code",
      "source": [
        "import matplotlib.pyplot as plt\n",
        "import math\n",
        "import random\n",
        "\n",
        "x=[n for n in range(4,100)] \n",
        "y1=[(n * math.log2(n)) for n in range(4,100)] # worst case\n",
        "y2=[(n * math.log2(n)) for n in range(4,100)] # best case\n",
        "y=[]; \n",
        "\n",
        "for n in range(4,100):\n",
        "    a = random.sample(range(-100, 10000), n)\n",
        "    comparaciones = 0; iteraciones = 1\n",
        "    MaxSubArray(a, 0, len(a)-1)\n",
        "    y.append(comparaciones)\n",
        "\n",
        "plt.plot(x,y)\n",
        "plt.plot(x,y1)\n",
        "plt.plot(x,y2)\n",
        "plt.legend([\"Subarreglo Máximo\", \"Peor Caso Teóricamente\", \"Mejor Caso Teóricamente\"])\n",
        "\n",
        "## Nombre de los ejes\n",
        "plt.xlabel('n')\n",
        "plt.ylabel('Número de comparaciones')\n",
        "\n",
        "# Mostrar Gráfico\n",
        "plt.show()"
      ],
      "metadata": {
        "colab": {
          "base_uri": "https://localhost:8080/",
          "height": 279
        },
        "id": "nKKozH7yWJCF",
        "outputId": "176cc13a-2c63-4d55-c283-f23d21638c0e"
      },
      "execution_count": null,
      "outputs": [
        {
          "output_type": "display_data",
          "data": {
            "text/plain": [
              "<Figure size 432x288 with 1 Axes>"
            ],
            "image/png": "[encoded data removed]"
          },
          "metadata": {
            "needs_background": "light"
          }
        }
      ]
    },
    {
      "cell_type": "code",
      "source": [
        "import matplotlib.pyplot as plt\n",
        "import math\n",
        "import random\n",
        "\n",
        "x=[n for n in range(4,100)] \n",
        "y1=[]\n",
        "y=[]; \n",
        "\n",
        "for n in range(4,100):\n",
        "    a = random.sample(range(-100, 10000), n)\n",
        "    llamadas = 0; contador = 0; pasada = 0; llamadasMerge = 0; comparaciones = 0; iteraciones = 1\n",
        "    MergeSort(a, 0, len(a))\n",
        "    y.append(contador)\n",
        "    MaxSubArray(a, 0, len(a)-1)\n",
        "    y1.append(comparaciones)\n",
        "\n",
        "plt.plot(x,y)\n",
        "plt.plot(x,y1)\n",
        "plt.legend([\"Merge Sort\", \"Máximo Subarreglo\"])\n",
        "\n",
        "## Nombre de los ejes\n",
        "plt.xlabel('n')\n",
        "plt.ylabel('Número de comparaciones')\n",
        "\n",
        "# Mostrar Gráfico\n",
        "plt.show()"
      ],
      "metadata": {
        "colab": {
          "base_uri": "https://localhost:8080/",
          "height": 279
        },
        "id": "1MdgixsBXCET",
        "outputId": "ecade5b6-a6b4-4d07-86b9-05fd59361419"
      },
      "execution_count": null,
      "outputs": [
        {
          "output_type": "display_data",
          "data": {
            "text/plain": [
              "<Figure size 432x288 with 1 Axes>"
            ],
            "image/png": "[encoded data removed]"
          },
          "metadata": {
            "needs_background": "light"
          }
        }
      ]
    },
    {
      "cell_type": "markdown",
      "source": [
        "### **Comparación de Gráficas** (Tiempo de ejecución)"
      ],
      "metadata": {
        "id": "JWJRgzQtYoo-"
      }
    },
    {
      "cell_type": "code",
      "source": [
        "import matplotlib.pyplot as plt\n",
        "import datetime\n",
        "from timeit import repeat\n",
        "\n",
        "x=[]; y=[]; y1=[]\n",
        "\n",
        "for n in range(5,600):\n",
        "    a = random.sample(range(-100, 10000), n)\n",
        "\n",
        "    llamadas = 0; contador = 0; pasada = 0; llamadasMerge = 0; comparaciones = 0; iteraciones = 1\n",
        "    #la función repeat está ejecutando 10 veces MergeSort e insertionSort con el arreglo a y retorna el mejor tiepo obtenido.\n",
        "    t = repeat(setup=\"from __main__ import MaxSubArray\", stmt=f\"MaxSubArray({a},{0},{len(a)-1})\", repeat=1, number=10)\n",
        "    t1 = repeat(setup=\"from __main__ import MergeSort\", stmt=f\"MergeSort({a}, {0}, {len(a)})\", repeat=1, number=10)\n",
        "\n",
        "    x.append(n)\n",
        "    y.append(t)\n",
        "    y1.append(t1)\n",
        "\n",
        "\n",
        "plt.plot(x,y)\n",
        "plt.plot(x,y1)\n",
        "plt.legend([\"Máximo Subarreglo\", \"Merge Sort\"])\n",
        "\n",
        "plt.xlabel('n')\n",
        "plt.ylabel('Tiempo en ms')\n",
        "plt.show()"
      ],
      "metadata": {
        "colab": {
          "base_uri": "https://localhost:8080/",
          "height": 279
        },
        "id": "4fGom8s4YsQN",
        "outputId": "a5dac8ff-d35a-4929-b996-87757d7fdb76"
      },
      "execution_count": null,
      "outputs": [
        {
          "output_type": "display_data",
          "data": {
            "text/plain": [
              "<Figure size 432x288 with 1 Axes>"
            ],
            "image/png": "[encoded data removed]"
          },
          "metadata": {
            "needs_background": "light"
          }
        }
      ]
    },
    {
      "cell_type": "markdown",
      "source": [
        "### **Análisis de resultados**"
      ],
      "metadata": {
        "id": "1qqc8OvUYT5t"
      }
    },
    {
      "cell_type": "markdown",
      "source": [
        "Ya sea **Merge Sort** o **Subarreglo Máximo** en este experimento, ambos son algoritmos de \"Divide y Vencerás\", ambos algoritmos poseen complejidad y ambos poseen complejidad $O(n*log(n))$ como su mejor y peor caso.\n",
        "\n",
        "Ambos algoritmos realizan la misma cantidad de operaciones. Es de esperarse este resultado, pues ambos algoritmos tienen la misma complejidad, asi que deberían ser iguales sus comparaciones.\n",
        "\n",
        "Como ambos algoritmos poseen complejidad $O(n*log(n))$ es natural suponer que sus tiempos de ejecución serian iguales. Pero al comparar sus tiempos de ejecución note que el algoritmo **Subarreglo Máximo** es más rápido que el algoritmo **Merge Sort** pese a que su complejidad sea la misma. \n",
        "\n",
        "Creo que esto podría deberse a la forma en que se implementa el **Merge Sort**, pues en la función **Merge** crea localmente 2 Subarreglos, mientras que **Subarreglo Máximo** a pesar de trabajar con subarreglos, solo trabaja usando índices del arreglo principal sin crear realmente subarreglos. Creo que es debido a la creación constante de subarreglos en **Merge** es la causa de que **Subarreglo Máximo** sea más rápido."
      ],
      "metadata": {
        "id": "JQB2a3hjZLX-"
      }
    }
  ],
  "metadata": {
    "colab": {
      "collapsed_sections": [
        "ZC6tMltT1L0x",
        "_j788dvK-Cp5",
        "E_Y6GsvdoNVS",
        "J6F2Yp_IA6UB",
        "OFtxHy6oCCVm",
        "iicgroujCNjI",
        "EGz6I60SVdP5",
        "OKGol3wpd18O",
        "KKp56zrst8L2",
        "DwsCPnS4UNd1",
        "788twfyBuT8W",
        "Rh_KfX1Uk_rQ",
        "lLUsBk-HlO-h",
        "QetS6HdEsNrH",
        "Dz_1sWcaoShu",
        "YK7XcUU_paKV",
        "WAI-c0NhrxMl",
        "l73Y2ayAtBRK",
        "M_8euwS7Fkmn",
        "uH_PKp0bf6pl",
        "UZE4jGMinXns",
        "lmfpJMNiL9df",
        "_dCCdwjrMP6V",
        "gaeOZWKQqYk6",
        "c-grJLd2uWeY",
        "9ObzhzKRQ12h",
        "CqkyBDTlVWwX",
        "b7d9IX2KU-kG",
        "JWJRgzQtYoo-",
        "1qqc8OvUYT5t"
      ],
      "name": "Informe3-SubArregloMáximo.ipynb",
      "provenance": [],
      "authorship_tag": "ABX9TyOhU570RIUIASozwS54cyh5",
      "include_colab_link": true
    },
    "kernelspec": {
      "display_name": "Python 3",
      "name": "python3"
    },
    "language_info": {
      "name": "python"
    }
  },
  "nbformat": 4,
  "nbformat_minor": 0
}