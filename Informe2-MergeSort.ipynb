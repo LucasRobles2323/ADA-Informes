{
  "cells": [
    {
      "cell_type": "markdown",
      "metadata": {
        "id": "view-in-github",
        "colab_type": "text"
      },
      "source": [
        "<a href=\"https://colab.research.google.com/github/LucasRobles2323/ADA-Informes/blob/main/Informe2-MergeSort.ipynb\" target=\"_parent\"><img src=\"https://colab.research.google.com/assets/colab-badge.svg\" alt=\"Open In Colab\"/></a>"
      ]
    },
    {
      "cell_type": "markdown",
      "metadata": {
        "id": "ZC6tMltT1L0x"
      },
      "source": [
        "# **1. Problema de ordenamiento de datos**"
      ]
    },
    {
      "cell_type": "markdown",
      "metadata": {
        "id": "i0L0XXIP7-cU"
      },
      "source": [
        "**Entrada:** El programa recibe una secuencia de $n$ números arreglo en un orden aleatoria de la manera $[a_1, a_2, ..., a_n,]$.\n",
        "\n",
        "**Salida:** El programa retorna la secuencia de $n$ números en un orden establecido de la manera $[a_1' \\leq a_2'\\leq ...,\\leq a_n']$."
      ]
    },
    {
      "cell_type": "markdown",
      "metadata": {
        "id": "_j788dvK-Cp5"
      },
      "source": [
        "### Ejemplo\n",
        "\n",
        "![menor a mayor.png](data:image/png;base64,iVBORw0KGgoAAAANSUhEUgAAAWIAAAAxCAIAAABvUzTAAAAAAXNSR0IArs4c6QAAAARnQU1BAACxjwv8YQUAAAAJcEhZcwAADsMAAA7DAcdvqGQAAAASdEVYdFNvZnR3YXJlAEdyZWVuc2hvdF5VCAUAABaNSURBVHhe7dt7rJ1F1QbwgvECUdGAaFA04CUINigQBEkVjdQSFAg3G0Eb1BItEJUaQY2ipgYMF4lKCTcjEiMKjUSIAsb6tYEKAQrBFqNUowhR1IDVoEgUvt9+nznDy97n7L1Peyi1vM8fL3NZs2bNus2a3cOsxzt06NBhKLo00aFDhxHo0kSHDh1GoEsTHTp0GIEuTXTo0GEEujTRoUOHEejSRIcOHUagSxMdOnQYgS5NdOjQYQS6NNGhQ4cReIamicdaKEMdOnSYAv1pYosMm75DNcnhCZTRMfDf//53WvQdZgozonbmK62nBlXILc9JJkkT//nPfx599FHfSU/7z3/+M42N1MU//vGP0to4EIP5gcD//ve/fcvEBBAEtYs4I21kdjjwtzbtMZd02GDQMD+kc9+N1/bDDz+MT+k8GT3zNyj9DQUOiZ2pWFWfH/TSTYCNOeCwRwe+iajSfzLaMTNd4FnZYrLBfDYM2b0PZW5qoCFnpdz0Yj9DQKtDbqkNA1YYVp6uukceecRGum2EeBNgqoS1YXAQwehEUylt4x11kjSBKdT9GgX2kC5RCJRzhjLj04WF7YuivcX4wCQulS4ORgb59KRsxtMwUtsaQSjHAeK60O71CB1mHNHwVN4/XWCCVbgBzjywdqHQbQQ4RhiW/gBmZJcK20U/pd9y9dKfgJHhgg1HSRN1vV3/+te//uEPf3jooYf+9a9/ZRAQBLfddtutt956zz33rF+/3sYRqxBNB9baZfXq1TfffPN9992HW/iX6emAzA888ACRcMNTN+OVm7yGYM2aNTfddJPTReBsVxHKcUByDFeuXHnHHXfce++9FFUmnnmYlt6Go48V3/vTn/60bt263/zmN2xH4WViPEwlmLyglGA4nB988EGu0rP9xp2iLq+xk+4g27Vr13JC3l5ddAPQx5Yz80BauvPOO//85z971zQR+aSQ1BUdt99+u1OXoWlill0rX+1LLrlk++23f+5zn/uWt7wlFGD2F7/4xbHHHrvLLruYfdaznrXtttu+613v+t3vfidmUhQU0qHILsBO8+bN23rrrZ/3vOdttdVW2223ne5vf/vbzE4LwvU973nPC1/4QjI/5znP2WmnnebPnx9TZTvetmjRope85CXbbLMNyXfcccfTTz89GdB5K3q8RgFD6v7ABz7wohe9iAbsSBuf+MQn6rm2YNTfpKCqi/XTmBHUXLBixYq3ve1tNMxkz3/+81/3utfxtCE2ivtFGLZo7DkJMa84/PDDeQg/wZYzn3nmmby3TE+NcLPLoJ9nLzBFbFHDma+88sr2lC3OOeecPfbY4wUveIFZXy70t7/9LRymgoVtv9LNN8esklxwwQX77LMPhxQCnPzII4+UMowja+R9dPny5XPmzOGrCECw1EQ2PnrVRMwjyR111FE0+OwG7TQBuM+aNcu4/TQCNG3vGQnHFp8Kh5e+9KXs9OIXv3jffffdfffd5QvJ4sADD6yHHx977rknZ7K8yDRrFm5HH310fi5ioeOPP74mCGrSYKrPf/7zWd4zY4N0h0O2fuMb32gLVtm1gYMccMABMxstmz9qPI8TY9PFqlWrBNKrX/3qpUuXcvFly5adfPLJrkGeU0zVoFA36Ks1Js3af//730ULBzjvvPNcLSJ57ty5Nrr44ot5XZJLIZ0MTEyAPs668ViOsXjxYl7Bq7lH0kR4wo9//GP7ylDnn3/+WWedJT2JsgULFoSmx2gKtEUKN1869408Lm+sHOTss8/GebfddrP7YYcdVtnefffd3F6elU1o8sQTT9xhhx3e+ta3Wj586z700oQ1JDjkkENkAWGQRNBXTRx00EGHHnro5Zdfft1117k/m0zybMF5yy235GYeHxdddJGFdvn+97+vy8Y0aEcqpu7QjA+JZuHChd/+9rdvuOEGuSz5AivPAbM/+9nPZA17oZG/f/nLX1IZmle96lWqDAQ9MzZomI3AMcccg5vsdtVVV8mPDz/8MCb333//MyFNJBS92o477rjTTjstpd/Mpglq9L7ggTvvvDPzJR7KXPNPFcVUDcroBISrQUKqO77zne+U0Ra8lDnGCSecgG3Ookrnw+9///u1R1oQ/7/85S9q7dJvgZCf/OQnBf+ll1567rnnitt2mrDQS4TeQgyKf1nj5S9/OYYRu0xMDWq57LLLZDptola14/zTn/5UIyf64x//mFTFOmH74Q9/WFcUIDBiofRED5FwfMyy3nnsLR06pHeOA/elCYmAQPbI3gwmJyUgBWdoxoS9lixZ4koXuqtXrw5Dbif8cNuAdz5dR2vi9q677nI/4MMMMoLBU089FWddPoGM5J/73OeMEODaa6+NF5IhYkyFOkvjXkmf+tSnMhjVaTwT0gRQoNKJemlPJPOWSW+I4cocAsq85ppr8Me5DA1w0w1KvwXlsHBVKnqwDBIIFWK7TrUz+6tf/UrG/8hHPpIYGwLO/9nPfpbPu13KUAvEFvn8ENuvfvWr5G+nifhYQIFcBdRKMlReB8PhHlIp2LdebEFk7itwtPfff395au3atboPPvigalftoE2SFD4/+tGP6EGB1l44Er1qAotIr+0kBHLUvkdHBTLbUxkaAq1Zs6ZMjI3rr7+eoNa6/KU9yuJzRhRLhWI6IDyZ469ydtIE7XAaSeHggw+WzrxrZGJqInwcUbTzxRgSwmpS5Dchjauvvlp+sVAB5d2kiJDjk9ca5fWquOGs/tdBz56ltBcFsuDee+/tnnBqXms2NFQR+umCgU455RT3h1pamz4rq7ZiewZrdVnZLarCFfPy+Ic+9CFORZ4+MdSSs2fP9npfsWIFm4p8KcP9oRsCS7Btr9L2jP/MZz7DP3mUukM66Nsd0s03aSJlsuWDoYiMrxIVT3EUpbVRI19l/eUvf1kwJjRUDZVbT4IJZATIT2mvec1rKCG/Ptx8882U6dFdSBso09jOyyCrxsQT/yCKhS+5h6cJKr7iiivshObNb36zkeg3s8Phwkdpi0WLFjmAAH7FK16RjOMGcLY+046DLIkAp59+eth+8IMf1CXqXnvthbk6tt57eYagQWxVFo4EC33961/HyiUwf/58TrPNNttwMsmb/apTjsltxmHfBFWgPePIRqLrpJNOcnaqoMNtt93W9+ijj3Yzm0WW3TdAD1ni5uDlF198scBgO2nIyPLly3PAUIJu6NetW8eXtt9+e8X2xz/+8YgRgjQqeJ1bRHC6SFQQ2DKi50l+XIvM+beP0IvSr3zlK+hZWel+2223JaSbnSc5XQaHp4k4oU1FPi/KILI0AgJIfBdccIG7Ddn73ve+lStX2nrw+EFGsteqVasEpvIhGykcuLryuZA2cLd574juHGdMPJEmAouHpwmqdAAEAtLNTKCq2TEhqKyieiGHiUuJOi688MIyPX04vK87RJImmLyTF4ddJFcjb3rTm2za0PZ+IbOjQbdEFo5Eo97H0JPTQrHBdfLTjLZNf//73/c5xKYHCckQROCZRdmmyfU33njjO9/5Tqrghb6g1FeWJ+Sm5X8ViRZ5gXWodO7cuQqE9773vTwEcxGOeTuiHFM2eeUrX8kWn/70p1W1iY0huyMQchIKgZnymGOO8VIocy1wlcsuu4zn2FdCUdoYtF1m+7RRkcGR1YSixqUlr/HDMvRkeAvvtttuErHiRTlgZJBJZAh0sxH9HHLIISyi7M3UsmXLCHPGGWekG0j0njz0HGONifLoSAdGpokjjjjCLHgHSntGiDh4kiFwqoULF+LAVPPmzZPbNGTBxYsXT4tPwPZWKRzmzJmDj6ryoosu0nUQ53r9619v8A1veANRkRnhKDxPkC9ZsqSwGIWkGOdNVJx11lmeMLh98YtfxAf/c845J5SbGEwecHe3n4si0J5x2CJ7eSHbQul3/vnn77jjjo0vlHzBlFyT/8WO07ImrwD1qTBWI9S1V111lcRx7LHHGslLJOMaKlClh4s3g75pAOvjlnbF9773PW5mCzwFIdt5hnjzxv9rFGAiSTnOaaed5iwZr9lHt1JCbacxPE24Yr2JyOA1kdgZFHLBggUOpUTykrIpNBv2UCgmZAg4p13IqWqQXPLDWW7uVBPSdyFtwHY77bTTAQccUE80Dp6UJmKGl73sZbjvt99+dTwxpuEMooJ+nTbJm5SVrA+4TTqV6p2y6BQBt1MmGaGdpM9BYGUjKP0WTMnQ6l4cCOYpYTDaR7/nnnsa97TJWuN0Z0QhsHTp0t76Fpwxx8yXbJE/3S996Uv4E/vuu+/GzRRDyji4ufcQbBpUCUWp+jmgOlDaBNxlxoFtdqGB5FnRC1yFMgOqgHe84x1KdHaJFTQawUeAPnmUtRL9+vXrs8oxuYfXgXow3VgENOyiqCGYyFfJJ/BySabdhscm4VUQMp2u5VdeeSXVvf3tb8/vViEL7rzzToWMosbN/41vfMOtk7NE+dYOoln3OKPQQP0J0zeccfB1wZiVoao3+vZB2vroRz9Kw25r9DKLQayqAGW/BhnU4MzscuSRRyYqg5/85Ce2UxBZBRl0fHo4+OCDtS3M4EiUR4fDhJGGQg73fffdF5co3SAIhkSF1B7pgaAW+tYtNaCK1Qd81CmYuOHrX1563hsBiaPQNagJL2Rpt2FQjmBRzspdXPi6mYoAROXQarz77rsvt1wMadCLN5QV2a5PcgL7GnRrSZGCQT0SYdyxbGMwaQJl20hPEWwdCeNzfWiH68wCW0oGbVkjI/lWZJaTCD+hQtRob3x4ilt+zz331IWqGLffXnvtlW4buWkFg2vG7q6Eb37zm5yqz4KBG47Rxb82AmAs0aJ48Wa0XWzaxooVKw477DCHyh9xkCQegrIirCBLeBf6pAmzSQdyFt8799xz6e2oo46qLjrppmHlpXP88ceLZ+Ww0oOn1S2g2bm3NQ6YeyJ5eR100EEPPfSQwRo1nt6CwktEeILzWnXrrbfyWM+08AnlSPTSRCTAPRvvuuuuTLX//vtj7Zxg6uyzz+75yNZbH3rooffee68EbFBmcmZkffth4iXvhv/ud79bhhrgj5sEwajefnJN77iPPaYIbNxsq8FfKCy55ZZbeM/JJ59MWWV0AmY/9rGP0QXvlIMxpDWZG5LgEkv8IwkIB+WWU0jVfX+LRmYnOu+884hN76RyLuPho83DXJ40YyPEkLKI7esxq4WeOtjXlzxnnnlmLALE2JSgB1/2yrdCdiCMp3WqbjqMtOPDg5GGWSGxxFtcIdx6/vz5Q3Rrlx/84AfeILI271VZxHZtvPvd7ybt6tWrTXGbyKa4mCpNJOMb//nPfy7S+BiPzesSZQVWgXESIqCBK664wi4RON9vfetbNhI7PBNP37rcbBtVcgvXrFnD8y3cYYcdzjjjjEqctSix8pLy9FOF3X///dRlJDv24vaRR9hCks2/vJoykrezmjp8euzGwCyL/Qdrgb333nvvvvvu7CSuaHyfffbZY489qInNdt555/iEJwkaxdhrX/taweYYg1eo9088Zs6cOWWoQcQ65ZRT8GF7BYt7eOHCherM3Pn5o502iCcR2Jqdbr/9diP1bBrKTlGKGwISguxLPEI6Dhq6oyYElh944IGO43SIv/CFL4RJG5Tgde3gmDBJNFPNZjulr3ORfN68eQo8KRwrlpBKIlUlfqpBPCnPGw2k0Qp3BZTOjAJb2gb+YNObbrpJSGy33XZ0W6FKN0gw2ohCqDSNcUDh69atExLq2RtvvNHtbTs1Aj17MhSiCcQ6QOcxFi+97rrruFz+UqDPFi5zxjriiCN+/etf81gXr/KQi0766Ggj7k0Dcsouu+yindMFtg7cIvzz1FNPpQcZXDu/o+MsJoW6kuTaa69V+zjUqlWrlCoOK18I3d42E8DTl/CpQXRp3hufZ6qIbRSVauDsLBwbZ4mJUf6vwTXXXONdHG5uR/IoYUQWKHbYiH5cqPbNXuOglyZCjZcAoEp8c12Akcsvv5zhRbIutbZhZPbs2SS2vG5Jrd6TwgkTScR4GwhYSIyJRhyyl7ako6YIhz6cdNJJNpJE8g8K2S6QBSyXYsIKUOZ7wgkn2I66f/jDH0pntGkX4wo5DLlUDl6BG5slG6pFs0ufCWVlmbStJcVwNcmWjUQdtXBfhZjXnBwRPVA+cx933HH8OPGWC20DgDl7sbXU4AJgMlnehYnhoL0qylAD3dSJfbeX5cpAJuMJOIsWwnv/qi8anyq3wqSorGLr7OKbhdquaE5YQSFuI56m3Ea2ePFie4HxNuQdy8NtJDg/5aSdJdZ6j/DGiuwC++23X47DpV3DpggTlUqj3nT0yaD4VDSMp8QTv01INlK4bHT99der9HwlPFk8VffatWslQl1TFa6Uu+66K8vtmr11TUVfGBYpGvR2amLPCa31xFiyZMnXvvY1l0D9saMNlM6ZPyyTWcpoC+4BQpJ5+fLlxIMbbrjBl/D539JCxlrLli1z0cmmCjlso8Qi1gTuuOMOxqPlWjM3q5+AhbThdGT2CrMLy/Wlki0Y9Cm9qn5VuRyOUeiKxqTOlStXDgmzaYFKXTMeEYzlke8myPj4bl3t3geWcv260tnOK0CBQObEOQxha7wdzw1hD9pZTkiOV8EbffFvyHt/HspVxEJmAyMiH5NwHolB9VrIHPaq4PnCin+KSqktfi4qpcJLLrlk6dKlgsUI/UBKlYrCdAr00kQkGCQ1ksiHMtQIV6E7GCeWzJ07VzZdtGhRGWoQ/mZDnzM0M8Mgg3BEV0r9y5m2MMNBU9m0iNv8MuKLQz1yha68ay/PYDS99QPIqipALpmsfYZgwYIFyQ7gjvK4u/TSS2mAWcex5pjIzQRxFZxjtcZQBSEYBEl8EbfpMxXo9lxhIuz7ZqcCMgyrR/mmAYSMnG3g71tp0mgW9WAWt9DU2ekiCu+dZAIZ18A8bZy1+0xDRSFuZCnI1FSYFbUCXrSgW0dg+PoIFCGiKWs9yXiSZ7yrvqEqwCrmD30VvR4Ph3q8CkWEjKMWSEy2ZQuaM04iZFhlqm4B4WA2CyseeOABhVl+2uxTa8WgzG3OWzaclIEUDskRqokTTzyx/q16aDSqYjOykbBp7BU9h3PQzE+COlUlCXCAtEMARti0PTKIviXpVvSNhCZ71am4DXkyHjSEvYSoHbLhQNwOkMFACIyHeX2hQF2VAAxB4TuBZn5KlEdHUFY0KENjo64in3IrOaKqoyJkQ1DoGtCL8gmSg2YWg3t5UqkPn4q9tgDE1a6++urZs2cffvjhjML7h9i39DcbFLEalKEJDI6Mg7CqKKMDKNNDUUg3YzwpTWwk6pmH5LzQDEGh2+R4enf/H0ItvCdF1Ailv9mgiNWgDG0cCq8JlNEBlOmhKKSbMWYyTUA9c0qptNto1DIMhe5pwlTPjQ5J/b4x02AdEWQWSn+zQRGrQRnaaBR2DcrQAMr0UBTSzRgznCagHluj/hZV0ahlGApdg1qMTPUSeyqwfv360urQQtJE20CTvs5iRCj9zQZFrAZlaKNR2DUoQwMo00NRSDdjzHyamEEULTYoQx06bHEoLj42yrJNiC5NdOjwNKO4+NgoyzYhujTRocPTjOLiY6Ms24To0kSHDk8ziouPjbJsE2KzThMdOnTYHNCliQ4dOoxAlyY6dOgwAl2a6NChwwh0aaJDhw4j0KWJDh06jECXJjp06DACXZro0KHDCHRpokOHDkPx+OP/D3ErJ2Mme+noAAAAAElFTkSuQmCC)"
      ]
    },
    {
      "cell_type": "markdown",
      "metadata": {
        "id": "Xwimb_pZ-81a"
      },
      "source": [
        "El problema del ordenamiento ha atraído gran cantidad de investigación desde los comienzos de la computación, atracción que perdura hasta hoy, tal vez debido a que, pese a su simple y familiar planteamiento, la complejidad que presenta de resolverlo eficientemente. Por ejemplo, el método de ordenamiento conocido como $Merge Sort$, un algoritmo de ordenamiento  que se ejecuta de forma recursiva."
      ]
    },
    {
      "cell_type": "markdown",
      "metadata": {
        "id": "J6F2Yp_IA6UB"
      },
      "source": [
        "# **2. Merge Sort**"
      ]
    },
    {
      "cell_type": "markdown",
      "metadata": {
        "id": "OFtxHy6oCCVm"
      },
      "source": [
        "## **2.1. Descripción del algoritmo**"
      ]
    },
    {
      "cell_type": "markdown",
      "metadata": {
        "id": "dAyIYsOkBtGs"
      },
      "source": [
        "`Merge Sort` es uno de los algoritmos que solucionan el problema de ordenamiento de forma recursiva. Además, tiene la peculiaridad de que el peor y el mejor casos son del mismo orden.\n",
        "\n",
        "El algoritmo recibe de entrada una lista(o arreglo) $arr$ con una secuencia de $n$ números en cualquier orden. \n",
        "\n",
        "Luego los números dentro de la lista(o arreglo) se ordenan de mayor a menor o de menor a mayor dependiendo del programador. En este caso describiremos el algoritmo al ordenar de menor a mayor\n",
        "\n",
        "1.   En cada interacción i del Merge Sort, se calculará la mitad del arreglo para dividirlo en dos sub-arreglos, que se enviaran a la función Merge Sort para ordenar los sub-arreglos de menor a mayor.\n",
        "2.   Luego de que Merge Sort ordene los sub-arreglos, se enviaran a la función Merge que juntara todos los elementos de ambos sub-arreglos en un único arreglo ordenado.\n",
        "3.   Esto sucede en cada iteración del algoritmo, se puede evidenciar que es recursivo. El algoritmo Merge Sort ordenara el arreglo recibido, la función Merge siempre recibirá dos sub-arreglos ordenados e integrara los elementos de ambos en un único arreglo de forma ordenada.\n",
        "4.   El algoritmo ordena el arreglo y retorna la cantidad de interacciones en el algoritmo."
      ]
    },
    {
      "cell_type": "markdown",
      "metadata": {
        "id": "iicgroujCNjI"
      },
      "source": [
        "## **2.2. Código**"
      ]
    },
    {
      "cell_type": "code",
      "source": [
        "import random\n",
        "from termcolor import colored\n",
        "import copy\n",
        "\n",
        "llamadas = -1; contador = 0; pasada = 0; llamadasMerge = 0\n",
        "\n",
        "def subArreglo(a,i):\n",
        "    if len(a) == 1:\n",
        "        print(colored(f\"{str(a[i:i+1])[1:-1]}\", \"blue\"))\n",
        "    elif len(a) == 2:\n",
        "        if i == 0:\n",
        "           print(colored(f\"{str(a[:1])[1:-1]}\", \"blue\"), \",\", str(a[1:])[1:-1])\n",
        "        else :print(str(a[:1])[1:-1], \",\",colored(f\"{str(a[1:2])[1:-1]}\", \"blue\"))\n",
        "    elif len(a)>2:\n",
        "        if i == 0:\n",
        "           print(colored(f\"{str(a[:1])[1:-1]}\", \"blue\"), \",\", str(a[1:])[1:-1])\n",
        "        elif i+1==len(a) : print(str(a[:i])[1:-1], \",\",colored(f\"{str(a[i:i+1])[1:-1]}\", \"blue\"))\n",
        "        else: print(str(a[:i])[1:-1], \",\",colored(f\"{str(a[i:i+1])[1:-1]}\", \"blue\"), \",\",str(a[i+1:])[1:-1])\n",
        "\n",
        "def Arreglo(a):\n",
        "    if len(a) == 1:\n",
        "        print(colored(f\"{str(a[:1])[1:-1]}\", \"red\"))\n",
        "    elif len(a) == 2:\n",
        "        print(str(a[:1])[1:-1], \",\",colored(f\"{str(a[1:2])[1:-1]}\", \"red\"))\n",
        "    elif len(a)>2:\n",
        "        print(str(a[:len(a)-1])[1:-1], \",\",colored(f\"{str(a[len(a)-1:len(a)])[1:-1]}\", \"red\"),)\n",
        "\n",
        "def Merge(array, izquierda, medio, derecha, verbose=False):\n",
        "    global llamadasMerge; llamadasMerge += 1\n",
        "    # Sub arreglos ordenados que se deben juntar\n",
        "    subArray1 = array[izquierda:medio + 1]\n",
        "    subArray2 = array[medio+1:derecha+1]\n",
        "    if verbose == True:\n",
        "        print(\"---------------------------------------------------------------\")\n",
        "        print(f\"Se evidencia que Merge recibio los sub arreglos {subArray1} y {subArray2} con sus elementos ordenados\")\n",
        "        print(\"---------------------------------------------------------------\")\n",
        "\n",
        "    i = 0 # Indice para sub Arreglo 1\n",
        "    j = 0 # Indice para sub Arreglo 2\n",
        "    k = izquierda # Indice del arreglo ordenado donde se unieron los sub arreglos\n",
        "    global contador; global pasada\n",
        "\n",
        "    # Juntar hasta que uno de los sub arreglos se haya trasladado completamente al arreglo unido\n",
        "    while i < len(subArray1) and j < len(subArray2):\n",
        "        if verbose == True: \n",
        "              print(\"Se comparan los menores elementos de ambos subarreglos que aun no se combinan\")\n",
        "              subArreglo(subArray1,i); subArreglo(subArray2,j)\n",
        "              print(\"---------------------------------------------------------------\")\n",
        "        if subArray1[i] <= subArray2[j]:\n",
        "            array[k] = subArray1[i]\n",
        "            if verbose == True: \n",
        "              print(f\"Como {subArray1[i]} < {subArray2[j]}, se agrega {subArray1[i]} al arreglo principal: \")\n",
        "              print(\"---------------------------------------------------------------\")\n",
        "              print(\"El arreglo principal es: \")\n",
        "              Arreglo(array[izquierda:k+1])\n",
        "            i += 1\n",
        "        else:\n",
        "            array[k] = subArray2[j]\n",
        "            if verbose == True: \n",
        "              print(f\"Como {subArray2[j]} < {subArray1[i]}, se agrega {subArray2[j]} al arreglo principal: \")\n",
        "              print(\"---------------------------------------------------------------\")\n",
        "              print(f\"El arreglo principal es: \")\n",
        "              Arreglo(array[izquierda:k+1])\n",
        "            j += 1\n",
        "        if verbose==True:  print(\"---------------------------------------------------------------\")\n",
        "        contador +=1\n",
        "        k += 1\n",
        "\n",
        "\n",
        "    while i < len(subArray1):\n",
        "        if verbose == True: \n",
        "              print(\"Se comparan los menores elementos de ambos subarreglos que aun no se combinan\")\n",
        "              subArreglo(subArray1,i);\n",
        "              print(\"---------------------------------------------------------------\")\n",
        "        array[k] = subArray1[i]\n",
        "        if verbose == True: \n",
        "              print(f\"Como solo quedan elementos del {subArray1[i]}, se agrega el menor de sus elementos\")\n",
        "              print(\"---------------------------------------------------------------\")\n",
        "              Arreglo(array[izquierda:k+1])\n",
        "              print(\"---------------------------------------------------------------\")\n",
        "        i += 1\n",
        "        contador +=1\n",
        "        k += 1\n",
        "    \n",
        "    while j < len(subArray2):\n",
        "        if verbose == True:\n",
        "              print(\"Se comparan los menores elementos de ambos subarreglos que aun no se combinan\")\n",
        "              subArreglo(subArray2,j);\n",
        "              print(\"---------------------------------------------------------------\")\n",
        "        array[k] = subArray2[j]\n",
        "        if verbose == True: \n",
        "              print(f\"Como solo quedan elementos del {subArray2[j]}, se agrega el menor de sus elementos\")\n",
        "              print(\"---------------------------------------------------------------\")\n",
        "              Arreglo(array[izquierda:k+1])\n",
        "              print(\"---------------------------------------------------------------\")\n",
        "        j += 1\n",
        "        contador +=1\n",
        "        k += 1\n",
        "    if verbose==True: print(\"\\n\")\n",
        "\n",
        "def MergeSort(Arreglo, izq, der, verbose=False):\n",
        "   global llamadas\n",
        "   llamadas += 1\n",
        "   if izq==der: return #la secuencia tiene sólo un elemento\n",
        "   med = int((izq + der)/2) #elemento medio del arreglo\n",
        "   \n",
        "   MergeSort(Arreglo, izq, med, verbose) #ordena la parte izquierda del arreglo\n",
        "   MergeSort(Arreglo, med+1, der, verbose) #ordena la parte derecha del arreglo\n",
        "   \n",
        "   Merge(Arreglo, izq, med, der, verbose) #combina y ordena ambos subarreglos ordenados\n",
        "  \n",
        "# Ejemplo\n",
        "array = [75,34,77,122,21]\n",
        "print(f\"Datos de entrada: {array}\\n\")\n",
        "MergeSort(array, 0, len(array))\n",
        "print(\"Datos de salida: \",array)\n",
        "print(\"Numero de llamadas recursivas en la funcion Merge Sort: \", llamadas)\n",
        "print(\"Numero de comparaciones de la funcion Merge: \", contador)\n",
        "print(\"Numero de llamadas de la funcion Merge: \", llamadasMerge)"
      ],
      "metadata": {
        "colab": {
          "base_uri": "https://localhost:8080/"
        },
        "id": "nqETOWVEJqhC",
        "outputId": "e56672d9-ecd6-4764-bcf7-dd3f3a647294"
      },
      "execution_count": 68,
      "outputs": [
        {
          "output_type": "stream",
          "name": "stdout",
          "text": [
            "Datos de entrada: [75, 34, 77, 122, 21]\n",
            "\n",
            "Datos de salida:  [21, 34, 75, 77, 122]\n",
            "Numero de llamadas recursivas en la funcion Merge Sort:  10\n",
            "Numero de comparaciones de la funcion Merge:  14\n",
            "Numero de llamadas de la funcion Merge:  5\n"
          ]
        }
      ]
    },
    {
      "cell_type": "markdown",
      "metadata": {
        "id": "EGz6I60SVdP5"
      },
      "source": [
        "## **2.3. Ejemplo**"
      ]
    },
    {
      "cell_type": "markdown",
      "source": [
        "###Nota"
      ],
      "metadata": {
        "id": "nvCDZkxI2sk6"
      }
    },
    {
      "cell_type": "markdown",
      "source": [
        "El número que precede significa la función.\n",
        "* 2. Este es el segundo MergeSort."
      ],
      "metadata": {
        "id": "cqjNuKhc2cg8"
      }
    },
    {
      "cell_type": "markdown",
      "source": [
        "###Ejemplo"
      ],
      "metadata": {
        "id": "LZP5VI832zJZ"
      }
    },
    {
      "cell_type": "markdown",
      "metadata": {
        "id": "Ckef1qIIVlMU"
      },
      "source": [
        "Por ejemplo, consideremos el siguiente arreglo\n",
        "\n",
        "*Entrada:* **a** = $[9,2,6]$\n",
        "\n",
        "* 1. Llamando al **Merge Sort**, recibe el arreglo **a**=$[9,2,6]$. como tiene más de 1 elemento, se llama nuevamente a  **Merge Sort** enviando la mitad izquierda del arreglo, es decir,**a** = $[9,2]$ a **Merge Sort**.\n",
        "\n",
        "* 2. **Merge Sort** recibe el arreglo **a**=$[9,2]$. Como tiene más de 1 elemento, se llama nuevamente a **Merge Sort** enviando la mitad izquierda del arreglo, es decir,**a** = $[9]$ a **Merge Sort**.\n",
        "\n",
        "* 3. **Merge Sort** recibe el arreglo **a**=$[9]$. Como **a** solo tiene 1 elemento, retorna el arreglo, ya que se encuentra ordenado.\n",
        "\n",
        "* 2. Como al enviar la mitad izquierda del algoritmo (**a** = $[9]$) retorno, ahora se enviará la mitad derecha, es decir, **a** = $[2]$ a **Merge Sort**.\n",
        "\n",
        "* 3. **Merge Sort** recibe el arreglo **a**=$[2]$. Como **a** solo tiene 1 elemento, retorna el arreglo, ya que se encuentra ordenado.\n",
        "\n",
        "* 2. Ahora que **Merge Sort** recibió la mitad izquierda y derecha, significa que están ordenadas, y debe juntarlas en un arreglo, envía las 2 mitades ordenadas (**a** = $[9]$ y**a** = $[2]$) a la función **Merge**.\n",
        "\n",
        "* 3. **Merge** recibe los sub-arreglos **a1**=$[9]$ y **a2**=$[2]$ para, con sus elementos, crear un único arreglo **a** ordenado.\n",
        "\n",
        "* 3. Entonces compara los elementos menores de los sub-arreglos que aún no se han unido al único arreglo, $a1[0]= [9] < a2[0]= [2]$, como $2 < 9$ entonces el primer elemento de **a** será el 2, siendo el arreglo único de la siguiente manera: **a**=$[2]$.\n",
        "\n",
        "* 3. Como un sub-arreglos está vacío y el otro ordenado, se agregan los elementos faltantes del sub-arreglo al único arreglo, siendo el arreglo único de la siguiente manera:  **a**=$[2,9]$ al finalizar el **Merge**.\n",
        "\n",
        "* 2. Como finalizo el **Merge** dentro del **Merge Sort**, quiere decir que el arreglo recibido **a**=$[9,2]$ ahora esta ordenado de la siguiente manera **a**=$[2,9]$. Y finaliza el **Merge Sort**.\n",
        "\n",
        "* 1. Como al enviar la mitad izquierda del algoritmo (**a** = $[9,2]$) retorno ]**a**=$[2,9]$ (el arreglo ordenado), ahora se enviará la mitad derecha, es decir, **a** = $[6]$ a **MergeSort**.\n",
        "\n",
        "* 2. **Merge** Sort recibe el arreglo **a**=$[6]$. Como **a** solo tiene 1 elemento, retorna el arreglo, ya que se encuentra ordenado.\n",
        "\n",
        "* 1. Ahora que **Merge Sort** recibió la mitad izquierda y derecha, significa que están ordenadas, y debe juntarlas en un arreglo, envía las 2 mitades ordenadas (**a** = $[2,9]$ y**a** = $[6]$) a la función **Merge**.\n",
        "\n",
        "* 2. **Merge** recibe los sub-arreglos **a1**=$[2,9]$ y **a2**=$[6]$ para, con sus elementos, crear un único arreglo **a** ordenado.\n",
        "\n",
        "* 2. Entonces compara los elementos menores de los sub-arreglos que aún no se han unido al único arreglo, $a1[0]= [2] < a2[0]= [6]$, como $2 < 6$ entonces el primer elemento de **a** será el 2, siendo el arreglo único de la siguiente manera: **a**=$[2]$.\n",
        "\n",
        "* 2. Como ambos sub-arreglos poseen elementos que aún no están en el arreglo **a**, continúa comparando los elementos menores de los sub-arreglos que aún no se han unido al único arreglo, $a1[1]= [9] < a2[0]= [6]$, como $6 < 9$ entonces el segundo elemento de **a** será el 6, siendo el arreglo único de la siguiente manera: **a**=$[2,6]$.\n",
        "\n",
        "* 2. Como todos los elementos de **a2**=$[6]$ se encuentran en **a**=$[2,6]$, se agregan los elementos faltantes del sub-arreglo **a1**=$[2,9]$ al único arreglo **a**=$[2,6]$, siendo el arreglo único de la siguiente manera:  **a**=$[2,6,9]$ al finalizar **Merge**.\n",
        "\n",
        "* 1. Como finalizo el **Merge** dentro del **Merge Sort**, quiere decir que el arreglo recibido **a**=$[9,2,6]$ ahora esta ordenado de la siguiente manera **a**=$[2,6,9]$. Y finaliza el **Merge Sort**.\n",
        "\n",
        "*Salida:* **a** = $[2,6,9]$\n"
      ]
    },
    {
      "cell_type": "markdown",
      "metadata": {
        "id": "OKGol3wpd18O"
      },
      "source": [
        "## **2.4. Ejecución del algoritmo paso a paso**"
      ]
    },
    {
      "cell_type": "markdown",
      "metadata": {
        "id": "nx45FsD1eDXP"
      },
      "source": [
        "Aplicando **`verbose=True`**, podemos ver lo que ocurre en cada iteración del algoritmo de Insertion Sort."
      ]
    },
    {
      "cell_type": "code",
      "execution_count": 69,
      "metadata": {
        "colab": {
          "base_uri": "https://localhost:8080/"
        },
        "id": "p91sfXt8eRiO",
        "outputId": "656f981f-2efd-42db-9200-8e46469868e1"
      },
      "outputs": [
        {
          "output_type": "stream",
          "name": "stdout",
          "text": [
            "Datos de entrada: [53, 48, 98, 22, 52, 20, 61, 10, 11, 87, 32]\n",
            "---------------------------------------------------------------\n",
            "Se evidencia que Merge recibio los sub arreglos [53] y [48] con sus elementos ordenados\n",
            "---------------------------------------------------------------\n",
            "Se comparan los menores elementos de ambos subarreglos que aun no se combinan\n",
            "\u001b[34m53\u001b[0m\n",
            "\u001b[34m48\u001b[0m\n",
            "---------------------------------------------------------------\n",
            "Como 48 < 53, se agrega 48 al arreglo principal: \n",
            "---------------------------------------------------------------\n",
            "El arreglo principal es: \n",
            "\u001b[31m48\u001b[0m\n",
            "---------------------------------------------------------------\n",
            "Se comparan los menores elementos de ambos subarreglos que aun no se combinan\n",
            "\u001b[34m53\u001b[0m\n",
            "---------------------------------------------------------------\n",
            "Como solo quedan elementos del 53, se agrega el menor de sus elementos\n",
            "---------------------------------------------------------------\n",
            "48 , \u001b[31m53\u001b[0m\n",
            "---------------------------------------------------------------\n",
            "\n",
            "\n",
            "---------------------------------------------------------------\n",
            "Se evidencia que Merge recibio los sub arreglos [48, 53] y [98] con sus elementos ordenados\n",
            "---------------------------------------------------------------\n",
            "Se comparan los menores elementos de ambos subarreglos que aun no se combinan\n",
            "\u001b[34m48\u001b[0m , 53\n",
            "\u001b[34m98\u001b[0m\n",
            "---------------------------------------------------------------\n",
            "Como 48 < 98, se agrega 48 al arreglo principal: \n",
            "---------------------------------------------------------------\n",
            "El arreglo principal es: \n",
            "\u001b[31m48\u001b[0m\n",
            "---------------------------------------------------------------\n",
            "Se comparan los menores elementos de ambos subarreglos que aun no se combinan\n",
            "48 , \u001b[34m53\u001b[0m\n",
            "\u001b[34m98\u001b[0m\n",
            "---------------------------------------------------------------\n",
            "Como 53 < 98, se agrega 53 al arreglo principal: \n",
            "---------------------------------------------------------------\n",
            "El arreglo principal es: \n",
            "48 , \u001b[31m53\u001b[0m\n",
            "---------------------------------------------------------------\n",
            "Se comparan los menores elementos de ambos subarreglos que aun no se combinan\n",
            "\u001b[34m98\u001b[0m\n",
            "---------------------------------------------------------------\n",
            "Como solo quedan elementos del 98, se agrega el menor de sus elementos\n",
            "---------------------------------------------------------------\n",
            "48, 53 , \u001b[31m98\u001b[0m\n",
            "---------------------------------------------------------------\n",
            "\n",
            "\n",
            "---------------------------------------------------------------\n",
            "Se evidencia que Merge recibio los sub arreglos [22] y [52] con sus elementos ordenados\n",
            "---------------------------------------------------------------\n",
            "Se comparan los menores elementos de ambos subarreglos que aun no se combinan\n",
            "\u001b[34m22\u001b[0m\n",
            "\u001b[34m52\u001b[0m\n",
            "---------------------------------------------------------------\n",
            "Como 22 < 52, se agrega 22 al arreglo principal: \n",
            "---------------------------------------------------------------\n",
            "El arreglo principal es: \n",
            "\u001b[31m22\u001b[0m\n",
            "---------------------------------------------------------------\n",
            "Se comparan los menores elementos de ambos subarreglos que aun no se combinan\n",
            "\u001b[34m52\u001b[0m\n",
            "---------------------------------------------------------------\n",
            "Como solo quedan elementos del 52, se agrega el menor de sus elementos\n",
            "---------------------------------------------------------------\n",
            "22 , \u001b[31m52\u001b[0m\n",
            "---------------------------------------------------------------\n",
            "\n",
            "\n",
            "---------------------------------------------------------------\n",
            "Se evidencia que Merge recibio los sub arreglos [22, 52] y [20] con sus elementos ordenados\n",
            "---------------------------------------------------------------\n",
            "Se comparan los menores elementos de ambos subarreglos que aun no se combinan\n",
            "\u001b[34m22\u001b[0m , 52\n",
            "\u001b[34m20\u001b[0m\n",
            "---------------------------------------------------------------\n",
            "Como 20 < 22, se agrega 20 al arreglo principal: \n",
            "---------------------------------------------------------------\n",
            "El arreglo principal es: \n",
            "\u001b[31m20\u001b[0m\n",
            "---------------------------------------------------------------\n",
            "Se comparan los menores elementos de ambos subarreglos que aun no se combinan\n",
            "\u001b[34m22\u001b[0m , 52\n",
            "---------------------------------------------------------------\n",
            "Como solo quedan elementos del 22, se agrega el menor de sus elementos\n",
            "---------------------------------------------------------------\n",
            "20 , \u001b[31m22\u001b[0m\n",
            "---------------------------------------------------------------\n",
            "Se comparan los menores elementos de ambos subarreglos que aun no se combinan\n",
            "22 , \u001b[34m52\u001b[0m\n",
            "---------------------------------------------------------------\n",
            "Como solo quedan elementos del 52, se agrega el menor de sus elementos\n",
            "---------------------------------------------------------------\n",
            "20, 22 , \u001b[31m52\u001b[0m\n",
            "---------------------------------------------------------------\n",
            "\n",
            "\n",
            "---------------------------------------------------------------\n",
            "Se evidencia que Merge recibio los sub arreglos [48, 53, 98] y [20, 22, 52] con sus elementos ordenados\n",
            "---------------------------------------------------------------\n",
            "Se comparan los menores elementos de ambos subarreglos que aun no se combinan\n",
            "\u001b[34m48\u001b[0m , 53, 98\n",
            "\u001b[34m20\u001b[0m , 22, 52\n",
            "---------------------------------------------------------------\n",
            "Como 20 < 48, se agrega 20 al arreglo principal: \n",
            "---------------------------------------------------------------\n",
            "El arreglo principal es: \n",
            "\u001b[31m20\u001b[0m\n",
            "---------------------------------------------------------------\n",
            "Se comparan los menores elementos de ambos subarreglos que aun no se combinan\n",
            "\u001b[34m48\u001b[0m , 53, 98\n",
            "20 , \u001b[34m22\u001b[0m , 52\n",
            "---------------------------------------------------------------\n",
            "Como 22 < 48, se agrega 22 al arreglo principal: \n",
            "---------------------------------------------------------------\n",
            "El arreglo principal es: \n",
            "20 , \u001b[31m22\u001b[0m\n",
            "---------------------------------------------------------------\n",
            "Se comparan los menores elementos de ambos subarreglos que aun no se combinan\n",
            "\u001b[34m48\u001b[0m , 53, 98\n",
            "20, 22 , \u001b[34m52\u001b[0m\n",
            "---------------------------------------------------------------\n",
            "Como 48 < 52, se agrega 48 al arreglo principal: \n",
            "---------------------------------------------------------------\n",
            "El arreglo principal es: \n",
            "20, 22 , \u001b[31m48\u001b[0m\n",
            "---------------------------------------------------------------\n",
            "Se comparan los menores elementos de ambos subarreglos que aun no se combinan\n",
            "48 , \u001b[34m53\u001b[0m , 98\n",
            "20, 22 , \u001b[34m52\u001b[0m\n",
            "---------------------------------------------------------------\n",
            "Como 52 < 53, se agrega 52 al arreglo principal: \n",
            "---------------------------------------------------------------\n",
            "El arreglo principal es: \n",
            "20, 22, 48 , \u001b[31m52\u001b[0m\n",
            "---------------------------------------------------------------\n",
            "Se comparan los menores elementos de ambos subarreglos que aun no se combinan\n",
            "48 , \u001b[34m53\u001b[0m , 98\n",
            "---------------------------------------------------------------\n",
            "Como solo quedan elementos del 53, se agrega el menor de sus elementos\n",
            "---------------------------------------------------------------\n",
            "20, 22, 48, 52 , \u001b[31m53\u001b[0m\n",
            "---------------------------------------------------------------\n",
            "Se comparan los menores elementos de ambos subarreglos que aun no se combinan\n",
            "48, 53 , \u001b[34m98\u001b[0m\n",
            "---------------------------------------------------------------\n",
            "Como solo quedan elementos del 98, se agrega el menor de sus elementos\n",
            "---------------------------------------------------------------\n",
            "20, 22, 48, 52, 53 , \u001b[31m98\u001b[0m\n",
            "---------------------------------------------------------------\n",
            "\n",
            "\n",
            "---------------------------------------------------------------\n",
            "Se evidencia que Merge recibio los sub arreglos [61] y [10] con sus elementos ordenados\n",
            "---------------------------------------------------------------\n",
            "Se comparan los menores elementos de ambos subarreglos que aun no se combinan\n",
            "\u001b[34m61\u001b[0m\n",
            "\u001b[34m10\u001b[0m\n",
            "---------------------------------------------------------------\n",
            "Como 10 < 61, se agrega 10 al arreglo principal: \n",
            "---------------------------------------------------------------\n",
            "El arreglo principal es: \n",
            "\u001b[31m10\u001b[0m\n",
            "---------------------------------------------------------------\n",
            "Se comparan los menores elementos de ambos subarreglos que aun no se combinan\n",
            "\u001b[34m61\u001b[0m\n",
            "---------------------------------------------------------------\n",
            "Como solo quedan elementos del 61, se agrega el menor de sus elementos\n",
            "---------------------------------------------------------------\n",
            "10 , \u001b[31m61\u001b[0m\n",
            "---------------------------------------------------------------\n",
            "\n",
            "\n",
            "---------------------------------------------------------------\n",
            "Se evidencia que Merge recibio los sub arreglos [10, 61] y [11] con sus elementos ordenados\n",
            "---------------------------------------------------------------\n",
            "Se comparan los menores elementos de ambos subarreglos que aun no se combinan\n",
            "\u001b[34m10\u001b[0m , 61\n",
            "\u001b[34m11\u001b[0m\n",
            "---------------------------------------------------------------\n",
            "Como 10 < 11, se agrega 10 al arreglo principal: \n",
            "---------------------------------------------------------------\n",
            "El arreglo principal es: \n",
            "\u001b[31m10\u001b[0m\n",
            "---------------------------------------------------------------\n",
            "Se comparan los menores elementos de ambos subarreglos que aun no se combinan\n",
            "10 , \u001b[34m61\u001b[0m\n",
            "\u001b[34m11\u001b[0m\n",
            "---------------------------------------------------------------\n",
            "Como 11 < 61, se agrega 11 al arreglo principal: \n",
            "---------------------------------------------------------------\n",
            "El arreglo principal es: \n",
            "10 , \u001b[31m11\u001b[0m\n",
            "---------------------------------------------------------------\n",
            "Se comparan los menores elementos de ambos subarreglos que aun no se combinan\n",
            "10 , \u001b[34m61\u001b[0m\n",
            "---------------------------------------------------------------\n",
            "Como solo quedan elementos del 61, se agrega el menor de sus elementos\n",
            "---------------------------------------------------------------\n",
            "10, 11 , \u001b[31m61\u001b[0m\n",
            "---------------------------------------------------------------\n",
            "\n",
            "\n",
            "---------------------------------------------------------------\n",
            "Se evidencia que Merge recibio los sub arreglos [87] y [32] con sus elementos ordenados\n",
            "---------------------------------------------------------------\n",
            "Se comparan los menores elementos de ambos subarreglos que aun no se combinan\n",
            "\u001b[34m87\u001b[0m\n",
            "\u001b[34m32\u001b[0m\n",
            "---------------------------------------------------------------\n",
            "Como 32 < 87, se agrega 32 al arreglo principal: \n",
            "---------------------------------------------------------------\n",
            "El arreglo principal es: \n",
            "\u001b[31m32\u001b[0m\n",
            "---------------------------------------------------------------\n",
            "Se comparan los menores elementos de ambos subarreglos que aun no se combinan\n",
            "\u001b[34m87\u001b[0m\n",
            "---------------------------------------------------------------\n",
            "Como solo quedan elementos del 87, se agrega el menor de sus elementos\n",
            "---------------------------------------------------------------\n",
            "32 , \u001b[31m87\u001b[0m\n",
            "---------------------------------------------------------------\n",
            "\n",
            "\n",
            "---------------------------------------------------------------\n",
            "Se evidencia que Merge recibio los sub arreglos [32, 87] y [] con sus elementos ordenados\n",
            "---------------------------------------------------------------\n",
            "Se comparan los menores elementos de ambos subarreglos que aun no se combinan\n",
            "\u001b[34m32\u001b[0m , 87\n",
            "---------------------------------------------------------------\n",
            "Como solo quedan elementos del 32, se agrega el menor de sus elementos\n",
            "---------------------------------------------------------------\n",
            "\u001b[31m32\u001b[0m\n",
            "---------------------------------------------------------------\n",
            "Se comparan los menores elementos de ambos subarreglos que aun no se combinan\n",
            "32 , \u001b[34m87\u001b[0m\n",
            "---------------------------------------------------------------\n",
            "Como solo quedan elementos del 87, se agrega el menor de sus elementos\n",
            "---------------------------------------------------------------\n",
            "32 , \u001b[31m87\u001b[0m\n",
            "---------------------------------------------------------------\n",
            "\n",
            "\n",
            "---------------------------------------------------------------\n",
            "Se evidencia que Merge recibio los sub arreglos [10, 11, 61] y [32, 87] con sus elementos ordenados\n",
            "---------------------------------------------------------------\n",
            "Se comparan los menores elementos de ambos subarreglos que aun no se combinan\n",
            "\u001b[34m10\u001b[0m , 11, 61\n",
            "\u001b[34m32\u001b[0m , 87\n",
            "---------------------------------------------------------------\n",
            "Como 10 < 32, se agrega 10 al arreglo principal: \n",
            "---------------------------------------------------------------\n",
            "El arreglo principal es: \n",
            "\u001b[31m10\u001b[0m\n",
            "---------------------------------------------------------------\n",
            "Se comparan los menores elementos de ambos subarreglos que aun no se combinan\n",
            "10 , \u001b[34m11\u001b[0m , 61\n",
            "\u001b[34m32\u001b[0m , 87\n",
            "---------------------------------------------------------------\n",
            "Como 11 < 32, se agrega 11 al arreglo principal: \n",
            "---------------------------------------------------------------\n",
            "El arreglo principal es: \n",
            "10 , \u001b[31m11\u001b[0m\n",
            "---------------------------------------------------------------\n",
            "Se comparan los menores elementos de ambos subarreglos que aun no se combinan\n",
            "10, 11 , \u001b[34m61\u001b[0m\n",
            "\u001b[34m32\u001b[0m , 87\n",
            "---------------------------------------------------------------\n",
            "Como 32 < 61, se agrega 32 al arreglo principal: \n",
            "---------------------------------------------------------------\n",
            "El arreglo principal es: \n",
            "10, 11 , \u001b[31m32\u001b[0m\n",
            "---------------------------------------------------------------\n",
            "Se comparan los menores elementos de ambos subarreglos que aun no se combinan\n",
            "10, 11 , \u001b[34m61\u001b[0m\n",
            "32 , \u001b[34m87\u001b[0m\n",
            "---------------------------------------------------------------\n",
            "Como 61 < 87, se agrega 61 al arreglo principal: \n",
            "---------------------------------------------------------------\n",
            "El arreglo principal es: \n",
            "10, 11, 32 , \u001b[31m61\u001b[0m\n",
            "---------------------------------------------------------------\n",
            "Se comparan los menores elementos de ambos subarreglos que aun no se combinan\n",
            "32 , \u001b[34m87\u001b[0m\n",
            "---------------------------------------------------------------\n",
            "Como solo quedan elementos del 87, se agrega el menor de sus elementos\n",
            "---------------------------------------------------------------\n",
            "10, 11, 32, 61 , \u001b[31m87\u001b[0m\n",
            "---------------------------------------------------------------\n",
            "\n",
            "\n",
            "---------------------------------------------------------------\n",
            "Se evidencia que Merge recibio los sub arreglos [20, 22, 48, 52, 53, 98] y [10, 11, 32, 61, 87] con sus elementos ordenados\n",
            "---------------------------------------------------------------\n",
            "Se comparan los menores elementos de ambos subarreglos que aun no se combinan\n",
            "\u001b[34m20\u001b[0m , 22, 48, 52, 53, 98\n",
            "\u001b[34m10\u001b[0m , 11, 32, 61, 87\n",
            "---------------------------------------------------------------\n",
            "Como 10 < 20, se agrega 10 al arreglo principal: \n",
            "---------------------------------------------------------------\n",
            "El arreglo principal es: \n",
            "\u001b[31m10\u001b[0m\n",
            "---------------------------------------------------------------\n",
            "Se comparan los menores elementos de ambos subarreglos que aun no se combinan\n",
            "\u001b[34m20\u001b[0m , 22, 48, 52, 53, 98\n",
            "10 , \u001b[34m11\u001b[0m , 32, 61, 87\n",
            "---------------------------------------------------------------\n",
            "Como 11 < 20, se agrega 11 al arreglo principal: \n",
            "---------------------------------------------------------------\n",
            "El arreglo principal es: \n",
            "10 , \u001b[31m11\u001b[0m\n",
            "---------------------------------------------------------------\n",
            "Se comparan los menores elementos de ambos subarreglos que aun no se combinan\n",
            "\u001b[34m20\u001b[0m , 22, 48, 52, 53, 98\n",
            "10, 11 , \u001b[34m32\u001b[0m , 61, 87\n",
            "---------------------------------------------------------------\n",
            "Como 20 < 32, se agrega 20 al arreglo principal: \n",
            "---------------------------------------------------------------\n",
            "El arreglo principal es: \n",
            "10, 11 , \u001b[31m20\u001b[0m\n",
            "---------------------------------------------------------------\n",
            "Se comparan los menores elementos de ambos subarreglos que aun no se combinan\n",
            "20 , \u001b[34m22\u001b[0m , 48, 52, 53, 98\n",
            "10, 11 , \u001b[34m32\u001b[0m , 61, 87\n",
            "---------------------------------------------------------------\n",
            "Como 22 < 32, se agrega 22 al arreglo principal: \n",
            "---------------------------------------------------------------\n",
            "El arreglo principal es: \n",
            "10, 11, 20 , \u001b[31m22\u001b[0m\n",
            "---------------------------------------------------------------\n",
            "Se comparan los menores elementos de ambos subarreglos que aun no se combinan\n",
            "20, 22 , \u001b[34m48\u001b[0m , 52, 53, 98\n",
            "10, 11 , \u001b[34m32\u001b[0m , 61, 87\n",
            "---------------------------------------------------------------\n",
            "Como 32 < 48, se agrega 32 al arreglo principal: \n",
            "---------------------------------------------------------------\n",
            "El arreglo principal es: \n",
            "10, 11, 20, 22 , \u001b[31m32\u001b[0m\n",
            "---------------------------------------------------------------\n",
            "Se comparan los menores elementos de ambos subarreglos que aun no se combinan\n",
            "20, 22 , \u001b[34m48\u001b[0m , 52, 53, 98\n",
            "10, 11, 32 , \u001b[34m61\u001b[0m , 87\n",
            "---------------------------------------------------------------\n",
            "Como 48 < 61, se agrega 48 al arreglo principal: \n",
            "---------------------------------------------------------------\n",
            "El arreglo principal es: \n",
            "10, 11, 20, 22, 32 , \u001b[31m48\u001b[0m\n",
            "---------------------------------------------------------------\n",
            "Se comparan los menores elementos de ambos subarreglos que aun no se combinan\n",
            "20, 22, 48 , \u001b[34m52\u001b[0m , 53, 98\n",
            "10, 11, 32 , \u001b[34m61\u001b[0m , 87\n",
            "---------------------------------------------------------------\n",
            "Como 52 < 61, se agrega 52 al arreglo principal: \n",
            "---------------------------------------------------------------\n",
            "El arreglo principal es: \n",
            "10, 11, 20, 22, 32, 48 , \u001b[31m52\u001b[0m\n",
            "---------------------------------------------------------------\n",
            "Se comparan los menores elementos de ambos subarreglos que aun no se combinan\n",
            "20, 22, 48, 52 , \u001b[34m53\u001b[0m , 98\n",
            "10, 11, 32 , \u001b[34m61\u001b[0m , 87\n",
            "---------------------------------------------------------------\n",
            "Como 53 < 61, se agrega 53 al arreglo principal: \n",
            "---------------------------------------------------------------\n",
            "El arreglo principal es: \n",
            "10, 11, 20, 22, 32, 48, 52 , \u001b[31m53\u001b[0m\n",
            "---------------------------------------------------------------\n",
            "Se comparan los menores elementos de ambos subarreglos que aun no se combinan\n",
            "20, 22, 48, 52, 53 , \u001b[34m98\u001b[0m\n",
            "10, 11, 32 , \u001b[34m61\u001b[0m , 87\n",
            "---------------------------------------------------------------\n",
            "Como 61 < 98, se agrega 61 al arreglo principal: \n",
            "---------------------------------------------------------------\n",
            "El arreglo principal es: \n",
            "10, 11, 20, 22, 32, 48, 52, 53 , \u001b[31m61\u001b[0m\n",
            "---------------------------------------------------------------\n",
            "Se comparan los menores elementos de ambos subarreglos que aun no se combinan\n",
            "20, 22, 48, 52, 53 , \u001b[34m98\u001b[0m\n",
            "10, 11, 32, 61 , \u001b[34m87\u001b[0m\n",
            "---------------------------------------------------------------\n",
            "Como 87 < 98, se agrega 87 al arreglo principal: \n",
            "---------------------------------------------------------------\n",
            "El arreglo principal es: \n",
            "10, 11, 20, 22, 32, 48, 52, 53, 61 , \u001b[31m87\u001b[0m\n",
            "---------------------------------------------------------------\n",
            "Se comparan los menores elementos de ambos subarreglos que aun no se combinan\n",
            "20, 22, 48, 52, 53 , \u001b[34m98\u001b[0m\n",
            "---------------------------------------------------------------\n",
            "Como solo quedan elementos del 98, se agrega el menor de sus elementos\n",
            "---------------------------------------------------------------\n",
            "10, 11, 20, 22, 32, 48, 52, 53, 61, 87 , \u001b[31m98\u001b[0m\n",
            "---------------------------------------------------------------\n",
            "\n",
            "\n",
            "\n",
            "Datos de salida: [10, 11, 20, 22, 32, 48, 52, 53, 61, 87, 98]\n",
            "Numero de llamadas recursivas en la funcion Merge Sort:  22\n",
            "Numero de comparaciones de la funcion Merge:  41\n",
            "Numero de llamadas de la funcion Merge:  11\n"
          ]
        }
      ],
      "source": [
        "import random\n",
        "llamadas = -1; contador = 0; pasada = 0; llamadasMerge = 0\n",
        "array = random.sample(range(1, 100), 11)\n",
        "print(f\"Datos de entrada: {array}\")\n",
        "MergeSort(array, 0, len(array), True)\n",
        "print(f\"\\nDatos de salida: {array}\")\n",
        "print(\"Numero de llamadas recursivas en la funcion Merge Sort: \", llamadas)\n",
        "print(\"Numero de comparaciones de la funcion Merge: \", contador)\n",
        "print(\"Numero de llamadas de la funcion Merge: \", llamadasMerge)"
      ]
    },
    {
      "cell_type": "markdown",
      "metadata": {
        "id": "n1xTfIDSfCDf"
      },
      "source": [
        "Al final de cada pasada, el arreglo ya tiene los elementoss de ambos sub arreglos ordenados en un unico arreglo.\n",
        "\n",
        "En la pasada 1: Se comparo el menor de ambos sub arreglos, y el elemento menor fue agregado al arreglo principal. Luego en la pasada 2: Como todos los elementos de un sub arreglo ya se encontraban en el arreglo principal, se agregaran los elementos del sub arreglos que aun no se encuentran en el arreglo principal."
      ]
    },
    {
      "cell_type": "markdown",
      "metadata": {
        "id": "KKp56zrst8L2"
      },
      "source": [
        "# **3. Correctitud**"
      ]
    },
    {
      "cell_type": "markdown",
      "source": [
        "## Merge"
      ],
      "metadata": {
        "id": "DwsCPnS4UNd1"
      }
    },
    {
      "cell_type": "markdown",
      "metadata": {
        "id": "3GOv3Sa5uF6e"
      },
      "source": [
        "### **Teorema (Correctitud).**"
      ]
    },
    {
      "cell_type": "markdown",
      "source": [
        "*La función **Merge** dentro del codigo **Merge Sort** recibe los sub arreglos $B=[b_1,b_2,...,b_n]$ y $C=[c_1,c_2,...,c_m]$ ordenados de tal forma que $[b_1 \\leq b_2 \\leq ... \\leq b_n]$ y $[c_1 \\leq c_2 \\leq ... \\leq c_m]$.*\n",
        "\n",
        "*Esta función se encarga de crear el sub arreglo $A=[a_1,a_2,...,a_k]$ ordenado de la forma $[a_1 \\leq a_2 \\leq ... \\leq a_k]$*, tal que $a_i$ con $i \\leq n+m$, es decir, que $A$ contiene todos los elementos $B$ y $C$ ordenados en un único arreglo."
      ],
      "metadata": {
        "id": "QA-dc1MdswGQ"
      }
    },
    {
      "cell_type": "markdown",
      "metadata": {
        "id": "788twfyBuT8W"
      },
      "source": [
        "### **Prueba del Teorema**"
      ]
    },
    {
      "cell_type": "markdown",
      "source": [
        "Previamente, observamos que en cada iteración de **Merge** los sub arreglos recibidos siempre se encuentran ordenados.\n",
        "\n",
        "Por lo que probaremos la siguiente **propiedad invariante de bucle** para el `Merge`:\n",
        "\n",
        "> Al comienzo de cada iteración $i$ del bucle, los elementos dentro de los sub arreglos recibidos se encontraran ordenados, y se debera crear un único arreglo ordenado que contenga todos los elementos de los sub arreglos divididos."
      ],
      "metadata": {
        "id": "q4XL6P5LHrjx"
      }
    },
    {
      "cell_type": "markdown",
      "metadata": {
        "id": "GTcd5E-nPTFM"
      },
      "source": [
        "**Inicialización**\n",
        "\n",
        "Al comienzo de la función merge sort, merge recibe 2 sub arreglos B[0,...,n-1] y C[0,...,m-1], siendo $m=n=1$. Cómo solo contienen un elemento, se evidencia que están ordenados.\n",
        "El arreglo A[izq,..., i-1] contendrá B[0] y C[0] ordenados, con el menor a la izquierda.\n",
        "\n",
        "**Mantención**\n",
        "\n",
        "Merge en su segunda iteración recibe los sub arreglos B[0,...,n-1] y C[0,...,m-1], dónde  $n=2$ y $m=2$.\n",
        "\n",
        "Ahora A[izq], el primer elemento del arreglo A, será el menor entre B[0] y C[0].\n",
        "Suponiendo que $B[0] < C[0]$, entonces $A[izq] = B[0]$, tenemos el primer elemento de A, ahora necesitamos el segundo, dónde habrá que comprobar si $B[1] < C[0]$. Esto se cumplirá en cada iteración.\n",
        "\n",
        "**Correctitud**\n",
        "\n",
        "Cuando $i=der+1$, tendremos que el arreglo contiene todos los elementos de los 2 sub arreglos B y C que contienen la mayor cantidad de elementos ordenados. Esto confirma la correctitud del Merge."
      ]
    },
    {
      "cell_type": "markdown",
      "metadata": {
        "id": "NZNyNifLwp05"
      },
      "source": [
        "### *A continuación, se encuentra una imagen del proceso en un algoritmo $Merge$*\n",
        "\n",
        "![Merge](https://res.cloudinary.com/practicaldev/image/fetch/s--XX75vLDj--/c_imagga_scale,f_auto,fl_progressive,h_420,q_auto,w_1000/https://dev-to-uploads.s3.amazonaws.com/uploads/articles/a1j1lg4ya4al15tss4xr.jpeg)\n",
        "\n",
        "######Image by: https://dev.to/gangzhaorigeli/merge-two-sorted-arrays-3623"
      ]
    },
    {
      "cell_type": "markdown",
      "source": [
        "## Merge Sort"
      ],
      "metadata": {
        "id": "QetS6HdEsNrH"
      }
    },
    {
      "cell_type": "markdown",
      "source": [
        "### **Teorema (Correctitud).**"
      ],
      "metadata": {
        "id": "Dz_1sWcaoShu"
      }
    },
    {
      "cell_type": "markdown",
      "source": [
        "*El algoritmo **Merge Sort** genera un arreglo: $[a_1',a_2',...,a_n']$, con los mismos elementos del arreglo de entrada ordenados de menor a mayor, es decir,* $a_1\\leq a_2 \\leq... \\leq a_n$."
      ],
      "metadata": {
        "id": "BNt-bS9cpE1X"
      }
    },
    {
      "cell_type": "markdown",
      "source": [
        "### **Prueba del Teorema**"
      ],
      "metadata": {
        "id": "YK7XcUU_paKV"
      }
    },
    {
      "cell_type": "markdown",
      "source": [
        "Para probar la correctitud de **Merge Sort** usaremos **inducción matemática** debido a la recursividad del algoritmo.\n",
        "\n",
        "> En **inducción matemática,** para probar una declaración, o teorema en este caso, para todos los casos posibles, típicamente debemos comprobar si lo siguiente cumple el teorema:\n",
        "  1. Se prueba **caso base** que debe ser simple.\n",
        "  2. Se prueba un caso cualquiera que también sea válido para el último caso\n",
        "\n",
        "Nuestro teorema dice que $Merge Sort$ retorna un arreglo ordenado con la secuencia de **n** elementos de entrada.\n"
      ],
      "metadata": {
        "id": "mKgVCbB5pgGN"
      }
    },
    {
      "cell_type": "markdown",
      "source": [
        "#### **Caso Base**"
      ],
      "metadata": {
        "id": "WAI-c0NhrxMl"
      }
    },
    {
      "cell_type": "markdown",
      "source": [
        "Probemos como caso base cuando **Merge Sort** recibe una secuencia de 1 elemento.\n",
        "\n",
        "Cuando **Merge Sort** recibe una secuencia de 1 elementos, la retorna inmediatamente. Podemos comprobar que el teorema efectivamente se cumple en este caso, ya que, si solo se tiene 1 elemento en la secuencia, la secuencia se encuentra ordenada."
      ],
      "metadata": {
        "id": "1S8rNUmosGxN"
      }
    },
    {
      "cell_type": "markdown",
      "source": [
        "#### **Caso cualquiera**"
      ],
      "metadata": {
        "id": "l73Y2ayAtBRK"
      }
    },
    {
      "cell_type": "markdown",
      "source": [
        "Probemos un caso cualquiera donde **Merge Sort** recibe una secuencia de **n** elementos.\n",
        "\n",
        "Para una secuencia de **n** elementos, **Merge Sort** divide el arreglo en 2 subarreglos de secuencias $m$ y $p$, tal que $m=\\frac{n}{2}$ y $p=\\frac{n}{2}$, y ordena cada subarreglo usando **Merge Sort** `(debido a esta recursividad, llegara el momento en que se aplique Merge Sort en el caso base, donde retornara correctamente un arreglo ordenado)`. Como $m < n$ y $p < n$ podemos asumir inductivamente que los subarreglos serán ordenados correctamente.\n",
        "\n",
        "Luego, los 2 subarreglos ordenados son combinados en un único arreglo usando la función **Merge**, previamente probamos la correctitud de **Merge** y comprobamos que genera un arreglo ordenado de menor a mayor con todos los elementos de los subarreglos recibidos, por lo tanto, la función **Merge Sort** es correcto."
      ],
      "metadata": {
        "id": "SEQpNCaKtPqz"
      }
    },
    {
      "cell_type": "markdown",
      "metadata": {
        "id": "uH_PKp0bf6pl"
      },
      "source": [
        "# **4. Tiempo de ejecución**"
      ]
    },
    {
      "cell_type": "markdown",
      "metadata": {
        "id": "6p68qHxlgKaE"
      },
      "source": [
        "### **Teorema (Tiempo de ejecución).**"
      ]
    },
    {
      "cell_type": "markdown",
      "source": [
        "*El algoritmo **Merge Sort** presenta un caso peculiar. Tiene un **tiempo de ejecución de** $O(n*log_2(n))$ en todos sus casos, tanto en el peor como en su mejor caso.* "
      ],
      "metadata": {
        "id": "3KmTKAGmjaGm"
      }
    },
    {
      "cell_type": "markdown",
      "source": [
        "### **Prueba del teorema.** (Árbol de Recurrencia)."
      ],
      "metadata": {
        "id": "gFqQ2hU38X8z"
      }
    },
    {
      "cell_type": "markdown",
      "source": [
        "Image by: Lucas Robles at Canva https://www.canva.com/design/DAFJ6DmFNtU/9AXTlsYzjnJan442tOQRAQ/view?utm_content=DAFJ6DmFNtU&utm_campaign=designshare&utm_medium=link2&utm_source=sharebutton"
      ],
      "metadata": {
        "id": "o2no6XPF7yKk"
      }
    },
    {
      "cell_type": "markdown",
      "source": [
        "![Merge Sort.png](data:image/png;base64,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)"
      ],
      "metadata": {
        "id": "hya8XbCy6zaD"
      }
    },
    {
      "cell_type": "markdown",
      "source": [
        "La función Merge Sort se llama recursivamente para ordenar subarreglos de la mitad del arreglo recibido. Como se puede evidenciar en el árbol de recurrencia, este procesos se realiza hasta que queden **n** sub operaciones simples.\n",
        "\n",
        "Sabemos que un número **n**$>$1 solo puede dividirse para transformarlo en su mitad $n = \\frac{n}{2}$ la cantidad de log_2(**n**) antes de transformarse en $n=1$. Por eso el árbol de recurrencia de Merge Sort siempre tendra $log_2(n)$ de altura.\n",
        "\n",
        "Como sabemos que son $log_2(n)$ y en cada nivel habra $n$ operaciones en total, y esto siempre ocurrira en el Merge Sort, entonces, la cantidad total de operaciones es de $n*log_2(n)$.\n",
        "\n",
        "Debido a que la cantidad de operaciones dicta el tiempo de ejecucion de un algoritmo, entonces sabesmos que el tiempo de ejecucion del **Merge Sort** es de $n*log_2(n)$ y el algoritmo es de orden $O(n*log_2(n))$."
      ],
      "metadata": {
        "id": "p6ucEoro8g05"
      }
    },
    {
      "cell_type": "markdown",
      "metadata": {
        "id": "g5bEqmFqunKb"
      },
      "source": [
        "### **Prueba del teorema.** (Código)"
      ]
    },
    {
      "cell_type": "markdown",
      "source": [
        "Observando el código actuando sobre distintas secuencias numéricas, independiente del orden en que se encuentre, el algoritmo **Merge Sort** realizara la misma cantidad de llamadas y comparaciones si la cantidad de números en la secuencia es la misma."
      ],
      "metadata": {
        "id": "GJWO24noyFRn"
      }
    },
    {
      "cell_type": "code",
      "execution_count": 43,
      "metadata": {
        "colab": {
          "base_uri": "https://localhost:8080/"
        },
        "id": "wHDTEWMnh8MV",
        "outputId": "cf44f774-952a-4b6f-d8bb-d91fb3e4dc0d"
      },
      "outputs": [
        {
          "output_type": "stream",
          "name": "stdout",
          "text": [
            "Datos de entrada:  [51, 3, 43, 72, 96]\n",
            "\n",
            "Datos de salida: [3, 43, 51, 72, 96]\n",
            "Numero de llamadas de la funcion Merge Sort:  11\n",
            "Numero de comparaciones de la funcion Merge:  14\n",
            "Numero de llamadas de la funcion Merge:  5\n"
          ]
        }
      ],
      "source": [
        "import random\n",
        "llamadas = 0; contador = 0; pasada = 0; llamadasMerge = 0\n",
        "array = random.sample(range(1, 100), 5)\n",
        "print(\"Datos de entrada: \",array)\n",
        "MergeSort(array, 0, len(array))\n",
        "print(f\"\\nDatos de salida: {array}\")\n",
        "print(\"Numero de llamadas de la funcion Merge Sort: \", llamadas)\n",
        "print(\"Numero de comparaciones de la funcion Merge: \", contador)\n",
        "print(\"Numero de llamadas de la funcion Merge: \", llamadasMerge)"
      ]
    },
    {
      "cell_type": "code",
      "source": [
        "llamadas = 0; contador = 0; pasada = 0; llamadasMerge = 0\n",
        "array = random.sample(range(1, 100), 5)\n",
        "print(\"Datos de entrada: \",array)\n",
        "MergeSort(array, 0, len(array))\n",
        "print(f\"\\nDatos de salida: {array}\")\n",
        "print(\"Numero de llamadas de la funcion Merge Sort: \", llamadas)\n",
        "print(\"Numero de comparaciones de la funcion Merge: \", contador)\n",
        "print(\"Numero de llamadas de la funcion Merge: \", llamadasMerge)"
      ],
      "metadata": {
        "colab": {
          "base_uri": "https://localhost:8080/"
        },
        "id": "irZQ2PTAQpxA",
        "outputId": "36b01f2b-f66d-4c67-b28f-ea4eb3cb5f1b"
      },
      "execution_count": 44,
      "outputs": [
        {
          "output_type": "stream",
          "name": "stdout",
          "text": [
            "Datos de entrada:  [88, 80, 44, 75, 22]\n",
            "\n",
            "Datos de salida: [22, 44, 75, 80, 88]\n",
            "Numero de llamadas de la funcion Merge Sort:  11\n",
            "Numero de comparaciones de la funcion Merge:  14\n",
            "Numero de llamadas de la funcion Merge:  5\n"
          ]
        }
      ]
    },
    {
      "cell_type": "markdown",
      "metadata": {
        "id": "H93P6FC5kme2"
      },
      "source": [
        "En estos casos, pese a ser 2 secuencias de 5 números, con distintos elementos y en distinto orden, el algoritmo cumplió su función, además `Numero de comparaciones en Merge`, `Numero de llamadas de la función Merge Sort` y `Numero de llamadas de la función Merge` tienen la misma magnitud en ambos ejemplos.\n",
        "\n",
        "Esto se debe a que independientemente del algoritmo que reciba Merge Sort, los pasos que realiza para ordenarlo son los mismos, siempre dividirá al algoritmo para ir armándolo de forma ordenada poco a poco, incluso si el algoritmo se encuentra ya ordenado.\n",
        "\n",
        "Posdata: Los códigos de ejemplo anteriormente usados, generan secuencias de 5 elementos con elementos al azar, para probar que todas las secuencias reciben las mismas llamadas y comparaciones si contienen la misma cantidad de elementos."
      ]
    },
    {
      "cell_type": "markdown",
      "metadata": {
        "id": "UZE4jGMinXns"
      },
      "source": [
        "# **5. Experimentos**"
      ]
    },
    {
      "cell_type": "markdown",
      "metadata": {
        "id": "r-aaTzXhnmLM"
      },
      "source": [
        "## **5.1. Número de comparaciones** (Experimental)"
      ]
    },
    {
      "cell_type": "markdown",
      "metadata": {
        "id": "pGUPAd3OpG6J"
      },
      "source": [
        "### Para tamaños de problemas con $n \\in [4,100]$."
      ]
    },
    {
      "cell_type": "code",
      "execution_count": null,
      "metadata": {
        "colab": {
          "base_uri": "https://localhost:8080/",
          "height": 279
        },
        "id": "JHeFqtoznXKf",
        "outputId": "29adefff-84ef-4d59-9393-9d23cdb5364c"
      },
      "outputs": [
        {
          "output_type": "display_data",
          "data": {
            "text/plain": [
              "<Figure size 432x288 with 1 Axes>"
            ],
            "image/png": "[encoded data removed]"
          },
          "metadata": {
            "needs_background": "light"
          }
        }
      ],
      "source": [
        "import matplotlib.pyplot as plt\n",
        "import math\n",
        "import random\n",
        "\n",
        "x=[n for n in range(4,100)] \n",
        "y1=[(n * math.log2(n)) for n in range(4,100)] # worst case\n",
        "y2=[(n * math.log2(n)) for n in range(4,100)] # best case\n",
        "y=[]; \n",
        "\n",
        "for n in range(4,100):\n",
        "    a = random.sample(range(1, 100), n)\n",
        "    llamadas = 0; contador = 0; pasada = 0; llamadasMerge = 0\n",
        "    MergeSort(a, 0, len(a))\n",
        "    y.append(contador)\n",
        "\n",
        "plt.plot(x,y)\n",
        "plt.plot(x,y1)\n",
        "plt.plot(x,y2)\n",
        "plt.legend([\"Merge Sort\", \"Peor Caso Teóricamente\", \"Mejor Caso Teóricamente\"])\n",
        "\n",
        "## Nombre de los ejes\n",
        "plt.xlabel('n')\n",
        "plt.ylabel('Número de comparaciones')\n",
        "\n",
        "# Mostrar Gráfico\n",
        "plt.show()"
      ]
    },
    {
      "cell_type": "markdown",
      "metadata": {
        "id": "iyLdPxjxqBPR"
      },
      "source": [
        "### **Análisis de resultados**"
      ]
    },
    {
      "cell_type": "markdown",
      "source": [
        "En el gráfico se puede apreciar que, como cabía de esperar, el tiempo de ejecución empírico del **Merge Sort** es el mismo que en su peor y mejor caso, es decir, $O(n*log(n))$. \n",
        "\n",
        "Esto se debe a que su proceso no se ve afectado por nada más que la cantidad de elementos. No hay caso en que trabaje más o menos dentro de secuencias con una misma cantidad de elementos."
      ],
      "metadata": {
        "id": "dK3eUn11IeWe"
      }
    },
    {
      "cell_type": "markdown",
      "metadata": {
        "id": "2d7gWmmKrB30"
      },
      "source": [
        "## **5.2. Tiempo de ejecución** (Experimental)"
      ]
    },
    {
      "cell_type": "markdown",
      "source": [
        "### **Merge Sort** (Tiempo de ejecución)"
      ],
      "metadata": {
        "id": "rcHICm5KsEAI"
      }
    },
    {
      "cell_type": "markdown",
      "metadata": {
        "id": "6VrFnMlOsqaq"
      },
      "source": [
        "En el siguiente gráfico se reporta el tiempo de ejecución del algoritmo **Merge Sort** en función del tamaño del problema para arreglos generados aleatoriamente de tamaños entre $[5,100[$ , $[5,600[$ y $[5,1000[$."
      ]
    },
    {
      "cell_type": "code",
      "source": [
        "import matplotlib.pyplot as plt\n",
        "import datetime\n",
        "from timeit import repeat\n",
        "\n",
        "x=[]; y=[]\n",
        "\n",
        "for n in range(5,100):\n",
        "    a = random.sample(range(1, 1000), n)\n",
        "\n",
        "    #la función repeat está ejecutando 10 veces MergeSort con el arreglo a y retorna el mejor tiepo obtenido.\n",
        "    t = repeat(setup=\"from __main__ import MergeSort\", stmt=f\"MergeSort({a},{1},{len(a)})\", repeat=1, number=10)\n",
        "\n",
        "    x.append(n)\n",
        "    y.append(t)\n",
        "\n",
        "\n",
        "plt.plot(x,y)\n",
        "plt.legend([\"Merge Sort\"])\n",
        "\n",
        "plt.xlabel('n')\n",
        "plt.ylabel('Tiempo en ms')\n",
        "plt.show()"
      ],
      "metadata": {
        "colab": {
          "base_uri": "https://localhost:8080/",
          "height": 279
        },
        "id": "25vgJlMFo1Fb",
        "outputId": "741ded93-a0ec-4139-827b-b406b9813595"
      },
      "execution_count": null,
      "outputs": [
        {
          "output_type": "display_data",
          "data": {
            "text/plain": [
              "<Figure size 432x288 with 1 Axes>"
            ],
            "image/png": "[encoded data removed]"
          },
          "metadata": {
            "needs_background": "light"
          }
        }
      ]
    },
    {
      "cell_type": "code",
      "execution_count": null,
      "metadata": {
        "colab": {
          "base_uri": "https://localhost:8080/",
          "height": 279
        },
        "id": "LOGYkfBcrBpH",
        "outputId": "b4488c25-1e00-4c9f-e443-aed7a2f03840"
      },
      "outputs": [
        {
          "output_type": "display_data",
          "data": {
            "text/plain": [
              "<Figure size 432x288 with 1 Axes>"
            ],
            "image/png": "[encoded data removed]"
          },
          "metadata": {
            "needs_background": "light"
          }
        }
      ],
      "source": [
        "import matplotlib.pyplot as plt\n",
        "import datetime\n",
        "from timeit import repeat\n",
        "\n",
        "x=[]; y=[]\n",
        "\n",
        "for n in range(5,600):\n",
        "    a = random.sample(range(1, 1000), n)\n",
        "\n",
        "    #la función repeat está ejecutando 10 veces MergeSort con el arreglo a y retorna el mejor tiepo obtenido.\n",
        "    t = repeat(setup=\"from __main__ import MergeSort\", stmt=f\"MergeSort({a},{1},{len(a)})\", repeat=1, number=10)\n",
        "\n",
        "    x.append(n)\n",
        "    y.append(t)\n",
        "\n",
        "\n",
        "plt.plot(x,y)\n",
        "plt.legend([\"Merge Sort\"])\n",
        "\n",
        "plt.xlabel('n')\n",
        "plt.ylabel('Tiempo en ms')\n",
        "plt.show()"
      ]
    },
    {
      "cell_type": "code",
      "source": [
        "import matplotlib.pyplot as plt\n",
        "import datetime\n",
        "from timeit import repeat\n",
        "\n",
        "x=[]; y=[]\n",
        "\n",
        "for n in range(5,1000):\n",
        "    a = random.sample(range(1, 1000), n)\n",
        "\n",
        "    #la función repeat está ejecutando 10 veces MergeSort con el arreglo a y retorna el mejor tiepo obtenido.\n",
        "    t = repeat(setup=\"from __main__ import MergeSort\", stmt=f\"MergeSort({a},{1},{len(a)})\", repeat=1, number=10)\n",
        "\n",
        "    x.append(n)\n",
        "    y.append(t)\n",
        "\n",
        "\n",
        "plt.plot(x,y)\n",
        "plt.legend([\"Merge Sort\"])\n",
        "\n",
        "plt.xlabel('n')\n",
        "plt.ylabel('Tiempo en ms')\n",
        "plt.show()"
      ],
      "metadata": {
        "colab": {
          "base_uri": "https://localhost:8080/",
          "height": 280
        },
        "id": "OY1TAhJ7o4i5",
        "outputId": "19815110-323b-4a42-af77-1628d555e2f0"
      },
      "execution_count": null,
      "outputs": [
        {
          "output_type": "display_data",
          "data": {
            "text/plain": [
              "<Figure size 432x288 with 1 Axes>"
            ],
            "image/png": "[encoded data removed]"
          },
          "metadata": {
            "needs_background": "light"
          }
        }
      ]
    },
    {
      "cell_type": "markdown",
      "metadata": {
        "id": "1C6A9sLVttsT"
      },
      "source": [
        "#### **Análisis de resultados**"
      ]
    },
    {
      "cell_type": "markdown",
      "metadata": {
        "id": "Q-LCBE0guIIC"
      },
      "source": [
        "En el gráfico se puede apreciar que el tiempo de ejecución se comporta de manera $n*log(n)$ en función del tamaño del problema (al igual que en el análisis teórico).\n",
        "\n",
        "Note que hay unos peaks de tiempo. Estos se deben probablemente al comportamiento impredecible de los procesadores y quizás a otros procesos que también lo están ocupando."
      ]
    },
    {
      "cell_type": "markdown",
      "metadata": {
        "id": "f79pjYquuVlw"
      },
      "source": [
        "### **Merge Sort vs Insertion Sort** (Tiempo de ejecución)"
      ]
    },
    {
      "cell_type": "markdown",
      "source": [
        "##### **Insertion Sort** (Codigo)"
      ],
      "metadata": {
        "id": "tkP6PDMJn1Kj"
      }
    },
    {
      "cell_type": "code",
      "execution_count": null,
      "metadata": {
        "colab": {
          "base_uri": "https://localhost:8080/"
        },
        "id": "2BP-X6UxJHnO",
        "outputId": "f5cb93e8-27ed-4765-8021-98e698a7dd8f"
      },
      "outputs": [
        {
          "output_type": "stream",
          "name": "stdout",
          "text": [
            "Datos de entrada:  [1, 8, 3, 7, 9]\n",
            "Datos de salida:  [1, 3, 7, 8, 9]\n",
            "# comparaciones:  6\n"
          ]
        }
      ],
      "source": [
        "def insertionSort(arr, verbose=False): \n",
        "    n = len(arr)\n",
        "    cont = 0 #contador de comparaciones\n",
        "\n",
        "    if verbose == True: print(f\"Arreglo Inicial = {arr}\\n\")\n",
        "\n",
        "    # Se recorre el arreglo\n",
        "    for i in range(1,n):\n",
        "        \n",
        "        if verbose == True: print(\"Pasada \",i)\n",
        "\n",
        "        aux = arr[i] # Se guarda el i-esimo elemento que podria cambiar de posicion\n",
        "        j = i - 1\n",
        "\n",
        "        cont += 1\n",
        "        \n",
        "        if verbose == True: \n",
        "          print(f\"{arr}\")\n",
        "          print(f\"Comparación: arr[{j+1}] < arr[{j}] ===> {aux} < {arr[j]}\")\n",
        "          if aux >= arr[j]: print(\"No hubo cambios\")\n",
        "          \n",
        "        # Se compara dentro del arreglo\n",
        "        while j > -1 and aux < arr[j] :# Si el elemento es menor al anterior elemento, se intercambian\n",
        "            arr[j+1] = arr[j]\n",
        "            j -= 1\n",
        "            if j==-1: cont -=1\n",
        "            if verbose == True: print(f\"Arreglo después del cambio {arr}\")\n",
        "            if verbose == True and j!=-1: print(f\"Comparación: aux < arr[{j}] ===> {aux} < {arr[j]}\")\n",
        "            cont+= 1\n",
        "        \n",
        "        arr[j+1] = aux\n",
        "        if verbose == True: print(f\"Al finalizar pasada: {arr}\\n\")\n",
        "    \n",
        "    if verbose == True:\n",
        "      for i in range(0,n-1):\n",
        "          if arr[i] > arr[i+1]: \n",
        "              print(\"\\nEl arreglo no se ordenó correctamente\")\n",
        "              break\n",
        "          if i == n-2: print(\"\\nEl arreglo se ordenó correctamente\")\n",
        "      print(f\"Arreglo Final = {arr}\")\n",
        "      \n",
        "\n",
        "    return cont\n",
        "\n",
        "# Ejemplo\n",
        "array = [1,8,3,7,9]\n",
        "print(\"Datos de entrada: \",array)\n",
        "counter = insertionSort(array)\n",
        "print(\"Datos de salida: \",array)\n",
        "print(\"# comparaciones: \", counter)"
      ]
    },
    {
      "cell_type": "markdown",
      "source": [
        "##### **Comparación** (Gráficas)"
      ],
      "metadata": {
        "id": "gaeOZWKQqYk6"
      }
    },
    {
      "cell_type": "code",
      "execution_count": null,
      "metadata": {
        "colab": {
          "base_uri": "https://localhost:8080/",
          "height": 279
        },
        "id": "xX0WaiAJuWHS",
        "outputId": "8d2d4a67-1233-4487-ce8f-9d236f7c500a"
      },
      "outputs": [
        {
          "output_type": "display_data",
          "data": {
            "text/plain": [
              "<Figure size 432x288 with 1 Axes>"
            ],
            "image/png": "[encoded data removed]"
          },
          "metadata": {
            "needs_background": "light"
          }
        }
      ],
      "source": [
        "import matplotlib.pyplot as plt\n",
        "import datetime\n",
        "from timeit import repeat\n",
        "\n",
        "x=[]; y=[]; y1=[]\n",
        "\n",
        "for n in range(5,600):\n",
        "    a = random.sample(range(1, 1000), n)\n",
        "\n",
        "    #la función repeat está ejecutando 10 veces MergeSort e insertionSort con el arreglo a y retorna el mejor tiepo obtenido.\n",
        "    t = repeat(setup=\"from __main__ import MergeSort\", stmt=f\"MergeSort({a},{1},{len(a)})\", repeat=1, number=10)\n",
        "    t1 = repeat(setup=\"from __main__ import insertionSort\", stmt=f\"insertionSort({a})\", repeat=1, number=10)\n",
        "\n",
        "    x.append(n)\n",
        "    y.append(t)\n",
        "    y1.append(t1)\n",
        "\n",
        "\n",
        "plt.plot(x,y)\n",
        "plt.plot(x,y1)\n",
        "plt.legend([\"Merge Sort\", \"Insertion Sort\"])\n",
        "\n",
        "plt.xlabel('n')\n",
        "plt.ylabel('Tiempo en ms')\n",
        "plt.show()"
      ]
    },
    {
      "cell_type": "markdown",
      "metadata": {
        "id": "c-grJLd2uWeY"
      },
      "source": [
        "##### **Análisis de resultados**"
      ]
    },
    {
      "cell_type": "markdown",
      "metadata": {
        "id": "SkRwH9SCvu_q"
      },
      "source": [
        "Al comparar los tiempos de ejecución de **Merge Sort** y **Insertion Sort**, podemos apreciar que el algoritmo de $Merge Sort$ es más rápido que el algoritmo $Insertion Sort$.\n",
        "\n",
        "Pese a que el mejor caso de $Insertion Sort$ es más rápido que el mejor caso de $Merge Sort$. Y mientras más grande es la secuencia de números a ordenar, más notable es esta diferencia de velocidad.\n",
        "\n",
        "Esto puede deberse a la forma en que operan estos algoritmos, $Insertion Sort$ siempre está más cerca de su peor caso $O(n^2)$, mientras que el caso del $MergeSort$ siempre es $O(n*log(n))$\n"
      ]
    }
  ],
  "metadata": {
    "colab": {
      "collapsed_sections": [
        "ZC6tMltT1L0x",
        "_j788dvK-Cp5",
        "J6F2Yp_IA6UB",
        "OFtxHy6oCCVm",
        "iicgroujCNjI",
        "nvCDZkxI2sk6",
        "LZP5VI832zJZ",
        "OKGol3wpd18O",
        "KKp56zrst8L2",
        "DwsCPnS4UNd1",
        "QetS6HdEsNrH",
        "Dz_1sWcaoShu",
        "uH_PKp0bf6pl",
        "6p68qHxlgKaE",
        "gFqQ2hU38X8z",
        "g5bEqmFqunKb",
        "UZE4jGMinXns",
        "r-aaTzXhnmLM",
        "pGUPAd3OpG6J",
        "iyLdPxjxqBPR",
        "2d7gWmmKrB30",
        "rcHICm5KsEAI",
        "1C6A9sLVttsT",
        "tkP6PDMJn1Kj",
        "gaeOZWKQqYk6",
        "c-grJLd2uWeY"
      ],
      "name": "Informe2-MergeSort.ipynb",
      "provenance": [],
      "authorship_tag": "ABX9TyMneJoABMc6MnoERn9Q3v4P",
      "include_colab_link": true
    },
    "kernelspec": {
      "display_name": "Python 3",
      "name": "python3"
    },
    "language_info": {
      "name": "python"
    }
  },
  "nbformat": 4,
  "nbformat_minor": 0
}