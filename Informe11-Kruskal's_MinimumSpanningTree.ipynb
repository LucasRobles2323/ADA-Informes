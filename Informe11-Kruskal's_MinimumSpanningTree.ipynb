{
  "cells": [
    {
      "cell_type": "markdown",
      "metadata": {
        "id": "view-in-github",
        "colab_type": "text"
      },
      "source": [
        "<a href=\"https://colab.research.google.com/github/LucasRobles2323/ADA-Informes/blob/main/Informe11-Kruskal's_MinimumSpanningTree.ipynb\" target=\"_parent\"><img src=\"https://colab.research.google.com/assets/colab-badge.svg\" alt=\"Open In Colab\"/></a>"
      ]
    },
    {
      "cell_type": "markdown",
      "metadata": {
        "id": "ZC6tMltT1L0x"
      },
      "source": [
        "# **1. Problema: Kruskal's Minimum Spanning Tree**"
      ]
    },
    {
      "cell_type": "markdown",
      "metadata": {
        "id": "i0L0XXIP7-cU"
      },
      "source": [
        "**Entrada:** Grafo no dirigido $G=(V,E)$ en el cual cada arco $e$ tiene un costo $c_e$\n",
        "\n",
        "**Salida:**  Conexiones (arcos) con su peso y los nodos que componen el `Minimum Spanning Tree`.\n"
      ]
    },
    {
      "cell_type": "markdown",
      "source": [
        "##*Descripción del problema*"
      ],
      "metadata": {
        "id": "XY07Fs2HSgTT"
      }
    },
    {
      "cell_type": "markdown",
      "source": [
        "El **problema del árbol recubridor mínimo** trata sobre conectar un conjunto de objetos de la forma más económica posible. Los objetos y conexiones pueden representar computadores y los links entre ellos; documentos y la similitud que existe entre ellos; etc.\n",
        "\n",
        "El problema emerge de manera natural en varios dominios de aplicación, incluyendo redes de computadores y aprendizaje automático.\n",
        "\n",
        "Para resolver el problema tenemos que cambiar un poco la forma de verlo, debemos ver los objetos como nodos y las conexiones como arcos con peso, siendo el peso un valor o costo de la conexión."
      ],
      "metadata": {
        "id": "NAU67LcQOla3"
      }
    },
    {
      "cell_type": "markdown",
      "metadata": {
        "id": "J6F2Yp_IA6UB"
      },
      "source": [
        "# **2. Kruskal's Minimum Spanning Tree: Árbol de expansión mínima de Kruskal**"
      ]
    },
    {
      "cell_type": "markdown",
      "metadata": {
        "id": "OFtxHy6oCCVm"
      },
      "source": [
        "## **2.1. Descripción del algoritmo**"
      ]
    },
    {
      "cell_type": "markdown",
      "source": [
        "La tarea es encontrar un árbol con mínimo costo que contenga y conecte todos los nodos sin ningún ciclo. Los nodos y el peso de los arcos vienen del grafo no dirigido recibido.\n",
        "\n",
        "La forma en que realiza esta tarea es simple, realiza los siguientes tres pasos:\n",
        "* $^{(1)}$ Se busca el arco con menor peso que no esté en el nuevo árbol. Y que no se haya revisado aún.\n",
        "* $^{(2)}$ Se comprueba si agregar dicho arco no generara ciclo en el nuevo árbol. Si genera ciclos, no se agrega al nuevo árbol. En caso de que no genere se agrega el arco y el nodo al nuevo árbol.\n",
        "* $^{(3)}$ Luego se repiten los pasos $^{(1)}$ y $^{(2)}$. Esto termina cuando se hayan revisado todos los arcos del grafo de entrada.\n",
        "\n",
        "Luego de que todos los pasos (revisados todos los arcos del grafo), se tendrán las conexiones y los nodos del nuevo árbol.\n",
        "\n",
        "El algoritmo de Kruskal utiliza un método **Greedy**, asume que la mejor opción es ir agregando arcos desde el que pesa menos hasta el que pesa más, y coincidentemente para este problema ese enfoque revisa efectivamente todos los casos asi que el algoritmo es correcto."
      ],
      "metadata": {
        "id": "iNAuA_4Kc4g_"
      }
    },
    {
      "cell_type": "markdown",
      "metadata": {
        "id": "iicgroujCNjI"
      },
      "source": [
        "## **2.2. Código**"
      ]
    },
    {
      "cell_type": "markdown",
      "source": [
        "### Imports necesarios"
      ],
      "metadata": {
        "id": "cDvniNCLVbiw"
      }
    },
    {
      "cell_type": "code",
      "source": [
        "import networkx as nx\n",
        "import matplotlib.pyplot as plt\n",
        "import random"
      ],
      "metadata": {
        "id": "Ek7JK6lFzYqx"
      },
      "execution_count": 81,
      "outputs": []
    },
    {
      "cell_type": "markdown",
      "source": [
        "###**Greedy** *(Iniciar la función)*"
      ],
      "metadata": {
        "id": "tIqxhR3As_Sk"
      }
    },
    {
      "cell_type": "code",
      "source": [
        "# Clase especial para acomodar los grafos\n",
        "# Kruskal es la ultima funcion de la clase\n",
        "class Graph:\n",
        " \n",
        "    def __init__(self, vertices):\n",
        "        self.V = vertices # Numero de nodos\n",
        "        self.graph = [] # Almacena el grafo\n",
        "    \n",
        "    # Función para agregar un arco al grafo\n",
        "    def addEdge(self, u, v, w):\n",
        "        self.graph.append([u, v, w])\n",
        "\n",
        "    # Una función de utilidad para encontrar el conjunto de un elemento i\n",
        "    def find(self, parent, i):\n",
        "        if parent[i] != i:\n",
        "            # Reasignación del padre del nodo al nodo raíz \n",
        "            # como requiere la compresión de ruta\n",
        "            parent[i] = self.find(parent, parent[i])\n",
        "        return parent[i]\n",
        "\n",
        "    # Una función que hace la unión de dos conjuntos de x e y\n",
        "    # (usa unión por rango)\n",
        "    def union(self, parent, rank, x, y):\n",
        "        # Adjunte un árbol de rango más pequeño debajo de la raíz\n",
        "        # del árbol de rango alto (Unión por rango)\n",
        "        if rank[x] < rank[y]:\n",
        "            parent[x] = y\n",
        "        elif rank[x] > rank[y]:\n",
        "            parent[y] = x\n",
        "        # Si los rangos son los mismos, haga uno como raíz e incremente su rango en uno\n",
        "        else:\n",
        "            parent[y] = x\n",
        "            rank[x] += 1\n",
        "    \n",
        "    # Función que transforma el grafico en la clase a uno graficable por\n",
        "    # la libreria networkx\n",
        "    def crearGrafoNx(self,result):\n",
        "        X = []\n",
        "        Tree = nx.Graph()\n",
        "        for u, v, w in result:\n",
        "            if(u not in X):\n",
        "                X.append(u)\n",
        "                Tree.add_node(u)\n",
        "            if(v not in X):\n",
        "                X.append(v)\n",
        "                Tree.add_node(v)\n",
        "            Tree.add_edge(u,v, weight = w)\n",
        "        return Tree\n",
        "    \n",
        "    # Función para mostrar el grafo recibido por la funcion en la pantalla\n",
        "    def MostrarGrafo(self, r):\n",
        "        T = self.crearGrafoNx(r) # Transforma el grafo a uno que networkx puede leer\n",
        "\n",
        "        # spring_layout: define posiciones para los nodos del grafo\n",
        "        pos=nx.spring_layout(T)\n",
        "\n",
        "        # para mostrar los arcos con sus etiquetas\n",
        "        labels = nx.get_edge_attributes(T,'weight')\n",
        "        nx.draw_networkx_edge_labels(T,pos,edge_labels=labels,font_size=14)\n",
        "\n",
        "        # para mostrar los nodos en sus posiciones y colores, tamaños, etc.\n",
        "        nx.draw(T,pos, node_color=\"gray\", with_labels=True, node_size=800,\n",
        "                font_color=\"white\", font_size=14, font_weight=\"black\", width=2.0, edge_color =\"black\")\n",
        "\n",
        "\n",
        "    # La función principal para construir MST \n",
        "    # (Minimum Spanning Tree) usando el algoritmo de Kruskal.\n",
        "    def KruskalMST(self, verbose = False, visualize= False):\n",
        "        result = []  # Esto almacenará el Árbol de expansión mínima resultante.\n",
        "\n",
        "        # Una variable de índice, utilizada para arcos ordenados.\n",
        "        i = 0\n",
        "\n",
        "        # Una variable de índice, utilizada para result[].\n",
        "        e = 0\n",
        "  \n",
        "        # Paso 1: Ordene todos los arcos en orden creciente por su peso.\n",
        "        # Si no se nos permite cambiar el gráfico dado,\n",
        "        # podemos crear una copia del gráfico.\n",
        "        if verbose:\n",
        "            print(\"\\n*****************************************************************************************************************\")\n",
        "            print(f\"Primero hay que ordenar los arcos: {self.graph}.\")\n",
        "        self.graph = sorted(self.graph,\n",
        "                            key=lambda item:item[2])\n",
        "        if verbose:\n",
        "            print(f\"Los arcos con menor peso van primero, quedando asi: {self.graph}.\")\n",
        "            print(f\"Y se crea el nuevo arbol {result} que no tendra ciclos y conecta los {self.V} nodos.\")\n",
        "            print(f\"Nuevo árbol guarda los datos de la siguiente manera [nodo, nodo, peso].\")\n",
        " \n",
        "        parent = []\n",
        "        rank = []\n",
        " \n",
        "        # Crear subconjuntos V con elementos individuales.\n",
        "        for node in range(self.V):\n",
        "            parent.append(node)\n",
        "            rank.append(0)\n",
        "        \n",
        "        # El número de arcos a tomar es igual a V-1 (siendo V la cantidad de nodos).\n",
        "        while e < self.V - 1:\n",
        "            # Paso 2: elija el arco más pequeño\n",
        "            # e incremente el índice para la próxima iteración.\n",
        "            u, v, w = self.graph[i]\n",
        "            i = i + 1\n",
        "            x = self.find(parent, u)\n",
        "            y = self.find(parent, v)\n",
        "\n",
        "            # Si incluir este arco no provoca un ciclo,\n",
        "            # se agrega en el resultado y se incrementa el índice del resultado\n",
        "            # para el arco siguiente.\n",
        "            if verbose: \n",
        "                print(\"----------------------------------------------------------------------------------\")\n",
        "                print(f\"Tenemos los arcos en el nuevo árbol: {result}.\")\n",
        "                print(f\"Comprobaremos si al agregar el arco [{u},{v}, peso = {w}] se genera ciclo en el nuevo árbol.\")\n",
        "            if x != y:\n",
        "                e = e + 1\n",
        "                result.append([u, v, w])\n",
        "                self.union(parent, rank, x, y)\n",
        "                if verbose:\n",
        "                    print(f\"    El arco [{u},{v}, peso = {w}] no generara ciclos en el nuevo árbol. Se agrega al árbol.\")\n",
        "                    print(f\"    El nuevo árbol ahora tiene los siguientes arcos: {result}\")\n",
        "                    if e >= self.V - 1: \n",
        "                        print(f\"    Con el nuevo arco agregadp, el árbol tiene {e-1} arcos para {self.V} nodos.\\n\" +\n",
        "                              f\"    No puede tener más nodos, entonces el nuevo árbol esta completo.\")\n",
        "            elif verbose:\n",
        "                print(f\"    Si agregamos el arco [{u},{v}, peso = {w}]  el nuevo árbol tendra ciclo, entonces descartamos el arco sin agregarlo al nuevo árbol.\")\n",
        "            # De lo contrario descartar el arco.\n",
        "        \n",
        "        if verbose:\n",
        "            print(\"----------------------------------------------------------------------------------\")\n",
        "            print(\"*****************************************************************************************************************\\n\")\n",
        "        \n",
        "        if visualize:\n",
        "            print(\"Mostrar árbol de costo minimo\")\n",
        "            self.MostrarGrafo(result)\n",
        "        \n",
        "        return result"
      ],
      "metadata": {
        "id": "zv0THWZls6ic"
      },
      "execution_count": 82,
      "outputs": []
    },
    {
      "cell_type": "markdown",
      "source": [
        "### Generador de instancias"
      ],
      "metadata": {
        "id": "IzcBjlnIW_0k"
      }
    },
    {
      "cell_type": "code",
      "source": [
        "def instanceGenerator(V):\n",
        "  g = Graph(V)\n",
        "  for i in range(V):\n",
        "    for j in range(i+1, V):\n",
        "      g.graph.append([i, j, random.randint(1, 100)])\n",
        "  \n",
        "  return g\n",
        "\n",
        "\n",
        "grafo = instanceGenerator(6)\n",
        "print(\"Grafo al que se aplicara Kruskal:\")\n",
        "grafo.MostrarGrafo(grafo.graph)"
      ],
      "metadata": {
        "colab": {
          "base_uri": "https://localhost:8080/",
          "height": 265
        },
        "id": "Ig83Ae40XKwc",
        "outputId": "138ba9da-56ed-4719-e1ad-8e02a246c5cd"
      },
      "execution_count": 115,
      "outputs": [
        {
          "output_type": "stream",
          "name": "stdout",
          "text": [
            "Grafo al que se aplicara Kruskal:\n"
          ]
        },
        {
          "output_type": "display_data",
          "data": {
            "text/plain": [
              "<Figure size 432x288 with 1 Axes>"
            ],
            "image/png": "[encoded data removed]"
          },
          "metadata": {}
        }
      ]
    },
    {
      "cell_type": "markdown",
      "source": [
        "### Resolviendo grafo aleatorio"
      ],
      "metadata": {
        "id": "ExivNo_NXG0u"
      }
    },
    {
      "cell_type": "code",
      "source": [
        "# Driver's code\n",
        "if __name__ == '__main__':\n",
        "    # Function call\n",
        "    tree = grafo.KruskalMST()\n",
        "    minimumCost = 0\n",
        "    print(\"Arcos en el árbol de minimo costo construido:\")\n",
        "    print(\"     %s -- %s | %s\" % (\"Nodo\", \"Nodo\", \"Peso\"))\n",
        "    for u, v, weight in tree:\n",
        "        minimumCost += weight\n",
        "        print(\"     %4d -- %4d | %4d\" % (u, v, weight))\n",
        "    print(f\"\\nEl costo total del nuevo árbol es de: {minimumCost}\")"
      ],
      "metadata": {
        "colab": {
          "base_uri": "https://localhost:8080/"
        },
        "id": "B9yf2iE_VVQI",
        "outputId": "18bda8ef-5d8f-415b-f522-02956d0b3968"
      },
      "execution_count": 116,
      "outputs": [
        {
          "output_type": "stream",
          "name": "stdout",
          "text": [
            "Arcos en el árbol de minimo costo construido:\n",
            "     Nodo -- Nodo | Peso\n",
            "        1 --    2 |    1\n",
            "        3 --    4 |    2\n",
            "        0 --    3 |   10\n",
            "        2 --    3 |   13\n",
            "        0 --    5 |   15\n",
            "\n",
            "El costo total del nuevo árbol es de: 41\n"
          ]
        }
      ]
    },
    {
      "cell_type": "code",
      "source": [
        "# Mostrar Grafo Resultante\n",
        "if __name__ == '__main__':\n",
        "    tree = grafo.KruskalMST(False,True)"
      ],
      "metadata": {
        "colab": {
          "base_uri": "https://localhost:8080/",
          "height": 265
        },
        "id": "4aNjtJ2trcKZ",
        "outputId": "ee6453fa-192d-4f09-fc8f-584f27d9c69b"
      },
      "execution_count": 117,
      "outputs": [
        {
          "output_type": "stream",
          "name": "stdout",
          "text": [
            "Mostrar árbol de costo minimo\n"
          ]
        },
        {
          "output_type": "display_data",
          "data": {
            "text/plain": [
              "<Figure size 432x288 with 1 Axes>"
            ],
            "image/png": "[encoded data removed]"
          },
          "metadata": {}
        }
      ]
    },
    {
      "cell_type": "markdown",
      "source": [
        "## **2.3. Ejecución del algoritmo paso a paso**"
      ],
      "metadata": {
        "id": "C5er_1JrvSow"
      }
    },
    {
      "cell_type": "code",
      "source": [
        "n = random.randint(4,8)\n",
        "print(f\"El grafo tendrá {n} nodos\")\n",
        "Grafo = instanceGenerator(n)"
      ],
      "metadata": {
        "colab": {
          "base_uri": "https://localhost:8080/"
        },
        "id": "8zhIFx5pauak",
        "outputId": "f8e72903-63d4-49ca-f0ed-77466c65eba5"
      },
      "execution_count": 90,
      "outputs": [
        {
          "output_type": "stream",
          "name": "stdout",
          "text": [
            "El grafo tendrá 7 nodos\n"
          ]
        }
      ]
    },
    {
      "cell_type": "code",
      "source": [
        "print(\"Grafo al que se aplicara Kruskal:\")\n",
        "Grafo.MostrarGrafo(Grafo.graph)"
      ],
      "metadata": {
        "colab": {
          "base_uri": "https://localhost:8080/",
          "height": 265
        },
        "id": "W-pdHIhza-2x",
        "outputId": "98aa437a-6d44-4d49-d140-42f59b695c41"
      },
      "execution_count": 91,
      "outputs": [
        {
          "output_type": "stream",
          "name": "stdout",
          "text": [
            "Grafo al que se aplicara Kruskal:\n"
          ]
        },
        {
          "output_type": "display_data",
          "data": {
            "text/plain": [
              "<Figure size 432x288 with 1 Axes>"
            ],
            "image/png": "[encoded data removed]"
          },
          "metadata": {}
        }
      ]
    },
    {
      "cell_type": "markdown",
      "source": [
        "###**`verbose=True`**"
      ],
      "metadata": {
        "id": "7IC3b5MLZmcU"
      }
    },
    {
      "cell_type": "code",
      "source": [
        "# Driver's code\n",
        "if __name__ == '__main__':\n",
        "    # Function call\n",
        "    tree = Grafo.KruskalMST(True,False)\n",
        "    \n",
        "    minimumCost = 0\n",
        "    print(\"Arcos en el árbol de minimo costo construido:\")\n",
        "    print(\"     %s -- %s | %s\" % (\"Nodo\", \"Nodo\", \"Peso\"))\n",
        "    for u, v, weight in tree:\n",
        "        minimumCost += weight\n",
        "        print(\"     %4d -- %4d | %4d\" % (u, v, weight))\n",
        "    print(f\"\\nEl costo total del nuevo árbol es de: {minimumCost}\")"
      ],
      "metadata": {
        "colab": {
          "base_uri": "https://localhost:8080/"
        },
        "id": "ZL9K8OfsZrMk",
        "outputId": "6e3c3353-f5c6-4fe3-d043-34a415589f02"
      },
      "execution_count": 92,
      "outputs": [
        {
          "output_type": "stream",
          "name": "stdout",
          "text": [
            "\n",
            "*****************************************************************************************************************\n",
            "Primero hay que ordenar los arcos: [[0, 1, 23], [0, 2, 98], [0, 3, 37], [0, 4, 55], [0, 5, 13], [0, 6, 70], [1, 2, 44], [1, 3, 9], [1, 4, 61], [1, 5, 79], [1, 6, 33], [2, 3, 42], [2, 4, 39], [2, 5, 27], [2, 6, 92], [3, 4, 56], [3, 5, 94], [3, 6, 35], [4, 5, 72], [4, 6, 7], [5, 6, 45]].\n",
            "Los arcos con menor peso van primero, quedando asi: [[4, 6, 7], [1, 3, 9], [0, 5, 13], [0, 1, 23], [2, 5, 27], [1, 6, 33], [3, 6, 35], [0, 3, 37], [2, 4, 39], [2, 3, 42], [1, 2, 44], [5, 6, 45], [0, 4, 55], [3, 4, 56], [1, 4, 61], [0, 6, 70], [4, 5, 72], [1, 5, 79], [2, 6, 92], [3, 5, 94], [0, 2, 98]].\n",
            "Y se crea el nuevo arbol [] que no tendra ciclos y conecta los 7 nodos.\n",
            "Nuevo árbol guarda los datos de la siguiente manera [nodo, nodo, peso].\n",
            "----------------------------------------------------------------------------------\n",
            "Tenemos los arcos en el nuevo árbol: [].\n",
            "Comprobaremos si al agregar el arco [4,6, peso = 7] se genera ciclo en el nuevo árbol.\n",
            "    El arco [4,6, peso = 7] no generara ciclos en el nuevo árbol. Se agrega al árbol.\n",
            "    El nuevo árbol ahora tiene los siguientes arcos: [[4, 6, 7]]\n",
            "----------------------------------------------------------------------------------\n",
            "Tenemos los arcos en el nuevo árbol: [[4, 6, 7]].\n",
            "Comprobaremos si al agregar el arco [1,3, peso = 9] se genera ciclo en el nuevo árbol.\n",
            "    El arco [1,3, peso = 9] no generara ciclos en el nuevo árbol. Se agrega al árbol.\n",
            "    El nuevo árbol ahora tiene los siguientes arcos: [[4, 6, 7], [1, 3, 9]]\n",
            "----------------------------------------------------------------------------------\n",
            "Tenemos los arcos en el nuevo árbol: [[4, 6, 7], [1, 3, 9]].\n",
            "Comprobaremos si al agregar el arco [0,5, peso = 13] se genera ciclo en el nuevo árbol.\n",
            "    El arco [0,5, peso = 13] no generara ciclos en el nuevo árbol. Se agrega al árbol.\n",
            "    El nuevo árbol ahora tiene los siguientes arcos: [[4, 6, 7], [1, 3, 9], [0, 5, 13]]\n",
            "----------------------------------------------------------------------------------\n",
            "Tenemos los arcos en el nuevo árbol: [[4, 6, 7], [1, 3, 9], [0, 5, 13]].\n",
            "Comprobaremos si al agregar el arco [0,1, peso = 23] se genera ciclo en el nuevo árbol.\n",
            "    El arco [0,1, peso = 23] no generara ciclos en el nuevo árbol. Se agrega al árbol.\n",
            "    El nuevo árbol ahora tiene los siguientes arcos: [[4, 6, 7], [1, 3, 9], [0, 5, 13], [0, 1, 23]]\n",
            "----------------------------------------------------------------------------------\n",
            "Tenemos los arcos en el nuevo árbol: [[4, 6, 7], [1, 3, 9], [0, 5, 13], [0, 1, 23]].\n",
            "Comprobaremos si al agregar el arco [2,5, peso = 27] se genera ciclo en el nuevo árbol.\n",
            "    El arco [2,5, peso = 27] no generara ciclos en el nuevo árbol. Se agrega al árbol.\n",
            "    El nuevo árbol ahora tiene los siguientes arcos: [[4, 6, 7], [1, 3, 9], [0, 5, 13], [0, 1, 23], [2, 5, 27]]\n",
            "----------------------------------------------------------------------------------\n",
            "Tenemos los arcos en el nuevo árbol: [[4, 6, 7], [1, 3, 9], [0, 5, 13], [0, 1, 23], [2, 5, 27]].\n",
            "Comprobaremos si al agregar el arco [1,6, peso = 33] se genera ciclo en el nuevo árbol.\n",
            "    El arco [1,6, peso = 33] no generara ciclos en el nuevo árbol. Se agrega al árbol.\n",
            "    El nuevo árbol ahora tiene los siguientes arcos: [[4, 6, 7], [1, 3, 9], [0, 5, 13], [0, 1, 23], [2, 5, 27], [1, 6, 33]]\n",
            "    Con el nuevo arco agregadp, el árbol tiene 5 arcos para 7 nodos.\n",
            "    No puede tener más nodos, entonces el nuevo árbol esta completo.\n",
            "----------------------------------------------------------------------------------\n",
            "*****************************************************************************************************************\n",
            "\n",
            "Arcos en el árbol de minimo costo construido:\n",
            "     Nodo -- Nodo | Peso\n",
            "        4 --    6 |    7\n",
            "        1 --    3 |    9\n",
            "        0 --    5 |   13\n",
            "        0 --    1 |   23\n",
            "        2 --    5 |   27\n",
            "        1 --    6 |   33\n",
            "\n",
            "El costo total del nuevo árbol es de: 112\n"
          ]
        }
      ]
    },
    {
      "cell_type": "markdown",
      "source": [
        "###**`visualize=True`**"
      ],
      "metadata": {
        "id": "pLnaMiRUZpW_"
      }
    },
    {
      "cell_type": "code",
      "source": [
        "# Driver's code\n",
        "if __name__ == '__main__':\n",
        "    # Function call\n",
        "    tree = Grafo.KruskalMST(False,True)"
      ],
      "metadata": {
        "colab": {
          "base_uri": "https://localhost:8080/",
          "height": 265
        },
        "id": "A1Qf8s-_ZrfV",
        "outputId": "c69f2baa-174a-4d5c-f5ef-da35a9d18573"
      },
      "execution_count": 93,
      "outputs": [
        {
          "output_type": "stream",
          "name": "stdout",
          "text": [
            "Mostrar árbol de costo minimo\n"
          ]
        },
        {
          "output_type": "display_data",
          "data": {
            "text/plain": [
              "<Figure size 432x288 with 1 Axes>"
            ],
            "image/png": "[encoded data removed]"
          },
          "metadata": {}
        }
      ]
    },
    {
      "cell_type": "markdown",
      "source": [
        "## **2.4. Ejemplo**"
      ],
      "metadata": {
        "id": "CNd9hfDO4UvO"
      }
    },
    {
      "cell_type": "markdown",
      "source": [
        "---\n",
        "---\n",
        "**Entrada:**\n",
        "\n",
        "* $[0,1,$ peso $= 14]$\n",
        "* $[0,2,$ peso $= 5]$\n",
        "* $[1,2,$ peso $= 7]$\n",
        "\n",
        "![image.png](data:image/png;base64,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)\n",
        "\n",
        "**Image By:** Mi generador de grafos para el problema.\n",
        "\n",
        "---\n",
        "---"
      ],
      "metadata": {
        "id": "j1oPkS7idQ7b"
      }
    },
    {
      "cell_type": "markdown",
      "source": [
        "**Método Kruskal's:**\n",
        "\n",
        "* Se crea un nuevo árbol que tendrá el costo mínimo $Tree =[]$\n",
        "\n",
        "* Tenemos el grafo de entrada, primero se ordenan los arcos del grafo por sus pesos $[2,0,$ peso $= 5] , [2,1,$ peso $7] , [1,0,$ peso $14]$.\n",
        "\n",
        "* Ahora tomamos el de menor peso y comprobamos si genera un ciclo al agregarse en el árbol formado $Tree=[]$, quedaría $Tree = [[2,0,$ peso $= 5]]$, como es solo un arco, nunca se formará ciclo, como no forma ciclo se agrega al nuevo árbol. El método Kruskal siempre incluirá el arco con menor peso en el nuevo árbol\n",
        "\n",
        "* A continuación tomamos el segundo de menor peso $[2,1,$ peso $7]$ y vemso si al agregarlo forma un ciclo, los arcos $[2,0],[2,1]$ no forman ciclos, es imposible que 2 arcos formen ciclos asi que el segundo arco más pequeño al usar Kruskal siempre se agregara al nuevo arbol igual que el primero. $Tree = [[2,0,$ peso $= 5] , [2,1,$ peso $7]]$\n",
        "\n",
        "* En este punto el árbol tiene 2 arcos, el grafo entregado tenia 3 nodos, se sabe que el árbol de minimo costo tendra $arcos = nodos-1$, como nos encontramos en esta situación no revisaremos los demas arcos.\n",
        "\n",
        "* Ahora que revisamos todos los arcos del grafo de entrada tenemos el nuevo árbol y se envía de salida.\n"
      ],
      "metadata": {
        "id": "8CKE4dcr4cHs"
      }
    },
    {
      "cell_type": "markdown",
      "source": [
        "---\n",
        "---\n",
        "**Salida:**\n",
        "\n",
        "$Tree = [[2,0,$ peso $= 5] , [2,1,$ peso $7]]$\n",
        "\n",
        "![image.png](data:image/png;base64,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)\n",
        "\n",
        "**Image By:** Mi generador de grafos para el problema.\n",
        "\n",
        "Podemos ver cada arco por separado, y al sumar sus costos se puede obtener el costo del árbol fácilmente.\n",
        "* $[2,0,$ peso $= 5]$\n",
        "* $[2,1,$ peso $= 7]$\n",
        "\n",
        "El costo total del nuevo árbol es de: $12$\n",
        "\n",
        "---\n",
        "---"
      ],
      "metadata": {
        "id": "QzHS2GwId_es"
      }
    },
    {
      "cell_type": "markdown",
      "metadata": {
        "id": "KKp56zrst8L2"
      },
      "source": [
        "# **3. Correctitud**"
      ]
    },
    {
      "cell_type": "markdown",
      "source": [
        "## **Greedy**"
      ],
      "metadata": {
        "id": "gvfliQVlHvXK"
      }
    },
    {
      "cell_type": "markdown",
      "source": [
        "### **Teorema (Correctitud).**"
      ],
      "metadata": {
        "id": "Dz_1sWcaoShu"
      }
    },
    {
      "cell_type": "markdown",
      "source": [
        "El algoritmo entrega un árbol de costo mínimo que conecta todos los nodos conectados por arcos con distintos pesos sin formar ciclos, estos nodos y arcos son entregados en forma de Grafo no dirigido (dicho grafo puede tener ciclos)."
      ],
      "metadata": {
        "id": "BNt-bS9cpE1X"
      }
    },
    {
      "cell_type": "markdown",
      "source": [
        "### **Prueba del Teorema**"
      ],
      "metadata": {
        "id": "YK7XcUU_paKV"
      }
    },
    {
      "cell_type": "markdown",
      "source": [
        "Probaremos la siguiente **propiedad invariante de bucle** para el algoritmo `Kruskal's: Minimum Spanning Tree`:\n",
        "\n",
        "> Al comienzo de cada iteración $i$ del bucle, tendremos un árbol con $e$ arcos sin que se formen ciclos ni que la cantidad de arcos iguale o supere la cantidad de nodos que deber tener el árbol.\n",
        "\n",
        "Se busca que el nuevo árbol tenga $V$ nodos (igual que el grafo de entrada) y $V-1=e$ arcos.\n",
        "\n",
        "$i$ es el arco que se revisa.\n",
        "\n",
        "El **Kruskal** usado aplica el algoritmo **Union-Find**, un algoritmo correcto que nos permite saber si se forma ciclo en un grafo."
      ],
      "metadata": {
        "id": "mKgVCbB5pgGN"
      }
    },
    {
      "cell_type": "markdown",
      "source": [
        "#### **Inicialización**"
      ],
      "metadata": {
        "id": "WAI-c0NhrxMl"
      }
    },
    {
      "cell_type": "markdown",
      "source": [
        "En la primera iteración $i=1$, tendremos un árbol vacío y revisaremos el arco $i$, que tiene el menor peso, se usa **Union-Find** para saber si agregar el arco provoca ciclos. Es imposible que se forme un ciclo con menos de 3 arcos, como el árbol esta vacío, agregar un arco no formara un ciclo y se agrega al árbol.\n",
        "\n"
      ],
      "metadata": {
        "id": "1S8rNUmosGxN"
      }
    },
    {
      "cell_type": "markdown",
      "source": [
        "#### **Mantención**"
      ],
      "metadata": {
        "id": "l73Y2ayAtBRK"
      }
    },
    {
      "cell_type": "markdown",
      "source": [
        "Aplicando inducción, asumimos que, al comienzo de cada iteración, se cumple la propiedad. Es decir, en la iteración donde probamos agregar el arco $i$ al árbol, tenemos un árbol con los arcos $e = 1...i-1$ que no forman ciclos agregados, siendo los agregados $V-1$ siendo $V$ los nodos que buscamos agregar en el árbol.\n",
        "\n",
        "Consideremos que $i=x$ como el arco que buscamos agregar con $1 < x < V$.\n",
        "\n",
        "Se revisa el arco $x$, si ambos nodos del arco pertenecen al mismo sub-conjunto en el grafo entonces forman ciclo y no se agregarán al nuevo árbol de costo mínimo, en caso contrario se agregan al nuevo árbol. Esto se comprueba calculando el subconjunto al que pertenece cada nodo con **Find** del algoritmo **Union-Find**.\n",
        "\n",
        "**Find** nos da un nombre para el subconjunto al que pertenece un nodo usando una lista con todos los nodos, se usa en ambos nodos del arco, si están presentes en el mismo subconjunto entonces forman un ciclo. La lista de nodos debe crearse desde los arcos **ya ordenados por peso**.\n",
        "\n",
        "Cada vez que se agregue al nuevo árbol un arco que no genere ciclo, se revisa si la cantidad de arcos $e$ es igual a nodos $V$ menos 1, si $e = V-1$, entonces tenemos el árbol de costo mínimo porque no podemos agregar nodos más sin que se forme algún ciclo en el árbol.\n",
        "\n",
        "Al finalizar la iteración $i=x$ (y al comienzo de la siguiente $i=x+1$), se seguirá cumpliendo la **propiedad invariante**."
      ],
      "metadata": {
        "id": "SEQpNCaKtPqz"
      }
    },
    {
      "cell_type": "markdown",
      "source": [
        "####**Correctitud**"
      ],
      "metadata": {
        "id": "ONoW9W07hpU_"
      }
    },
    {
      "cell_type": "markdown",
      "source": [
        "Finalmente, como la **propiedad de bucle invariante** es verdadera al inicio del bucle y se mantiene en cada iteración, podemos decir que al finalizar la $i$-ésima iteración del bucle donde $e = V-1$, se tendra un árbol con $V$ nodos conectados sin formar ningun ciclo."
      ],
      "metadata": {
        "id": "J1pJBHqqhtMW"
      }
    },
    {
      "cell_type": "markdown",
      "metadata": {
        "id": "uH_PKp0bf6pl"
      },
      "source": [
        "# **4. Tiempo de ejecución**"
      ]
    },
    {
      "cell_type": "markdown",
      "source": [
        "##**Greedy**"
      ],
      "metadata": {
        "id": "OL7Rky9nuxJr"
      }
    },
    {
      "cell_type": "markdown",
      "source": [
        "###*Teorema (Complejidad Temporal).*"
      ],
      "metadata": {
        "id": "VDVCIxpDCMqx"
      }
    },
    {
      "cell_type": "markdown",
      "source": [
        "*El algoritmo `Kruskal's: Minimum Spanning Tree` implementado a traves de **Greedy** tiene un **tiempo de ejecución** de $O(E * Log(V))$ o $O(E * log(E))$.*"
      ],
      "metadata": {
        "id": "NB2qecQ_CQBZ"
      }
    },
    {
      "cell_type": "markdown",
      "source": [
        "####*Prueba del teorema.*"
      ],
      "metadata": {
        "id": "4xAYJeunCV66"
      }
    },
    {
      "cell_type": "markdown",
      "source": [
        "#####Lógica"
      ],
      "metadata": {
        "id": "a63sPEemCbBJ"
      }
    },
    {
      "cell_type": "markdown",
      "source": [
        "Para la resolución de este problema hay que tener ordenados los arcos de menor a mayor por su peso. Tenemos E arcos que ordenar, se utiliza sorted para ordenarlos, Complejidad temporal de la operación $\\rightarrow O(E * log(E))$.\n",
        "\n",
        "Se revisan y posiblemente agregan arcos al árbol siempre que la cantidad de arcos en el árbol de costo mínimo $e$ no sea igual a $V-1$. Esto se hace con **Union-Find** que toma como máximo $O(log(V))$ realizadas para los $E$ arcos del grafo de entrada. Complejidad temporal de la operación $\\rightarrow O(E * log(V))$.\n",
        "\n",
        "Al final podemos decir que la complejidad total de Kruskal es $O(E * log(E)) + O(E * log(V)) ⇒ $O(E * log(E) + E * log(V)) = O(E * (log(E) + log(V)))$.\n",
        "\n",
        "* $V =$ es la cantidad de nodos que tiene el grafo de entrada.\n",
        "* $E =$ es la cantidad de arcos que tiene el grafo de entrada. $V-1 \\leq E < 2V$\n",
        "\n",
        "Podemos decir que en tiempos de ejecución $O(E) = O(V)$, por ende $O(log(E)) = O(log(V))$.\n",
        "\n",
        "Por eso $E * (log(E) + log(V))) = E * (2 * log(E)) \\rightarrow  O(E * log(E)) = E * (2 * log(V)) \\rightarrow  O(E * log(V)) $.\n",
        "\n",
        "Como la $O(E * log(V)) = O(E * log(E))$ podemos decir que cualquiera de los dos es la complejidad de Kruskal.\n",
        "\n",
        "Pero, aunque se pueden igualar $O(E * log(V)) = O(E * log(E))$, para mayor precisión se recomienda usar $O(E * log(V))$, porque $E=V$ no siempre es aplicable, ya que la cantidad de nodos y aristas puede ser muy diferente.\n",
        "\n",
        "Por supuesto, en los casos donde es recomendable usar Kruskal, $E$ tiende a $V$, asi que comúnmente se toman como correcta ambas\n",
        "\n",
        "Por ende, la complejidad del método es la complejidad del bucle, es decir, el método **Greedy** para este problema tiene complejidad $O(E * log(V))$ o $O(E * log(E))$.\n"
      ],
      "metadata": {
        "id": "9ATf9EecCnqZ"
      }
    },
    {
      "cell_type": "markdown",
      "metadata": {
        "id": "UZE4jGMinXns"
      },
      "source": [
        "# **5. Experimentos** "
      ]
    },
    {
      "cell_type": "markdown",
      "source": [
        "## **5.1. Tiempo de ejecución a medida que aumentan los nodos**"
      ],
      "metadata": {
        "id": "lmfpJMNiL9df"
      }
    },
    {
      "cell_type": "markdown",
      "source": [
        "### **Comparación de Gráficas** (Tiempo de ejecución)"
      ],
      "metadata": {
        "id": "gaeOZWKQqYk6"
      }
    },
    {
      "cell_type": "code",
      "source": [
        "import matplotlib.pyplot as plt\n",
        "import datetime\n",
        "from timeit import repeat\n",
        "\n",
        "x=[]; y=[]\n",
        "\n",
        "for n in range(5,1000):\n",
        "    grafo = instanceGenerator(n)\n",
        "\n",
        "    #la función repeat está ejecutando 10 veces Kruskal con el grafo de n nodos y retorna el mejor tiepo obtenido.\n",
        "    t = repeat(setup=\"from __main__ import Graph\", stmt=f\"{grafo.KruskalMST()}\", repeat=1, number=10)\n",
        "\n",
        "    x.append(n)\n",
        "    y.append(t)\n",
        "\n",
        "\n",
        "plt.plot(x,y)\n",
        "plt.legend([\"Greedy\"])\n",
        "\n",
        "plt.xlabel('Cantidad de nodos')\n",
        "plt.ylabel('Tiempo en ms')\n",
        "plt.show()"
      ],
      "metadata": {
        "colab": {
          "base_uri": "https://localhost:8080/",
          "height": 279
        },
        "id": "77obrWwjPhRA",
        "outputId": "5f973f23-9d7d-4095-fb53-d1bcf39789a6"
      },
      "execution_count": null,
      "outputs": [
        {
          "output_type": "display_data",
          "data": {
            "text/plain": [
              "<Figure size 432x288 with 1 Axes>"
            ],
            "image/png": "[encoded data removed]"
          },
          "metadata": {
            "needs_background": "light"
          }
        }
      ]
    },
    {
      "cell_type": "markdown",
      "metadata": {
        "id": "c-grJLd2uWeY"
      },
      "source": [
        "### **Análisis de resultados**"
      ]
    },
    {
      "cell_type": "markdown",
      "source": [
        "Es un algoritmo extremadamente rápido, incluso con grafos $1000$ nodos no tarda ni siquiera $0.01$ milisegundos en conseguir la respuesta.\n",
        "\n",
        "Podemos decir que es un algoritmo que soluciona el problema extremadamente rápido, como es de esperarse de un algoritmo que aplica un método **Greedy**, la rapidez con que llega a una respuesta es inmensa, porque se concentra en obtener un resultado en el menor tiempo posible."
      ],
      "metadata": {
        "id": "xGyxUOBUgwIS"
      }
    },
    {
      "cell_type": "markdown",
      "source": [
        "## **5.2. Tiempo de ejecución: Prim(Bottom-up) vs Kruskal(Greedy)**"
      ],
      "metadata": {
        "id": "M4mSeCDmIPy_"
      }
    },
    {
      "cell_type": "markdown",
      "source": [
        "### **Prim**"
      ],
      "metadata": {
        "id": "4lKTrWGS3o-a"
      }
    },
    {
      "cell_type": "code",
      "source": [
        "import sys  # Library for INT_MAX\n",
        " \n",
        " \n",
        "class Graph2():\n",
        "    def __init__(self, vertices):\n",
        "        self.V = vertices\n",
        "        self.graph = [[0 for column in range(vertices)]\n",
        "                      for row in range(vertices)]\n",
        " \n",
        "    # A utility function to print the constructed MST stored in parent[]\n",
        "    def printMST(self, parent):\n",
        "        print(\"Edge \\tWeight\")\n",
        "        for i in range(1, self.V):\n",
        "            print(parent[i], \"-\", i, \"\\t\", self.graph[i][parent[i]])\n",
        "\n",
        "    def MST(self, parent):\n",
        "        r = []\n",
        "        for i in range(1, self.V):\n",
        "            r.append([parent[i], i, self.graph[i][parent[i]]])\n",
        "        return r\n",
        " \n",
        "    # A utility function to find the vertex with\n",
        "    # minimum distance value, from the set of vertices\n",
        "    # not yet included in shortest path tree\n",
        "    def minKey(self, key, mstSet):\n",
        "        # Initialize min value\n",
        "        min = sys.maxsize\n",
        "        min_index = -1\n",
        " \n",
        "        for v in range(self.V):\n",
        "            if key[v] < min and mstSet[v] == False:\n",
        "                min = key[v]\n",
        "                min_index = v\n",
        " \n",
        "        return min_index\n",
        " \n",
        "    # Function to construct and print MST for a graph\n",
        "    # represented using adjacency matrix representation\n",
        "    def primMST(self):\n",
        " \n",
        "        # Key values used to pick minimum weight edge in cut\n",
        "        key = [sys.maxsize] * self.V\n",
        "        parent = [None] * self.V  # Array to store constructed MST\n",
        "        # Make key 0 so that this vertex is picked as first vertex\n",
        "        key[0] = 0\n",
        "        mstSet = [False] * self.V\n",
        " \n",
        "        parent[0] = -1  # First node is always the root of\n",
        " \n",
        "        for cout in range(self.V):\n",
        " \n",
        "            # Pick the minimum distance vertex from\n",
        "            # the set of vertices not yet processed.\n",
        "            # u is always equal to src in first iteration\n",
        "            u = self.minKey(key, mstSet)\n",
        " \n",
        "            # Put the minimum distance vertex in\n",
        "            # the shortest path tree\n",
        "            mstSet[u] = True\n",
        " \n",
        "            # Update dist value of the adjacent vertices\n",
        "            # of the picked vertex only if the current\n",
        "            # distance is greater than new distance and\n",
        "            # the vertex in not in the shortest path tree\n",
        "            for v in range(self.V):\n",
        " \n",
        "                # graph[u][v] is non zero only for adjacent vertices of m\n",
        "                # mstSet[v] is false for vertices not yet included in MST\n",
        "                # Update the key only if graph[u][v] is smaller than key[v]\n",
        "                if self.graph[u][v] > 0 and mstSet[v] == False and key[v] > self.graph[u][v]:\n",
        "                    key[v] = self.graph[u][v]\n",
        "                    parent[v] = u\n",
        "        \n",
        "        return self.MST(parent)\n",
        "\n",
        "def graphToGraph2(G, n):\n",
        "    g = Graph2(n)\n",
        "\n",
        "    for u,v,w in G.graph:\n",
        "        g.graph[u-1][v-1] = w\n",
        "        g.graph[v-1][u-1] = w\n",
        "\n",
        "    return g\n",
        "\n",
        "# Driver's code\n",
        "if __name__ == '__main__':\n",
        "    g = instanceGenerator(4)\n",
        "    gr = graphToGraph2(g,4)\n",
        " \n",
        "    arbol = gr.primMST()\n",
        "    print(arbol)"
      ],
      "metadata": {
        "colab": {
          "base_uri": "https://localhost:8080/"
        },
        "id": "1h3NiJRt3vwv",
        "outputId": "906618f4-1b36-46f0-dc74-f9d50ba2ee91"
      },
      "execution_count": 94,
      "outputs": [
        {
          "output_type": "stream",
          "name": "stdout",
          "text": [
            "[[0, 1, 6], [3, 2, 26], [0, 3, 27]]\n"
          ]
        }
      ]
    },
    {
      "cell_type": "markdown",
      "source": [
        "### **Comparación de Gráficas** (Tiempo de ejecución)"
      ],
      "metadata": {
        "id": "ZV9RpUZO344G"
      }
    },
    {
      "cell_type": "code",
      "source": [
        "import matplotlib.pyplot as plt\n",
        "import datetime\n",
        "from timeit import repeat\n",
        "\n",
        "x=[]; y=[]; y1=[]\n",
        "\n",
        "for n in range(5,200):\n",
        "    grafo = instanceGenerator(n)\n",
        "    grafo2 = graphToGraph2(grafo,n)\n",
        "\n",
        "    #la función repeat está ejecutando 10 veces Kruskal con el grafo de n nodos y retorna el mejor tiepo obtenido.\n",
        "    t = repeat(setup=\"from __main__ import Graph\", stmt=f\"{grafo.KruskalMST()}\", repeat=1, number=10)\n",
        "    t1 = repeat(setup=\"from __main__ import Graph2\", stmt=f\"{grafo2.primMST()}\", repeat=1, number=10)\n",
        "\n",
        "    x.append(n)\n",
        "    y.append(t)\n",
        "    y1.append(t1)\n",
        "\n",
        "\n",
        "plt.plot(x,y)\n",
        "plt.plot(x,y1)\n",
        "plt.legend([\"Kruskal\", \"Prim\"])\n",
        "\n",
        "plt.xlabel('Cantidad de nodos')\n",
        "plt.ylabel('Tiempo en ms')\n",
        "plt.show()"
      ],
      "metadata": {
        "colab": {
          "base_uri": "https://localhost:8080/",
          "height": 279
        },
        "id": "ASO96W1HKPy4",
        "outputId": "3836b9fc-ddb0-42c4-9d34-af95258d219f"
      },
      "execution_count": 114,
      "outputs": [
        {
          "output_type": "display_data",
          "data": {
            "text/plain": [
              "<Figure size 432x288 with 1 Axes>"
            ],
            "image/png": "[encoded data removed]"
          },
          "metadata": {
            "needs_background": "light"
          }
        }
      ]
    },
    {
      "cell_type": "markdown",
      "source": [
        "### **Análisis de resultados**"
      ],
      "metadata": {
        "id": "TgG8pTSrNlk4"
      }
    },
    {
      "cell_type": "markdown",
      "source": [
        "El tiempo de ejecución de **Prim** es $O(V^2)$, mucho mayor que $O(E * log(V))$ de **Kruskal**, aun asi vemos que ambos algoritmo tienen un tiempo de ejecución casi igual.\n",
        "\n",
        "Hablemos de sus tiempos de ejecución, primero hay que saber qué $E$ son los arcos y $V$ son los nodos. Podemos ver que el tiempo de ejecución de **Kruskal** depende de los arcos y los nodos, mientras que **Prim** solo depende de los nodos.\n",
        "\n",
        "Ahora veamos cómo funciona el generador de instancias, funciona de tal forma que el grafo contendrá muchos ciclos, es decir, la cantidad de $E$ serán mucho mayor que $V$, podemos decir que $V < E \\leq V^2$ debido a que el grafo tendrá muchos ciclos. Por eso tomamos $O(E * log(V))$ como tiempo de ejecución de **Kruskal**. \n",
        "\n",
        "Conociendo de que depende cada uno, y sabiendo cómo funciona el generador de instancias, podemos empezar a ver porque tienen tiempo de ejecución similares. Debido a que la cantidad de arcos excede por mucho la cantidad de nodos, **Kruskal** crece enormemente, siendo casi igual a **Prim**, a veces incluso siendo más lento que **Prim**, únicamente debido a los grafos generados."
      ],
      "metadata": {
        "id": "lHtgZwqYzafS"
      }
    }
  ],
  "metadata": {
    "colab": {
      "collapsed_sections": [
        "ZC6tMltT1L0x",
        "XY07Fs2HSgTT",
        "J6F2Yp_IA6UB",
        "OFtxHy6oCCVm",
        "iicgroujCNjI",
        "cDvniNCLVbiw",
        "tIqxhR3As_Sk",
        "IzcBjlnIW_0k",
        "ExivNo_NXG0u",
        "C5er_1JrvSow",
        "7IC3b5MLZmcU",
        "pLnaMiRUZpW_",
        "CNd9hfDO4UvO",
        "KKp56zrst8L2",
        "gvfliQVlHvXK",
        "Dz_1sWcaoShu",
        "YK7XcUU_paKV",
        "WAI-c0NhrxMl",
        "l73Y2ayAtBRK",
        "ONoW9W07hpU_",
        "uH_PKp0bf6pl",
        "OL7Rky9nuxJr",
        "4xAYJeunCV66",
        "a63sPEemCbBJ",
        "UZE4jGMinXns",
        "lmfpJMNiL9df",
        "gaeOZWKQqYk6",
        "c-grJLd2uWeY",
        "M4mSeCDmIPy_",
        "4lKTrWGS3o-a",
        "ZV9RpUZO344G",
        "TgG8pTSrNlk4"
      ],
      "provenance": [],
      "include_colab_link": true
    },
    "kernelspec": {
      "display_name": "Python 3",
      "name": "python3"
    },
    "language_info": {
      "name": "python"
    }
  },
  "nbformat": 4,
  "nbformat_minor": 0
}